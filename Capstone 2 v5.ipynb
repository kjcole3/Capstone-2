{
 "cells": [
  {
   "cell_type": "code",
   "execution_count": 12,
   "metadata": {
    "collapsed": true
   },
   "outputs": [],
   "source": [
    "%matplotlib inline\n",
    "import pandas as pd\n",
    "import os\n",
    "import numpy as np\n",
    "import seaborn as sns\n",
    "import glob\n",
    "import matplotlib.pyplot as plt\n",
    "import sklearn\n"
   ]
  },
  {
   "cell_type": "code",
   "execution_count": 13,
   "metadata": {
    "collapsed": true
   },
   "outputs": [],
   "source": [
    "NEWLINE = '\\n'\n",
    "SKIP_FILES = {'cmds'}\n",
    "\n",
    "\n",
    "def read_files(path):\n",
    "    for root, dir_names, file_names in os.walk(path):\n",
    "        for path in dir_names:\n",
    "            read_files(os.path.join(root, path))\n",
    "        for file_name in file_names:\n",
    "            if file_name not in SKIP_FILES:\n",
    "                file_path = os.path.join(root, file_name)\n",
    "                if os.path.isfile(file_path):\n",
    "                    past_header, lines = False, []\n",
    "                    f = open(file_path, encoding=\"ANSI\")\n",
    "                    for line in f:\n",
    "                        if past_header:\n",
    "                            lines.append(line)\n",
    "                        elif line == NEWLINE:\n",
    "                            past_header = True\n",
    "                    f.close()\n",
    "                    content = NEWLINE.join(lines)\n",
    "                    yield content\n",
    "                    \n"
   ]
  },
  {
   "cell_type": "code",
   "execution_count": 14,
   "metadata": {},
   "outputs": [
    {
     "data": {
      "text/plain": [
       "580"
      ]
     },
     "execution_count": 14,
     "metadata": {},
     "output_type": "execute_result"
    }
   ],
   "source": [
    "path =r'C:\\Users\\osutr_000\\Documents\\Data\\Ops'\n",
    "list_ = []\n",
    "\n",
    "for value in read_files(path):\n",
    "    list_.append(value)\n",
    "\n",
    "ops_df = pd.DataFrame(data = list_)\n",
    "ops_df['class']=\"ops\"\n",
    "len(ops_df)"
   ]
  },
  {
   "cell_type": "code",
   "execution_count": 15,
   "metadata": {},
   "outputs": [
    {
     "data": {
      "text/plain": [
       "209"
      ]
     },
     "execution_count": 15,
     "metadata": {},
     "output_type": "execute_result"
    }
   ],
   "source": [
    "path =r'C:\\Users\\osutr_000\\Documents\\Data\\Legal'\n",
    "list_ = []\n",
    "\n",
    "for value in read_files(path):\n",
    "    list_.append(value)\n",
    "\n",
    "legal_df = pd.DataFrame(data = list_)\n",
    "legal_df['class']=\"legal\"\n",
    "len(legal_df)"
   ]
  },
  {
   "cell_type": "code",
   "execution_count": 16,
   "metadata": {},
   "outputs": [
    {
     "data": {
      "text/plain": [
       "324"
      ]
     },
     "execution_count": 16,
     "metadata": {},
     "output_type": "execute_result"
    }
   ],
   "source": [
    "path =r'C:\\Users\\osutr_000\\Documents\\Data\\Accounting'\n",
    "list_ = []\n",
    "\n",
    "for value in read_files(path):\n",
    "    list_.append(value)\n",
    "\n",
    "act_df = pd.DataFrame(data = list_)\n",
    "act_df['class']=\"accounting\"\n",
    "len(act_df)"
   ]
  },
  {
   "cell_type": "code",
   "execution_count": 17,
   "metadata": {},
   "outputs": [
    {
     "data": {
      "text/html": [
       "<div>\n",
       "<style>\n",
       "    .dataframe thead tr:only-child th {\n",
       "        text-align: right;\n",
       "    }\n",
       "\n",
       "    .dataframe thead th {\n",
       "        text-align: left;\n",
       "    }\n",
       "\n",
       "    .dataframe tbody tr th {\n",
       "        vertical-align: top;\n",
       "    }\n",
       "</style>\n",
       "<table border=\"1\" class=\"dataframe\">\n",
       "  <thead>\n",
       "    <tr style=\"text-align: right;\">\n",
       "      <th></th>\n",
       "      <th>index</th>\n",
       "      <th>text</th>\n",
       "      <th>cat</th>\n",
       "    </tr>\n",
       "  </thead>\n",
       "  <tbody>\n",
       "    <tr>\n",
       "      <th>0</th>\n",
       "      <td>0</td>\n",
       "      <td>401 W. 33rd \\n\\nEdmond, OK 73013 \\n\\nWWW.MIDCO...</td>\n",
       "      <td>ops</td>\n",
       "    </tr>\n",
       "    <tr>\n",
       "      <th>1</th>\n",
       "      <td>0</td>\n",
       "      <td>26938 \\n\\n\\n\\n002 \\n\\n\\n\\n4/27/16 290.60 290. ...</td>\n",
       "      <td>accounting</td>\n",
       "    </tr>\n",
       "    <tr>\n",
       "      <th>2</th>\n",
       "      <td>0</td>\n",
       "      <td>MIDCON Data Services, LLC. \\n\\n\\n\\nThis Data D...</td>\n",
       "      <td>legal</td>\n",
       "    </tr>\n",
       "    <tr>\n",
       "      <th>3</th>\n",
       "      <td>1</td>\n",
       "      <td>5/25/16 179.17 179.17 \\n\\n\\n\\n\\n\\n5/27/16 0160...</td>\n",
       "      <td>accounting</td>\n",
       "    </tr>\n",
       "    <tr>\n",
       "      <th>4</th>\n",
       "      <td>1</td>\n",
       "      <td></td>\n",
       "      <td>legal</td>\n",
       "    </tr>\n",
       "  </tbody>\n",
       "</table>\n",
       "</div>"
      ],
      "text/plain": [
       "   index                                               text         cat\n",
       "0      0  401 W. 33rd \\n\\nEdmond, OK 73013 \\n\\nWWW.MIDCO...         ops\n",
       "1      0  26938 \\n\\n\\n\\n002 \\n\\n\\n\\n4/27/16 290.60 290. ...  accounting\n",
       "2      0  MIDCON Data Services, LLC. \\n\\n\\n\\nThis Data D...       legal\n",
       "3      1  5/25/16 179.17 179.17 \\n\\n\\n\\n\\n\\n5/27/16 0160...  accounting\n",
       "4      1                                                          legal"
      ]
     },
     "execution_count": 17,
     "metadata": {},
     "output_type": "execute_result"
    }
   ],
   "source": [
    "merged_df = ops_df.append(legal_df).append(act_df)\n",
    "len(merged_df)\n",
    "merged_df.columns = ['text', 'cat']\n",
    "merged_df.sort_index().reset_index().head()"
   ]
  },
  {
   "cell_type": "code",
   "execution_count": null,
   "metadata": {
    "collapsed": true
   },
   "outputs": [],
   "source": []
  },
  {
   "cell_type": "code",
   "execution_count": null,
   "metadata": {
    "collapsed": true
   },
   "outputs": [],
   "source": []
  },
  {
   "cell_type": "code",
   "execution_count": null,
   "metadata": {
    "collapsed": true
   },
   "outputs": [],
   "source": []
  },
  {
   "cell_type": "code",
   "execution_count": 18,
   "metadata": {
    "collapsed": true
   },
   "outputs": [],
   "source": [
    "from sklearn.feature_extraction.text import CountVectorizer\n",
    "from sklearn.model_selection import train_test_split\n",
    "from sklearn.naive_bayes import MultinomialNB\n",
    "from sklearn.feature_extraction.text import TfidfVectorizer\n",
    "from sklearn.feature_extraction.text import TfidfTransformer\n",
    "from sklearn.linear_model import SGDClassifier\n",
    "from sklearn.model_selection import GridSearchCV\n",
    "from sklearn.pipeline import Pipeline\n",
    "from sklearn.metrics import classification_report\n",
    "from __future__ import print_function\n",
    "from pprint import pprint\n",
    "from time import time\n",
    "import logging"
   ]
  },
  {
   "cell_type": "code",
   "execution_count": 19,
   "metadata": {
    "collapsed": true
   },
   "outputs": [],
   "source": [
    "# Flatten data into a (sample, feature) matrix\n",
    "X = merged_df.text\n",
    "y = merged_df.cat\n",
    "\n",
    "# and then split the dataset into two parts\n",
    "X_train, X_test, y_train, y_test = train_test_split(\n",
    "    X, y, test_size=0.8, random_state=0)"
   ]
  },
  {
   "cell_type": "code",
   "execution_count": 20,
   "metadata": {},
   "outputs": [],
   "source": [
    "# Define a pipeline combining a text feature extractor with a simple\n",
    "# classifier\n",
    "pipeline = Pipeline([\n",
    "    ('vect', CountVectorizer()),\n",
    "    ('tfidf', TfidfTransformer()),\n",
    "    ('clf', SGDClassifier()),\n",
    "])\n",
    "\n",
    "# uncommenting more parameters will give better exploring power but will\n",
    "# increase processing time in a combinatorial way\n",
    "parameters = {\n",
    "    'vect__max_df': (0.5, 0.75, 1.0),\n",
    "    #'vect__max_features': (None, 5000, 10000, 50000),\n",
    "    'vect__ngram_range': ((1, 1), (1, 2)),  # unigrams or bigrams\n",
    "    'tfidf__use_idf': (True, False),\n",
    "    #'tfidf__norm': ('l1', 'l2'),\n",
    "    #'clf__max_iter': (5,),\n",
    "    'clf__alpha': (0.00001, 0.000001),\n",
    "    'clf__penalty': ('l2', 'elasticnet'),\n",
    "    #'clf__n_iter': (10, 50, 80),\n",
    "}\n"
   ]
  },
  {
   "cell_type": "code",
   "execution_count": 23,
   "metadata": {},
   "outputs": [
    {
     "name": "stdout",
     "output_type": "stream",
     "text": [
      "# Tuning hyper-parameters for precision\n",
      "\n",
      "Best parameters set found on development set:\n",
      "\n",
      "{'clf__alpha': 1e-05, 'clf__penalty': 'l2', 'tfidf__use_idf': True, 'vect__max_df': 0.75, 'vect__ngram_range': (1, 2)}\n",
      "\n",
      "Grid scores on development set:\n",
      "\n",
      "0.971 (+/-0.072) for {'clf__alpha': 1e-05, 'clf__penalty': 'l2', 'tfidf__use_idf': True, 'vect__max_df': 0.5, 'vect__ngram_range': (1, 1)}\n",
      "0.983 (+/-0.048) for {'clf__alpha': 1e-05, 'clf__penalty': 'l2', 'tfidf__use_idf': True, 'vect__max_df': 0.5, 'vect__ngram_range': (1, 2)}\n",
      "0.965 (+/-0.066) for {'clf__alpha': 1e-05, 'clf__penalty': 'l2', 'tfidf__use_idf': True, 'vect__max_df': 0.75, 'vect__ngram_range': (1, 1)}\n",
      "0.983 (+/-0.066) for {'clf__alpha': 1e-05, 'clf__penalty': 'l2', 'tfidf__use_idf': True, 'vect__max_df': 0.75, 'vect__ngram_range': (1, 2)}\n",
      "0.971 (+/-0.072) for {'clf__alpha': 1e-05, 'clf__penalty': 'l2', 'tfidf__use_idf': True, 'vect__max_df': 1.0, 'vect__ngram_range': (1, 1)}\n",
      "0.977 (+/-0.065) for {'clf__alpha': 1e-05, 'clf__penalty': 'l2', 'tfidf__use_idf': True, 'vect__max_df': 1.0, 'vect__ngram_range': (1, 2)}\n",
      "0.971 (+/-0.072) for {'clf__alpha': 1e-05, 'clf__penalty': 'l2', 'tfidf__use_idf': False, 'vect__max_df': 0.5, 'vect__ngram_range': (1, 1)}\n",
      "0.977 (+/-0.065) for {'clf__alpha': 1e-05, 'clf__penalty': 'l2', 'tfidf__use_idf': False, 'vect__max_df': 0.5, 'vect__ngram_range': (1, 2)}\n",
      "0.973 (+/-0.061) for {'clf__alpha': 1e-05, 'clf__penalty': 'l2', 'tfidf__use_idf': False, 'vect__max_df': 0.75, 'vect__ngram_range': (1, 1)}\n",
      "0.971 (+/-0.055) for {'clf__alpha': 1e-05, 'clf__penalty': 'l2', 'tfidf__use_idf': False, 'vect__max_df': 0.75, 'vect__ngram_range': (1, 2)}\n",
      "0.973 (+/-0.061) for {'clf__alpha': 1e-05, 'clf__penalty': 'l2', 'tfidf__use_idf': False, 'vect__max_df': 1.0, 'vect__ngram_range': (1, 1)}\n",
      "0.976 (+/-0.045) for {'clf__alpha': 1e-05, 'clf__penalty': 'l2', 'tfidf__use_idf': False, 'vect__max_df': 1.0, 'vect__ngram_range': (1, 2)}\n",
      "0.967 (+/-0.067) for {'clf__alpha': 1e-05, 'clf__penalty': 'elasticnet', 'tfidf__use_idf': True, 'vect__max_df': 0.5, 'vect__ngram_range': (1, 1)}\n",
      "0.983 (+/-0.048) for {'clf__alpha': 1e-05, 'clf__penalty': 'elasticnet', 'tfidf__use_idf': True, 'vect__max_df': 0.5, 'vect__ngram_range': (1, 2)}\n",
      "0.972 (+/-0.061) for {'clf__alpha': 1e-05, 'clf__penalty': 'elasticnet', 'tfidf__use_idf': True, 'vect__max_df': 0.75, 'vect__ngram_range': (1, 1)}\n",
      "0.978 (+/-0.065) for {'clf__alpha': 1e-05, 'clf__penalty': 'elasticnet', 'tfidf__use_idf': True, 'vect__max_df': 0.75, 'vect__ngram_range': (1, 2)}\n",
      "0.966 (+/-0.067) for {'clf__alpha': 1e-05, 'clf__penalty': 'elasticnet', 'tfidf__use_idf': True, 'vect__max_df': 1.0, 'vect__ngram_range': (1, 1)}\n",
      "0.983 (+/-0.048) for {'clf__alpha': 1e-05, 'clf__penalty': 'elasticnet', 'tfidf__use_idf': True, 'vect__max_df': 1.0, 'vect__ngram_range': (1, 2)}\n",
      "0.965 (+/-0.094) for {'clf__alpha': 1e-05, 'clf__penalty': 'elasticnet', 'tfidf__use_idf': False, 'vect__max_df': 0.5, 'vect__ngram_range': (1, 1)}\n",
      "0.978 (+/-0.065) for {'clf__alpha': 1e-05, 'clf__penalty': 'elasticnet', 'tfidf__use_idf': False, 'vect__max_df': 0.5, 'vect__ngram_range': (1, 2)}\n",
      "0.966 (+/-0.067) for {'clf__alpha': 1e-05, 'clf__penalty': 'elasticnet', 'tfidf__use_idf': False, 'vect__max_df': 0.75, 'vect__ngram_range': (1, 1)}\n",
      "0.958 (+/-0.087) for {'clf__alpha': 1e-05, 'clf__penalty': 'elasticnet', 'tfidf__use_idf': False, 'vect__max_df': 0.75, 'vect__ngram_range': (1, 2)}\n",
      "0.975 (+/-0.054) for {'clf__alpha': 1e-05, 'clf__penalty': 'elasticnet', 'tfidf__use_idf': False, 'vect__max_df': 1.0, 'vect__ngram_range': (1, 1)}\n",
      "0.978 (+/-0.065) for {'clf__alpha': 1e-05, 'clf__penalty': 'elasticnet', 'tfidf__use_idf': False, 'vect__max_df': 1.0, 'vect__ngram_range': (1, 2)}\n",
      "0.971 (+/-0.055) for {'clf__alpha': 1e-06, 'clf__penalty': 'l2', 'tfidf__use_idf': True, 'vect__max_df': 0.5, 'vect__ngram_range': (1, 1)}\n",
      "0.976 (+/-0.060) for {'clf__alpha': 1e-06, 'clf__penalty': 'l2', 'tfidf__use_idf': True, 'vect__max_df': 0.5, 'vect__ngram_range': (1, 2)}\n",
      "0.973 (+/-0.061) for {'clf__alpha': 1e-06, 'clf__penalty': 'l2', 'tfidf__use_idf': True, 'vect__max_df': 0.75, 'vect__ngram_range': (1, 1)}\n",
      "0.971 (+/-0.072) for {'clf__alpha': 1e-06, 'clf__penalty': 'l2', 'tfidf__use_idf': True, 'vect__max_df': 0.75, 'vect__ngram_range': (1, 2)}\n",
      "0.973 (+/-0.067) for {'clf__alpha': 1e-06, 'clf__penalty': 'l2', 'tfidf__use_idf': True, 'vect__max_df': 1.0, 'vect__ngram_range': (1, 1)}\n",
      "0.958 (+/-0.072) for {'clf__alpha': 1e-06, 'clf__penalty': 'l2', 'tfidf__use_idf': True, 'vect__max_df': 1.0, 'vect__ngram_range': (1, 2)}\n",
      "0.969 (+/-0.054) for {'clf__alpha': 1e-06, 'clf__penalty': 'l2', 'tfidf__use_idf': False, 'vect__max_df': 0.5, 'vect__ngram_range': (1, 1)}\n",
      "0.977 (+/-0.065) for {'clf__alpha': 1e-06, 'clf__penalty': 'l2', 'tfidf__use_idf': False, 'vect__max_df': 0.5, 'vect__ngram_range': (1, 2)}\n",
      "0.977 (+/-0.065) for {'clf__alpha': 1e-06, 'clf__penalty': 'l2', 'tfidf__use_idf': False, 'vect__max_df': 0.75, 'vect__ngram_range': (1, 1)}\n",
      "0.970 (+/-0.061) for {'clf__alpha': 1e-06, 'clf__penalty': 'l2', 'tfidf__use_idf': False, 'vect__max_df': 0.75, 'vect__ngram_range': (1, 2)}\n",
      "0.983 (+/-0.048) for {'clf__alpha': 1e-06, 'clf__penalty': 'l2', 'tfidf__use_idf': False, 'vect__max_df': 1.0, 'vect__ngram_range': (1, 1)}\n",
      "0.966 (+/-0.067) for {'clf__alpha': 1e-06, 'clf__penalty': 'l2', 'tfidf__use_idf': False, 'vect__max_df': 1.0, 'vect__ngram_range': (1, 2)}\n",
      "0.970 (+/-0.077) for {'clf__alpha': 1e-06, 'clf__penalty': 'elasticnet', 'tfidf__use_idf': True, 'vect__max_df': 0.5, 'vect__ngram_range': (1, 1)}\n",
      "0.966 (+/-0.067) for {'clf__alpha': 1e-06, 'clf__penalty': 'elasticnet', 'tfidf__use_idf': True, 'vect__max_df': 0.5, 'vect__ngram_range': (1, 2)}\n",
      "0.966 (+/-0.067) for {'clf__alpha': 1e-06, 'clf__penalty': 'elasticnet', 'tfidf__use_idf': True, 'vect__max_df': 0.75, 'vect__ngram_range': (1, 1)}\n",
      "0.983 (+/-0.048) for {'clf__alpha': 1e-06, 'clf__penalty': 'elasticnet', 'tfidf__use_idf': True, 'vect__max_df': 0.75, 'vect__ngram_range': (1, 2)}\n",
      "0.967 (+/-0.086) for {'clf__alpha': 1e-06, 'clf__penalty': 'elasticnet', 'tfidf__use_idf': True, 'vect__max_df': 1.0, 'vect__ngram_range': (1, 1)}\n",
      "0.971 (+/-0.072) for {'clf__alpha': 1e-06, 'clf__penalty': 'elasticnet', 'tfidf__use_idf': True, 'vect__max_df': 1.0, 'vect__ngram_range': (1, 2)}\n",
      "0.972 (+/-0.055) for {'clf__alpha': 1e-06, 'clf__penalty': 'elasticnet', 'tfidf__use_idf': False, 'vect__max_df': 0.5, 'vect__ngram_range': (1, 1)}\n",
      "0.969 (+/-0.055) for {'clf__alpha': 1e-06, 'clf__penalty': 'elasticnet', 'tfidf__use_idf': False, 'vect__max_df': 0.5, 'vect__ngram_range': (1, 2)}\n",
      "0.969 (+/-0.063) for {'clf__alpha': 1e-06, 'clf__penalty': 'elasticnet', 'tfidf__use_idf': False, 'vect__max_df': 0.75, 'vect__ngram_range': (1, 1)}\n",
      "0.973 (+/-0.061) for {'clf__alpha': 1e-06, 'clf__penalty': 'elasticnet', 'tfidf__use_idf': False, 'vect__max_df': 0.75, 'vect__ngram_range': (1, 2)}\n",
      "0.983 (+/-0.048) for {'clf__alpha': 1e-06, 'clf__penalty': 'elasticnet', 'tfidf__use_idf': False, 'vect__max_df': 1.0, 'vect__ngram_range': (1, 1)}\n",
      "0.971 (+/-0.055) for {'clf__alpha': 1e-06, 'clf__penalty': 'elasticnet', 'tfidf__use_idf': False, 'vect__max_df': 1.0, 'vect__ngram_range': (1, 2)}\n",
      "\n",
      "Detailed classification report:\n",
      "\n",
      "The model is trained on the full development set.\n",
      "The scores are computed on the full evaluation set.\n",
      "\n",
      "             precision    recall  f1-score   support\n",
      "\n",
      " accounting       1.00      0.99      0.99       262\n",
      "      legal       0.97      1.00      0.98       164\n",
      "        ops       1.00      1.00      1.00       465\n",
      "\n",
      "avg / total       0.99      0.99      0.99       891\n",
      "\n",
      "\n",
      "# Tuning hyper-parameters for recall\n",
      "\n",
      "Best parameters set found on development set:\n",
      "\n",
      "{'clf__alpha': 1e-05, 'clf__penalty': 'l2', 'tfidf__use_idf': True, 'vect__max_df': 0.5, 'vect__ngram_range': (1, 1)}\n",
      "\n",
      "Grid scores on development set:\n",
      "\n",
      "0.992 (+/-0.022) for {'clf__alpha': 1e-05, 'clf__penalty': 'l2', 'tfidf__use_idf': True, 'vect__max_df': 0.5, 'vect__ngram_range': (1, 1)}\n",
      "0.976 (+/-0.053) for {'clf__alpha': 1e-05, 'clf__penalty': 'l2', 'tfidf__use_idf': True, 'vect__max_df': 0.5, 'vect__ngram_range': (1, 2)}\n",
      "0.981 (+/-0.049) for {'clf__alpha': 1e-05, 'clf__penalty': 'l2', 'tfidf__use_idf': True, 'vect__max_df': 0.75, 'vect__ngram_range': (1, 1)}\n",
      "0.975 (+/-0.067) for {'clf__alpha': 1e-05, 'clf__penalty': 'l2', 'tfidf__use_idf': True, 'vect__max_df': 0.75, 'vect__ngram_range': (1, 2)}\n",
      "0.968 (+/-0.062) for {'clf__alpha': 1e-05, 'clf__penalty': 'l2', 'tfidf__use_idf': True, 'vect__max_df': 1.0, 'vect__ngram_range': (1, 1)}\n",
      "0.981 (+/-0.049) for {'clf__alpha': 1e-05, 'clf__penalty': 'l2', 'tfidf__use_idf': True, 'vect__max_df': 1.0, 'vect__ngram_range': (1, 2)}\n",
      "0.970 (+/-0.062) for {'clf__alpha': 1e-05, 'clf__penalty': 'l2', 'tfidf__use_idf': False, 'vect__max_df': 0.5, 'vect__ngram_range': (1, 1)}\n",
      "0.981 (+/-0.041) for {'clf__alpha': 1e-05, 'clf__penalty': 'l2', 'tfidf__use_idf': False, 'vect__max_df': 0.5, 'vect__ngram_range': (1, 2)}\n",
      "0.972 (+/-0.047) for {'clf__alpha': 1e-05, 'clf__penalty': 'l2', 'tfidf__use_idf': False, 'vect__max_df': 0.75, 'vect__ngram_range': (1, 1)}\n",
      "0.978 (+/-0.062) for {'clf__alpha': 1e-05, 'clf__penalty': 'l2', 'tfidf__use_idf': False, 'vect__max_df': 0.75, 'vect__ngram_range': (1, 2)}\n",
      "0.972 (+/-0.063) for {'clf__alpha': 1e-05, 'clf__penalty': 'l2', 'tfidf__use_idf': False, 'vect__max_df': 1.0, 'vect__ngram_range': (1, 1)}\n",
      "0.978 (+/-0.045) for {'clf__alpha': 1e-05, 'clf__penalty': 'l2', 'tfidf__use_idf': False, 'vect__max_df': 1.0, 'vect__ngram_range': (1, 2)}\n",
      "0.972 (+/-0.063) for {'clf__alpha': 1e-05, 'clf__penalty': 'elasticnet', 'tfidf__use_idf': True, 'vect__max_df': 0.5, 'vect__ngram_range': (1, 1)}\n"
     ]
    },
    {
     "name": "stdout",
     "output_type": "stream",
     "text": [
      "0.978 (+/-0.065) for {'clf__alpha': 1e-05, 'clf__penalty': 'elasticnet', 'tfidf__use_idf': True, 'vect__max_df': 0.5, 'vect__ngram_range': (1, 2)}\n",
      "0.973 (+/-0.062) for {'clf__alpha': 1e-05, 'clf__penalty': 'elasticnet', 'tfidf__use_idf': True, 'vect__max_df': 0.75, 'vect__ngram_range': (1, 1)}\n",
      "0.973 (+/-0.046) for {'clf__alpha': 1e-05, 'clf__penalty': 'elasticnet', 'tfidf__use_idf': True, 'vect__max_df': 0.75, 'vect__ngram_range': (1, 2)}\n",
      "0.981 (+/-0.049) for {'clf__alpha': 1e-05, 'clf__penalty': 'elasticnet', 'tfidf__use_idf': True, 'vect__max_df': 1.0, 'vect__ngram_range': (1, 1)}\n",
      "0.983 (+/-0.044) for {'clf__alpha': 1e-05, 'clf__penalty': 'elasticnet', 'tfidf__use_idf': True, 'vect__max_df': 1.0, 'vect__ngram_range': (1, 2)}\n",
      "0.972 (+/-0.063) for {'clf__alpha': 1e-05, 'clf__penalty': 'elasticnet', 'tfidf__use_idf': False, 'vect__max_df': 0.5, 'vect__ngram_range': (1, 1)}\n",
      "0.978 (+/-0.065) for {'clf__alpha': 1e-05, 'clf__penalty': 'elasticnet', 'tfidf__use_idf': False, 'vect__max_df': 0.5, 'vect__ngram_range': (1, 2)}\n",
      "0.972 (+/-0.061) for {'clf__alpha': 1e-05, 'clf__penalty': 'elasticnet', 'tfidf__use_idf': False, 'vect__max_df': 0.75, 'vect__ngram_range': (1, 1)}\n",
      "0.981 (+/-0.065) for {'clf__alpha': 1e-05, 'clf__penalty': 'elasticnet', 'tfidf__use_idf': False, 'vect__max_df': 0.75, 'vect__ngram_range': (1, 2)}\n",
      "0.983 (+/-0.041) for {'clf__alpha': 1e-05, 'clf__penalty': 'elasticnet', 'tfidf__use_idf': False, 'vect__max_df': 1.0, 'vect__ngram_range': (1, 1)}\n",
      "0.963 (+/-0.082) for {'clf__alpha': 1e-05, 'clf__penalty': 'elasticnet', 'tfidf__use_idf': False, 'vect__max_df': 1.0, 'vect__ngram_range': (1, 2)}\n",
      "0.976 (+/-0.043) for {'clf__alpha': 1e-06, 'clf__penalty': 'l2', 'tfidf__use_idf': True, 'vect__max_df': 0.5, 'vect__ngram_range': (1, 1)}\n",
      "0.981 (+/-0.065) for {'clf__alpha': 1e-06, 'clf__penalty': 'l2', 'tfidf__use_idf': True, 'vect__max_df': 0.5, 'vect__ngram_range': (1, 2)}\n",
      "0.981 (+/-0.049) for {'clf__alpha': 1e-06, 'clf__penalty': 'l2', 'tfidf__use_idf': True, 'vect__max_df': 0.75, 'vect__ngram_range': (1, 1)}\n",
      "0.976 (+/-0.043) for {'clf__alpha': 1e-06, 'clf__penalty': 'l2', 'tfidf__use_idf': True, 'vect__max_df': 0.75, 'vect__ngram_range': (1, 2)}\n",
      "0.968 (+/-0.072) for {'clf__alpha': 1e-06, 'clf__penalty': 'l2', 'tfidf__use_idf': True, 'vect__max_df': 1.0, 'vect__ngram_range': (1, 1)}\n",
      "0.986 (+/-0.043) for {'clf__alpha': 1e-06, 'clf__penalty': 'l2', 'tfidf__use_idf': True, 'vect__max_df': 1.0, 'vect__ngram_range': (1, 2)}\n",
      "0.975 (+/-0.062) for {'clf__alpha': 1e-06, 'clf__penalty': 'l2', 'tfidf__use_idf': False, 'vect__max_df': 0.5, 'vect__ngram_range': (1, 1)}\n",
      "0.975 (+/-0.076) for {'clf__alpha': 1e-06, 'clf__penalty': 'l2', 'tfidf__use_idf': False, 'vect__max_df': 0.5, 'vect__ngram_range': (1, 2)}\n",
      "0.972 (+/-0.063) for {'clf__alpha': 1e-06, 'clf__penalty': 'l2', 'tfidf__use_idf': False, 'vect__max_df': 0.75, 'vect__ngram_range': (1, 1)}\n",
      "0.986 (+/-0.043) for {'clf__alpha': 1e-06, 'clf__penalty': 'l2', 'tfidf__use_idf': False, 'vect__max_df': 0.75, 'vect__ngram_range': (1, 2)}\n",
      "0.965 (+/-0.064) for {'clf__alpha': 1e-06, 'clf__penalty': 'l2', 'tfidf__use_idf': False, 'vect__max_df': 1.0, 'vect__ngram_range': (1, 1)}\n",
      "0.972 (+/-0.063) for {'clf__alpha': 1e-06, 'clf__penalty': 'l2', 'tfidf__use_idf': False, 'vect__max_df': 1.0, 'vect__ngram_range': (1, 2)}\n",
      "0.976 (+/-0.066) for {'clf__alpha': 1e-06, 'clf__penalty': 'elasticnet', 'tfidf__use_idf': True, 'vect__max_df': 0.5, 'vect__ngram_range': (1, 1)}\n",
      "0.968 (+/-0.062) for {'clf__alpha': 1e-06, 'clf__penalty': 'elasticnet', 'tfidf__use_idf': True, 'vect__max_df': 0.5, 'vect__ngram_range': (1, 2)}\n",
      "0.968 (+/-0.062) for {'clf__alpha': 1e-06, 'clf__penalty': 'elasticnet', 'tfidf__use_idf': True, 'vect__max_df': 0.75, 'vect__ngram_range': (1, 1)}\n",
      "0.978 (+/-0.065) for {'clf__alpha': 1e-06, 'clf__penalty': 'elasticnet', 'tfidf__use_idf': True, 'vect__max_df': 0.75, 'vect__ngram_range': (1, 2)}\n",
      "0.981 (+/-0.049) for {'clf__alpha': 1e-06, 'clf__penalty': 'elasticnet', 'tfidf__use_idf': True, 'vect__max_df': 1.0, 'vect__ngram_range': (1, 1)}\n",
      "0.981 (+/-0.065) for {'clf__alpha': 1e-06, 'clf__penalty': 'elasticnet', 'tfidf__use_idf': True, 'vect__max_df': 1.0, 'vect__ngram_range': (1, 2)}\n",
      "0.981 (+/-0.041) for {'clf__alpha': 1e-06, 'clf__penalty': 'elasticnet', 'tfidf__use_idf': False, 'vect__max_df': 0.5, 'vect__ngram_range': (1, 1)}\n",
      "0.983 (+/-0.066) for {'clf__alpha': 1e-06, 'clf__penalty': 'elasticnet', 'tfidf__use_idf': False, 'vect__max_df': 0.5, 'vect__ngram_range': (1, 2)}\n",
      "0.978 (+/-0.062) for {'clf__alpha': 1e-06, 'clf__penalty': 'elasticnet', 'tfidf__use_idf': False, 'vect__max_df': 0.75, 'vect__ngram_range': (1, 1)}\n",
      "0.975 (+/-0.045) for {'clf__alpha': 1e-06, 'clf__penalty': 'elasticnet', 'tfidf__use_idf': False, 'vect__max_df': 0.75, 'vect__ngram_range': (1, 2)}\n",
      "0.978 (+/-0.045) for {'clf__alpha': 1e-06, 'clf__penalty': 'elasticnet', 'tfidf__use_idf': False, 'vect__max_df': 1.0, 'vect__ngram_range': (1, 1)}\n",
      "0.978 (+/-0.045) for {'clf__alpha': 1e-06, 'clf__penalty': 'elasticnet', 'tfidf__use_idf': False, 'vect__max_df': 1.0, 'vect__ngram_range': (1, 2)}\n",
      "\n",
      "Detailed classification report:\n",
      "\n",
      "The model is trained on the full development set.\n",
      "The scores are computed on the full evaluation set.\n",
      "\n",
      "             precision    recall  f1-score   support\n",
      "\n",
      " accounting       1.00      0.99      0.99       262\n",
      "      legal       0.96      1.00      0.98       164\n",
      "        ops       1.00      0.99      1.00       465\n",
      "\n",
      "avg / total       0.99      0.99      0.99       891\n",
      "\n",
      "\n"
     ]
    }
   ],
   "source": [
    "scores = ['precision', 'recall']\n",
    "for score in scores:\n",
    "    print(\"# Tuning hyper-parameters for %s\" % score)\n",
    "    print()\n",
    "\n",
    "    clf = GridSearchCV(pipeline, parameters, cv=5,\n",
    "                       scoring='%s_macro' % score)\n",
    "    clf.fit(X_train, y_train)\n",
    "\n",
    "    print(\"Best parameters set found on development set:\")\n",
    "    print()\n",
    "    print(clf.best_params_)\n",
    "    print()\n",
    "    print(\"Grid scores on development set:\")\n",
    "    print()\n",
    "    means = clf.cv_results_['mean_test_score']\n",
    "    stds = clf.cv_results_['std_test_score']\n",
    "    for mean, std, params in zip(means, stds, clf.cv_results_['params']):\n",
    "        print(\"%0.3f (+/-%0.03f) for %r\"\n",
    "              % (mean, std * 2, params))\n",
    "    print()\n",
    "\n",
    "    print(\"Detailed classification report:\")\n",
    "    print()\n",
    "    print(\"The model is trained on the full development set.\")\n",
    "    print(\"The scores are computed on the full evaluation set.\")\n",
    "    print()\n",
    "    y_true, y_pred = y_test, clf.predict(X_test)\n",
    "    print(classification_report(y_true, y_pred))\n",
    "    print()"
   ]
  },
  {
   "cell_type": "code",
   "execution_count": null,
   "metadata": {},
   "outputs": [],
   "source": []
  },
  {
   "cell_type": "code",
   "execution_count": null,
   "metadata": {
    "collapsed": true
   },
   "outputs": [],
   "source": []
  },
  {
   "cell_type": "code",
   "execution_count": null,
   "metadata": {
    "collapsed": true
   },
   "outputs": [],
   "source": []
  },
  {
   "cell_type": "code",
   "execution_count": null,
   "metadata": {
    "collapsed": true
   },
   "outputs": [],
   "source": []
  },
  {
   "cell_type": "code",
   "execution_count": null,
   "metadata": {
    "collapsed": true
   },
   "outputs": [],
   "source": []
  }
 ],
 "metadata": {
  "kernelspec": {
   "display_name": "Python 3",
   "language": "python",
   "name": "python3"
  },
  "language_info": {
   "codemirror_mode": {
    "name": "ipython",
    "version": 3
   },
   "file_extension": ".py",
   "mimetype": "text/x-python",
   "name": "python",
   "nbconvert_exporter": "python",
   "pygments_lexer": "ipython3",
   "version": "3.6.1"
  }
 },
 "nbformat": 4,
 "nbformat_minor": 2
}
