{
 "cells": [
  {
   "cell_type": "markdown",
   "metadata": {},
   "source": [
    "## A Multi-class Classification problem"
   ]
  },
  {
   "cell_type": "markdown",
   "metadata": {
    "collapsed": true
   },
   "source": [
    "# Model Set-up"
   ]
  },
  {
   "cell_type": "code",
   "execution_count": 2,
   "metadata": {
    "collapsed": true
   },
   "outputs": [],
   "source": [
    "%matplotlib inline\n",
    "import pandas as pd\n",
    "import os\n",
    "import numpy as np\n",
    "import sklearn\n"
   ]
  },
  {
   "cell_type": "code",
   "execution_count": 3,
   "metadata": {},
   "outputs": [
    {
     "name": "stderr",
     "output_type": "stream",
     "text": [
      "c:\\Users\\osutr_000\\Anaconda3\\lib\\site-packages\\gensim\\utils.py:862: UserWarning: detected Windows; aliasing chunkize to chunkize_serial\n",
      "  warnings.warn(\"detected Windows; aliasing chunkize to chunkize_serial\")\n"
     ]
    }
   ],
   "source": [
    "from nltk.tokenize import RegexpTokenizer\n",
    "from nltk.corpus import stopwords\n",
    "from nltk.stem.lancaster import LancasterStemmer\n",
    "from gensim.models import Phrases\n",
    "from gensim.models.word2vec import LineSentence\n",
    "import spacy\n",
    "import en_core_web_sm\n",
    "nlp = en_core_web_sm.load()\n"
   ]
  },
  {
   "cell_type": "code",
   "execution_count": 4,
   "metadata": {
    "collapsed": true
   },
   "outputs": [],
   "source": [
    "from sklearn.feature_extraction.text import CountVectorizer, HashingVectorizer\n",
    "from sklearn.model_selection import train_test_split, GridSearchCV\n",
    "from sklearn.svm import SVC\n",
    "from sklearn.feature_extraction.text import TfidfVectorizer, TfidfTransformer\n",
    "from sklearn.linear_model import SGDClassifier\n",
    "from sklearn.pipeline import Pipeline\n",
    "from sklearn.metrics import classification_report"
   ]
  },
  {
   "cell_type": "code",
   "execution_count": 5,
   "metadata": {
    "collapsed": true
   },
   "outputs": [],
   "source": [
    "NEWLINE = '\\n'\n",
    "SKIP_FILES = {'cmds'}\n",
    "\n",
    "\n",
    "def read_files(path):\n",
    "    for root, dir_names, file_names in os.walk(path):\n",
    "        for path in dir_names:\n",
    "            read_files(os.path.join(root, path))\n",
    "        for file_name in file_names:\n",
    "            if file_name not in SKIP_FILES:\n",
    "                file_path = os.path.join(root, file_name)\n",
    "                if os.path.isfile(file_path):\n",
    "                    past_header, lines = False, []\n",
    "                    f = open(file_path, encoding=\"ANSI\")\n",
    "                    for line in f:\n",
    "                        if past_header:\n",
    "                            lines.append(line)\n",
    "                        elif line == NEWLINE:\n",
    "                            past_header = True\n",
    "                    f.close()\n",
    "                    content = NEWLINE.join(lines)\n",
    "                    yield content\n",
    "                    \n"
   ]
  },
  {
   "cell_type": "markdown",
   "metadata": {},
   "source": [
    "# PreProcessing work\n",
    "Loop through each text files acquired from OCR and scrub the data\n",
    "\n",
    "We will then zip the list into a DataFrame.\n",
    "\n",
    "\n"
   ]
  },
  {
   "cell_type": "code",
   "execution_count": 6,
   "metadata": {},
   "outputs": [
    {
     "data": {
      "text/plain": [
       "580"
      ]
     },
     "execution_count": 6,
     "metadata": {},
     "output_type": "execute_result"
    }
   ],
   "source": [
    "#Training set is pre-classified according to subfolder subfolder\n",
    "path =r'C:\\Users\\osutr_000\\Documents\\Data\\Ops'\n",
    "list_o = []\n",
    "\n",
    "for text in read_files(path):\n",
    "    # tokenize the text\n",
    "    tokenizer = RegexpTokenizer(r'\\w+')\n",
    "    intermediate = tokenizer.tokenize(text)\n",
    "    # Remove stop words known in nltk package\n",
    "    stop = stopwords.words('english')\n",
    "    intermediate = [i for i in intermediate if i not in stop]\n",
    "    # Use word stemmeing to get root meaning\n",
    "    lanste = LancasterStemmer()\n",
    "    intermediate = [lanste.stem(i) for i in intermediate]\n",
    "    # Concatenate words into one string and then add to list_\n",
    "    final = \" \".join(intermediate)\n",
    "    list_o.append(final)\n",
    "ops_df = pd.DataFrame(data = list_o)\n",
    "ops_df['class']=\"ops\"\n",
    "len(ops_df)"
   ]
  },
  {
   "cell_type": "code",
   "execution_count": 7,
   "metadata": {},
   "outputs": [
    {
     "data": {
      "text/plain": [
       "209"
      ]
     },
     "execution_count": 7,
     "metadata": {},
     "output_type": "execute_result"
    }
   ],
   "source": [
    "path =r'C:\\Users\\osutr_000\\Documents\\Data\\Legal'\n",
    "list_l = []\n",
    "\n",
    "for text in read_files(path):\n",
    "    tokenizer = RegexpTokenizer(r'\\w+')\n",
    "    intermediate = tokenizer.tokenize(text)\n",
    "    stop = stopwords.words('english')\n",
    "    intermediate = [i for i in intermediate if i not in stop]\n",
    "    lanste = LancasterStemmer()\n",
    "    intermediate = [lanste.stem(i) for i in intermediate]\n",
    "    final = \" \".join(intermediate)\n",
    "    list_l.append(final)\n",
    "legal_df = pd.DataFrame(data = list_l)\n",
    "legal_df['class']=\"legal\"\n",
    "len(legal_df)"
   ]
  },
  {
   "cell_type": "code",
   "execution_count": 8,
   "metadata": {},
   "outputs": [
    {
     "data": {
      "text/plain": [
       "324"
      ]
     },
     "execution_count": 8,
     "metadata": {},
     "output_type": "execute_result"
    }
   ],
   "source": [
    "path =r'C:\\Users\\osutr_000\\Documents\\Data\\Accounting'\n",
    "list_a = []\n",
    "\n",
    "for text in read_files(path):\n",
    "    tokenizer = RegexpTokenizer(r'\\w+')\n",
    "    intermediate = tokenizer.tokenize(text)\n",
    "    stop = stopwords.words('english')\n",
    "    intermediate = [i for i in intermediate if i not in stop]\n",
    "    lanste = LancasterStemmer()\n",
    "    intermediate = [lanste.stem(i) for i in intermediate]\n",
    "    final = \" \".join(intermediate)\n",
    "    list_a.append(final)\n",
    "accounting_df = pd.DataFrame(data = list_a)\n",
    "accounting_df['class']=\"accounting\"\n",
    "len(accounting_df)"
   ]
  },
  {
   "cell_type": "code",
   "execution_count": null,
   "metadata": {
    "collapsed": true
   },
   "outputs": [],
   "source": []
  },
  {
   "cell_type": "code",
   "execution_count": 9,
   "metadata": {},
   "outputs": [
    {
     "data": {
      "text/plain": [
       "1113"
      ]
     },
     "execution_count": 9,
     "metadata": {},
     "output_type": "execute_result"
    }
   ],
   "source": [
    "merged_df = ops_df.append(legal_df).append(accounting_df)\n",
    "len(merged_df)"
   ]
  },
  {
   "cell_type": "code",
   "execution_count": 10,
   "metadata": {
    "collapsed": true
   },
   "outputs": [],
   "source": [
    "# There are 1113 total training examples:\n",
    "# 580 Ops\n",
    "# 209 Legal\n",
    "# 324 Accounting"
   ]
  },
  {
   "cell_type": "code",
   "execution_count": 11,
   "metadata": {},
   "outputs": [
    {
     "data": {
      "text/html": [
       "<div>\n",
       "<style>\n",
       "    .dataframe thead tr:only-child th {\n",
       "        text-align: right;\n",
       "    }\n",
       "\n",
       "    .dataframe thead th {\n",
       "        text-align: left;\n",
       "    }\n",
       "\n",
       "    .dataframe tbody tr th {\n",
       "        vertical-align: top;\n",
       "    }\n",
       "</style>\n",
       "<table border=\"1\" class=\"dataframe\">\n",
       "  <thead>\n",
       "    <tr style=\"text-align: right;\">\n",
       "      <th></th>\n",
       "      <th>index</th>\n",
       "      <th>text</th>\n",
       "      <th>cat</th>\n",
       "    </tr>\n",
       "  </thead>\n",
       "  <tbody>\n",
       "    <tr>\n",
       "      <th>0</th>\n",
       "      <td>0</td>\n",
       "      <td>401 w 33rd edmond ok 73013 www midcondat com 4...</td>\n",
       "      <td>ops</td>\n",
       "    </tr>\n",
       "    <tr>\n",
       "      <th>1</th>\n",
       "      <td>0</td>\n",
       "      <td>26938 002 4 27 16 290 60 290 60 5 4 16 26938 d...</td>\n",
       "      <td>accounting</td>\n",
       "    </tr>\n",
       "    <tr>\n",
       "      <th>2</th>\n",
       "      <td>0</td>\n",
       "      <td>midcon dat serv llc thi dat destruct agr mad e...</td>\n",
       "      <td>legal</td>\n",
       "    </tr>\n",
       "    <tr>\n",
       "      <th>3</th>\n",
       "      <td>1</td>\n",
       "      <td>5 25 16 179 17 179 17 5 27 16 01605 05 republ ...</td>\n",
       "      <td>accounting</td>\n",
       "    </tr>\n",
       "    <tr>\n",
       "      <th>4</th>\n",
       "      <td>1</td>\n",
       "      <td></td>\n",
       "      <td>legal</td>\n",
       "    </tr>\n",
       "  </tbody>\n",
       "</table>\n",
       "</div>"
      ],
      "text/plain": [
       "   index                                               text         cat\n",
       "0      0  401 w 33rd edmond ok 73013 www midcondat com 4...         ops\n",
       "1      0  26938 002 4 27 16 290 60 290 60 5 4 16 26938 d...  accounting\n",
       "2      0  midcon dat serv llc thi dat destruct agr mad e...       legal\n",
       "3      1  5 25 16 179 17 179 17 5 27 16 01605 05 republ ...  accounting\n",
       "4      1                                                          legal"
      ]
     },
     "execution_count": 11,
     "metadata": {},
     "output_type": "execute_result"
    }
   ],
   "source": [
    "merged_df.columns = ['text', 'cat']\n",
    "merged_df.sort_index().reset_index().head()"
   ]
  },
  {
   "cell_type": "code",
   "execution_count": 12,
   "metadata": {
    "collapsed": true
   },
   "outputs": [],
   "source": [
    "# You can see how the processed data is now structured."
   ]
  },
  {
   "cell_type": "code",
   "execution_count": 13,
   "metadata": {
    "collapsed": true
   },
   "outputs": [],
   "source": [
    "# Now we will flatten the data into (sample, feature) matrices\n",
    "X = merged_df.text\n",
    "y = merged_df.cat\n",
    "\n",
    "# and then split the dataset into two equal parts\n",
    "X_train, X_test, y_train, y_test = train_test_split(\n",
    "    X, y, test_size=0.5, random_state=0)"
   ]
  },
  {
   "cell_type": "code",
   "execution_count": null,
   "metadata": {
    "collapsed": true
   },
   "outputs": [],
   "source": []
  },
  {
   "cell_type": "markdown",
   "metadata": {
    "collapsed": true
   },
   "source": [
    "# Model 1\n",
    "Here are some of the model features seen in this section:\n",
    "* CountVectorizer implements both tokenization and occurrence counting in a single class\n",
    "\n",
    "* TfidfTransformer transforms a count matrix to a normalized tf or tf-idf representation. \n",
    "The goal of using tf-idf is to scale down the impact of tokens that occur very frequently in a given corpus \n",
    "that are hence empirically less informative than features that occur in a small fraction of the training corpus.\n",
    "\n",
    "* SGDCClassifier (Stochastic Gradient Decent) has gain popularity in NLP applications for it's scalability.\n",
    "SGD has a lot of parameters and is sensitive to feature scaling \n"
   ]
  },
  {
   "cell_type": "code",
   "execution_count": 14,
   "metadata": {
    "collapsed": true
   },
   "outputs": [],
   "source": [
    "# Define a pipeline with a text feature extractor and classifier:\n",
    "\n",
    "pipeline = Pipeline([\n",
    "    ('vect', CountVectorizer()),\n",
    "    ('tfidf', TfidfTransformer()),\n",
    "    ('clf', SGDClassifier(max_iter=1000, tol=.0001)),\n",
    "])\n",
    "\n",
    "# hyper-parameters\n",
    "parameters = {\n",
    "    'vect__max_df': (0.5, 0.75, 1.0),\n",
    "    #'vect__max_features': (None, 5000, 10000, 50000),\n",
    "    #'vect__ngram_range': ((1, 1), (1, 2)),  # unigrams or bigrams\n",
    "    'tfidf__use_idf': (True, False),\n",
    "    'tfidf__norm': ('l1', 'l2'),\n",
    "    #'clf__max_iter': (5,),\n",
    "    'clf__alpha': (0.00001, 0.000001),\n",
    "    #'clf__penalty': ('l2', 'elasticnet'),\n",
    "    'clf__n_iter': (10, 50, 80),\n",
    "}\n"
   ]
  },
  {
   "cell_type": "code",
   "execution_count": 15,
   "metadata": {},
   "outputs": [
    {
     "name": "stdout",
     "output_type": "stream",
     "text": [
      "# Tuning hyper-parameters...\n",
      "\n"
     ]
    },
    {
     "name": "stderr",
     "output_type": "stream",
     "text": [
      "c:\\Users\\osutr_000\\Anaconda3\\lib\\site-packages\\sklearn\\linear_model\\stochastic_gradient.py:117: DeprecationWarning: n_iter parameter is deprecated in 0.19 and will be removed in 0.21. Use max_iter and tol instead.\n",
      "  DeprecationWarning)\n",
      "c:\\Users\\osutr_000\\Anaconda3\\lib\\site-packages\\sklearn\\linear_model\\stochastic_gradient.py:117: DeprecationWarning: n_iter parameter is deprecated in 0.19 and will be removed in 0.21. Use max_iter and tol instead.\n",
      "  DeprecationWarning)\n",
      "c:\\Users\\osutr_000\\Anaconda3\\lib\\site-packages\\sklearn\\linear_model\\stochastic_gradient.py:117: DeprecationWarning: n_iter parameter is deprecated in 0.19 and will be removed in 0.21. Use max_iter and tol instead.\n",
      "  DeprecationWarning)\n",
      "c:\\Users\\osutr_000\\Anaconda3\\lib\\site-packages\\sklearn\\linear_model\\stochastic_gradient.py:117: DeprecationWarning: n_iter parameter is deprecated in 0.19 and will be removed in 0.21. Use max_iter and tol instead.\n",
      "  DeprecationWarning)\n",
      "c:\\Users\\osutr_000\\Anaconda3\\lib\\site-packages\\sklearn\\linear_model\\stochastic_gradient.py:117: DeprecationWarning: n_iter parameter is deprecated in 0.19 and will be removed in 0.21. Use max_iter and tol instead.\n",
      "  DeprecationWarning)\n",
      "c:\\Users\\osutr_000\\Anaconda3\\lib\\site-packages\\sklearn\\linear_model\\stochastic_gradient.py:117: DeprecationWarning: n_iter parameter is deprecated in 0.19 and will be removed in 0.21. Use max_iter and tol instead.\n",
      "  DeprecationWarning)\n",
      "c:\\Users\\osutr_000\\Anaconda3\\lib\\site-packages\\sklearn\\linear_model\\stochastic_gradient.py:117: DeprecationWarning: n_iter parameter is deprecated in 0.19 and will be removed in 0.21. Use max_iter and tol instead.\n",
      "  DeprecationWarning)\n",
      "c:\\Users\\osutr_000\\Anaconda3\\lib\\site-packages\\sklearn\\linear_model\\stochastic_gradient.py:117: DeprecationWarning: n_iter parameter is deprecated in 0.19 and will be removed in 0.21. Use max_iter and tol instead.\n",
      "  DeprecationWarning)\n",
      "c:\\Users\\osutr_000\\Anaconda3\\lib\\site-packages\\sklearn\\linear_model\\stochastic_gradient.py:117: DeprecationWarning: n_iter parameter is deprecated in 0.19 and will be removed in 0.21. Use max_iter and tol instead.\n",
      "  DeprecationWarning)\n",
      "c:\\Users\\osutr_000\\Anaconda3\\lib\\site-packages\\sklearn\\linear_model\\stochastic_gradient.py:117: DeprecationWarning: n_iter parameter is deprecated in 0.19 and will be removed in 0.21. Use max_iter and tol instead.\n",
      "  DeprecationWarning)\n",
      "c:\\Users\\osutr_000\\Anaconda3\\lib\\site-packages\\sklearn\\linear_model\\stochastic_gradient.py:117: DeprecationWarning: n_iter parameter is deprecated in 0.19 and will be removed in 0.21. Use max_iter and tol instead.\n",
      "  DeprecationWarning)\n",
      "c:\\Users\\osutr_000\\Anaconda3\\lib\\site-packages\\sklearn\\linear_model\\stochastic_gradient.py:117: DeprecationWarning: n_iter parameter is deprecated in 0.19 and will be removed in 0.21. Use max_iter and tol instead.\n",
      "  DeprecationWarning)\n",
      "c:\\Users\\osutr_000\\Anaconda3\\lib\\site-packages\\sklearn\\linear_model\\stochastic_gradient.py:117: DeprecationWarning: n_iter parameter is deprecated in 0.19 and will be removed in 0.21. Use max_iter and tol instead.\n",
      "  DeprecationWarning)\n",
      "c:\\Users\\osutr_000\\Anaconda3\\lib\\site-packages\\sklearn\\linear_model\\stochastic_gradient.py:117: DeprecationWarning: n_iter parameter is deprecated in 0.19 and will be removed in 0.21. Use max_iter and tol instead.\n",
      "  DeprecationWarning)\n",
      "c:\\Users\\osutr_000\\Anaconda3\\lib\\site-packages\\sklearn\\linear_model\\stochastic_gradient.py:117: DeprecationWarning: n_iter parameter is deprecated in 0.19 and will be removed in 0.21. Use max_iter and tol instead.\n",
      "  DeprecationWarning)\n",
      "c:\\Users\\osutr_000\\Anaconda3\\lib\\site-packages\\sklearn\\linear_model\\stochastic_gradient.py:117: DeprecationWarning: n_iter parameter is deprecated in 0.19 and will be removed in 0.21. Use max_iter and tol instead.\n",
      "  DeprecationWarning)\n",
      "c:\\Users\\osutr_000\\Anaconda3\\lib\\site-packages\\sklearn\\linear_model\\stochastic_gradient.py:117: DeprecationWarning: n_iter parameter is deprecated in 0.19 and will be removed in 0.21. Use max_iter and tol instead.\n",
      "  DeprecationWarning)\n",
      "c:\\Users\\osutr_000\\Anaconda3\\lib\\site-packages\\sklearn\\linear_model\\stochastic_gradient.py:117: DeprecationWarning: n_iter parameter is deprecated in 0.19 and will be removed in 0.21. Use max_iter and tol instead.\n",
      "  DeprecationWarning)\n",
      "c:\\Users\\osutr_000\\Anaconda3\\lib\\site-packages\\sklearn\\linear_model\\stochastic_gradient.py:117: DeprecationWarning: n_iter parameter is deprecated in 0.19 and will be removed in 0.21. Use max_iter and tol instead.\n",
      "  DeprecationWarning)\n",
      "c:\\Users\\osutr_000\\Anaconda3\\lib\\site-packages\\sklearn\\linear_model\\stochastic_gradient.py:117: DeprecationWarning: n_iter parameter is deprecated in 0.19 and will be removed in 0.21. Use max_iter and tol instead.\n",
      "  DeprecationWarning)\n",
      "c:\\Users\\osutr_000\\Anaconda3\\lib\\site-packages\\sklearn\\linear_model\\stochastic_gradient.py:117: DeprecationWarning: n_iter parameter is deprecated in 0.19 and will be removed in 0.21. Use max_iter and tol instead.\n",
      "  DeprecationWarning)\n",
      "c:\\Users\\osutr_000\\Anaconda3\\lib\\site-packages\\sklearn\\linear_model\\stochastic_gradient.py:117: DeprecationWarning: n_iter parameter is deprecated in 0.19 and will be removed in 0.21. Use max_iter and tol instead.\n",
      "  DeprecationWarning)\n",
      "c:\\Users\\osutr_000\\Anaconda3\\lib\\site-packages\\sklearn\\linear_model\\stochastic_gradient.py:117: DeprecationWarning: n_iter parameter is deprecated in 0.19 and will be removed in 0.21. Use max_iter and tol instead.\n",
      "  DeprecationWarning)\n",
      "c:\\Users\\osutr_000\\Anaconda3\\lib\\site-packages\\sklearn\\linear_model\\stochastic_gradient.py:117: DeprecationWarning: n_iter parameter is deprecated in 0.19 and will be removed in 0.21. Use max_iter and tol instead.\n",
      "  DeprecationWarning)\n",
      "c:\\Users\\osutr_000\\Anaconda3\\lib\\site-packages\\sklearn\\linear_model\\stochastic_gradient.py:117: DeprecationWarning: n_iter parameter is deprecated in 0.19 and will be removed in 0.21. Use max_iter and tol instead.\n",
      "  DeprecationWarning)\n",
      "c:\\Users\\osutr_000\\Anaconda3\\lib\\site-packages\\sklearn\\linear_model\\stochastic_gradient.py:117: DeprecationWarning: n_iter parameter is deprecated in 0.19 and will be removed in 0.21. Use max_iter and tol instead.\n",
      "  DeprecationWarning)\n",
      "c:\\Users\\osutr_000\\Anaconda3\\lib\\site-packages\\sklearn\\linear_model\\stochastic_gradient.py:117: DeprecationWarning: n_iter parameter is deprecated in 0.19 and will be removed in 0.21. Use max_iter and tol instead.\n",
      "  DeprecationWarning)\n",
      "c:\\Users\\osutr_000\\Anaconda3\\lib\\site-packages\\sklearn\\linear_model\\stochastic_gradient.py:117: DeprecationWarning: n_iter parameter is deprecated in 0.19 and will be removed in 0.21. Use max_iter and tol instead.\n",
      "  DeprecationWarning)\n",
      "c:\\Users\\osutr_000\\Anaconda3\\lib\\site-packages\\sklearn\\linear_model\\stochastic_gradient.py:117: DeprecationWarning: n_iter parameter is deprecated in 0.19 and will be removed in 0.21. Use max_iter and tol instead.\n",
      "  DeprecationWarning)\n",
      "c:\\Users\\osutr_000\\Anaconda3\\lib\\site-packages\\sklearn\\linear_model\\stochastic_gradient.py:117: DeprecationWarning: n_iter parameter is deprecated in 0.19 and will be removed in 0.21. Use max_iter and tol instead.\n",
      "  DeprecationWarning)\n",
      "c:\\Users\\osutr_000\\Anaconda3\\lib\\site-packages\\sklearn\\linear_model\\stochastic_gradient.py:117: DeprecationWarning: n_iter parameter is deprecated in 0.19 and will be removed in 0.21. Use max_iter and tol instead.\n",
      "  DeprecationWarning)\n",
      "c:\\Users\\osutr_000\\Anaconda3\\lib\\site-packages\\sklearn\\linear_model\\stochastic_gradient.py:117: DeprecationWarning: n_iter parameter is deprecated in 0.19 and will be removed in 0.21. Use max_iter and tol instead.\n",
      "  DeprecationWarning)\n",
      "c:\\Users\\osutr_000\\Anaconda3\\lib\\site-packages\\sklearn\\linear_model\\stochastic_gradient.py:117: DeprecationWarning: n_iter parameter is deprecated in 0.19 and will be removed in 0.21. Use max_iter and tol instead.\n",
      "  DeprecationWarning)\n",
      "c:\\Users\\osutr_000\\Anaconda3\\lib\\site-packages\\sklearn\\linear_model\\stochastic_gradient.py:117: DeprecationWarning: n_iter parameter is deprecated in 0.19 and will be removed in 0.21. Use max_iter and tol instead.\n",
      "  DeprecationWarning)\n",
      "c:\\Users\\osutr_000\\Anaconda3\\lib\\site-packages\\sklearn\\linear_model\\stochastic_gradient.py:117: DeprecationWarning: n_iter parameter is deprecated in 0.19 and will be removed in 0.21. Use max_iter and tol instead.\n",
      "  DeprecationWarning)\n"
     ]
    },
    {
     "name": "stderr",
     "output_type": "stream",
     "text": [
      "c:\\Users\\osutr_000\\Anaconda3\\lib\\site-packages\\sklearn\\linear_model\\stochastic_gradient.py:117: DeprecationWarning: n_iter parameter is deprecated in 0.19 and will be removed in 0.21. Use max_iter and tol instead.\n",
      "  DeprecationWarning)\n",
      "c:\\Users\\osutr_000\\Anaconda3\\lib\\site-packages\\sklearn\\linear_model\\stochastic_gradient.py:117: DeprecationWarning: n_iter parameter is deprecated in 0.19 and will be removed in 0.21. Use max_iter and tol instead.\n",
      "  DeprecationWarning)\n",
      "c:\\Users\\osutr_000\\Anaconda3\\lib\\site-packages\\sklearn\\linear_model\\stochastic_gradient.py:117: DeprecationWarning: n_iter parameter is deprecated in 0.19 and will be removed in 0.21. Use max_iter and tol instead.\n",
      "  DeprecationWarning)\n",
      "c:\\Users\\osutr_000\\Anaconda3\\lib\\site-packages\\sklearn\\linear_model\\stochastic_gradient.py:117: DeprecationWarning: n_iter parameter is deprecated in 0.19 and will be removed in 0.21. Use max_iter and tol instead.\n",
      "  DeprecationWarning)\n",
      "c:\\Users\\osutr_000\\Anaconda3\\lib\\site-packages\\sklearn\\linear_model\\stochastic_gradient.py:117: DeprecationWarning: n_iter parameter is deprecated in 0.19 and will be removed in 0.21. Use max_iter and tol instead.\n",
      "  DeprecationWarning)\n",
      "c:\\Users\\osutr_000\\Anaconda3\\lib\\site-packages\\sklearn\\linear_model\\stochastic_gradient.py:117: DeprecationWarning: n_iter parameter is deprecated in 0.19 and will be removed in 0.21. Use max_iter and tol instead.\n",
      "  DeprecationWarning)\n",
      "c:\\Users\\osutr_000\\Anaconda3\\lib\\site-packages\\sklearn\\linear_model\\stochastic_gradient.py:117: DeprecationWarning: n_iter parameter is deprecated in 0.19 and will be removed in 0.21. Use max_iter and tol instead.\n",
      "  DeprecationWarning)\n",
      "c:\\Users\\osutr_000\\Anaconda3\\lib\\site-packages\\sklearn\\linear_model\\stochastic_gradient.py:117: DeprecationWarning: n_iter parameter is deprecated in 0.19 and will be removed in 0.21. Use max_iter and tol instead.\n",
      "  DeprecationWarning)\n",
      "c:\\Users\\osutr_000\\Anaconda3\\lib\\site-packages\\sklearn\\linear_model\\stochastic_gradient.py:117: DeprecationWarning: n_iter parameter is deprecated in 0.19 and will be removed in 0.21. Use max_iter and tol instead.\n",
      "  DeprecationWarning)\n",
      "c:\\Users\\osutr_000\\Anaconda3\\lib\\site-packages\\sklearn\\linear_model\\stochastic_gradient.py:117: DeprecationWarning: n_iter parameter is deprecated in 0.19 and will be removed in 0.21. Use max_iter and tol instead.\n",
      "  DeprecationWarning)\n",
      "c:\\Users\\osutr_000\\Anaconda3\\lib\\site-packages\\sklearn\\linear_model\\stochastic_gradient.py:117: DeprecationWarning: n_iter parameter is deprecated in 0.19 and will be removed in 0.21. Use max_iter and tol instead.\n",
      "  DeprecationWarning)\n",
      "c:\\Users\\osutr_000\\Anaconda3\\lib\\site-packages\\sklearn\\linear_model\\stochastic_gradient.py:117: DeprecationWarning: n_iter parameter is deprecated in 0.19 and will be removed in 0.21. Use max_iter and tol instead.\n",
      "  DeprecationWarning)\n",
      "c:\\Users\\osutr_000\\Anaconda3\\lib\\site-packages\\sklearn\\linear_model\\stochastic_gradient.py:117: DeprecationWarning: n_iter parameter is deprecated in 0.19 and will be removed in 0.21. Use max_iter and tol instead.\n",
      "  DeprecationWarning)\n",
      "c:\\Users\\osutr_000\\Anaconda3\\lib\\site-packages\\sklearn\\linear_model\\stochastic_gradient.py:117: DeprecationWarning: n_iter parameter is deprecated in 0.19 and will be removed in 0.21. Use max_iter and tol instead.\n",
      "  DeprecationWarning)\n",
      "c:\\Users\\osutr_000\\Anaconda3\\lib\\site-packages\\sklearn\\linear_model\\stochastic_gradient.py:117: DeprecationWarning: n_iter parameter is deprecated in 0.19 and will be removed in 0.21. Use max_iter and tol instead.\n",
      "  DeprecationWarning)\n",
      "c:\\Users\\osutr_000\\Anaconda3\\lib\\site-packages\\sklearn\\linear_model\\stochastic_gradient.py:117: DeprecationWarning: n_iter parameter is deprecated in 0.19 and will be removed in 0.21. Use max_iter and tol instead.\n",
      "  DeprecationWarning)\n",
      "c:\\Users\\osutr_000\\Anaconda3\\lib\\site-packages\\sklearn\\linear_model\\stochastic_gradient.py:117: DeprecationWarning: n_iter parameter is deprecated in 0.19 and will be removed in 0.21. Use max_iter and tol instead.\n",
      "  DeprecationWarning)\n",
      "c:\\Users\\osutr_000\\Anaconda3\\lib\\site-packages\\sklearn\\linear_model\\stochastic_gradient.py:117: DeprecationWarning: n_iter parameter is deprecated in 0.19 and will be removed in 0.21. Use max_iter and tol instead.\n",
      "  DeprecationWarning)\n",
      "c:\\Users\\osutr_000\\Anaconda3\\lib\\site-packages\\sklearn\\linear_model\\stochastic_gradient.py:117: DeprecationWarning: n_iter parameter is deprecated in 0.19 and will be removed in 0.21. Use max_iter and tol instead.\n",
      "  DeprecationWarning)\n",
      "c:\\Users\\osutr_000\\Anaconda3\\lib\\site-packages\\sklearn\\linear_model\\stochastic_gradient.py:117: DeprecationWarning: n_iter parameter is deprecated in 0.19 and will be removed in 0.21. Use max_iter and tol instead.\n",
      "  DeprecationWarning)\n",
      "c:\\Users\\osutr_000\\Anaconda3\\lib\\site-packages\\sklearn\\linear_model\\stochastic_gradient.py:117: DeprecationWarning: n_iter parameter is deprecated in 0.19 and will be removed in 0.21. Use max_iter and tol instead.\n",
      "  DeprecationWarning)\n",
      "c:\\Users\\osutr_000\\Anaconda3\\lib\\site-packages\\sklearn\\linear_model\\stochastic_gradient.py:117: DeprecationWarning: n_iter parameter is deprecated in 0.19 and will be removed in 0.21. Use max_iter and tol instead.\n",
      "  DeprecationWarning)\n",
      "c:\\Users\\osutr_000\\Anaconda3\\lib\\site-packages\\sklearn\\linear_model\\stochastic_gradient.py:117: DeprecationWarning: n_iter parameter is deprecated in 0.19 and will be removed in 0.21. Use max_iter and tol instead.\n",
      "  DeprecationWarning)\n",
      "c:\\Users\\osutr_000\\Anaconda3\\lib\\site-packages\\sklearn\\linear_model\\stochastic_gradient.py:117: DeprecationWarning: n_iter parameter is deprecated in 0.19 and will be removed in 0.21. Use max_iter and tol instead.\n",
      "  DeprecationWarning)\n",
      "c:\\Users\\osutr_000\\Anaconda3\\lib\\site-packages\\sklearn\\linear_model\\stochastic_gradient.py:117: DeprecationWarning: n_iter parameter is deprecated in 0.19 and will be removed in 0.21. Use max_iter and tol instead.\n",
      "  DeprecationWarning)\n",
      "c:\\Users\\osutr_000\\Anaconda3\\lib\\site-packages\\sklearn\\linear_model\\stochastic_gradient.py:117: DeprecationWarning: n_iter parameter is deprecated in 0.19 and will be removed in 0.21. Use max_iter and tol instead.\n",
      "  DeprecationWarning)\n",
      "c:\\Users\\osutr_000\\Anaconda3\\lib\\site-packages\\sklearn\\linear_model\\stochastic_gradient.py:117: DeprecationWarning: n_iter parameter is deprecated in 0.19 and will be removed in 0.21. Use max_iter and tol instead.\n",
      "  DeprecationWarning)\n",
      "c:\\Users\\osutr_000\\Anaconda3\\lib\\site-packages\\sklearn\\linear_model\\stochastic_gradient.py:117: DeprecationWarning: n_iter parameter is deprecated in 0.19 and will be removed in 0.21. Use max_iter and tol instead.\n",
      "  DeprecationWarning)\n",
      "c:\\Users\\osutr_000\\Anaconda3\\lib\\site-packages\\sklearn\\linear_model\\stochastic_gradient.py:117: DeprecationWarning: n_iter parameter is deprecated in 0.19 and will be removed in 0.21. Use max_iter and tol instead.\n",
      "  DeprecationWarning)\n",
      "c:\\Users\\osutr_000\\Anaconda3\\lib\\site-packages\\sklearn\\linear_model\\stochastic_gradient.py:117: DeprecationWarning: n_iter parameter is deprecated in 0.19 and will be removed in 0.21. Use max_iter and tol instead.\n",
      "  DeprecationWarning)\n",
      "c:\\Users\\osutr_000\\Anaconda3\\lib\\site-packages\\sklearn\\linear_model\\stochastic_gradient.py:117: DeprecationWarning: n_iter parameter is deprecated in 0.19 and will be removed in 0.21. Use max_iter and tol instead.\n",
      "  DeprecationWarning)\n",
      "c:\\Users\\osutr_000\\Anaconda3\\lib\\site-packages\\sklearn\\linear_model\\stochastic_gradient.py:117: DeprecationWarning: n_iter parameter is deprecated in 0.19 and will be removed in 0.21. Use max_iter and tol instead.\n",
      "  DeprecationWarning)\n",
      "c:\\Users\\osutr_000\\Anaconda3\\lib\\site-packages\\sklearn\\linear_model\\stochastic_gradient.py:117: DeprecationWarning: n_iter parameter is deprecated in 0.19 and will be removed in 0.21. Use max_iter and tol instead.\n",
      "  DeprecationWarning)\n",
      "c:\\Users\\osutr_000\\Anaconda3\\lib\\site-packages\\sklearn\\linear_model\\stochastic_gradient.py:117: DeprecationWarning: n_iter parameter is deprecated in 0.19 and will be removed in 0.21. Use max_iter and tol instead.\n",
      "  DeprecationWarning)\n",
      "c:\\Users\\osutr_000\\Anaconda3\\lib\\site-packages\\sklearn\\linear_model\\stochastic_gradient.py:117: DeprecationWarning: n_iter parameter is deprecated in 0.19 and will be removed in 0.21. Use max_iter and tol instead.\n",
      "  DeprecationWarning)\n"
     ]
    },
    {
     "name": "stderr",
     "output_type": "stream",
     "text": [
      "c:\\Users\\osutr_000\\Anaconda3\\lib\\site-packages\\sklearn\\linear_model\\stochastic_gradient.py:117: DeprecationWarning: n_iter parameter is deprecated in 0.19 and will be removed in 0.21. Use max_iter and tol instead.\n",
      "  DeprecationWarning)\n",
      "c:\\Users\\osutr_000\\Anaconda3\\lib\\site-packages\\sklearn\\linear_model\\stochastic_gradient.py:117: DeprecationWarning: n_iter parameter is deprecated in 0.19 and will be removed in 0.21. Use max_iter and tol instead.\n",
      "  DeprecationWarning)\n",
      "c:\\Users\\osutr_000\\Anaconda3\\lib\\site-packages\\sklearn\\linear_model\\stochastic_gradient.py:117: DeprecationWarning: n_iter parameter is deprecated in 0.19 and will be removed in 0.21. Use max_iter and tol instead.\n",
      "  DeprecationWarning)\n",
      "c:\\Users\\osutr_000\\Anaconda3\\lib\\site-packages\\sklearn\\linear_model\\stochastic_gradient.py:117: DeprecationWarning: n_iter parameter is deprecated in 0.19 and will be removed in 0.21. Use max_iter and tol instead.\n",
      "  DeprecationWarning)\n",
      "c:\\Users\\osutr_000\\Anaconda3\\lib\\site-packages\\sklearn\\linear_model\\stochastic_gradient.py:117: DeprecationWarning: n_iter parameter is deprecated in 0.19 and will be removed in 0.21. Use max_iter and tol instead.\n",
      "  DeprecationWarning)\n",
      "c:\\Users\\osutr_000\\Anaconda3\\lib\\site-packages\\sklearn\\linear_model\\stochastic_gradient.py:117: DeprecationWarning: n_iter parameter is deprecated in 0.19 and will be removed in 0.21. Use max_iter and tol instead.\n",
      "  DeprecationWarning)\n",
      "c:\\Users\\osutr_000\\Anaconda3\\lib\\site-packages\\sklearn\\linear_model\\stochastic_gradient.py:117: DeprecationWarning: n_iter parameter is deprecated in 0.19 and will be removed in 0.21. Use max_iter and tol instead.\n",
      "  DeprecationWarning)\n",
      "c:\\Users\\osutr_000\\Anaconda3\\lib\\site-packages\\sklearn\\linear_model\\stochastic_gradient.py:117: DeprecationWarning: n_iter parameter is deprecated in 0.19 and will be removed in 0.21. Use max_iter and tol instead.\n",
      "  DeprecationWarning)\n",
      "c:\\Users\\osutr_000\\Anaconda3\\lib\\site-packages\\sklearn\\linear_model\\stochastic_gradient.py:117: DeprecationWarning: n_iter parameter is deprecated in 0.19 and will be removed in 0.21. Use max_iter and tol instead.\n",
      "  DeprecationWarning)\n",
      "c:\\Users\\osutr_000\\Anaconda3\\lib\\site-packages\\sklearn\\linear_model\\stochastic_gradient.py:117: DeprecationWarning: n_iter parameter is deprecated in 0.19 and will be removed in 0.21. Use max_iter and tol instead.\n",
      "  DeprecationWarning)\n",
      "c:\\Users\\osutr_000\\Anaconda3\\lib\\site-packages\\sklearn\\linear_model\\stochastic_gradient.py:117: DeprecationWarning: n_iter parameter is deprecated in 0.19 and will be removed in 0.21. Use max_iter and tol instead.\n",
      "  DeprecationWarning)\n",
      "c:\\Users\\osutr_000\\Anaconda3\\lib\\site-packages\\sklearn\\linear_model\\stochastic_gradient.py:117: DeprecationWarning: n_iter parameter is deprecated in 0.19 and will be removed in 0.21. Use max_iter and tol instead.\n",
      "  DeprecationWarning)\n",
      "c:\\Users\\osutr_000\\Anaconda3\\lib\\site-packages\\sklearn\\linear_model\\stochastic_gradient.py:117: DeprecationWarning: n_iter parameter is deprecated in 0.19 and will be removed in 0.21. Use max_iter and tol instead.\n",
      "  DeprecationWarning)\n",
      "c:\\Users\\osutr_000\\Anaconda3\\lib\\site-packages\\sklearn\\linear_model\\stochastic_gradient.py:117: DeprecationWarning: n_iter parameter is deprecated in 0.19 and will be removed in 0.21. Use max_iter and tol instead.\n",
      "  DeprecationWarning)\n",
      "c:\\Users\\osutr_000\\Anaconda3\\lib\\site-packages\\sklearn\\linear_model\\stochastic_gradient.py:117: DeprecationWarning: n_iter parameter is deprecated in 0.19 and will be removed in 0.21. Use max_iter and tol instead.\n",
      "  DeprecationWarning)\n",
      "c:\\Users\\osutr_000\\Anaconda3\\lib\\site-packages\\sklearn\\linear_model\\stochastic_gradient.py:117: DeprecationWarning: n_iter parameter is deprecated in 0.19 and will be removed in 0.21. Use max_iter and tol instead.\n",
      "  DeprecationWarning)\n",
      "c:\\Users\\osutr_000\\Anaconda3\\lib\\site-packages\\sklearn\\linear_model\\stochastic_gradient.py:117: DeprecationWarning: n_iter parameter is deprecated in 0.19 and will be removed in 0.21. Use max_iter and tol instead.\n",
      "  DeprecationWarning)\n",
      "c:\\Users\\osutr_000\\Anaconda3\\lib\\site-packages\\sklearn\\linear_model\\stochastic_gradient.py:117: DeprecationWarning: n_iter parameter is deprecated in 0.19 and will be removed in 0.21. Use max_iter and tol instead.\n",
      "  DeprecationWarning)\n",
      "c:\\Users\\osutr_000\\Anaconda3\\lib\\site-packages\\sklearn\\linear_model\\stochastic_gradient.py:117: DeprecationWarning: n_iter parameter is deprecated in 0.19 and will be removed in 0.21. Use max_iter and tol instead.\n",
      "  DeprecationWarning)\n",
      "c:\\Users\\osutr_000\\Anaconda3\\lib\\site-packages\\sklearn\\linear_model\\stochastic_gradient.py:117: DeprecationWarning: n_iter parameter is deprecated in 0.19 and will be removed in 0.21. Use max_iter and tol instead.\n",
      "  DeprecationWarning)\n",
      "c:\\Users\\osutr_000\\Anaconda3\\lib\\site-packages\\sklearn\\linear_model\\stochastic_gradient.py:117: DeprecationWarning: n_iter parameter is deprecated in 0.19 and will be removed in 0.21. Use max_iter and tol instead.\n",
      "  DeprecationWarning)\n",
      "c:\\Users\\osutr_000\\Anaconda3\\lib\\site-packages\\sklearn\\linear_model\\stochastic_gradient.py:117: DeprecationWarning: n_iter parameter is deprecated in 0.19 and will be removed in 0.21. Use max_iter and tol instead.\n",
      "  DeprecationWarning)\n",
      "c:\\Users\\osutr_000\\Anaconda3\\lib\\site-packages\\sklearn\\linear_model\\stochastic_gradient.py:117: DeprecationWarning: n_iter parameter is deprecated in 0.19 and will be removed in 0.21. Use max_iter and tol instead.\n",
      "  DeprecationWarning)\n",
      "c:\\Users\\osutr_000\\Anaconda3\\lib\\site-packages\\sklearn\\linear_model\\stochastic_gradient.py:117: DeprecationWarning: n_iter parameter is deprecated in 0.19 and will be removed in 0.21. Use max_iter and tol instead.\n",
      "  DeprecationWarning)\n",
      "c:\\Users\\osutr_000\\Anaconda3\\lib\\site-packages\\sklearn\\linear_model\\stochastic_gradient.py:117: DeprecationWarning: n_iter parameter is deprecated in 0.19 and will be removed in 0.21. Use max_iter and tol instead.\n",
      "  DeprecationWarning)\n",
      "c:\\Users\\osutr_000\\Anaconda3\\lib\\site-packages\\sklearn\\linear_model\\stochastic_gradient.py:117: DeprecationWarning: n_iter parameter is deprecated in 0.19 and will be removed in 0.21. Use max_iter and tol instead.\n",
      "  DeprecationWarning)\n",
      "c:\\Users\\osutr_000\\Anaconda3\\lib\\site-packages\\sklearn\\linear_model\\stochastic_gradient.py:117: DeprecationWarning: n_iter parameter is deprecated in 0.19 and will be removed in 0.21. Use max_iter and tol instead.\n",
      "  DeprecationWarning)\n",
      "c:\\Users\\osutr_000\\Anaconda3\\lib\\site-packages\\sklearn\\linear_model\\stochastic_gradient.py:117: DeprecationWarning: n_iter parameter is deprecated in 0.19 and will be removed in 0.21. Use max_iter and tol instead.\n",
      "  DeprecationWarning)\n",
      "c:\\Users\\osutr_000\\Anaconda3\\lib\\site-packages\\sklearn\\linear_model\\stochastic_gradient.py:117: DeprecationWarning: n_iter parameter is deprecated in 0.19 and will be removed in 0.21. Use max_iter and tol instead.\n",
      "  DeprecationWarning)\n",
      "c:\\Users\\osutr_000\\Anaconda3\\lib\\site-packages\\sklearn\\linear_model\\stochastic_gradient.py:117: DeprecationWarning: n_iter parameter is deprecated in 0.19 and will be removed in 0.21. Use max_iter and tol instead.\n",
      "  DeprecationWarning)\n",
      "c:\\Users\\osutr_000\\Anaconda3\\lib\\site-packages\\sklearn\\linear_model\\stochastic_gradient.py:117: DeprecationWarning: n_iter parameter is deprecated in 0.19 and will be removed in 0.21. Use max_iter and tol instead.\n",
      "  DeprecationWarning)\n",
      "c:\\Users\\osutr_000\\Anaconda3\\lib\\site-packages\\sklearn\\linear_model\\stochastic_gradient.py:117: DeprecationWarning: n_iter parameter is deprecated in 0.19 and will be removed in 0.21. Use max_iter and tol instead.\n",
      "  DeprecationWarning)\n",
      "c:\\Users\\osutr_000\\Anaconda3\\lib\\site-packages\\sklearn\\linear_model\\stochastic_gradient.py:117: DeprecationWarning: n_iter parameter is deprecated in 0.19 and will be removed in 0.21. Use max_iter and tol instead.\n",
      "  DeprecationWarning)\n",
      "c:\\Users\\osutr_000\\Anaconda3\\lib\\site-packages\\sklearn\\linear_model\\stochastic_gradient.py:117: DeprecationWarning: n_iter parameter is deprecated in 0.19 and will be removed in 0.21. Use max_iter and tol instead.\n",
      "  DeprecationWarning)\n",
      "c:\\Users\\osutr_000\\Anaconda3\\lib\\site-packages\\sklearn\\linear_model\\stochastic_gradient.py:117: DeprecationWarning: n_iter parameter is deprecated in 0.19 and will be removed in 0.21. Use max_iter and tol instead.\n",
      "  DeprecationWarning)\n"
     ]
    },
    {
     "name": "stderr",
     "output_type": "stream",
     "text": [
      "c:\\Users\\osutr_000\\Anaconda3\\lib\\site-packages\\sklearn\\linear_model\\stochastic_gradient.py:117: DeprecationWarning: n_iter parameter is deprecated in 0.19 and will be removed in 0.21. Use max_iter and tol instead.\n",
      "  DeprecationWarning)\n",
      "c:\\Users\\osutr_000\\Anaconda3\\lib\\site-packages\\sklearn\\linear_model\\stochastic_gradient.py:117: DeprecationWarning: n_iter parameter is deprecated in 0.19 and will be removed in 0.21. Use max_iter and tol instead.\n",
      "  DeprecationWarning)\n",
      "c:\\Users\\osutr_000\\Anaconda3\\lib\\site-packages\\sklearn\\linear_model\\stochastic_gradient.py:117: DeprecationWarning: n_iter parameter is deprecated in 0.19 and will be removed in 0.21. Use max_iter and tol instead.\n",
      "  DeprecationWarning)\n",
      "c:\\Users\\osutr_000\\Anaconda3\\lib\\site-packages\\sklearn\\linear_model\\stochastic_gradient.py:117: DeprecationWarning: n_iter parameter is deprecated in 0.19 and will be removed in 0.21. Use max_iter and tol instead.\n",
      "  DeprecationWarning)\n",
      "c:\\Users\\osutr_000\\Anaconda3\\lib\\site-packages\\sklearn\\linear_model\\stochastic_gradient.py:117: DeprecationWarning: n_iter parameter is deprecated in 0.19 and will be removed in 0.21. Use max_iter and tol instead.\n",
      "  DeprecationWarning)\n",
      "c:\\Users\\osutr_000\\Anaconda3\\lib\\site-packages\\sklearn\\linear_model\\stochastic_gradient.py:117: DeprecationWarning: n_iter parameter is deprecated in 0.19 and will be removed in 0.21. Use max_iter and tol instead.\n",
      "  DeprecationWarning)\n",
      "c:\\Users\\osutr_000\\Anaconda3\\lib\\site-packages\\sklearn\\linear_model\\stochastic_gradient.py:117: DeprecationWarning: n_iter parameter is deprecated in 0.19 and will be removed in 0.21. Use max_iter and tol instead.\n",
      "  DeprecationWarning)\n",
      "c:\\Users\\osutr_000\\Anaconda3\\lib\\site-packages\\sklearn\\linear_model\\stochastic_gradient.py:117: DeprecationWarning: n_iter parameter is deprecated in 0.19 and will be removed in 0.21. Use max_iter and tol instead.\n",
      "  DeprecationWarning)\n",
      "c:\\Users\\osutr_000\\Anaconda3\\lib\\site-packages\\sklearn\\linear_model\\stochastic_gradient.py:117: DeprecationWarning: n_iter parameter is deprecated in 0.19 and will be removed in 0.21. Use max_iter and tol instead.\n",
      "  DeprecationWarning)\n",
      "c:\\Users\\osutr_000\\Anaconda3\\lib\\site-packages\\sklearn\\linear_model\\stochastic_gradient.py:117: DeprecationWarning: n_iter parameter is deprecated in 0.19 and will be removed in 0.21. Use max_iter and tol instead.\n",
      "  DeprecationWarning)\n",
      "c:\\Users\\osutr_000\\Anaconda3\\lib\\site-packages\\sklearn\\linear_model\\stochastic_gradient.py:117: DeprecationWarning: n_iter parameter is deprecated in 0.19 and will be removed in 0.21. Use max_iter and tol instead.\n",
      "  DeprecationWarning)\n",
      "c:\\Users\\osutr_000\\Anaconda3\\lib\\site-packages\\sklearn\\linear_model\\stochastic_gradient.py:117: DeprecationWarning: n_iter parameter is deprecated in 0.19 and will be removed in 0.21. Use max_iter and tol instead.\n",
      "  DeprecationWarning)\n",
      "c:\\Users\\osutr_000\\Anaconda3\\lib\\site-packages\\sklearn\\linear_model\\stochastic_gradient.py:117: DeprecationWarning: n_iter parameter is deprecated in 0.19 and will be removed in 0.21. Use max_iter and tol instead.\n",
      "  DeprecationWarning)\n",
      "c:\\Users\\osutr_000\\Anaconda3\\lib\\site-packages\\sklearn\\linear_model\\stochastic_gradient.py:117: DeprecationWarning: n_iter parameter is deprecated in 0.19 and will be removed in 0.21. Use max_iter and tol instead.\n",
      "  DeprecationWarning)\n",
      "c:\\Users\\osutr_000\\Anaconda3\\lib\\site-packages\\sklearn\\linear_model\\stochastic_gradient.py:117: DeprecationWarning: n_iter parameter is deprecated in 0.19 and will be removed in 0.21. Use max_iter and tol instead.\n",
      "  DeprecationWarning)\n",
      "c:\\Users\\osutr_000\\Anaconda3\\lib\\site-packages\\sklearn\\linear_model\\stochastic_gradient.py:117: DeprecationWarning: n_iter parameter is deprecated in 0.19 and will be removed in 0.21. Use max_iter and tol instead.\n",
      "  DeprecationWarning)\n",
      "c:\\Users\\osutr_000\\Anaconda3\\lib\\site-packages\\sklearn\\linear_model\\stochastic_gradient.py:117: DeprecationWarning: n_iter parameter is deprecated in 0.19 and will be removed in 0.21. Use max_iter and tol instead.\n",
      "  DeprecationWarning)\n",
      "c:\\Users\\osutr_000\\Anaconda3\\lib\\site-packages\\sklearn\\linear_model\\stochastic_gradient.py:117: DeprecationWarning: n_iter parameter is deprecated in 0.19 and will be removed in 0.21. Use max_iter and tol instead.\n",
      "  DeprecationWarning)\n",
      "c:\\Users\\osutr_000\\Anaconda3\\lib\\site-packages\\sklearn\\linear_model\\stochastic_gradient.py:117: DeprecationWarning: n_iter parameter is deprecated in 0.19 and will be removed in 0.21. Use max_iter and tol instead.\n",
      "  DeprecationWarning)\n",
      "c:\\Users\\osutr_000\\Anaconda3\\lib\\site-packages\\sklearn\\linear_model\\stochastic_gradient.py:117: DeprecationWarning: n_iter parameter is deprecated in 0.19 and will be removed in 0.21. Use max_iter and tol instead.\n",
      "  DeprecationWarning)\n",
      "c:\\Users\\osutr_000\\Anaconda3\\lib\\site-packages\\sklearn\\linear_model\\stochastic_gradient.py:117: DeprecationWarning: n_iter parameter is deprecated in 0.19 and will be removed in 0.21. Use max_iter and tol instead.\n",
      "  DeprecationWarning)\n",
      "c:\\Users\\osutr_000\\Anaconda3\\lib\\site-packages\\sklearn\\linear_model\\stochastic_gradient.py:117: DeprecationWarning: n_iter parameter is deprecated in 0.19 and will be removed in 0.21. Use max_iter and tol instead.\n",
      "  DeprecationWarning)\n",
      "c:\\Users\\osutr_000\\Anaconda3\\lib\\site-packages\\sklearn\\linear_model\\stochastic_gradient.py:117: DeprecationWarning: n_iter parameter is deprecated in 0.19 and will be removed in 0.21. Use max_iter and tol instead.\n",
      "  DeprecationWarning)\n",
      "c:\\Users\\osutr_000\\Anaconda3\\lib\\site-packages\\sklearn\\linear_model\\stochastic_gradient.py:117: DeprecationWarning: n_iter parameter is deprecated in 0.19 and will be removed in 0.21. Use max_iter and tol instead.\n",
      "  DeprecationWarning)\n",
      "c:\\Users\\osutr_000\\Anaconda3\\lib\\site-packages\\sklearn\\linear_model\\stochastic_gradient.py:117: DeprecationWarning: n_iter parameter is deprecated in 0.19 and will be removed in 0.21. Use max_iter and tol instead.\n",
      "  DeprecationWarning)\n",
      "c:\\Users\\osutr_000\\Anaconda3\\lib\\site-packages\\sklearn\\linear_model\\stochastic_gradient.py:117: DeprecationWarning: n_iter parameter is deprecated in 0.19 and will be removed in 0.21. Use max_iter and tol instead.\n",
      "  DeprecationWarning)\n",
      "c:\\Users\\osutr_000\\Anaconda3\\lib\\site-packages\\sklearn\\linear_model\\stochastic_gradient.py:117: DeprecationWarning: n_iter parameter is deprecated in 0.19 and will be removed in 0.21. Use max_iter and tol instead.\n",
      "  DeprecationWarning)\n",
      "c:\\Users\\osutr_000\\Anaconda3\\lib\\site-packages\\sklearn\\linear_model\\stochastic_gradient.py:117: DeprecationWarning: n_iter parameter is deprecated in 0.19 and will be removed in 0.21. Use max_iter and tol instead.\n",
      "  DeprecationWarning)\n",
      "c:\\Users\\osutr_000\\Anaconda3\\lib\\site-packages\\sklearn\\linear_model\\stochastic_gradient.py:117: DeprecationWarning: n_iter parameter is deprecated in 0.19 and will be removed in 0.21. Use max_iter and tol instead.\n",
      "  DeprecationWarning)\n",
      "c:\\Users\\osutr_000\\Anaconda3\\lib\\site-packages\\sklearn\\linear_model\\stochastic_gradient.py:117: DeprecationWarning: n_iter parameter is deprecated in 0.19 and will be removed in 0.21. Use max_iter and tol instead.\n",
      "  DeprecationWarning)\n",
      "c:\\Users\\osutr_000\\Anaconda3\\lib\\site-packages\\sklearn\\linear_model\\stochastic_gradient.py:117: DeprecationWarning: n_iter parameter is deprecated in 0.19 and will be removed in 0.21. Use max_iter and tol instead.\n",
      "  DeprecationWarning)\n",
      "c:\\Users\\osutr_000\\Anaconda3\\lib\\site-packages\\sklearn\\linear_model\\stochastic_gradient.py:117: DeprecationWarning: n_iter parameter is deprecated in 0.19 and will be removed in 0.21. Use max_iter and tol instead.\n",
      "  DeprecationWarning)\n",
      "c:\\Users\\osutr_000\\Anaconda3\\lib\\site-packages\\sklearn\\linear_model\\stochastic_gradient.py:117: DeprecationWarning: n_iter parameter is deprecated in 0.19 and will be removed in 0.21. Use max_iter and tol instead.\n",
      "  DeprecationWarning)\n",
      "c:\\Users\\osutr_000\\Anaconda3\\lib\\site-packages\\sklearn\\linear_model\\stochastic_gradient.py:117: DeprecationWarning: n_iter parameter is deprecated in 0.19 and will be removed in 0.21. Use max_iter and tol instead.\n",
      "  DeprecationWarning)\n",
      "c:\\Users\\osutr_000\\Anaconda3\\lib\\site-packages\\sklearn\\linear_model\\stochastic_gradient.py:117: DeprecationWarning: n_iter parameter is deprecated in 0.19 and will be removed in 0.21. Use max_iter and tol instead.\n",
      "  DeprecationWarning)\n"
     ]
    },
    {
     "name": "stderr",
     "output_type": "stream",
     "text": [
      "c:\\Users\\osutr_000\\Anaconda3\\lib\\site-packages\\sklearn\\linear_model\\stochastic_gradient.py:117: DeprecationWarning: n_iter parameter is deprecated in 0.19 and will be removed in 0.21. Use max_iter and tol instead.\n",
      "  DeprecationWarning)\n",
      "c:\\Users\\osutr_000\\Anaconda3\\lib\\site-packages\\sklearn\\linear_model\\stochastic_gradient.py:117: DeprecationWarning: n_iter parameter is deprecated in 0.19 and will be removed in 0.21. Use max_iter and tol instead.\n",
      "  DeprecationWarning)\n",
      "c:\\Users\\osutr_000\\Anaconda3\\lib\\site-packages\\sklearn\\linear_model\\stochastic_gradient.py:117: DeprecationWarning: n_iter parameter is deprecated in 0.19 and will be removed in 0.21. Use max_iter and tol instead.\n",
      "  DeprecationWarning)\n",
      "c:\\Users\\osutr_000\\Anaconda3\\lib\\site-packages\\sklearn\\linear_model\\stochastic_gradient.py:117: DeprecationWarning: n_iter parameter is deprecated in 0.19 and will be removed in 0.21. Use max_iter and tol instead.\n",
      "  DeprecationWarning)\n",
      "c:\\Users\\osutr_000\\Anaconda3\\lib\\site-packages\\sklearn\\linear_model\\stochastic_gradient.py:117: DeprecationWarning: n_iter parameter is deprecated in 0.19 and will be removed in 0.21. Use max_iter and tol instead.\n",
      "  DeprecationWarning)\n",
      "c:\\Users\\osutr_000\\Anaconda3\\lib\\site-packages\\sklearn\\linear_model\\stochastic_gradient.py:117: DeprecationWarning: n_iter parameter is deprecated in 0.19 and will be removed in 0.21. Use max_iter and tol instead.\n",
      "  DeprecationWarning)\n",
      "c:\\Users\\osutr_000\\Anaconda3\\lib\\site-packages\\sklearn\\linear_model\\stochastic_gradient.py:117: DeprecationWarning: n_iter parameter is deprecated in 0.19 and will be removed in 0.21. Use max_iter and tol instead.\n",
      "  DeprecationWarning)\n",
      "c:\\Users\\osutr_000\\Anaconda3\\lib\\site-packages\\sklearn\\linear_model\\stochastic_gradient.py:117: DeprecationWarning: n_iter parameter is deprecated in 0.19 and will be removed in 0.21. Use max_iter and tol instead.\n",
      "  DeprecationWarning)\n",
      "c:\\Users\\osutr_000\\Anaconda3\\lib\\site-packages\\sklearn\\linear_model\\stochastic_gradient.py:117: DeprecationWarning: n_iter parameter is deprecated in 0.19 and will be removed in 0.21. Use max_iter and tol instead.\n",
      "  DeprecationWarning)\n",
      "c:\\Users\\osutr_000\\Anaconda3\\lib\\site-packages\\sklearn\\linear_model\\stochastic_gradient.py:117: DeprecationWarning: n_iter parameter is deprecated in 0.19 and will be removed in 0.21. Use max_iter and tol instead.\n",
      "  DeprecationWarning)\n",
      "c:\\Users\\osutr_000\\Anaconda3\\lib\\site-packages\\sklearn\\linear_model\\stochastic_gradient.py:117: DeprecationWarning: n_iter parameter is deprecated in 0.19 and will be removed in 0.21. Use max_iter and tol instead.\n",
      "  DeprecationWarning)\n",
      "c:\\Users\\osutr_000\\Anaconda3\\lib\\site-packages\\sklearn\\linear_model\\stochastic_gradient.py:117: DeprecationWarning: n_iter parameter is deprecated in 0.19 and will be removed in 0.21. Use max_iter and tol instead.\n",
      "  DeprecationWarning)\n",
      "c:\\Users\\osutr_000\\Anaconda3\\lib\\site-packages\\sklearn\\linear_model\\stochastic_gradient.py:117: DeprecationWarning: n_iter parameter is deprecated in 0.19 and will be removed in 0.21. Use max_iter and tol instead.\n",
      "  DeprecationWarning)\n",
      "c:\\Users\\osutr_000\\Anaconda3\\lib\\site-packages\\sklearn\\linear_model\\stochastic_gradient.py:117: DeprecationWarning: n_iter parameter is deprecated in 0.19 and will be removed in 0.21. Use max_iter and tol instead.\n",
      "  DeprecationWarning)\n",
      "c:\\Users\\osutr_000\\Anaconda3\\lib\\site-packages\\sklearn\\linear_model\\stochastic_gradient.py:117: DeprecationWarning: n_iter parameter is deprecated in 0.19 and will be removed in 0.21. Use max_iter and tol instead.\n",
      "  DeprecationWarning)\n",
      "c:\\Users\\osutr_000\\Anaconda3\\lib\\site-packages\\sklearn\\linear_model\\stochastic_gradient.py:117: DeprecationWarning: n_iter parameter is deprecated in 0.19 and will be removed in 0.21. Use max_iter and tol instead.\n",
      "  DeprecationWarning)\n",
      "c:\\Users\\osutr_000\\Anaconda3\\lib\\site-packages\\sklearn\\linear_model\\stochastic_gradient.py:117: DeprecationWarning: n_iter parameter is deprecated in 0.19 and will be removed in 0.21. Use max_iter and tol instead.\n",
      "  DeprecationWarning)\n",
      "c:\\Users\\osutr_000\\Anaconda3\\lib\\site-packages\\sklearn\\linear_model\\stochastic_gradient.py:117: DeprecationWarning: n_iter parameter is deprecated in 0.19 and will be removed in 0.21. Use max_iter and tol instead.\n",
      "  DeprecationWarning)\n",
      "c:\\Users\\osutr_000\\Anaconda3\\lib\\site-packages\\sklearn\\linear_model\\stochastic_gradient.py:117: DeprecationWarning: n_iter parameter is deprecated in 0.19 and will be removed in 0.21. Use max_iter and tol instead.\n",
      "  DeprecationWarning)\n",
      "c:\\Users\\osutr_000\\Anaconda3\\lib\\site-packages\\sklearn\\linear_model\\stochastic_gradient.py:117: DeprecationWarning: n_iter parameter is deprecated in 0.19 and will be removed in 0.21. Use max_iter and tol instead.\n",
      "  DeprecationWarning)\n",
      "c:\\Users\\osutr_000\\Anaconda3\\lib\\site-packages\\sklearn\\linear_model\\stochastic_gradient.py:117: DeprecationWarning: n_iter parameter is deprecated in 0.19 and will be removed in 0.21. Use max_iter and tol instead.\n",
      "  DeprecationWarning)\n",
      "c:\\Users\\osutr_000\\Anaconda3\\lib\\site-packages\\sklearn\\linear_model\\stochastic_gradient.py:117: DeprecationWarning: n_iter parameter is deprecated in 0.19 and will be removed in 0.21. Use max_iter and tol instead.\n",
      "  DeprecationWarning)\n",
      "c:\\Users\\osutr_000\\Anaconda3\\lib\\site-packages\\sklearn\\linear_model\\stochastic_gradient.py:117: DeprecationWarning: n_iter parameter is deprecated in 0.19 and will be removed in 0.21. Use max_iter and tol instead.\n",
      "  DeprecationWarning)\n",
      "c:\\Users\\osutr_000\\Anaconda3\\lib\\site-packages\\sklearn\\linear_model\\stochastic_gradient.py:117: DeprecationWarning: n_iter parameter is deprecated in 0.19 and will be removed in 0.21. Use max_iter and tol instead.\n",
      "  DeprecationWarning)\n",
      "c:\\Users\\osutr_000\\Anaconda3\\lib\\site-packages\\sklearn\\linear_model\\stochastic_gradient.py:117: DeprecationWarning: n_iter parameter is deprecated in 0.19 and will be removed in 0.21. Use max_iter and tol instead.\n",
      "  DeprecationWarning)\n",
      "c:\\Users\\osutr_000\\Anaconda3\\lib\\site-packages\\sklearn\\linear_model\\stochastic_gradient.py:117: DeprecationWarning: n_iter parameter is deprecated in 0.19 and will be removed in 0.21. Use max_iter and tol instead.\n",
      "  DeprecationWarning)\n",
      "c:\\Users\\osutr_000\\Anaconda3\\lib\\site-packages\\sklearn\\linear_model\\stochastic_gradient.py:117: DeprecationWarning: n_iter parameter is deprecated in 0.19 and will be removed in 0.21. Use max_iter and tol instead.\n",
      "  DeprecationWarning)\n",
      "c:\\Users\\osutr_000\\Anaconda3\\lib\\site-packages\\sklearn\\linear_model\\stochastic_gradient.py:117: DeprecationWarning: n_iter parameter is deprecated in 0.19 and will be removed in 0.21. Use max_iter and tol instead.\n",
      "  DeprecationWarning)\n",
      "c:\\Users\\osutr_000\\Anaconda3\\lib\\site-packages\\sklearn\\linear_model\\stochastic_gradient.py:117: DeprecationWarning: n_iter parameter is deprecated in 0.19 and will be removed in 0.21. Use max_iter and tol instead.\n",
      "  DeprecationWarning)\n",
      "c:\\Users\\osutr_000\\Anaconda3\\lib\\site-packages\\sklearn\\linear_model\\stochastic_gradient.py:117: DeprecationWarning: n_iter parameter is deprecated in 0.19 and will be removed in 0.21. Use max_iter and tol instead.\n",
      "  DeprecationWarning)\n",
      "c:\\Users\\osutr_000\\Anaconda3\\lib\\site-packages\\sklearn\\linear_model\\stochastic_gradient.py:117: DeprecationWarning: n_iter parameter is deprecated in 0.19 and will be removed in 0.21. Use max_iter and tol instead.\n",
      "  DeprecationWarning)\n",
      "c:\\Users\\osutr_000\\Anaconda3\\lib\\site-packages\\sklearn\\linear_model\\stochastic_gradient.py:117: DeprecationWarning: n_iter parameter is deprecated in 0.19 and will be removed in 0.21. Use max_iter and tol instead.\n",
      "  DeprecationWarning)\n",
      "c:\\Users\\osutr_000\\Anaconda3\\lib\\site-packages\\sklearn\\linear_model\\stochastic_gradient.py:117: DeprecationWarning: n_iter parameter is deprecated in 0.19 and will be removed in 0.21. Use max_iter and tol instead.\n",
      "  DeprecationWarning)\n",
      "c:\\Users\\osutr_000\\Anaconda3\\lib\\site-packages\\sklearn\\linear_model\\stochastic_gradient.py:117: DeprecationWarning: n_iter parameter is deprecated in 0.19 and will be removed in 0.21. Use max_iter and tol instead.\n",
      "  DeprecationWarning)\n",
      "c:\\Users\\osutr_000\\Anaconda3\\lib\\site-packages\\sklearn\\linear_model\\stochastic_gradient.py:117: DeprecationWarning: n_iter parameter is deprecated in 0.19 and will be removed in 0.21. Use max_iter and tol instead.\n",
      "  DeprecationWarning)\n"
     ]
    },
    {
     "name": "stderr",
     "output_type": "stream",
     "text": [
      "c:\\Users\\osutr_000\\Anaconda3\\lib\\site-packages\\sklearn\\linear_model\\stochastic_gradient.py:117: DeprecationWarning: n_iter parameter is deprecated in 0.19 and will be removed in 0.21. Use max_iter and tol instead.\n",
      "  DeprecationWarning)\n",
      "c:\\Users\\osutr_000\\Anaconda3\\lib\\site-packages\\sklearn\\linear_model\\stochastic_gradient.py:117: DeprecationWarning: n_iter parameter is deprecated in 0.19 and will be removed in 0.21. Use max_iter and tol instead.\n",
      "  DeprecationWarning)\n",
      "c:\\Users\\osutr_000\\Anaconda3\\lib\\site-packages\\sklearn\\linear_model\\stochastic_gradient.py:117: DeprecationWarning: n_iter parameter is deprecated in 0.19 and will be removed in 0.21. Use max_iter and tol instead.\n",
      "  DeprecationWarning)\n",
      "c:\\Users\\osutr_000\\Anaconda3\\lib\\site-packages\\sklearn\\linear_model\\stochastic_gradient.py:117: DeprecationWarning: n_iter parameter is deprecated in 0.19 and will be removed in 0.21. Use max_iter and tol instead.\n",
      "  DeprecationWarning)\n",
      "c:\\Users\\osutr_000\\Anaconda3\\lib\\site-packages\\sklearn\\linear_model\\stochastic_gradient.py:117: DeprecationWarning: n_iter parameter is deprecated in 0.19 and will be removed in 0.21. Use max_iter and tol instead.\n",
      "  DeprecationWarning)\n",
      "c:\\Users\\osutr_000\\Anaconda3\\lib\\site-packages\\sklearn\\linear_model\\stochastic_gradient.py:117: DeprecationWarning: n_iter parameter is deprecated in 0.19 and will be removed in 0.21. Use max_iter and tol instead.\n",
      "  DeprecationWarning)\n",
      "c:\\Users\\osutr_000\\Anaconda3\\lib\\site-packages\\sklearn\\linear_model\\stochastic_gradient.py:117: DeprecationWarning: n_iter parameter is deprecated in 0.19 and will be removed in 0.21. Use max_iter and tol instead.\n",
      "  DeprecationWarning)\n",
      "c:\\Users\\osutr_000\\Anaconda3\\lib\\site-packages\\sklearn\\linear_model\\stochastic_gradient.py:117: DeprecationWarning: n_iter parameter is deprecated in 0.19 and will be removed in 0.21. Use max_iter and tol instead.\n",
      "  DeprecationWarning)\n",
      "c:\\Users\\osutr_000\\Anaconda3\\lib\\site-packages\\sklearn\\linear_model\\stochastic_gradient.py:117: DeprecationWarning: n_iter parameter is deprecated in 0.19 and will be removed in 0.21. Use max_iter and tol instead.\n",
      "  DeprecationWarning)\n",
      "c:\\Users\\osutr_000\\Anaconda3\\lib\\site-packages\\sklearn\\linear_model\\stochastic_gradient.py:117: DeprecationWarning: n_iter parameter is deprecated in 0.19 and will be removed in 0.21. Use max_iter and tol instead.\n",
      "  DeprecationWarning)\n",
      "c:\\Users\\osutr_000\\Anaconda3\\lib\\site-packages\\sklearn\\linear_model\\stochastic_gradient.py:117: DeprecationWarning: n_iter parameter is deprecated in 0.19 and will be removed in 0.21. Use max_iter and tol instead.\n",
      "  DeprecationWarning)\n",
      "c:\\Users\\osutr_000\\Anaconda3\\lib\\site-packages\\sklearn\\linear_model\\stochastic_gradient.py:117: DeprecationWarning: n_iter parameter is deprecated in 0.19 and will be removed in 0.21. Use max_iter and tol instead.\n",
      "  DeprecationWarning)\n",
      "c:\\Users\\osutr_000\\Anaconda3\\lib\\site-packages\\sklearn\\linear_model\\stochastic_gradient.py:117: DeprecationWarning: n_iter parameter is deprecated in 0.19 and will be removed in 0.21. Use max_iter and tol instead.\n",
      "  DeprecationWarning)\n",
      "c:\\Users\\osutr_000\\Anaconda3\\lib\\site-packages\\sklearn\\linear_model\\stochastic_gradient.py:117: DeprecationWarning: n_iter parameter is deprecated in 0.19 and will be removed in 0.21. Use max_iter and tol instead.\n",
      "  DeprecationWarning)\n",
      "c:\\Users\\osutr_000\\Anaconda3\\lib\\site-packages\\sklearn\\linear_model\\stochastic_gradient.py:117: DeprecationWarning: n_iter parameter is deprecated in 0.19 and will be removed in 0.21. Use max_iter and tol instead.\n",
      "  DeprecationWarning)\n",
      "c:\\Users\\osutr_000\\Anaconda3\\lib\\site-packages\\sklearn\\linear_model\\stochastic_gradient.py:117: DeprecationWarning: n_iter parameter is deprecated in 0.19 and will be removed in 0.21. Use max_iter and tol instead.\n",
      "  DeprecationWarning)\n",
      "c:\\Users\\osutr_000\\Anaconda3\\lib\\site-packages\\sklearn\\linear_model\\stochastic_gradient.py:117: DeprecationWarning: n_iter parameter is deprecated in 0.19 and will be removed in 0.21. Use max_iter and tol instead.\n",
      "  DeprecationWarning)\n",
      "c:\\Users\\osutr_000\\Anaconda3\\lib\\site-packages\\sklearn\\linear_model\\stochastic_gradient.py:117: DeprecationWarning: n_iter parameter is deprecated in 0.19 and will be removed in 0.21. Use max_iter and tol instead.\n",
      "  DeprecationWarning)\n",
      "c:\\Users\\osutr_000\\Anaconda3\\lib\\site-packages\\sklearn\\linear_model\\stochastic_gradient.py:117: DeprecationWarning: n_iter parameter is deprecated in 0.19 and will be removed in 0.21. Use max_iter and tol instead.\n",
      "  DeprecationWarning)\n",
      "c:\\Users\\osutr_000\\Anaconda3\\lib\\site-packages\\sklearn\\linear_model\\stochastic_gradient.py:117: DeprecationWarning: n_iter parameter is deprecated in 0.19 and will be removed in 0.21. Use max_iter and tol instead.\n",
      "  DeprecationWarning)\n",
      "c:\\Users\\osutr_000\\Anaconda3\\lib\\site-packages\\sklearn\\linear_model\\stochastic_gradient.py:117: DeprecationWarning: n_iter parameter is deprecated in 0.19 and will be removed in 0.21. Use max_iter and tol instead.\n",
      "  DeprecationWarning)\n",
      "c:\\Users\\osutr_000\\Anaconda3\\lib\\site-packages\\sklearn\\linear_model\\stochastic_gradient.py:117: DeprecationWarning: n_iter parameter is deprecated in 0.19 and will be removed in 0.21. Use max_iter and tol instead.\n",
      "  DeprecationWarning)\n",
      "c:\\Users\\osutr_000\\Anaconda3\\lib\\site-packages\\sklearn\\linear_model\\stochastic_gradient.py:117: DeprecationWarning: n_iter parameter is deprecated in 0.19 and will be removed in 0.21. Use max_iter and tol instead.\n",
      "  DeprecationWarning)\n",
      "c:\\Users\\osutr_000\\Anaconda3\\lib\\site-packages\\sklearn\\linear_model\\stochastic_gradient.py:117: DeprecationWarning: n_iter parameter is deprecated in 0.19 and will be removed in 0.21. Use max_iter and tol instead.\n",
      "  DeprecationWarning)\n",
      "c:\\Users\\osutr_000\\Anaconda3\\lib\\site-packages\\sklearn\\linear_model\\stochastic_gradient.py:117: DeprecationWarning: n_iter parameter is deprecated in 0.19 and will be removed in 0.21. Use max_iter and tol instead.\n",
      "  DeprecationWarning)\n",
      "c:\\Users\\osutr_000\\Anaconda3\\lib\\site-packages\\sklearn\\linear_model\\stochastic_gradient.py:117: DeprecationWarning: n_iter parameter is deprecated in 0.19 and will be removed in 0.21. Use max_iter and tol instead.\n",
      "  DeprecationWarning)\n",
      "c:\\Users\\osutr_000\\Anaconda3\\lib\\site-packages\\sklearn\\linear_model\\stochastic_gradient.py:117: DeprecationWarning: n_iter parameter is deprecated in 0.19 and will be removed in 0.21. Use max_iter and tol instead.\n",
      "  DeprecationWarning)\n",
      "c:\\Users\\osutr_000\\Anaconda3\\lib\\site-packages\\sklearn\\linear_model\\stochastic_gradient.py:117: DeprecationWarning: n_iter parameter is deprecated in 0.19 and will be removed in 0.21. Use max_iter and tol instead.\n",
      "  DeprecationWarning)\n",
      "c:\\Users\\osutr_000\\Anaconda3\\lib\\site-packages\\sklearn\\linear_model\\stochastic_gradient.py:117: DeprecationWarning: n_iter parameter is deprecated in 0.19 and will be removed in 0.21. Use max_iter and tol instead.\n",
      "  DeprecationWarning)\n",
      "c:\\Users\\osutr_000\\Anaconda3\\lib\\site-packages\\sklearn\\linear_model\\stochastic_gradient.py:117: DeprecationWarning: n_iter parameter is deprecated in 0.19 and will be removed in 0.21. Use max_iter and tol instead.\n",
      "  DeprecationWarning)\n",
      "c:\\Users\\osutr_000\\Anaconda3\\lib\\site-packages\\sklearn\\linear_model\\stochastic_gradient.py:117: DeprecationWarning: n_iter parameter is deprecated in 0.19 and will be removed in 0.21. Use max_iter and tol instead.\n",
      "  DeprecationWarning)\n",
      "c:\\Users\\osutr_000\\Anaconda3\\lib\\site-packages\\sklearn\\linear_model\\stochastic_gradient.py:117: DeprecationWarning: n_iter parameter is deprecated in 0.19 and will be removed in 0.21. Use max_iter and tol instead.\n",
      "  DeprecationWarning)\n",
      "c:\\Users\\osutr_000\\Anaconda3\\lib\\site-packages\\sklearn\\linear_model\\stochastic_gradient.py:117: DeprecationWarning: n_iter parameter is deprecated in 0.19 and will be removed in 0.21. Use max_iter and tol instead.\n",
      "  DeprecationWarning)\n",
      "c:\\Users\\osutr_000\\Anaconda3\\lib\\site-packages\\sklearn\\linear_model\\stochastic_gradient.py:117: DeprecationWarning: n_iter parameter is deprecated in 0.19 and will be removed in 0.21. Use max_iter and tol instead.\n",
      "  DeprecationWarning)\n",
      "c:\\Users\\osutr_000\\Anaconda3\\lib\\site-packages\\sklearn\\linear_model\\stochastic_gradient.py:117: DeprecationWarning: n_iter parameter is deprecated in 0.19 and will be removed in 0.21. Use max_iter and tol instead.\n",
      "  DeprecationWarning)\n"
     ]
    },
    {
     "name": "stderr",
     "output_type": "stream",
     "text": [
      "c:\\Users\\osutr_000\\Anaconda3\\lib\\site-packages\\sklearn\\linear_model\\stochastic_gradient.py:117: DeprecationWarning: n_iter parameter is deprecated in 0.19 and will be removed in 0.21. Use max_iter and tol instead.\n",
      "  DeprecationWarning)\n",
      "c:\\Users\\osutr_000\\Anaconda3\\lib\\site-packages\\sklearn\\linear_model\\stochastic_gradient.py:117: DeprecationWarning: n_iter parameter is deprecated in 0.19 and will be removed in 0.21. Use max_iter and tol instead.\n",
      "  DeprecationWarning)\n",
      "c:\\Users\\osutr_000\\Anaconda3\\lib\\site-packages\\sklearn\\linear_model\\stochastic_gradient.py:117: DeprecationWarning: n_iter parameter is deprecated in 0.19 and will be removed in 0.21. Use max_iter and tol instead.\n",
      "  DeprecationWarning)\n",
      "c:\\Users\\osutr_000\\Anaconda3\\lib\\site-packages\\sklearn\\linear_model\\stochastic_gradient.py:117: DeprecationWarning: n_iter parameter is deprecated in 0.19 and will be removed in 0.21. Use max_iter and tol instead.\n",
      "  DeprecationWarning)\n",
      "c:\\Users\\osutr_000\\Anaconda3\\lib\\site-packages\\sklearn\\linear_model\\stochastic_gradient.py:117: DeprecationWarning: n_iter parameter is deprecated in 0.19 and will be removed in 0.21. Use max_iter and tol instead.\n",
      "  DeprecationWarning)\n",
      "c:\\Users\\osutr_000\\Anaconda3\\lib\\site-packages\\sklearn\\linear_model\\stochastic_gradient.py:117: DeprecationWarning: n_iter parameter is deprecated in 0.19 and will be removed in 0.21. Use max_iter and tol instead.\n",
      "  DeprecationWarning)\n",
      "c:\\Users\\osutr_000\\Anaconda3\\lib\\site-packages\\sklearn\\linear_model\\stochastic_gradient.py:117: DeprecationWarning: n_iter parameter is deprecated in 0.19 and will be removed in 0.21. Use max_iter and tol instead.\n",
      "  DeprecationWarning)\n"
     ]
    },
    {
     "name": "stdout",
     "output_type": "stream",
     "text": [
      "\n",
      "Grid scores on development set:\n",
      "\n",
      "0.993 (+/-0.014) for {'clf__alpha': 1e-05, 'clf__n_iter': 10, 'tfidf__norm': 'l1', 'tfidf__use_idf': True, 'vect__max_df': 0.5}\n",
      "0.996 (+/-0.005) for {'clf__alpha': 1e-05, 'clf__n_iter': 10, 'tfidf__norm': 'l1', 'tfidf__use_idf': True, 'vect__max_df': 0.75}\n",
      "0.993 (+/-0.005) for {'clf__alpha': 1e-05, 'clf__n_iter': 10, 'tfidf__norm': 'l1', 'tfidf__use_idf': True, 'vect__max_df': 1.0}\n",
      "0.995 (+/-0.015) for {'clf__alpha': 1e-05, 'clf__n_iter': 10, 'tfidf__norm': 'l1', 'tfidf__use_idf': False, 'vect__max_df': 0.5}\n",
      "0.996 (+/-0.005) for {'clf__alpha': 1e-05, 'clf__n_iter': 10, 'tfidf__norm': 'l1', 'tfidf__use_idf': False, 'vect__max_df': 0.75}\n",
      "0.996 (+/-0.005) for {'clf__alpha': 1e-05, 'clf__n_iter': 10, 'tfidf__norm': 'l1', 'tfidf__use_idf': False, 'vect__max_df': 1.0}\n",
      "0.998 (+/-0.005) for {'clf__alpha': 1e-05, 'clf__n_iter': 10, 'tfidf__norm': 'l2', 'tfidf__use_idf': True, 'vect__max_df': 0.5}\n",
      "0.998 (+/-0.005) for {'clf__alpha': 1e-05, 'clf__n_iter': 10, 'tfidf__norm': 'l2', 'tfidf__use_idf': True, 'vect__max_df': 0.75}\n",
      "0.996 (+/-0.005) for {'clf__alpha': 1e-05, 'clf__n_iter': 10, 'tfidf__norm': 'l2', 'tfidf__use_idf': True, 'vect__max_df': 1.0}\n",
      "1.000 (+/-0.000) for {'clf__alpha': 1e-05, 'clf__n_iter': 10, 'tfidf__norm': 'l2', 'tfidf__use_idf': False, 'vect__max_df': 0.5}\n",
      "0.996 (+/-0.005) for {'clf__alpha': 1e-05, 'clf__n_iter': 10, 'tfidf__norm': 'l2', 'tfidf__use_idf': False, 'vect__max_df': 0.75}\n",
      "1.000 (+/-0.000) for {'clf__alpha': 1e-05, 'clf__n_iter': 10, 'tfidf__norm': 'l2', 'tfidf__use_idf': False, 'vect__max_df': 1.0}\n",
      "0.995 (+/-0.009) for {'clf__alpha': 1e-05, 'clf__n_iter': 50, 'tfidf__norm': 'l1', 'tfidf__use_idf': True, 'vect__max_df': 0.5}\n",
      "0.996 (+/-0.005) for {'clf__alpha': 1e-05, 'clf__n_iter': 50, 'tfidf__norm': 'l1', 'tfidf__use_idf': True, 'vect__max_df': 0.75}\n",
      "0.995 (+/-0.000) for {'clf__alpha': 1e-05, 'clf__n_iter': 50, 'tfidf__norm': 'l1', 'tfidf__use_idf': True, 'vect__max_df': 1.0}\n",
      "0.995 (+/-0.015) for {'clf__alpha': 1e-05, 'clf__n_iter': 50, 'tfidf__norm': 'l1', 'tfidf__use_idf': False, 'vect__max_df': 0.5}\n",
      "0.996 (+/-0.005) for {'clf__alpha': 1e-05, 'clf__n_iter': 50, 'tfidf__norm': 'l1', 'tfidf__use_idf': False, 'vect__max_df': 0.75}\n",
      "0.995 (+/-0.000) for {'clf__alpha': 1e-05, 'clf__n_iter': 50, 'tfidf__norm': 'l1', 'tfidf__use_idf': False, 'vect__max_df': 1.0}\n",
      "0.998 (+/-0.005) for {'clf__alpha': 1e-05, 'clf__n_iter': 50, 'tfidf__norm': 'l2', 'tfidf__use_idf': True, 'vect__max_df': 0.5}\n",
      "0.998 (+/-0.005) for {'clf__alpha': 1e-05, 'clf__n_iter': 50, 'tfidf__norm': 'l2', 'tfidf__use_idf': True, 'vect__max_df': 0.75}\n",
      "0.998 (+/-0.005) for {'clf__alpha': 1e-05, 'clf__n_iter': 50, 'tfidf__norm': 'l2', 'tfidf__use_idf': True, 'vect__max_df': 1.0}\n",
      "0.998 (+/-0.005) for {'clf__alpha': 1e-05, 'clf__n_iter': 50, 'tfidf__norm': 'l2', 'tfidf__use_idf': False, 'vect__max_df': 0.5}\n",
      "1.000 (+/-0.000) for {'clf__alpha': 1e-05, 'clf__n_iter': 50, 'tfidf__norm': 'l2', 'tfidf__use_idf': False, 'vect__max_df': 0.75}\n",
      "0.998 (+/-0.005) for {'clf__alpha': 1e-05, 'clf__n_iter': 50, 'tfidf__norm': 'l2', 'tfidf__use_idf': False, 'vect__max_df': 1.0}\n",
      "0.993 (+/-0.005) for {'clf__alpha': 1e-05, 'clf__n_iter': 80, 'tfidf__norm': 'l1', 'tfidf__use_idf': True, 'vect__max_df': 0.5}\n",
      "0.995 (+/-0.000) for {'clf__alpha': 1e-05, 'clf__n_iter': 80, 'tfidf__norm': 'l1', 'tfidf__use_idf': True, 'vect__max_df': 0.75}\n",
      "0.995 (+/-0.000) for {'clf__alpha': 1e-05, 'clf__n_iter': 80, 'tfidf__norm': 'l1', 'tfidf__use_idf': True, 'vect__max_df': 1.0}\n",
      "0.995 (+/-0.009) for {'clf__alpha': 1e-05, 'clf__n_iter': 80, 'tfidf__norm': 'l1', 'tfidf__use_idf': False, 'vect__max_df': 0.5}\n",
      "0.996 (+/-0.005) for {'clf__alpha': 1e-05, 'clf__n_iter': 80, 'tfidf__norm': 'l1', 'tfidf__use_idf': False, 'vect__max_df': 0.75}\n",
      "0.996 (+/-0.005) for {'clf__alpha': 1e-05, 'clf__n_iter': 80, 'tfidf__norm': 'l1', 'tfidf__use_idf': False, 'vect__max_df': 1.0}\n",
      "0.996 (+/-0.005) for {'clf__alpha': 1e-05, 'clf__n_iter': 80, 'tfidf__norm': 'l2', 'tfidf__use_idf': True, 'vect__max_df': 0.5}\n",
      "0.996 (+/-0.005) for {'clf__alpha': 1e-05, 'clf__n_iter': 80, 'tfidf__norm': 'l2', 'tfidf__use_idf': True, 'vect__max_df': 0.75}\n",
      "0.998 (+/-0.005) for {'clf__alpha': 1e-05, 'clf__n_iter': 80, 'tfidf__norm': 'l2', 'tfidf__use_idf': True, 'vect__max_df': 1.0}\n",
      "0.998 (+/-0.005) for {'clf__alpha': 1e-05, 'clf__n_iter': 80, 'tfidf__norm': 'l2', 'tfidf__use_idf': False, 'vect__max_df': 0.5}\n",
      "0.998 (+/-0.005) for {'clf__alpha': 1e-05, 'clf__n_iter': 80, 'tfidf__norm': 'l2', 'tfidf__use_idf': False, 'vect__max_df': 0.75}\n",
      "1.000 (+/-0.000) for {'clf__alpha': 1e-05, 'clf__n_iter': 80, 'tfidf__norm': 'l2', 'tfidf__use_idf': False, 'vect__max_df': 1.0}\n",
      "0.993 (+/-0.005) for {'clf__alpha': 1e-06, 'clf__n_iter': 10, 'tfidf__norm': 'l1', 'tfidf__use_idf': True, 'vect__max_df': 0.5}\n",
      "0.995 (+/-0.000) for {'clf__alpha': 1e-06, 'clf__n_iter': 10, 'tfidf__norm': 'l1', 'tfidf__use_idf': True, 'vect__max_df': 0.75}\n",
      "0.995 (+/-0.000) for {'clf__alpha': 1e-06, 'clf__n_iter': 10, 'tfidf__norm': 'l1', 'tfidf__use_idf': True, 'vect__max_df': 1.0}\n",
      "0.996 (+/-0.010) for {'clf__alpha': 1e-06, 'clf__n_iter': 10, 'tfidf__norm': 'l1', 'tfidf__use_idf': False, 'vect__max_df': 0.5}\n",
      "0.998 (+/-0.005) for {'clf__alpha': 1e-06, 'clf__n_iter': 10, 'tfidf__norm': 'l1', 'tfidf__use_idf': False, 'vect__max_df': 0.75}\n",
      "0.996 (+/-0.005) for {'clf__alpha': 1e-06, 'clf__n_iter': 10, 'tfidf__norm': 'l1', 'tfidf__use_idf': False, 'vect__max_df': 1.0}\n",
      "0.996 (+/-0.005) for {'clf__alpha': 1e-06, 'clf__n_iter': 10, 'tfidf__norm': 'l2', 'tfidf__use_idf': True, 'vect__max_df': 0.5}\n",
      "0.996 (+/-0.010) for {'clf__alpha': 1e-06, 'clf__n_iter': 10, 'tfidf__norm': 'l2', 'tfidf__use_idf': True, 'vect__max_df': 0.75}\n",
      "0.996 (+/-0.005) for {'clf__alpha': 1e-06, 'clf__n_iter': 10, 'tfidf__norm': 'l2', 'tfidf__use_idf': True, 'vect__max_df': 1.0}\n",
      "0.998 (+/-0.005) for {'clf__alpha': 1e-06, 'clf__n_iter': 10, 'tfidf__norm': 'l2', 'tfidf__use_idf': False, 'vect__max_df': 0.5}\n",
      "0.996 (+/-0.005) for {'clf__alpha': 1e-06, 'clf__n_iter': 10, 'tfidf__norm': 'l2', 'tfidf__use_idf': False, 'vect__max_df': 0.75}\n",
      "0.996 (+/-0.005) for {'clf__alpha': 1e-06, 'clf__n_iter': 10, 'tfidf__norm': 'l2', 'tfidf__use_idf': False, 'vect__max_df': 1.0}\n",
      "0.993 (+/-0.005) for {'clf__alpha': 1e-06, 'clf__n_iter': 50, 'tfidf__norm': 'l1', 'tfidf__use_idf': True, 'vect__max_df': 0.5}\n",
      "0.996 (+/-0.005) for {'clf__alpha': 1e-06, 'clf__n_iter': 50, 'tfidf__norm': 'l1', 'tfidf__use_idf': True, 'vect__max_df': 0.75}\n",
      "0.995 (+/-0.000) for {'clf__alpha': 1e-06, 'clf__n_iter': 50, 'tfidf__norm': 'l1', 'tfidf__use_idf': True, 'vect__max_df': 1.0}\n",
      "0.998 (+/-0.005) for {'clf__alpha': 1e-06, 'clf__n_iter': 50, 'tfidf__norm': 'l1', 'tfidf__use_idf': False, 'vect__max_df': 0.5}\n",
      "0.996 (+/-0.005) for {'clf__alpha': 1e-06, 'clf__n_iter': 50, 'tfidf__norm': 'l1', 'tfidf__use_idf': False, 'vect__max_df': 0.75}\n",
      "0.996 (+/-0.005) for {'clf__alpha': 1e-06, 'clf__n_iter': 50, 'tfidf__norm': 'l1', 'tfidf__use_idf': False, 'vect__max_df': 1.0}\n",
      "0.996 (+/-0.010) for {'clf__alpha': 1e-06, 'clf__n_iter': 50, 'tfidf__norm': 'l2', 'tfidf__use_idf': True, 'vect__max_df': 0.5}\n",
      "0.996 (+/-0.005) for {'clf__alpha': 1e-06, 'clf__n_iter': 50, 'tfidf__norm': 'l2', 'tfidf__use_idf': True, 'vect__max_df': 0.75}\n",
      "1.000 (+/-0.000) for {'clf__alpha': 1e-06, 'clf__n_iter': 50, 'tfidf__norm': 'l2', 'tfidf__use_idf': True, 'vect__max_df': 1.0}\n",
      "0.996 (+/-0.010) for {'clf__alpha': 1e-06, 'clf__n_iter': 50, 'tfidf__norm': 'l2', 'tfidf__use_idf': False, 'vect__max_df': 0.5}\n",
      "0.998 (+/-0.005) for {'clf__alpha': 1e-06, 'clf__n_iter': 50, 'tfidf__norm': 'l2', 'tfidf__use_idf': False, 'vect__max_df': 0.75}\n",
      "1.000 (+/-0.000) for {'clf__alpha': 1e-06, 'clf__n_iter': 50, 'tfidf__norm': 'l2', 'tfidf__use_idf': False, 'vect__max_df': 1.0}\n",
      "0.993 (+/-0.005) for {'clf__alpha': 1e-06, 'clf__n_iter': 80, 'tfidf__norm': 'l1', 'tfidf__use_idf': True, 'vect__max_df': 0.5}\n",
      "0.995 (+/-0.000) for {'clf__alpha': 1e-06, 'clf__n_iter': 80, 'tfidf__norm': 'l1', 'tfidf__use_idf': True, 'vect__max_df': 0.75}\n",
      "0.996 (+/-0.005) for {'clf__alpha': 1e-06, 'clf__n_iter': 80, 'tfidf__norm': 'l1', 'tfidf__use_idf': True, 'vect__max_df': 1.0}\n"
     ]
    },
    {
     "name": "stdout",
     "output_type": "stream",
     "text": [
      "0.996 (+/-0.010) for {'clf__alpha': 1e-06, 'clf__n_iter': 80, 'tfidf__norm': 'l1', 'tfidf__use_idf': False, 'vect__max_df': 0.5}\n",
      "0.995 (+/-0.000) for {'clf__alpha': 1e-06, 'clf__n_iter': 80, 'tfidf__norm': 'l1', 'tfidf__use_idf': False, 'vect__max_df': 0.75}\n",
      "0.998 (+/-0.005) for {'clf__alpha': 1e-06, 'clf__n_iter': 80, 'tfidf__norm': 'l1', 'tfidf__use_idf': False, 'vect__max_df': 1.0}\n",
      "0.996 (+/-0.010) for {'clf__alpha': 1e-06, 'clf__n_iter': 80, 'tfidf__norm': 'l2', 'tfidf__use_idf': True, 'vect__max_df': 0.5}\n",
      "0.998 (+/-0.005) for {'clf__alpha': 1e-06, 'clf__n_iter': 80, 'tfidf__norm': 'l2', 'tfidf__use_idf': True, 'vect__max_df': 0.75}\n",
      "0.998 (+/-0.005) for {'clf__alpha': 1e-06, 'clf__n_iter': 80, 'tfidf__norm': 'l2', 'tfidf__use_idf': True, 'vect__max_df': 1.0}\n",
      "0.996 (+/-0.010) for {'clf__alpha': 1e-06, 'clf__n_iter': 80, 'tfidf__norm': 'l2', 'tfidf__use_idf': False, 'vect__max_df': 0.5}\n",
      "0.998 (+/-0.005) for {'clf__alpha': 1e-06, 'clf__n_iter': 80, 'tfidf__norm': 'l2', 'tfidf__use_idf': False, 'vect__max_df': 0.75}\n",
      "0.998 (+/-0.005) for {'clf__alpha': 1e-06, 'clf__n_iter': 80, 'tfidf__norm': 'l2', 'tfidf__use_idf': False, 'vect__max_df': 1.0}\n"
     ]
    }
   ],
   "source": [
    "print(\"# Tuning hyper-parameters...\")\n",
    "print()\n",
    "\n",
    "clf1 = GridSearchCV(pipeline, parameters)\n",
    "clf1.fit(X = X_train, y = y_train)\n",
    "\n",
    "print()\n",
    "print(\"Grid scores on development set:\")\n",
    "print()\n",
    "means = clf1.cv_results_['mean_test_score']\n",
    "stds = clf1.cv_results_['std_test_score']\n",
    "for mean, std, params in zip(means, stds, clf1.cv_results_['params']):\n",
    "    print(\"%0.3f (+/-%0.03f) for %r\"\n",
    "          % (mean, std * 2, params))"
   ]
  },
  {
   "cell_type": "code",
   "execution_count": 16,
   "metadata": {},
   "outputs": [
    {
     "name": "stdout",
     "output_type": "stream",
     "text": [
      "Best parameters set found on development set:\n",
      "{'clf__alpha': 1e-05, 'clf__n_iter': 10, 'tfidf__norm': 'l2', 'tfidf__use_idf': False, 'vect__max_df': 0.5}\n",
      "\n",
      "Best score on development set:\n",
      "1.0\n"
     ]
    }
   ],
   "source": [
    "print(\"Best parameters set found on development set:\")\n",
    "print(clf1.best_params_)\n",
    "print()\n",
    "print(\"Best score on development set:\")\n",
    "print(clf1.best_score_)"
   ]
  },
  {
   "cell_type": "code",
   "execution_count": 17,
   "metadata": {},
   "outputs": [
    {
     "name": "stdout",
     "output_type": "stream",
     "text": [
      "Detailed classification report on test set:\n",
      "\n",
      "             precision    recall  f1-score   support\n",
      "\n",
      " accounting       1.00      0.99      0.99       160\n",
      "      legal       0.96      1.00      0.98       106\n",
      "        ops       1.00      0.99      1.00       291\n",
      "\n",
      "avg / total       0.99      0.99      0.99       557\n",
      "\n",
      "\n",
      "Detailed classification report on training set\n",
      "\n",
      "             precision    recall  f1-score   support\n",
      "\n",
      " accounting       1.00      1.00      1.00       164\n",
      "      legal       1.00      1.00      1.00       103\n",
      "        ops       1.00      1.00      1.00       289\n",
      "\n",
      "avg / total       1.00      1.00      1.00       556\n",
      "\n",
      "\n"
     ]
    }
   ],
   "source": [
    "print(\"Detailed classification report on test set:\")\n",
    "print()\n",
    "y_true, y_pred = y_test, clf1.predict(X_test)\n",
    "print(classification_report(y_true, y_pred))\n",
    "print()\n",
    "\n",
    "print(\"Detailed classification report on training set\")\n",
    "print()\n",
    "y_true, y_pred = y_train, clf1.predict(X_train)\n",
    "print(classification_report(y_true, y_pred))\n",
    "print()"
   ]
  },
  {
   "cell_type": "code",
   "execution_count": null,
   "metadata": {},
   "outputs": [],
   "source": []
  },
  {
   "cell_type": "code",
   "execution_count": null,
   "metadata": {},
   "outputs": [],
   "source": []
  },
  {
   "cell_type": "markdown",
   "metadata": {
    "collapsed": true
   },
   "source": [
    "# Analysis of Model 1\n",
    "As seen in the detailed classification report, both the precision and recall of the model are near 100%,\n",
    "and therefore the harmonic mean (f-score) is also 100%.This indicates a near perfect model fit to the dataset. \n",
    "\n",
    "Precision is the number of true positives over the number of true positives plus false positives. \n",
    "Recall is the number of true positives over the number of true positives plus false negatives"
   ]
  },
  {
   "cell_type": "code",
   "execution_count": null,
   "metadata": {
    "collapsed": true
   },
   "outputs": [],
   "source": []
  },
  {
   "cell_type": "markdown",
   "metadata": {},
   "source": [
    "## Model 2\n",
    "In Model 2 a different vectorizer, HashingVectorizer, is used in the pipeline in order to evaluate CountVectorizer. The HashingVectorizer will convert the text documents to a matrix of token occurrences by using a hashing trick to find the token string name to feature integer index mapping."
   ]
  },
  {
   "cell_type": "code",
   "execution_count": 18,
   "metadata": {
    "collapsed": true
   },
   "outputs": [],
   "source": [
    "# Define a pipeline with a text feature extractor and classifier:\n",
    "\n",
    "pipeline = Pipeline([\n",
    "    ('vect', HashingVectorizer()),\n",
    "    ('clf', SGDClassifier()),\n",
    "])\n",
    "\n",
    "# hyper-parameters\n",
    "parameters = {\n",
    "    'vect__norm': ('l1','l2',None),\n",
    "    'vect__alternate_sign': [0,1],\n",
    "    'clf__max_iter': (5,),\n",
    "    #'clf__alpha': (0.00001, 0.000001),\n",
    "    'clf__penalty': ('l2', 'elasticnet'),\n",
    "    #'clf__n_iter': (10, 50, 80),\n",
    "}\n"
   ]
  },
  {
   "cell_type": "code",
   "execution_count": 19,
   "metadata": {},
   "outputs": [
    {
     "name": "stdout",
     "output_type": "stream",
     "text": [
      "# Tuning hyper-parameters...\n",
      "\n",
      "\n",
      "Grid scores on development set:\n",
      "\n",
      "0.991 (+/-0.010) for {'clf__max_iter': 5, 'clf__penalty': 'l2', 'vect__alternate_sign': 0, 'vect__norm': 'l1'}\n",
      "0.998 (+/-0.005) for {'clf__max_iter': 5, 'clf__penalty': 'l2', 'vect__alternate_sign': 0, 'vect__norm': 'l2'}\n",
      "0.998 (+/-0.005) for {'clf__max_iter': 5, 'clf__penalty': 'l2', 'vect__alternate_sign': 0, 'vect__norm': None}\n",
      "0.995 (+/-0.000) for {'clf__max_iter': 5, 'clf__penalty': 'l2', 'vect__alternate_sign': 1, 'vect__norm': 'l1'}\n",
      "0.998 (+/-0.005) for {'clf__max_iter': 5, 'clf__penalty': 'l2', 'vect__alternate_sign': 1, 'vect__norm': 'l2'}\n",
      "0.993 (+/-0.010) for {'clf__max_iter': 5, 'clf__penalty': 'l2', 'vect__alternate_sign': 1, 'vect__norm': None}\n",
      "0.991 (+/-0.005) for {'clf__max_iter': 5, 'clf__penalty': 'elasticnet', 'vect__alternate_sign': 0, 'vect__norm': 'l1'}\n",
      "0.998 (+/-0.005) for {'clf__max_iter': 5, 'clf__penalty': 'elasticnet', 'vect__alternate_sign': 0, 'vect__norm': 'l2'}\n",
      "0.998 (+/-0.005) for {'clf__max_iter': 5, 'clf__penalty': 'elasticnet', 'vect__alternate_sign': 0, 'vect__norm': None}\n",
      "0.989 (+/-0.009) for {'clf__max_iter': 5, 'clf__penalty': 'elasticnet', 'vect__alternate_sign': 1, 'vect__norm': 'l1'}\n",
      "0.998 (+/-0.005) for {'clf__max_iter': 5, 'clf__penalty': 'elasticnet', 'vect__alternate_sign': 1, 'vect__norm': 'l2'}\n",
      "0.995 (+/-0.009) for {'clf__max_iter': 5, 'clf__penalty': 'elasticnet', 'vect__alternate_sign': 1, 'vect__norm': None}\n"
     ]
    }
   ],
   "source": [
    "print(\"# Tuning hyper-parameters...\")\n",
    "print()\n",
    "\n",
    "clf2 = GridSearchCV(pipeline, parameters)\n",
    "clf2.fit(X_train, y_train)\n",
    "\n",
    "print()\n",
    "print(\"Grid scores on development set:\")\n",
    "print()\n",
    "means = clf2.cv_results_['mean_test_score']\n",
    "stds = clf2.cv_results_['std_test_score']\n",
    "for mean, std, params in zip(means, stds, clf2.cv_results_['params']):\n",
    "    print(\"%0.3f (+/-%0.03f) for %r\"\n",
    "          % (mean, std * 2, params))"
   ]
  },
  {
   "cell_type": "code",
   "execution_count": 20,
   "metadata": {},
   "outputs": [
    {
     "name": "stdout",
     "output_type": "stream",
     "text": [
      "Best parameters set found on development set:\n",
      "{'clf__max_iter': 5, 'clf__penalty': 'l2', 'vect__alternate_sign': 0, 'vect__norm': 'l2'}\n",
      "\n",
      "Best score on development set:\n",
      "0.998201438849\n"
     ]
    }
   ],
   "source": [
    "print(\"Best parameters set found on development set:\")\n",
    "print(clf2.best_params_)\n",
    "print()\n",
    "print(\"Best score on development set:\")\n",
    "print(clf2.best_score_)"
   ]
  },
  {
   "cell_type": "code",
   "execution_count": 21,
   "metadata": {},
   "outputs": [
    {
     "name": "stdout",
     "output_type": "stream",
     "text": [
      "Detailed classification report on test set:\n",
      "\n",
      "             precision    recall  f1-score   support\n",
      "\n",
      " accounting       1.00      0.99      1.00       160\n",
      "      legal       0.98      1.00      0.99       106\n",
      "        ops       1.00      1.00      1.00       291\n",
      "\n",
      "avg / total       1.00      1.00      1.00       557\n",
      "\n",
      "\n",
      "Detailed classification report on training set\n",
      "\n",
      "             precision    recall  f1-score   support\n",
      "\n",
      " accounting       1.00      1.00      1.00       164\n",
      "      legal       1.00      1.00      1.00       103\n",
      "        ops       1.00      1.00      1.00       289\n",
      "\n",
      "avg / total       1.00      1.00      1.00       556\n",
      "\n",
      "\n"
     ]
    }
   ],
   "source": [
    "print(\"Detailed classification report on test set:\")\n",
    "print()\n",
    "y_true, y_pred = y_test, clf2.predict(X_test)\n",
    "print(classification_report(y_true, y_pred))\n",
    "print()\n",
    "\n",
    "print(\"Detailed classification report on training set\")\n",
    "print()\n",
    "y_true, y_pred = y_train, clf2.predict(X_train)\n",
    "print(classification_report(y_true, y_pred))\n",
    "print()"
   ]
  },
  {
   "cell_type": "markdown",
   "metadata": {},
   "source": [
    "# Results from Model 2\n",
    "Model 2 score results are either identical or slightly lower than Model 1. It is difficult to see which vectorizer is more efficient, and further analysis will be needed to in order to confidently say which vectorizer is better. \n",
    "\n",
    "One benfit of using the HashingVectorizer is that it scales very well since it does not have memory. However, there is no way to compute the inverse transform (from feature indices to string feature names) which can be a problem when trying to introspect which features are most important to a model. \n"
   ]
  },
  {
   "cell_type": "code",
   "execution_count": null,
   "metadata": {
    "collapsed": true
   },
   "outputs": [],
   "source": []
  },
  {
   "cell_type": "markdown",
   "metadata": {},
   "source": [
    "# Model 3\n",
    "In Model 3 I will apply a new classifier, Support Vector Machine (SVM). SVM is one of the oldest AI algorithms, and is the basis for neural networks. SVC does not care about the 'perfect' point, instead it wants the 'ugliest' point that still classifies. You can control the kernel type, gamma variable (y), and slack variable (c) \n",
    "\n",
    "In addition, I will resume using the CountVectorizer and TfidfTransformer, which are combined in TfidfVectorizer. Since it will help with feature analysis in the sections to come. \n"
   ]
  },
  {
   "cell_type": "code",
   "execution_count": 22,
   "metadata": {
    "collapsed": true
   },
   "outputs": [],
   "source": [
    "pipe = Pipeline([\n",
    "    ('tfidf', TfidfVectorizer()),\n",
    "    ('clf', SVC()),\n",
    "])\n",
    "\n",
    "param_grid = dict(tfidf__sublinear_tf=[0,1],\n",
    "                  tfidf__smooth_idf=[0,1],\n",
    "                  tfidf__norm =['l1','l2',None],\n",
    "                  clf__kernel=['linear','rbf'],\n",
    "                  clf__C=[1, 10, 100]\n",
    "                 )"
   ]
  },
  {
   "cell_type": "code",
   "execution_count": 23,
   "metadata": {},
   "outputs": [
    {
     "name": "stdout",
     "output_type": "stream",
     "text": [
      "# Tuning hyper-parameters...\n",
      "\n",
      "\n",
      "Grid scores on development set:\n",
      "\n",
      "0.520 (+/-0.003) for {'clf__C': 1, 'clf__kernel': 'linear', 'tfidf__norm': 'l1', 'tfidf__smooth_idf': 0, 'tfidf__sublinear_tf': 0}\n",
      "0.520 (+/-0.003) for {'clf__C': 1, 'clf__kernel': 'linear', 'tfidf__norm': 'l1', 'tfidf__smooth_idf': 0, 'tfidf__sublinear_tf': 1}\n",
      "0.520 (+/-0.003) for {'clf__C': 1, 'clf__kernel': 'linear', 'tfidf__norm': 'l1', 'tfidf__smooth_idf': 1, 'tfidf__sublinear_tf': 0}\n",
      "0.520 (+/-0.003) for {'clf__C': 1, 'clf__kernel': 'linear', 'tfidf__norm': 'l1', 'tfidf__smooth_idf': 1, 'tfidf__sublinear_tf': 1}\n",
      "0.989 (+/-0.023) for {'clf__C': 1, 'clf__kernel': 'linear', 'tfidf__norm': 'l2', 'tfidf__smooth_idf': 0, 'tfidf__sublinear_tf': 0}\n",
      "0.995 (+/-0.015) for {'clf__C': 1, 'clf__kernel': 'linear', 'tfidf__norm': 'l2', 'tfidf__smooth_idf': 0, 'tfidf__sublinear_tf': 1}\n",
      "0.989 (+/-0.015) for {'clf__C': 1, 'clf__kernel': 'linear', 'tfidf__norm': 'l2', 'tfidf__smooth_idf': 1, 'tfidf__sublinear_tf': 0}\n",
      "0.995 (+/-0.015) for {'clf__C': 1, 'clf__kernel': 'linear', 'tfidf__norm': 'l2', 'tfidf__smooth_idf': 1, 'tfidf__sublinear_tf': 1}\n",
      "0.964 (+/-0.019) for {'clf__C': 1, 'clf__kernel': 'linear', 'tfidf__norm': None, 'tfidf__smooth_idf': 0, 'tfidf__sublinear_tf': 0}\n",
      "0.966 (+/-0.031) for {'clf__C': 1, 'clf__kernel': 'linear', 'tfidf__norm': None, 'tfidf__smooth_idf': 0, 'tfidf__sublinear_tf': 1}\n",
      "0.968 (+/-0.018) for {'clf__C': 1, 'clf__kernel': 'linear', 'tfidf__norm': None, 'tfidf__smooth_idf': 1, 'tfidf__sublinear_tf': 0}\n",
      "0.968 (+/-0.027) for {'clf__C': 1, 'clf__kernel': 'linear', 'tfidf__norm': None, 'tfidf__smooth_idf': 1, 'tfidf__sublinear_tf': 1}\n",
      "0.520 (+/-0.003) for {'clf__C': 1, 'clf__kernel': 'rbf', 'tfidf__norm': 'l1', 'tfidf__smooth_idf': 0, 'tfidf__sublinear_tf': 0}\n",
      "0.520 (+/-0.003) for {'clf__C': 1, 'clf__kernel': 'rbf', 'tfidf__norm': 'l1', 'tfidf__smooth_idf': 0, 'tfidf__sublinear_tf': 1}\n",
      "0.520 (+/-0.003) for {'clf__C': 1, 'clf__kernel': 'rbf', 'tfidf__norm': 'l1', 'tfidf__smooth_idf': 1, 'tfidf__sublinear_tf': 0}\n",
      "0.520 (+/-0.003) for {'clf__C': 1, 'clf__kernel': 'rbf', 'tfidf__norm': 'l1', 'tfidf__smooth_idf': 1, 'tfidf__sublinear_tf': 1}\n",
      "0.520 (+/-0.003) for {'clf__C': 1, 'clf__kernel': 'rbf', 'tfidf__norm': 'l2', 'tfidf__smooth_idf': 0, 'tfidf__sublinear_tf': 0}\n",
      "0.520 (+/-0.003) for {'clf__C': 1, 'clf__kernel': 'rbf', 'tfidf__norm': 'l2', 'tfidf__smooth_idf': 0, 'tfidf__sublinear_tf': 1}\n",
      "0.520 (+/-0.003) for {'clf__C': 1, 'clf__kernel': 'rbf', 'tfidf__norm': 'l2', 'tfidf__smooth_idf': 1, 'tfidf__sublinear_tf': 0}\n",
      "0.520 (+/-0.003) for {'clf__C': 1, 'clf__kernel': 'rbf', 'tfidf__norm': 'l2', 'tfidf__smooth_idf': 1, 'tfidf__sublinear_tf': 1}\n",
      "0.854 (+/-0.030) for {'clf__C': 1, 'clf__kernel': 'rbf', 'tfidf__norm': None, 'tfidf__smooth_idf': 0, 'tfidf__sublinear_tf': 0}\n",
      "0.917 (+/-0.042) for {'clf__C': 1, 'clf__kernel': 'rbf', 'tfidf__norm': None, 'tfidf__smooth_idf': 0, 'tfidf__sublinear_tf': 1}\n",
      "0.854 (+/-0.030) for {'clf__C': 1, 'clf__kernel': 'rbf', 'tfidf__norm': None, 'tfidf__smooth_idf': 1, 'tfidf__sublinear_tf': 0}\n",
      "0.919 (+/-0.045) for {'clf__C': 1, 'clf__kernel': 'rbf', 'tfidf__norm': None, 'tfidf__smooth_idf': 1, 'tfidf__sublinear_tf': 1}\n",
      "0.917 (+/-0.021) for {'clf__C': 10, 'clf__kernel': 'linear', 'tfidf__norm': 'l1', 'tfidf__smooth_idf': 0, 'tfidf__sublinear_tf': 0}\n",
      "0.815 (+/-0.003) for {'clf__C': 10, 'clf__kernel': 'linear', 'tfidf__norm': 'l1', 'tfidf__smooth_idf': 0, 'tfidf__sublinear_tf': 1}\n",
      "0.919 (+/-0.022) for {'clf__C': 10, 'clf__kernel': 'linear', 'tfidf__norm': 'l1', 'tfidf__smooth_idf': 1, 'tfidf__sublinear_tf': 0}\n",
      "0.813 (+/-0.008) for {'clf__C': 10, 'clf__kernel': 'linear', 'tfidf__norm': 'l1', 'tfidf__smooth_idf': 1, 'tfidf__sublinear_tf': 1}\n",
      "0.986 (+/-0.010) for {'clf__C': 10, 'clf__kernel': 'linear', 'tfidf__norm': 'l2', 'tfidf__smooth_idf': 0, 'tfidf__sublinear_tf': 0}\n",
      "0.991 (+/-0.018) for {'clf__C': 10, 'clf__kernel': 'linear', 'tfidf__norm': 'l2', 'tfidf__smooth_idf': 0, 'tfidf__sublinear_tf': 1}\n",
      "0.986 (+/-0.010) for {'clf__C': 10, 'clf__kernel': 'linear', 'tfidf__norm': 'l2', 'tfidf__smooth_idf': 1, 'tfidf__sublinear_tf': 0}\n",
      "0.991 (+/-0.018) for {'clf__C': 10, 'clf__kernel': 'linear', 'tfidf__norm': 'l2', 'tfidf__smooth_idf': 1, 'tfidf__sublinear_tf': 1}\n",
      "0.964 (+/-0.019) for {'clf__C': 10, 'clf__kernel': 'linear', 'tfidf__norm': None, 'tfidf__smooth_idf': 0, 'tfidf__sublinear_tf': 0}\n",
      "0.966 (+/-0.031) for {'clf__C': 10, 'clf__kernel': 'linear', 'tfidf__norm': None, 'tfidf__smooth_idf': 0, 'tfidf__sublinear_tf': 1}\n",
      "0.968 (+/-0.018) for {'clf__C': 10, 'clf__kernel': 'linear', 'tfidf__norm': None, 'tfidf__smooth_idf': 1, 'tfidf__sublinear_tf': 0}\n",
      "0.968 (+/-0.027) for {'clf__C': 10, 'clf__kernel': 'linear', 'tfidf__norm': None, 'tfidf__smooth_idf': 1, 'tfidf__sublinear_tf': 1}\n",
      "0.520 (+/-0.003) for {'clf__C': 10, 'clf__kernel': 'rbf', 'tfidf__norm': 'l1', 'tfidf__smooth_idf': 0, 'tfidf__sublinear_tf': 0}\n",
      "0.520 (+/-0.003) for {'clf__C': 10, 'clf__kernel': 'rbf', 'tfidf__norm': 'l1', 'tfidf__smooth_idf': 0, 'tfidf__sublinear_tf': 1}\n",
      "0.520 (+/-0.003) for {'clf__C': 10, 'clf__kernel': 'rbf', 'tfidf__norm': 'l1', 'tfidf__smooth_idf': 1, 'tfidf__sublinear_tf': 0}\n",
      "0.520 (+/-0.003) for {'clf__C': 10, 'clf__kernel': 'rbf', 'tfidf__norm': 'l1', 'tfidf__smooth_idf': 1, 'tfidf__sublinear_tf': 1}\n",
      "0.520 (+/-0.003) for {'clf__C': 10, 'clf__kernel': 'rbf', 'tfidf__norm': 'l2', 'tfidf__smooth_idf': 0, 'tfidf__sublinear_tf': 0}\n",
      "0.520 (+/-0.003) for {'clf__C': 10, 'clf__kernel': 'rbf', 'tfidf__norm': 'l2', 'tfidf__smooth_idf': 0, 'tfidf__sublinear_tf': 1}\n",
      "0.520 (+/-0.003) for {'clf__C': 10, 'clf__kernel': 'rbf', 'tfidf__norm': 'l2', 'tfidf__smooth_idf': 1, 'tfidf__sublinear_tf': 0}\n",
      "0.520 (+/-0.003) for {'clf__C': 10, 'clf__kernel': 'rbf', 'tfidf__norm': 'l2', 'tfidf__smooth_idf': 1, 'tfidf__sublinear_tf': 1}\n",
      "0.908 (+/-0.018) for {'clf__C': 10, 'clf__kernel': 'rbf', 'tfidf__norm': None, 'tfidf__smooth_idf': 0, 'tfidf__sublinear_tf': 0}\n",
      "0.969 (+/-0.011) for {'clf__C': 10, 'clf__kernel': 'rbf', 'tfidf__norm': None, 'tfidf__smooth_idf': 0, 'tfidf__sublinear_tf': 1}\n",
      "0.914 (+/-0.016) for {'clf__C': 10, 'clf__kernel': 'rbf', 'tfidf__norm': None, 'tfidf__smooth_idf': 1, 'tfidf__sublinear_tf': 0}\n",
      "0.971 (+/-0.014) for {'clf__C': 10, 'clf__kernel': 'rbf', 'tfidf__norm': None, 'tfidf__smooth_idf': 1, 'tfidf__sublinear_tf': 1}\n",
      "0.995 (+/-0.009) for {'clf__C': 100, 'clf__kernel': 'linear', 'tfidf__norm': 'l1', 'tfidf__smooth_idf': 0, 'tfidf__sublinear_tf': 0}\n",
      "0.993 (+/-0.014) for {'clf__C': 100, 'clf__kernel': 'linear', 'tfidf__norm': 'l1', 'tfidf__smooth_idf': 0, 'tfidf__sublinear_tf': 1}\n",
      "0.995 (+/-0.009) for {'clf__C': 100, 'clf__kernel': 'linear', 'tfidf__norm': 'l1', 'tfidf__smooth_idf': 1, 'tfidf__sublinear_tf': 0}\n",
      "0.993 (+/-0.014) for {'clf__C': 100, 'clf__kernel': 'linear', 'tfidf__norm': 'l1', 'tfidf__smooth_idf': 1, 'tfidf__sublinear_tf': 1}\n",
      "0.986 (+/-0.010) for {'clf__C': 100, 'clf__kernel': 'linear', 'tfidf__norm': 'l2', 'tfidf__smooth_idf': 0, 'tfidf__sublinear_tf': 0}\n",
      "0.991 (+/-0.018) for {'clf__C': 100, 'clf__kernel': 'linear', 'tfidf__norm': 'l2', 'tfidf__smooth_idf': 0, 'tfidf__sublinear_tf': 1}\n",
      "0.986 (+/-0.010) for {'clf__C': 100, 'clf__kernel': 'linear', 'tfidf__norm': 'l2', 'tfidf__smooth_idf': 1, 'tfidf__sublinear_tf': 0}\n",
      "0.991 (+/-0.018) for {'clf__C': 100, 'clf__kernel': 'linear', 'tfidf__norm': 'l2', 'tfidf__smooth_idf': 1, 'tfidf__sublinear_tf': 1}\n",
      "0.964 (+/-0.019) for {'clf__C': 100, 'clf__kernel': 'linear', 'tfidf__norm': None, 'tfidf__smooth_idf': 0, 'tfidf__sublinear_tf': 0}\n",
      "0.966 (+/-0.031) for {'clf__C': 100, 'clf__kernel': 'linear', 'tfidf__norm': None, 'tfidf__smooth_idf': 0, 'tfidf__sublinear_tf': 1}\n",
      "0.968 (+/-0.018) for {'clf__C': 100, 'clf__kernel': 'linear', 'tfidf__norm': None, 'tfidf__smooth_idf': 1, 'tfidf__sublinear_tf': 0}\n",
      "0.968 (+/-0.027) for {'clf__C': 100, 'clf__kernel': 'linear', 'tfidf__norm': None, 'tfidf__smooth_idf': 1, 'tfidf__sublinear_tf': 1}\n",
      "0.520 (+/-0.003) for {'clf__C': 100, 'clf__kernel': 'rbf', 'tfidf__norm': 'l1', 'tfidf__smooth_idf': 0, 'tfidf__sublinear_tf': 0}\n",
      "0.520 (+/-0.003) for {'clf__C': 100, 'clf__kernel': 'rbf', 'tfidf__norm': 'l1', 'tfidf__smooth_idf': 0, 'tfidf__sublinear_tf': 1}\n"
     ]
    },
    {
     "name": "stdout",
     "output_type": "stream",
     "text": [
      "0.520 (+/-0.003) for {'clf__C': 100, 'clf__kernel': 'rbf', 'tfidf__norm': 'l1', 'tfidf__smooth_idf': 1, 'tfidf__sublinear_tf': 0}\n",
      "0.520 (+/-0.003) for {'clf__C': 100, 'clf__kernel': 'rbf', 'tfidf__norm': 'l1', 'tfidf__smooth_idf': 1, 'tfidf__sublinear_tf': 1}\n",
      "0.520 (+/-0.003) for {'clf__C': 100, 'clf__kernel': 'rbf', 'tfidf__norm': 'l2', 'tfidf__smooth_idf': 0, 'tfidf__sublinear_tf': 0}\n",
      "0.520 (+/-0.003) for {'clf__C': 100, 'clf__kernel': 'rbf', 'tfidf__norm': 'l2', 'tfidf__smooth_idf': 0, 'tfidf__sublinear_tf': 1}\n",
      "0.520 (+/-0.003) for {'clf__C': 100, 'clf__kernel': 'rbf', 'tfidf__norm': 'l2', 'tfidf__smooth_idf': 1, 'tfidf__sublinear_tf': 0}\n",
      "0.520 (+/-0.003) for {'clf__C': 100, 'clf__kernel': 'rbf', 'tfidf__norm': 'l2', 'tfidf__smooth_idf': 1, 'tfidf__sublinear_tf': 1}\n",
      "0.914 (+/-0.009) for {'clf__C': 100, 'clf__kernel': 'rbf', 'tfidf__norm': None, 'tfidf__smooth_idf': 0, 'tfidf__sublinear_tf': 0}\n",
      "0.973 (+/-0.009) for {'clf__C': 100, 'clf__kernel': 'rbf', 'tfidf__norm': None, 'tfidf__smooth_idf': 0, 'tfidf__sublinear_tf': 1}\n",
      "0.921 (+/-0.011) for {'clf__C': 100, 'clf__kernel': 'rbf', 'tfidf__norm': None, 'tfidf__smooth_idf': 1, 'tfidf__sublinear_tf': 0}\n",
      "0.973 (+/-0.009) for {'clf__C': 100, 'clf__kernel': 'rbf', 'tfidf__norm': None, 'tfidf__smooth_idf': 1, 'tfidf__sublinear_tf': 1}\n"
     ]
    }
   ],
   "source": [
    "print(\"# Tuning hyper-parameters...\")\n",
    "print()\n",
    "\n",
    "clf = GridSearchCV(pipe, param_grid)\n",
    "clf.fit(X_train, y_train)\n",
    "\n",
    "\n",
    "print()\n",
    "print(\"Grid scores on development set:\")\n",
    "print()\n",
    "means = clf.cv_results_['mean_test_score']\n",
    "stds = clf.cv_results_['std_test_score']\n",
    "for mean, std, params in zip(means, stds, clf.cv_results_['params']):\n",
    "    print(\"%0.3f (+/-%0.03f) for %r\"\n",
    "          % (mean, std * 2, params))"
   ]
  },
  {
   "cell_type": "code",
   "execution_count": 24,
   "metadata": {},
   "outputs": [
    {
     "name": "stdout",
     "output_type": "stream",
     "text": [
      "Best parameters set found on development set:\n",
      "{'clf__C': 1, 'clf__kernel': 'linear', 'tfidf__norm': 'l2', 'tfidf__smooth_idf': 0, 'tfidf__sublinear_tf': 1}\n",
      "\n",
      "Best score on development set:\n",
      "0.994604316547\n"
     ]
    }
   ],
   "source": [
    "print(\"Best parameters set found on development set:\")\n",
    "print(clf.best_params_)\n",
    "print()\n",
    "print(\"Best score on development set:\")\n",
    "print(clf.best_score_)"
   ]
  },
  {
   "cell_type": "code",
   "execution_count": 25,
   "metadata": {},
   "outputs": [
    {
     "name": "stdout",
     "output_type": "stream",
     "text": [
      "Detailed classification report on test set:\n",
      "\n",
      "             precision    recall  f1-score   support\n",
      "\n",
      " accounting       1.00      1.00      1.00       160\n",
      "      legal       0.97      1.00      0.99       106\n",
      "        ops       1.00      0.99      0.99       291\n",
      "\n",
      "avg / total       0.99      0.99      0.99       557\n",
      "\n",
      "\n",
      "Detailed classification report on training set\n",
      "\n",
      "             precision    recall  f1-score   support\n",
      "\n",
      " accounting       1.00      1.00      1.00       164\n",
      "      legal       1.00      1.00      1.00       103\n",
      "        ops       1.00      1.00      1.00       289\n",
      "\n",
      "avg / total       1.00      1.00      1.00       556\n",
      "\n",
      "\n"
     ]
    }
   ],
   "source": [
    "print(\"Detailed classification report on test set:\")\n",
    "print()\n",
    "y_true, y_pred = y_test, clf.predict(X_test)\n",
    "print(classification_report(y_true, y_pred))\n",
    "print()\n",
    "\n",
    "print(\"Detailed classification report on training set\")\n",
    "print()\n",
    "y_true, y_pred = y_train, clf.predict(X_train)\n",
    "print(classification_report(y_true, y_pred))\n",
    "print()"
   ]
  },
  {
   "cell_type": "markdown",
   "metadata": {
    "collapsed": true
   },
   "source": [
    "## Analysis of Model 3\n",
    "The SVM classifier is performing well, but slightly less accurate than the SGDC classifier. Precision, Recall and the combined F1 score are all averaging 99%."
   ]
  },
  {
   "cell_type": "markdown",
   "metadata": {},
   "source": [
    "## Frequency analysis\n",
    "What are the most common tokens, and which tokens are influencing the model?"
   ]
  },
  {
   "cell_type": "code",
   "execution_count": 26,
   "metadata": {
    "collapsed": true
   },
   "outputs": [],
   "source": [
    "corpus_l = \" \".join(list_l)\n",
    "corpus_l = nlp(corpus_l)"
   ]
  },
  {
   "cell_type": "code",
   "execution_count": 27,
   "metadata": {},
   "outputs": [
    {
     "data": {
      "text/html": [
       "<div>\n",
       "<style>\n",
       "    .dataframe thead tr:only-child th {\n",
       "        text-align: right;\n",
       "    }\n",
       "\n",
       "    .dataframe thead th {\n",
       "        text-align: left;\n",
       "    }\n",
       "\n",
       "    .dataframe tbody tr th {\n",
       "        vertical-align: top;\n",
       "    }\n",
       "</style>\n",
       "<table border=\"1\" class=\"dataframe\">\n",
       "  <thead>\n",
       "    <tr style=\"text-align: right;\">\n",
       "      <th></th>\n",
       "      <th>token_text</th>\n",
       "      <th>part_of_speech</th>\n",
       "      <th>entity_type</th>\n",
       "      <th>token_shape</th>\n",
       "      <th>log_probability</th>\n",
       "    </tr>\n",
       "  </thead>\n",
       "  <tbody>\n",
       "    <tr>\n",
       "      <th>0</th>\n",
       "      <td>midcon</td>\n",
       "      <td>NOUN</td>\n",
       "      <td></td>\n",
       "      <td>xxxx</td>\n",
       "      <td>-20.0</td>\n",
       "    </tr>\n",
       "    <tr>\n",
       "      <th>1</th>\n",
       "      <td>dat</td>\n",
       "      <td>NOUN</td>\n",
       "      <td></td>\n",
       "      <td>xxx</td>\n",
       "      <td>-20.0</td>\n",
       "    </tr>\n",
       "    <tr>\n",
       "      <th>2</th>\n",
       "      <td>serv</td>\n",
       "      <td>NOUN</td>\n",
       "      <td></td>\n",
       "      <td>xxxx</td>\n",
       "      <td>-20.0</td>\n",
       "    </tr>\n",
       "    <tr>\n",
       "      <th>3</th>\n",
       "      <td>llc</td>\n",
       "      <td>NOUN</td>\n",
       "      <td></td>\n",
       "      <td>xxx</td>\n",
       "      <td>-20.0</td>\n",
       "    </tr>\n",
       "    <tr>\n",
       "      <th>4</th>\n",
       "      <td>thi</td>\n",
       "      <td>NOUN</td>\n",
       "      <td></td>\n",
       "      <td>xxx</td>\n",
       "      <td>-20.0</td>\n",
       "    </tr>\n",
       "    <tr>\n",
       "      <th>5</th>\n",
       "      <td>dat</td>\n",
       "      <td>NOUN</td>\n",
       "      <td></td>\n",
       "      <td>xxx</td>\n",
       "      <td>-20.0</td>\n",
       "    </tr>\n",
       "    <tr>\n",
       "      <th>6</th>\n",
       "      <td>destruct</td>\n",
       "      <td>NOUN</td>\n",
       "      <td></td>\n",
       "      <td>xxxx</td>\n",
       "      <td>-20.0</td>\n",
       "    </tr>\n",
       "    <tr>\n",
       "      <th>7</th>\n",
       "      <td>agr</td>\n",
       "      <td>NOUN</td>\n",
       "      <td></td>\n",
       "      <td>xxx</td>\n",
       "      <td>-20.0</td>\n",
       "    </tr>\n",
       "    <tr>\n",
       "      <th>8</th>\n",
       "      <td>mad</td>\n",
       "      <td>ADJ</td>\n",
       "      <td></td>\n",
       "      <td>xxx</td>\n",
       "      <td>-20.0</td>\n",
       "    </tr>\n",
       "    <tr>\n",
       "      <th>9</th>\n",
       "      <td>ent</td>\n",
       "      <td>NOUN</td>\n",
       "      <td></td>\n",
       "      <td>xxx</td>\n",
       "      <td>-20.0</td>\n",
       "    </tr>\n",
       "  </tbody>\n",
       "</table>\n",
       "</div>"
      ],
      "text/plain": [
       "  token_text part_of_speech entity_type token_shape  log_probability\n",
       "0     midcon           NOUN                    xxxx            -20.0\n",
       "1        dat           NOUN                     xxx            -20.0\n",
       "2       serv           NOUN                    xxxx            -20.0\n",
       "3        llc           NOUN                     xxx            -20.0\n",
       "4        thi           NOUN                     xxx            -20.0\n",
       "5        dat           NOUN                     xxx            -20.0\n",
       "6   destruct           NOUN                    xxxx            -20.0\n",
       "7        agr           NOUN                     xxx            -20.0\n",
       "8        mad            ADJ                     xxx            -20.0\n",
       "9        ent           NOUN                     xxx            -20.0"
      ]
     },
     "execution_count": 27,
     "metadata": {},
     "output_type": "execute_result"
    }
   ],
   "source": [
    "token_text = [token.orth_ for token in corpus_l]\n",
    "token_pos = [token.pos_ for token in corpus_l]\n",
    "token_entity_type = [token.ent_type_ for token in corpus_l]\n",
    "token_shape = [token.shape_ for token in corpus_l]\n",
    "token_prob = [token.prob for token in corpus_l]\n",
    "\n",
    "token_df = pd.DataFrame(list(zip(token_text, token_pos, token_entity_type, token_shape, token_prob)),\n",
    "             columns=['token_text', 'part_of_speech','entity_type', 'token_shape', 'log_probability'])\n",
    "token_df.head(10)"
   ]
  },
  {
   "cell_type": "code",
   "execution_count": null,
   "metadata": {},
   "outputs": [],
   "source": []
  },
  {
   "cell_type": "code",
   "execution_count": null,
   "metadata": {},
   "outputs": [],
   "source": []
  },
  {
   "cell_type": "code",
   "execution_count": 28,
   "metadata": {
    "collapsed": true
   },
   "outputs": [],
   "source": [
    "def get_feature_df(grid_search, features):\n",
    "    \"\"\"\n",
    "    Return the feature names and coefficients from the final classifier of the\n",
    "    best pipeline found by GridSearchCV. See https://git.io/vPWLI.\n",
    "\n",
    "    Params\n",
    "    ------\n",
    "    grid_search: GridSearchCV object\n",
    "        A post-fit GridSearchCV object where the estimator is a Pipeline.\n",
    "    features: list\n",
    "        initial feature names\n",
    "\n",
    "    Returns\n",
    "    -------\n",
    "    pandas.DataFrame\n",
    "        Dataframe of feature name and coefficient values\n",
    "    \"\"\"\n",
    "    features = np.array(features)\n",
    "    pipeline = grid_search.best_estimator_\n",
    "    for name, transformer in pipeline.steps:\n",
    "        if name.startswith('select'):\n",
    "            X_index = np.arange(len(features)).reshape(1, -1)\n",
    "            indexes = transformer.transform(X_index).tolist()\n",
    "            features = features[indexes]\n",
    "    step_name, classifier = pipeline.steps[-1]\n",
    "    coefficients = classifier.coef_\n",
    "    feature_df = pd.DataFrame(list(zip(features, coefficients)), columns=['feature', 'coefficient'])\n",
    "    return feature_df"
   ]
  },
  {
   "cell_type": "code",
   "execution_count": 43,
   "metadata": {},
   "outputs": [
    {
     "name": "stderr",
     "output_type": "stream",
     "text": [
      "c:\\Users\\osutr_000\\Anaconda3\\lib\\site-packages\\sklearn\\linear_model\\stochastic_gradient.py:128: FutureWarning: max_iter and tol parameters have been added in <class 'sklearn.linear_model.stochastic_gradient.SGDClassifier'> in 0.19. If both are left unset, they default to max_iter=5 and tol=None. If tol is not None, max_iter defaults to max_iter=1000. From 0.21, default max_iter will be 1000, and default tol will be 1e-3.\n",
      "  \"and default tol will be 1e-3.\" % type(self), FutureWarning)\n"
     ]
    },
    {
     "data": {
      "text/plain": [
       "SGDClassifier(alpha=0.0001, average=False, class_weight=None, epsilon=0.1,\n",
       "       eta0=0.0, fit_intercept=True, l1_ratio=0.15,\n",
       "       learning_rate='optimal', loss='hinge', max_iter=None, n_iter=None,\n",
       "       n_jobs=1, penalty='l2', power_t=0.5, random_state=None,\n",
       "       shuffle=True, tol=None, verbose=0, warm_start=False)"
      ]
     },
     "execution_count": 43,
     "metadata": {},
     "output_type": "execute_result"
    }
   ],
   "source": [
    "cv = CountVectorizer()\n",
    "tfidf = TfidfTransformer()\n",
    "clf = SGDClassifier()\n",
    "counts = cv.fit_transform(X_train, y_train)\n",
    "inverse = tfidf.fit_transform(counts)\n",
    "clf.fit(inverse, y_train)\n",
    "\n",
    "#df = get_feature_df(clf1,cv.get_feature_names())\n",
    "#df"
   ]
  },
  {
   "cell_type": "code",
   "execution_count": 31,
   "metadata": {},
   "outputs": [
    {
     "name": "stdout",
     "output_type": "stream",
     "text": [
      "17274\n"
     ]
    },
    {
     "name": "stdout",
     "output_type": "stream",
     "text": [
      "['00', '000', '0000', '000000001', '000001', '0000010005', '000001310', '000002', '0000030003', '000005819', '000009508', '00001010442', '00001010445', '000010331', '000012172', '000012380', '000012590', '00001630439', '00001690620000600007', '0000175', '0000179', '0000183', '00001910985', '00002', '00002100003', '0000218426', '00002244320001100002', '00002957320001100005', '00003', '00004209070000600005', '0000420907q000600005', '0000443404', '0000443404000', '00004434040000600005', '0000443404000p600005', '00004434040q00600005', '00005', '000051', '00005624730000400010', '00005907960000300007', '00005909130000300007', '00006543290000300007', '00006554140000300007', '00006555540000300007', '00009', '000099253000048326000000055539', '0000lb', '0001', '000105659', '00011', '0001112280', '000116580', '0001172200', '0001172280', '0001441', '0002', '000201l3', '000225l3', '000258l3', '000273l3', '000284253', '000292l3', '000294982', '000295l3', '0003', '000301l3', '000303l3', '000312l3', '000388l3', '0004', '000426l3', '000428l3', '000447l3', '000449l3', '000465l3', '000467l3', '000477l3', '0005', '000581l3', '0006', '000600005', '0007', '0007888', '0008', '0009', '000officer', '001', '0010', '00103779', '0010380011251951', '00107937', '00107952', '001079691152153', '00107993', '00108003', '00108736164170', '00108761', '00108777', '00108785', '0011', '001100', '0012', '00124397', '0013', '0014', '001431991007541', '0015', '0015142', '0015165', '0015170', '0015174', '0015182', '0016', '0017', '0017171', '00176', '0018', '0019', '001hr', '001mal', '001s', '002', '0020', '00205', '00206', '002085', '0021', '00213', '0021921', '0022', '00224', '002245', '0023', '00232', '002474', '00250548', '00250605', '00257820', '002749', '00275661', '00275662', '00275680', '0028673', '0029', '002962', '002ordered', '003', '003000002', '003006', '0031', '003108', '003130', '003163', '003232', '003294', '003461', '003630', '003630i', '003635', '0036871', '00369228', '0037', '0037432', '0037661', '0038056', '004', '0040', '0041', '0041950', '00420', '00450710893', '005', '0050', '005091', '0051', '00521414', '00521437', '00521528', '005215331225176', '00521587', '0053', '00540', '0055', '0056951', '00572923', '00575', '005819', '006', '0060', '0061', '006170', '006484', '00650', '0066', '006854', '007', '0071', '0073017940', '0074', '00749251', '00776219', '00776345', '00785', '008', '00803303', '00803336', '008033391191751', '00803457', '0081', '00822973114', '00824961', '008300179421', '00830422745', '008484', '00850', '00850179391', '00885', '009', '0092', '00_', '00am', '00i', '00j', '00l', '00perbr', '00pm', '00putaway', '01', '010', '010027', '01016', '0104', '01050', '01050422941', '0107110', '011', '0111', '0112', '01120424063', '01130', '0115', '01151te', '0118', '01193811', '0119te', '011ion', '012', '012016', '01210', '0122', '01220', '0123', '0123456', '0124', '012419', '0125', '0126', '012637', '0126371', '0126377', '0127', '0128', '013', '01315', '0133', '01330', '0137', '014', '01407', '0141', '0143', '0146', '0147', '015', '01500', '0153', '0155', '0156', '0158', '016', '01600', '0160093190', '01605', '01606', '01607', '01610', '0163', '01648', '01660', '016604', '0172', '017s', '01850', '01885', '019', '0199781', '01am', '01het', '01ho', '01n', '01rt', '01s', '02', '020', '0200', '02014183', '02016contidential', '0203295422', '0203317688', '02060', '02060722805', '0207802', '0208', '0211', '02116', '021208', '0218', '021nventor12', '022', '0220', '022000', '022107', '022919', '023', '02330', '02331', '024', '0240', '0248', '025', '0254', '0258762_20090409', '0258766_20090409', '0259', '0260', '026009593', '027', '027153', '027291', '0275770', '0275no', '028', '028084', '029', '0294', '02rcvgbx01', '02rcvgbx0119', '02rcvgbx0175', '02rcvgbx0189', '02rcvgbx0190', '02rcvgbx01a1', '02rcvgbx01cf', '02rcvgbx01s1', '02rcvgbx01w3', '02rcvgbx01y8', '02rcvgtm0121', '02rcvgtmo121', '03', '030', '0317', '0318', '032', '0322', '033', '0331533_20120430', '0331534_20120430', '034', '034040', '034994', '0351891', '0353', '035458', '0357', '036', '036010', '03677', '037689', '0378836', '038', '039', '0393', '0393363', '03al3j3', '03am', '03pm', '04', '040', '0401', '040101010101', '041', '0410', '04121', '0416191', '042', '0427', '0427007', '043', '0430', '0446', '0448', '045959', '046', '0463', '04630090127090000000335213', '04630090127090000000378413', '047', '047271', '047589', '047590', '048', '0481', '0482', '049', '04am', '04pm', '05', '0500', '05012016', '0505', '051', '05117', '05129', '05142016', '052', '052016', '0520182', '05202016', '05212016', '0524759', '0527570', '05282016', '053', '0535', '054lo', '055366601', '055386601', '055957', '055nvc', '056', '057', '05702', '057157801', '057222601', '057631', '057831', '058', '0580270', '0588291', '0590', '0599491', '05am', '06', '0601', '06012016', '0605', '061', '0610712016', '06110001131067309102530011035', '06111001131057222601020013841', '06111501131055386601540112699', '06111501131055386601540112717', '06114', '06115', '06116', '0612812018', '0612b', '06132016', '0617899', '0619266', '062', '06202016', '0620221', '0620570', '0620597', '0620602', '0620615', '0620619', '0620648', '0620662', '062067', '0620674', '0620680', '0620681', '0620682', '0620683', '0620684', '0620685', '0620686', '0620687', '0620688', '0620689', '0620693', '0620696', '0620697', '0620698', '0620699', '06207', '0620700', '0620701', '0620702', '0620704', '0620705', '0620707', '0620710', '0620711', '0620717', '0620743', '0620744', '0620745', '0620747', '0620748', '0620749', '0620750', '0620751', '0620753', '0620754', '0620755', '0620756', '0620757', '0620807', '0620810', '0620811', '0620816', '0620820', '0620822', '0620823', '0620825', '0620826', '0620829', '0620830', '0620831', '0620832', '0620834', '0620835', '0620836', '0620837', '0620838', '0620839', '0620842', '0620845', '0620886', '0620887', '0620890', '0620891', '0620893', '0620896', '0620927', '0620987', '0620988', '0620989', '0620990', '0620991', '0620993', '0620995', '0620996', '0620997', '0620998', '0620999', '0621000', '0621001', '0621002', '0621004', '0621005', '0621010', '0621018', '0621019', '0621020', '0621021', '0621022', '0621023', '0621025', '0621028', '0621045', '0621052', '0621055', '0621056', '0621059', '0621068', '0621070', '0621073', '0621075', '0621076', '0621090', '0621091', '0621092', '0621094', '0621095', '0621096', '0621098', '0621102', '0621108', '0621120', '0621122', '0621123', '0621124', '0621125', '0621126', '0621147', '0621151', '0621157', '0621161', '0621162', '0621163', '0621164', '0621166', '0621167', '0621168', '0621169', '0621170', '0621171', '0621172', '0621173', '0621174', '0621175', '0621176', '0621177', '0621189', '0621190', '0621192', '0621193', '0621194', '0621195', '0621196', '0621209', '0621210', '0621211', '0621212', '0621213', '0621214', '0621215', '0621220', '0621221', '0621222', '0621226', '0621235', '0621236', '0621243', '0621246', '0621248', '0621250', '0621251', '0621252', '0621253', '0621254', '0621256', '0621257', '0621261', '0621263', '0621264', '0621266', '0621267', '0621268', '0621270', '0621271', '0621273', '0621274', '0621275', '0621277', '0621279', '0621280', '0621281', '0621283', '0621286', '0621289', '0621291', '0621342', '0621345', '0621347', '0621349', '0621353', '0621358', '0621359', '0621360', '0621361', '0621363', '0621365', '0621373', '0621374', '0621375', '0621376', '0621377', '0621378', '0621379', '0621380', '0621381', '0621383', '0621385', '0621394', '0621396', '0621397', '0621404', '0621408', '0621412', '0621415', '0621416', '0621417', '0621418', '0621419', '0621420', '0621437', '0621439', '0621441', '0621443', '0621444', '0621446', '0621458', '0621460', '0621463', '0621472', '0621478', '0621481', '0621483', '0621509', '0621510', '0621512', '0621513', '0621514', '0621516', '0621518', '0621521', '0621527', '0621531', '0621534', '0621542', '0621544', '0621546', '0621556', '06222016', '06262016', '063', '06302016', '06311001186069811201310019495', '064', '064018986', '0645', '065', '06500', '0659', '067', '067309102', '068', '069', '0690', '069811201', '06am', '06l16', '06pm', '06tf4', '07', '070', '07012016', '0702004', '07020047', '0703', '0708091011', '071', '07103', '07105', '0710712016', '07115116', '07116', '0711m16', '0712016', '0713', '072', '073', '074', '07401', '0746', '07463', '075', '075908', '076', '07607', '077', '077404', '0774041rving', '07792', '078', '07814', '07829', '07874', '07897', '079', '07963', '0799', '07am', '08', '080', '0800', '0808', '0809', '081904808', '082', '08375', '084', '085', '086', '086627', '087', '088', '088395', '088839', '089', '08955', '08am', '08cr', '08pm', '09', '090', '0900', '091', '0913', '092', '093', '094', '0940', '0943361', '094378', '095', '0950', '096', '0963991', '0964', '097', '098', '0981', '0986mb', '099', '09am', '09gmcsavana', '09gmcswana', '09pm', '09s', '0_', '0_05', '0___', '0a', '0arren', '0ate', '0bam', '0bpm', '0c', '0d', '0d015b5', '0d2h19', '0e', '0fc', '0fl', '0fo', '0g', '0i', '0k131', '0k1311', '0klahoma', '0l', '0l60093190', '0n', '0nable', '0ne', '0o_make', '0paypai', '0pening', '0q', '0r', '0recognize', '0rr', '0rthopedic', '0s', '0sam', '0t', '0th', '0tv', '0u', '0uhsc', '0v', '0vo', '0yo', '10', '100', '1000', '10000', '1000022843', '100005', '1000051', '100005i', '100005j', '100009', '10000_', '10000c', '10000j', '10000s', '10002', '100021', '1000211', '1000251', '10002j', '10003', '10003c', '10003q', '10005', '1000e', '1001', '10020', '10021', '100213', '100214', '1002q', '100584659', '100907', '100s', '100th', '100w', '101', '10100100206982', '10101', '101016', '1011', '1011012016', '101111', '1011866112', '1011973967', '1012016', '1012161600', '1013698', '1014253', '10156320160', '10161', '101615', '1018', '101onw', '102', '10201', '1021', '102437', '102456', '1025', '102526', '1027', '103', '1030', '103178', '10327', '1032921', '103767', '103900036', '104', '1040', '1041', '1046944', '1048', '1048567', '1048584', '10494', '105', '1052', '105214', '10528333', '105598', '1058225', '105th', '106', '1069', '107', '1071', '1076', '108', '1080', '108131', '108j1', '109', '109641', '10am', '10gmc', '10l', '10l1', '10m', '10m8', '10mb', '10ms', '10n', '10pm', '10rnb', '10ry', '10t', '10th', '10v___', '11', '110', '1100', '11000', '110000', '1100005', '11000051', '1100009', '110000_', '110000s', '1101', '1101865', '1102', '1104', '1106', '1107', '1109', '110n', '111', '1110', '11101111111', '1110s', '1111', '11111', '111111', '1111111', '11111111', '111111111', '1111111111', '11111111111', '111111111111', '1111111111111', '11111111111111', '111111111111111', '1111111111111111', '11111111111111111', '111111111111111111', '1111111111111111111', '11111111111111111111', '111111111111111111111', '1111111111111111111111', '11111111111111111111111111', '111111111111111111111111111', '1111111111111111111111111111', '111111111111111111111111111111111', '1111111111111111111111111111111111', '11111111111111111111111111111111111', '111111111111111111111111111111111111', '1111111111111111111111111111111111111111', '111111111111111111111111111111111111111111111', '1111111111111111111111111111111111111111111110621151', '1111111111111111111111111111111111111111111111111111111', '11111111111111111m1111111111111', '1111111111111ll1111111', '11111111111m', '11111111111m11111111111', '11111111111miii11111111', '1111111111m', '1111111111m111111111m11111111', '111111111ii11111', '111111111m1111111', '111111111m1111111111', '111111111ml', '11111111h', '11111111l', '11111111m', '11111111m1111111111', '11111111m1m111m111', '1111111i1111', '1111111l1111lll1iii', '1111111m11111111111', '1111111m11111111111111111', '1111111m111111111111111111111111', '1111111m111111m111111111111', '1111111m111111m1111m', '1111111m1m11111111', '1111111m1mm11111', '111111l111111111', '111111m11', '111111m111111', '111111m111111111111111', '11111i', '11111ii', '11111iiill111111111111111', '11111l', '11111ll1', '11111lllllmii', '11111m111', '11111m11111', '11111m11111111111111111111111', '11111m11m111m1111111m111m1mmu111umu', '11111m11m1m', '11111millmiii11111111', '11111mm', '111161', '1111d', '1111i', '1111ii', '1111l', '1111l1', '1111l111111', '1111l111ll', '1111ll1l', '1111lll1lllll', '1111m', '1111m11111111', '1111m1111111m', '111203', '11123', '11125', '111311', '111313', '11134', '11135', '1116', '1118', '11191', '11191z', '1119il', '111dnr1', '111e', '111hl11inlii11111111', '111imillilliiiiiillilli', '111irwiililfffim', '111l', '111l111l', '111ll111l11l', '111lll11ll11111l1', '111lll1ii', '111llll1llilllll1lllll1l', '111llllll1l', '111lrii', '111m11111', '111m11111111111111', '111m111m1111', '111m1m11111m1', '111nu1uh', '111q8', '111rchaa', '111re', '111t', '112', '112211v1', '112219v1', '112271v1', '112278v1', '112279v1', '1127045', '11297', '112e', '113', '1133', '1139', '114', '1140', '1141', '114333', '11446', '1145', '1147', '1148', '115', '1150', '115020', '1157', '116', '11633364', '1165', '116590', '11664488', '11667406', '1167', '117', '11745864', '1177', '118', '1184', '11858364', '118ateq', '119', '11911inst', '1193016', '11970862', '1198lnst', '11_', '11am', '11bove', '11c', '11ccessories', '11e', '11er1', '11esj', '11grees', '11h', '11hf', '11i', '11i111', '11i1l1iillllll111111111111111', '11is', '11isit', '11l', '11l1', '11l11', '11l111', '11l11111111', '11l111111111111ll', '11l11111ll', '11l11i111111111', '11l11l11', '11l1l1llll11lllll', '11ll', '11ll1l11ll11l1llll', '11llil', '11lll11', '11lll1l1l111111llll1l1l11lll1lll11l1lll1l1ll1l1l11', '11lll1ll', '11lt', '11m1111111', '11mb', '11mi', '11mount', '11nable', '11nd', '11nv', '11nvo1ce', '11ny', '11ployh', '11pm', '11s', '11s19', '11services', '11t', '11t2', '11tis', '11tj', '11tory', '11ui', '11x', '12', '120', '1200', '1201', '1201447034', '12016', '12017', '121', '1211', '1212', '1212017', '1213', '12131', '121313', '122', '1220001', '12223334444', '1223', '12249', '1225', '123', '12300', '12312', '12331', '12335', '1234', '124', '12453677', '124961', '125', '12525', '1256', '1257', '125798', '1258', '1259', '126', '1264', '127', '12700', '12711v1', '12770620', '128', '1282', '128521', '129', '1291', '12911', '12916', '1291e', '1291ei', '1291f', '1292', '129965', '129l', '129lf', '12a', '12am', '12oz', '12pk', '12pm', '12s', '12th', '12x', '13', '130', '1300', '1304', '1307', '131', '1310', '13104', '13111', '1311led', '1312', '13120', '1315', '131c', '131w', '132', '1320a', '1323', '1324491', '13250', '133', '134', '1340551', '13431', '13462761', '134911349', '135', '1350', '1352562', '1354', '1356', '1358722', '136', '1368', '1368866', '137', '138', '139', '1399121', '13am', '13h', '13hino', '13hled', '13j', '13pm', '13s', '13s4', '13th', '13th_', '14', '140', '1400', '14000', '14002', '1405', '14055nvc', '1407', '140w', '141', '14101', '1413', '1417', '142', '1425', '1425616', '142604827', '1427', '143', '14313', '14333', '14341', '14399205', '144', '14437141', '1444', '145', '1453', '1459', '146', '147', '148', '148385', '149', '1490', '14_0', '14am', '14p', '14pm', '14q', '14x6', '15', '150', '1500', '15002', '150020', '1500205', '1500206', '1500lll', '1503', '15039', '15090536', '151', '15140', '15141', '15142', '15146', '15149', '15152', '15153', '15154', '15159', '15161', '15162', '15163', '15165', '15168', '15169', '1517', '15170', '15170142', '15171', '15174', '15178', '15182', '151h', '152', '1520', '1521', '1521541', '1524', '152430475418938436200000071536', '1526', '15292', '153', '1530', '153300', '1535', '1536', '153720', '154', '1540', '154936187', '155', '1550', '155080141', '1551', '155210', '1555', '156', '1565', '1567', '156th', '157', '157839', '158', '159', '159254', '1594', '15am', '15n', '15sdmdmvoz4070wh', '15th', '15x', '16', '160', '1600', '160302', '160622', '160722', '161', '16116', '16120901', '1612of', '1613', '16139', '1614of', '161st', '162', '1620', '1621', '1621521', '16222as', '16246', '163', '16324', '164', '1640', '165', '166', '1660115', '1663', '166664', '167', '167618', '16767', '168', '169', '1696', '16am', '16bof', '16fl075731999', '16l', '16m6', '16pm', '16rebeccahaggins', '16release', '17', '170', '1700', '1701', '1708mb', '170w', '171', '17120', '17187', '171903', '1719031', '17190678', '172', '1720', '17220841', '17251532', '17280213', '172s', '173', '17310233', '17339845', '17367858', '174', '17400307', '17430131', '17461261', '175', '176', '1764', '17641', '17681', '177', '178', '1780807601', '179', '1790', '179430', '17am', '17pm', '17th', '18', '180', '1800', '1805', '18060', '1808', '180s', '181', '1817', '182', '1821', '1825', '1829', '183', '184', '185', '186', '1868', '187', '188', '189', '18_mig', '18am', '18j', '18p', '18pm', '18th', '18x24', '19', '190', '1900', '190036', '1902', '1908', '190804', '191', '1918', '192', '1920', '1923421', '1924', '193', '1933', '1935', '1939', '194', '19456', '195', '196', '1962', '197', '19731', '1977', '198', '1981', '19810134', '1982', '1984', '19847', '1988', '1989', '199', '1990', '1991', '1995', '1996', '1997', '1998', '1999', '19_mig', '19am', '19th', '1_', '1_1', '1_11g', '1a', '1a118', '1a1vicer', '1ai', '1air', '1am', '1ange', '1at', '1atomerld', '1b', '1biak', '1bn', '1box', '1c', '1ccording', '1ccoun', '1chments', '1cntt', '1cust', '1d', '1d_j', '1dcondo', '1dditions', '1e', '1e1', '1ed', '1ent', '1ernori', '1etcm', '1etdtn', '1eu', '1eve1', '1f', '1fes', '1ffi', '1ffj', '1final', '1fir', '1foj', '1ft', '1g', '1gen1s', '1gm8', '1gmt', '1gnature', '1grces', '1h', '1h11', '1h1s', '1h2', '1ha', '1hall', '1hc', '1he', '1his', '1hl', '1hlc', '1hls', '1ht', '1i', '1i5', '1ich', '1ie', '1ien', '1if', '1ift', '1ii', '1ii111', '1ii11i111', '1iii', '1iiii', '1ij', '1il', '1il641', '1ir', '1it', '1iu', '1iui', '1j', '1j1onths', '1j3', '1jffi', '1ji', '1jn', '1jt', '1jt22nv', '1jtl', '1k', '1kc', '1l', '1l1', '1l11', '1l111', '1l11l', '1l1e', '1l1l', '1l1l11l11111', '1l1l1ll11l1', '1l1lll', '1l8', '1lbs', '1ld', '1lesamt', '1lh', '1lill1', '1lj', '1ll', '1ll1l111', '1ll1llll1l111l1', '1llh', '1lll', '1lll1', '1lll1l', '1llll11l11ll', '1llll1l1l', '1llll1li', '1lr', '1ls', '1ltty', '1lw', '1m', '1m11111111111', '1m1m11m11111', '1mark', '1mb', '1meth', '1mill', '1mmmr', '1monthly', '1mplt', '1mptoy', '1mwxal', '1n', '1n1os', '1nc', '1nj', '1no', '1nterpnse', '1nursday', '1nvoic', '1ny', '1o', '1oam', '1ok', '1ol', '1oms', '1oooos', '1oos', '1opm', '1or', '1orova', '1orr', '1out', '1oz', '1p', '1p1', '1pim', '1pim1', '1pprisc', '1prr', '1pyright', '1q', '1q1', '1r', '1r1', '1rkwav', '1rncitj', '1rof', '1roqa1', '1rr', '1rs', '1rvi', '1rw', '1ry', '1s', '1sa1es', '1sjr', '1soap', '1soo205', '1ss', '1ssuer', '1ssui', '1st', '1steven', '1str1', '1sublet', '1surcharges', '1t', '1t0f', '1t11ft', '1t_', '1t_1', '1te', '1temizett', '1th', '1tim', '1tions', '1tjj', '1tl', '1to', '1ttlf1', '1tulsa', '1tw', '1u', '1u0t', '1uo', '1v', '1v1aterials', '1vehicl', '1vfedia', '1vlj', '1vq', '1w', '1w1', '1wade', '1wc', '1wd1x', '1ws', '1x', '1y', '1z', '1z9vvv0540195269120', '1z9vw0540293103756', '1z9vw0541594706169', '20', '200', '2000', '20000', '2001', '2002', '2003', '2004', '2005', '2006', '2007', '2008', '2009', '200teh', '201', '2010', '20100922_0275939', '20100922_d275939', '2011', '2011j', '2012', '2013', '20131', '2013131', '2014', '20141147', '20141171', '2014828', '2015', '2016', '2016051101', '2016052501', '2016060801', '2016062101', '2016070601', '20161', '201610036851', '201610036861', '201610036951', '201610036971', '20161003700', '20161003701', '201610037021', '201610037031', '201610037041', '201610037051', '20161003706', '201610037061', '20161003760', '20161003761', '201610037621', '201610037651', '201612', '20164', '2016table', '2017', '20170104145645', '2018', '2019', '201i', '201j', '202', '2020', '2021', '2022', '2024', '203', '2031', '203mb', '204', '2044', '204428', '204794', '205', '2050', '2054', '2054333', '20587051', '205880', '205910', '206', '2060', '2063', '207', '20727', '2078', '208', '2081', '20819', '209', '2091', '2093', '209357', '20am', '20c', '20h', '20i', '20j', '20l', '20m', '20rn', '20th', '21', '210', '2100', '21000515l3', '21000589l3', '21000596l3', '21000611l3', '21000625l3', '21000712l3', '2101', '210385755', '2103857551178481', '210385755117848164', '210385755205433364', '21040', '211', '211140', '2112016', '21123', '211235', '211238', '211239', '21123s', '2113', '2115', '211hf', '212', '2121', '212675444', '212675444135256218', '212866217', '212866217135872282', '213', '2130', '214', '2141', '215', '216', '216166', '216167', '217', '2170164', '218', '219', '219296', '2195781', '2199', '21_0__', '21am', '21pm', '21st', '21t16', '22', '220', '2200', '2201', '2204281', '221', '2211', '22111', '22114', '2212016', '2215', '221966', '221r', '222', '222075', '2222', '222232', '2224', '2224kb', '2224kq', '2224l3', '2225', '222540', '2225t9', '2225tg', '2226', '2227', '222765', '2227bl', '2227c3', '2227cd', '2227cj', '2227g3', '2227g9', '2227gb', '2227gi', '2228', '2232', '2233', '2234', '2236', '2238', '224', '2240', '2244', '2246', '225', '2250', '2251', '2253', '2254', '2255', '2257', '2258', '226', '2260', '2262', '2265', '2266', '2269', '227', '2274', '2275', '2276', '2279', '228', '2281', '2283', '2285', '229', '229020', '22_mig', '22a9', '22am', '22i20jo', '22nd', '22nv', '22pm', '22th', '23', '230', '2306', '231', '232', '232954271052', '233', '233025', '2331', '234', '235', '236', '2364643', '237', '238', '238715', '239', '2397771', '23am', '23di88f05b973bco', '23pm', '23rd', '23s', '24', '240', '2400', '2401', '2407', '24070', '2407000023l4', '2407000026l4', '2407000032l4', '2407000033l4', '2407000058l4', '2407000085l4', '2407000098l4', '240700011', '2407000115l4', '2407000130l4', '2407000131', '2407000135l4', '2407000147l4', '2407000157l4', '2407000166l4', '2407000205l4', '2407000231', '2407009032l4', '2407009048l4', '2407009076l4', '2407009098l4', '2407009111', '2407009111l4', '2407009112l4', '2407009120l4', '2407009134l4', '2407009190l4', '2407009241', '2407009246l4', '2407009252l4', '2407009262l4', '2407009298l4', '2407009314l4', '2407009317l4', '2407009348l4', '2407009366l4', '2407009394l4', '2407009441', '2407009447l4', '2407009456l4', '2407009512l4', '2407009517l4', '2407009534l4', '2407009543l4', '2407009556l4', '2407009574l4', '2407009585l4', '2407009603l4', '2407009706l4', '2407009722l4', '2407009751', '2407009751l4', '2407009754l4', '2407009757l4', '2407009794l4', '2407009796l4', '2407009817l4', '2407091038l4', '2407091052l4', '2407091071', '2407091073l4', '2407091079l4', '2407091105l4', '2407092012l4', '24070s501', '24070s5014l4', '24070s5026l4', '24070s5031', '24070s5036l4', '24070s5051', '24070s5082l4', '24070s5087l4', '24070s5093l4', '24070s5107l4', '24070s5109l4', '24070s5111l4', '24070s5116l4', '24070s5147l4', '24070s5154l4', '24070s5157l4', '24070s5165l4', '24070s5196l4', '24070s5212l4', '24070s5222l4', '24070s5223l4', '24070s5238l4', '24070s5244l4', '24070s5248l4', '24070s5253l4', '24070s5257l4', '24070s5277l4', '24070s5279l4', '24070s5285l4', '24070s5289l4', '24070s5291', '24070s5295l4', '24070s5299l4', '24070s5300l4', '24070s5305l4', '24070s5317l4', '24070s5327l4', '24070s5328l4', '24070s5344l4', '24070s5355l4', '24070s5361', '24070s5363l4', '24070s54', '24070s5400l4', '24070s5408l4', '24070s5418l4', '24070s5428l4', '24070s5432l4', '24070s5435l4', '24070s5442l4', '24070s5443l4', '24070s5453l4', '24070s5462l4', '24070s5474l4', '24070s5481', '24070s5486l4', '24070s5502l4', '24070s5504l4', '24070s5506l4', '24070s5512l4', '24070s5579l4', '24070s5609l4', '24070s5612l4', '24070s5621', '24070s5624l4', '24070s5655l4', '24070s5684l4', '24070s5693l4', '24070s571', '24070s5713l4', '24070s5722l4', '24070s5732l4', '24070s5734l4', '24070s5745l4', '24070s5748l4', '24070s5755l4', '24070s5773l4', '24070s5801', '24070s5829l4', '24070s5942l4', '24070s5959l4', '24070s5974l4', '24070s5978l4', '24070s5987l4', '24070s5997l4', '24070s5998l4', '24070s5999l4', '24070s6005l4', '24070s6017l4', '24070s6036l4', '24070s6040l4', '24070s6048l4', '24070s6049l4', '24070s6053l4', '24070s6054l4', '24070s6055l4', '24070s6075l4', '24070s6079l4', '24070s6082l4', '24070s6086l4', '24070s6096l4', '24070s6133l4', '24070s6139l4', '24070s6154l4', '24070s6159l4', '24070s6166l4', '24070s6184l4', '24070s6205l4', '24070s6212l4', '24070s6222l4', '24070s6234l4', '24070s627', '24070s6274l4', '24070s6277l4', '24070s6283l4', '24070s6286l4', '24070s6297l4', '24070s6298l4', '24070s6313l4', '24070s6317l4', '24070s6320l4', '24070s6321', '24070s6323l4', '24070s6328l4', '24070s6330l4', '24070s6333l4', '24070s6346l4', '24070s6364l4', '24070s6371', '24070s6374l4', '24070s6379l4', '24070s6391', '24070s6392l4', '24070s7011', '24070s7015l4', '24070s7024l4', '24070s7036l4', '24070s7039l4', '24070s7042l4', '24070s7047l4', '24070s7050l4', '24070s7058l4', '24070s7072l4', '24070s7201', '24070s7219l4', '24070s7221', '24070s7233l4', '24070s7239l4', '24070s7255l4', '24070s7260l4', '24070s7267l4', '24070s7269l4', '24070s7270l4', '24070s7272l4', '24070s7297l4', '24070s7299l4', '24070s7319l4', '24070s7335l4', '240790204814', '2407d00001', '2407d00001l4', '2407d00009l4', '2407d00032l4', '2407d09014l4', '2407d09032l4', '2407d09048l4', '2407d09076l4', '2407d09082l4', '2407d09123l4', '2407d09134l4', '2407d09190l4', '2407d09241', '2407d09251', '2407d09252l4', '2407d0931', '2407d09317l4', '2407d09377l4', '2407d09604l4', '2407d09754l4', '2407d09773l4', '2407d09782l4', '2407d90016l4', '2407d90065l4', '2407d90094l4', '2407d91119l4', '2407d92029l4', '2407d9205114', '2407e09432l4', '2407e09451', '2407e09451l4', '2407e09488l4', '2407e09498l4', '2407e09535l4', '2407e09549l4', '2407e09664l4', '2407e09669l4', '2407e20004l4', '2407e20006l4', '2407e20071l4', '2407e20127l4', '2407e20168l4', '2407e20182l4', '2407e20189l4', '2407e20231l4', '2407e20244l4', '2407e20251', '2407e20259l4', '2407e20272l4', '2407e20276l4', '2407e20287l4', '2407e20290l4', '2407e20314l4', '2407e20351l4', '2407g00017l4', '2407g00024l4', '2407g00037l4', '2407g00056l4', '2407g00188l4', '2407g00270l4', '2407g00306l4', '2407g00313l4', '2407g00319l4', '2407g00338l4', '2407g00349l4', '2407g00392l4', '2407g00401', '2407g00431', '2407g00434l4', '2407g00493l4', '2407g00495l4', '2407g00506l4', '2407g00520l4', '2407g00550l4', '2407g00555l4', '2407g00556l4', '2407g00557l4', '2407g00584l4', '2407g00585l4', '2407g00591', '2407g00604l4', '2407g00640l4', '2407g00642l4', '2407g00660l4', '2407g00662l4', '2407g00682l4', '2407g00707l4', '2407g00734l4', '2407g00758l4', '2407g00782l4', '2407g01003l4', '2407g01008l4', '2407g01015l4', '2407g01047l4', '2407g02034l4', '2407g02036l4', '2407g02044l4', '2407g0204814', '2407g02051', '2407g02067l4', '2407g03006l4', '2407g03013l4', '2407g03017l4', '2407g03021', '2407g03024l4', '2407g03046l4', '2407jr0018l4', '2407jr0033l4', '2407jr0041l4', '2407jr0046l4', '2407jr0064l4', '2407jr0074l4', '2407jr0075l4', '2407jr0078l4', '2407jr0080l4', '2407jr0081l4', '2407jr0083l4', '2407jr0086l4', '2407jr0087l4', '2407jr0088l4', '2407jr0095l4', '2407jr0098l4', '2407jr0101l4', '2407jr0108l4', '2407jr0110l4', '2407jr0112l4', '2407jr0118l4', '2407jr0120l4', '2407jr0121l4', '2407jr0124l4', '2407jr0125l4', '2407jr0130l4', '2407jr8800l4', '2407jr8801l4', '2407jr8807l4', '2407jr8808l4', '2407jr8810l4', '2407jr8811l4', '2407jr8816l4', '2407jr8822l4', '2407jr8823l4', '2407jr8825l4', '2407jr8828l4', '2407jr8830l4', '2407jr8834l4', '2407jr8839l4', '2407jr8843l4', '2407jr8844l4', '2407jr8845l4', '2407jr8846l4', '2407jr8849l4', '2407jr8850l4', '2407jr8851l4', '2407jr8853l4', '2407jr8854l4', '2407jr8862l4', '2407jr8878l4', '2407jr8881l4', '2407jr8882l4', '2407jr8886l4', '2407jr8892l4', '2407jr8895l4', '2407jr8900l4', '2407jr8901l4', '2407jr8902l4', '2407jr8907l4', '2407jr8908l4', '2407jr8909l4', '2407jr8910l4', '2407jr8912l4', '2407jr8918l4', '2407jr8920l4', '2407jr8921l4', '2407jr8923l4', '2407jr8926l4', '2407jr8927l4', '2407jr8928l4', '2407jr8929l4', '2407jr8932l4', '2407jr8934l4', '2407jr8938l4', '2407jr8939l4', '2407jr8940l4', '2407jr8943l4', '2407jr8946l4', '2407jr8948l4', '2407jr8949l4', '2407jr8950l4', '2407jr8952l4', '2407jr8953l4', '2407jr8954l4', '2407jr8955l4', '2407jr8957l4', '2407jr8959l4', '2407jr8960l4', '2407jr8961l4', '2407jr8963l4', '2407jr8965l4', '2407jr8967l4', '2407jr8968l4', '2407jr8969l4', '2407jr8970l4', '2407w00443l4', '2407w00570l4', '2407w01029l4', '2407w01141', '2407w01141l4', '2407w01325l4', '2407w01482l4', '2407w01967l4', '2407w02146l4', '2407w02237l4', '2407w02451l4', '2407w02582l4', '2407w02613l4', '2407w02871', '2407w02871l4', '2407w03021', '2407w03021l4', '2407w03099l4', '2407w04032l4', '2407w04062l4', '2407w09066l4', '2409', '241', '24106', '2412016', '2417', '2419', '242', '2421', '243', '244', '24401', '24421', '245', '246', '2467', '247', '2470', '248', '248851', '248876', '249', '2490', '249559', '24961', '249sf3301', '24am', '24pm', '25', '250', '2500', '2501', '2505', '251', '252', '2523', '25248', '253', '253507', '254', '2549', '255', '25540', '255607777', '255t', '256', '257', '258', '2580', '258732', '2587785', '258850', '259', '25928', '259326', '25985', '25a', '25am', '25i', '25pm', '25th', '26', '260', '2600', '2601', '2608', '261', '261201', '2616', '262', '263', '2636', '264', '2646', '2646mb', '2647', '265', '2653', '2655', '266', '2664', '2666', '266q00dr1', '267', '26706', '26730', '26789', '268', '26876', '268927', '269', '26923', '26925', '26926', '26928', '26929', '26930', '26931', '26932', '26933', '26936', '26938', '26940', '26941', '26942', '26943', '26944', '26945', '26950', '26954', '26955', '26963', '26965', '26967', '269671', '26968', '26969', '26971', '26972', '26973', '26974', '26975', '26977', '26981', '26982', '26984', '26987', '26988', '26993', '26994', '26995', '26996', '26997', '26998', '26999', '26am', '26pm', '27', '270', '27001', '27002', '27004', '27006', '27010', '27012', '27013', '27014', '27015', '27016', '27017', '27018', '27036', '27039', '27040', '27044', '27045', '27046', '27047', '27048', '27050', '27053', '27054', '27056', '27057', '27059', '27062', '27067', '27068', '27070', '27072', '27075', '27077', '27080', '27081', '27085', '27086', '27088', '27089', '271', '272', '272269356', '2727', '273', '2730561', '273099', '274', '274441', '275', '27511', '276', '278', '279', '279406', '27am', '27p', '27pm', '28', '280', '280261', '281', '2811', '28198', '282', '28270', '2834', '2839411457', '284', '28423962', '285', '285541', '286', '28609851', '286799', '287', '28767284', '288', '28820036', '2889', '2895991', '28am', '28pm', '28th', '29', '290', '2900', '2909', '291', '29103001002252930', '2913', '292', '2925', '293', '294', '295', '2951491', '2953320991j', '2958', '2963', '297', '2970', '2971', '298', '298595', '29_', '29am', '29pm', '29th', '29tulsa', '29wadehambrick', '2_', '2a', '2aj', '2amouot', '2b', '2c1', '2c3ccaet3ch136656', '2c5p', '2cf', '2cj', '2cu', '2d', '2f', '2f1', '2fl', '2h', '2hour', '2i', '2in', '2j', '2l', '2lill', '2ll23s', '2m', '2nd', '2o', '2o11', '2oe', '2of', '2otv', '2pk', '2ply', '2printed', '2r', '2s', '2s1', '2s2', '2s8', '2sa', '2sb', '2ss', '2t', '2tk87332gt962253u', '2tvne', '2tvoe', '2type', '2u23s', '2y', '2yr', '30', '300', '3001', '30011', '30012', '300530107110', '30053010711000000002842530000184290000184292', '3009', '300953', '300c', '301', '3010', '3013', '3015', '302', '3020', '3021', '3022', '3028912', '303', '304', '304642', '3047', '305', '305954', '306', '306450', '3069', '307', '3072', '308', '3083', '3084', '309', '3093', '30j3', '30pm', '30th', '31', '3100', '31016', '311', '3111', '31111', '31119409', '3111e', '311201', '3112461', '311lq', '312', '312016', '31227', '3122742000', '3123', '313', '313025', '314', '3145', '31457', '315', '3152mb', '316', '3163', '31683', '3168398', '316885', '317', '317313', '318', '319', '3191761', '319916917', '319s', '31am', '31custgarmprog', '31o1', '31pm', '31st', '31ua', '31ue', '32', '320', '3200', '32013', '320160930840996806', '320160970900393476', '320160970904827333', '320160970914791390', '320160970914891438', '320160980916846635', '320160980920969965', '320160980926131402', '320160980928042665', '320160990933879752', '320160990943759793', '320161000964967640', '320161050040130565', '320161130172089135', '320161130174374995', '320161130182763428', '320161130182847140', '320161140187655788', '320161140191944416', '320161140198271997', '320161170236022671', '320161170238022671', '320161200296487913', '320161210312257707', '320161210316134906', '320161240352217965', '320161240354587359', '320161250372141933', '320161250381316470', '320161260391868256', '320161260395358045', '320161260397669901', '320161270406580134', '320161270417709279', '320161310478417924', '320161320491180194', '320161330515946663', '320161350552396696', '320161380608622392', '320161400636287030', '320161410644506341', '320161430687717845', '320161470747780767', '320161470755663418', '320161480766965313', '320161530855675244', '320161540862062087', '320161550897836851', '320161610994807567', '320161620004628369', '320161620011430434', '320161630028052575', '320161740214657871', '320161770266389769', '320161790291424804', '320161810313466764', '320161810316195409', '320161810320382015', '320547', '32073', '321', '321048', '3213', '3217', '3218', '322', '3225321', '3227', '323', '3232', '3245', '325', '325796', '326', '3266', '3267', '3268', '3268961', '327', '3275', '3276', '328', '3282', '3287', '329', '32_', '32pm', '33', '330', '3300', '3300554064', '3301', '3301693030', '3301693830', '3302434391', '3303375810', '3303375811', '3304', '330450', '3306201595', '3306201596', '3307100928', '3310', '3315', '332', '3321', '333', '3334', '3335', '333w', '334', '3340', '33411', '334278', '334397', '335', '3350', '336', '3363', '3365', '337', '337155', '337849', '338', '339', '3390816', '3391', '3395', '33am', '33ir', '33m', '33n1', '33nl', '33nt', '33rd', '34', '340', '3405', '3409', '341', '3417541', '341b', '343', '344', '3446', '345', '3453', '346', '347', '3477', '348', '3480', '348001', '3487', '349', '3491', '3496', '34am', '34o', '35', '350', '3500', '3505', '351', '3510', '3511', '3513', '3513000061l3', '3513000548l3', '351300063013', '3513000630l3', '3513000769l3', '351300097213', '3513001112l3', '3513001115l3', '351300111613', '351300112813', '3513001162l3', '3513001302l3', '3513001304l3', '3513001342l3', '3513001386l3', '3513001387l3', '3513001394l3', '351300139713', '351300139813', '3513001403l3', '3517', '352', '3523', '3527', '3528', '353', '354', '355', '355b', '356', '356844', '357', '357578', '358', '3583', '359', '35am', '35pm', '36', '360', '3601', '360l', '361', '3610', '36103354', '3613', '3613361', '3616', '361810', '361910', '362', '3621', '3626', '3628', '363', '3637', '364', '365', '3658', '366', '367', '3670848', '3679', '367954', '36870', '3689', '36m', '36th', '37', '370', '3700', '370505', '3706', '3713', '3714', '371654', '3717', '372', '372006', '3722', '3725', '372548', '372675', '3727', '373', '374', '37471', '375', '3754', '3756', '376', '376mb', '377', '3786', '379', '3790', '3796', '37am', '37pm', '38', '380', '3800', '3802', '381', '3810', '3811', '38138', '382', '383', '3835', '3838', '3839', '384', '384753530', '38475353012223334444', '385', '3858', '386', '387', '388', '38810015', '389', '389531', '3896', '38am', '38qo', '39', '390', '3900', '3902', '390641', '3909', '3914', '3919', '392', '3924', '3930', '394', '395', '3959', '396', '396444', '397', '397755', '398', '3981', '39814', '3982', '3983', '398495', '398731', '399', '3997', '39am', '39cr', '39pm', '39th', '3_', '3_1lj_ennis', '3_80', '3_e', '3bo', '3c', '3ca', '3ccickl', '3co', '3ct', '3d', '3dooc', '3eb76652', '3es', '3f', '3fil', '3g', '3gc', '3gdata', '3gdma', '3h', '3i', '3ij', '3jf1', '3jf1oklahoma', '3jn', '3la', '3le', '3na84887', '3ni', '3o', '3ot', '3oth', '3rd', '3shown', '3t', '3v6', '3wi', '3xl', '3y', '3yd', '3µ', '40', '400', '4000', '40000045787', '40000049706', '40000049707', '40000049708', '40000049709', '40000049710', '40000049711', '40000049712', '40000049713', '40000049714', '40000049715', '40000049716', '40000049717', '40000049719', '40000049720', '40000049722', '40000049723', '40000049724', '40000049725', '40000049726', '40000049727', '40000049728', '40000049729', '40000049730', '40000049731', '40000049732', '40000049733', '40000049734', '40000049735', '40000049736', '40000049737', '40000049738', '400077', '401', '40100480600', '4011', '4013', '4013191', '40142', '4015', '4019941', '401k', '401st', '402', '40200459800', '40290', '40293', '4029357733', '40293sm3', '403', '4031', '40311', '40315', '4031c', '4031s', '403737', '403w33rd', '404', '404188', '405', '40500467700', '4052327227', '4052729898', '4053156317', '4054781234', '4055', '4055nvc', '4056317587', '4056351235', '4056989926', '4057489474', '405snvc', '406', '40600488500', '407', '40700465500', '40742', '408', '40800468000', '409', '40900432300', '409837', '40am', '40e', '40f', '40l', '40ll', '40pm', '41', '410', '4100', '41006943', '4104', '4105', '410791', '411', '4110', '41100143500', '4111', '41111', '41114', '4114', '4116', '411647', '4118', '412', '41200456400', '4130', '41300470600', '4132', '4133', '414', '4140', '41400463100', '4141', '4148', '415', '41500476400', '4151731', '4159', '416', '41600444700', '4164', '417', '4170', '4171', '41711', '418', '4181', '419', '41900437000', '41a', '41am', '41e', '41pm', '42', '420', '42000', '42000459900', '420900', '420943', '420958', '421', '42100462100', '4214', '4215', '422', '42200459300', '422078', '4222', '4225', '422768', '4229', '422_', '423', '42300400000', '423087', '423192', '4234', '423674', '423774', '424', '4241', '4243', '4244', '4249', '425', '4251', '42600439300', '4266', '427', '428', '42800445200', '429', '42900451600', '42am', '42pm', '43', '430', '4300', '4300541', '430627', '4308', '431', '4311ed', '431689', '4318', '432', '4321', '433', '4331', '4332', '4348', '435', '4350', '436', '437', '4370', '437002', '438', '439', '439733', '43am', '43pm', '44', '440', '4400', '4401', '441', '44114', '4414', '4417', '441d', '4421', '4422', '4423181', '4424', '443', '4436381', '444', '4442', '4444', '444968', '4453', '446', '4461', '4466', '446968', '447', '4470', '44701', '447844', '44795', '448', '4484', '448785', '449', '4491', '44am', '44m', '44p', '44pm', '45', '450', '4500', '450964', '451', '45140', '4518', '452', '45371', '454', '4541', '455', '45570472', '45577060', '456', '4566', '4568', '4575', '458', '459', '4591', '45964534', '45984534', '45am', '45pm', '46', '460', '4600', '461', '4616', '461661550015', '4616615500l5', '461661550115', '4616615504l5', '4616615506l5', '461661550dl5', '4616615511l5', '4616615512l5', '4616615513l5', '4616615514l5', '461661551515', '461661551615', '4616tm390900', '462', '46281', '463', '4636461', '4637', '464', '465', '4655', '466', '4664', '46680', '467', '468', '4681', '468224', '468441', '46am', '46pm', '47', '470', '4700', '47012817', '470168', '4705', '47082', '471', '4711', '4718', '472', '4725', '4732', '474', '475', '4752', '476', '4767', '477', '4777', '478', '47803098', '478405', '479', '47pm', '48', '480', '480171', '481', '4815', '4817721', '4818', '4819', '482', '4823', '483', '48326', '4834', '48380', '484', '4840', '484656', '4848', '485', '4850d', '48516', '48568', '486', '487', '487835', '488', '488028', '488866', '489', '4891', '48am', '48pm', '49', '490', '4900', '491', '4914', '4916', '493', '4935', '493907', '493942', '494399', '495', '496', '497', '4971mb', '498', '49825', '499', '49am', '49p', '49pm', '4_177', '4bs', '4cg4', '4cjll', '4cl', '4cnj', '4d', '4ddress', '4e', '4ff', '4g', '4glf', '4hexnutuss', '4i', '4j', '4l', '4l4', '4mm', '4mmtape', '4n', '4o', '4or8', '4or8mm', '4p', '4ppro', '4qlj', '4r', '4s', '4squarecove', '4squarecover', '4t53am', '4te', '4th', '4wol1l', '4x1hexbolt', '4x6', '4zc', '50', '500', '5000', '5001', '50010', '500101', '500108', '50010d', '50010e', '50010s', '50011', '500111', '50011299', '5002', '50020', '500201', '5002023', '500203', '500205', '5002051', '500205i', '500206', '5002061', '500206j', '50020_', '50020c', '50020e', '50020f', '50020s', '50020t', '5002ds', '500lll', '501', '5010s0l', '5012', '5016761', '5018', '502', '502167', '503', '50300450700', '5038171', '503ft', '504', '50431', '50463', '50500460100', '5059', '506', '50600465300', '506253', '507', '50700419700', '507072', '50765727', '50766033', '50766875', '507668751', '50767163', '50767971', '50768273', '50769089', '50769377', '50770161', '50770181', '50770476', '50771289', '50771573', '50772350', '50772647', '50773449', '50773734', '50774518', '50774814', '50775615', '50775901', '50776682', '50776979', '50777780', '50778062', '508', '509', '509384', '50am', '50frtem', '50pm', '50th', '51', '510', '51000426500', '5100a02', '5104', '5104a01', '5105a01', '5105toi', '5109', '511', '51100453000', '5110toi', '5111', '5111ite', '511326', '511368', '5115a01', '5115a02', '5115toi', '5117a01', '5118', '511891', '511952', '5119aoi', '5119toi', '511c', '512', '51200443600', '5120a02', '5125a02', '5125aoi', '5125toi', '5126a02', '513', '51300444700', '51300453400', '5130a01', '5130a02', '5135a01', '5135t01', '514', '51400399800', '51400441400', '5140a02', '514853', '515', '5150a01', '5150a02', '5159d01', '5159toi', '516', '51600145300', '5160a02', '5161001', '5161aoi', '5161toi', '5163aoi', '5164d01', '5166aoi', '5166toi', '5168t01', '51700426100', '5172aoi', '517794', '517a', '518', '51800448700', '5180a01', '5181001', '5182001', '5182571', '519', '51900444100', '51900446100', '519106', '5194mb', '51am', '51coc', '51h', '51i', '51ll5', '51pm', '51st', '52', '520', '5200', '5202aoi', '5203', '520586', '5209', '520a2', '521', '52100401500', '521234', '5212349', '5214', '5215', '521b', '522', '52200206800', '522084', '5221', '5228', '523', '5239', '524', '52400417300', '5241', '524759', '525', '52500440000', '52500443900', '5251', '5259', '526', '52600432700', '52600439200', '527', '52700439200', '527261', '527570', '528', '52800381400', '52800434500', '528237', '529', '52a', '52am', '52pm', '52s', '53', '530', '530433', '531', '5311901', '532', '5326', '533', '534', '5345', '535', '5362', '537', '5371mb', '5379', '538', '539', '53am', '53pm', '54', '540', '5400', '541', '5412', '5415', '542', '542929800259640', '5429298tulsa', '542929btulsa', '544', '5444', '546', '5460', '5463', '547804', '548', '548104', '549', '5490', '54933936', '5498', '54am', '54pm', '55', '550', '551', '552', '553', '5531', '55395', '555', '5550', '5555', '5555555', '556', '5560925', '5560966', '557286', '558', '559', '55am', '55j', '55pm', '56', '560', '56046252ae', '561690', '562', '562512159', '562730', '563', '565', '56560', '566', '5665', '5673', '5678', '567848', '568', '56am', '56pm', '56th', '57', '571', '571831', '572', '5726', '573', '574', '57442705208', '5744270520edmond', '575', '576', '576349', '578', '579', '5790', '57926077404', '57a', '57am', '57pm', '58', '580', '5800', '581', '581672', '582', '5828', '583', '583j2o', '584', '584277', '586', '5861', '587', '587349', '588', '58829', '5886', '5888', '589', '589493', '5898', '58am', '58pm', '59', '591', '593', '594', '595', '5957', '596', '597', '598', '5984', '5987', '599', '59am', '59p', '59pm', '59th', '5_', '5_fu_9', '5a', '5b7', '5c', '5c59', '5cbn', '5dateffime', '5e', '5ervic', '5g', '5hz', '5mm', '5nvc', '5o', '5of', '5pm', '5q', '5t', '5t1o1', '5th', '5upplfer', '5vo', '5w20', '5x', '5yo', '5z731', '60', '600', '600005', '6001', '601', '60100448700', '6011', '6014', '60197', '602', '60200458200', '603', '60300448000', '6031', '6035322503420535', '604', '60400408000', '6041', '605', '60558637', '6058', '606', '60660', '60680', '60696', '607', '60700421800', '60719', '6079', '608', '60800433300', '609', '60900428600', '6092', '609474', '61', '610', '61000426100', '6100aoi', '6100toi', '6101a01', '6105a02', '6105aoi', '6106001', '6108aoi', '6109aoi', '611', '6110', '61100390200', '6111', '6115aoi', '6115eoi', '6115t01', '612', '6128116', '613', '6132a01', '613760', '613891', '613898', '614', '61400410400', '61401918', '615', '6150', '61500426400', '6152', '615504l5', '615506l5', '615511l5', '615512l5', '615513l5', '615514l5', '61551515', '61551615', '61592', '616', '61600424800', '617', '61700427900', '618', '61800377400', '6187', '618898', '619', '61_0', '61st', '62', '620', '6203', '621', '62100404600', '622', '62200422800', '6220923', '6225', '623', '62300407500', '6242', '625', '626', '6261', '62611', '62613', '62614', '6261j', '6262', '626h', '626li', '626q', '627', '6276', '6276901', '628', '6281', '62811', '62813', '62814', '6281l', '6287', '628q', '629', '62900434400', '6291458', '6293', '62nd', '63', '630', '6300', '63000429700', '6301', '6303', '6305', '63080', '631', '6311', '63132', '6317', '632', '6321', '6321466', '632302', '633', '6333', '6344', '6345', '635', '636', '6368', '639', '6391', '63n1', '63rd', '64', '640', '6400', '64000020', '6401', '641', '64121', '643', '64333', '644', '64460', '64461', '64638', '647', '6478', '649', '65', '650', '650000001205528', '65000000120edmond', '650000004932482', '650000006420023', '650000007828075', '6500000tulsa', '6501', '6502', '651254', '651256', '652', '653', '654', '6546', '655', '6564', '6566', '6567', '6568', '657', '6575', '658', '66', '660', '660481', '6606', '661', '6616', '6618', '6618c', '662512159', '662512169', '6631', '6632', '663505', '663516', '664', '665', '666', '6663', '667', '668', '67', '670', '67041', '671', '6727', '673', '6731', '673jlo', '675', '6751', '6756', '676', '677', '6771', '677319', '678', '679', '68', '680', '6801', '68071668aa', '68079744ad', '681', '68128', '682', '68218890ab', '682341567', '682341667', '6824', '6825', '683', '6839', '684', '685', '6853', '686', '687', '6870', '688', '689', '68_90', '69', '690', '691', '692', '69228__t', '6924', '6926', '6929', '693', '694', '695', '696', '698', '698458', '699', '6999', '6_0_9', '6_261', '6_iol6', '6ae', '6confidential', '6f', '6i', '6iooa02', '6it1', '6itiountt', '6jale', '6l', '6na70851', '6p', '6perations', '6pnd', '6th', '6tl12f17', '6u', '6ut', '6z', '70', '700', '7000001', '70004', '7000a01', '7000a02', '7005001', '7005a01', '7005a02', '7005toi', '701', '70102917', '7010a01', '7010t01', '7015aoi', '7015toi', '702', '7020001', '7020a02', '7020aoi', '7020toi', '703', '7033', '704', '7045aoi', '705', '7050001', '7050a02', '7050aoi', '7050toi', '7055a02', '7055aoi', '7055toi', '706', '7060a01', '7060a02', '7060toi', '7061a02', '7061toi', '7065aoi', '706iaoi', '707', '7070aoi', '7072', '7072aoi', '7073aoi', '7076aoi', '708', '7081', '709', '70cr', '71', '710', '7100z', '710155', '7101aoi', '7102a02', '7102aoi', '7102toi', '71035246336', '7103aoi', '7103toi', '7104aoi', '7105aoi', '711', '7111', '7112', '71125', '71125775', '7112aoi', '7115', '7117', '712', '7120aoi', '7121001', '7121toi', '7122aoi', '7122toi', '712645', '712775', '712iaoi', '713', '7130', '714', '71422bmi', '715', '7150001', '7150a02', '7150aoi', '7150eoi', '7153aoi', '7153doi', '7154751522', '7155647966', '7156717265', '7158263613', '716', '717', '7170aoi', '7175aoi', '7177a02', '7177aoi', '7177toi', '718', '7180aoi', '7180doi', '7180toi', '7181aoi', '7185', '719', '7190aoi', '7191aoi', '7191toi', '7192aoi', '7192toi', '71o', '71sotoi', '72', '720', '7200', '720114', '720701', '721', '7210786', '7210813', '7212', '722', '7221', '72215', '72219', '722396', '722l', '722lj', '724', '725', '726', '726023', '727', '728', '7281', '729', '73', '730', '73003', '73012', '73013', '73013us', '73014', '73017', '73025', '73034', '7304', '73044', '73083', '731', '73101', '73102', '731020620717', '731026002', '73103', '73104', '731040620834', '731044216', '73105', '73106', '731061201', '73108', '73109', '7311', '73110', '73110of', '73111', '73112', '73114', '731142724', '73116', '73118', '731185418', '73120', '73124', '73125', '73126', '73127', '73129', '7313', '73131', '73134', '73135', '73136', '731384', '73139', '731399', '73147', '73149', '73159', '731594', '73179', '7319', '731901', '732', '733', '7337', '734434', '735', '736', '7363', '736351', '738', '739', '74', '740', '7401', '74012', '74013', '74014', '74037', '7406', '74063', '741', '74103', '74104', '74105', '7411', '74113', '74116', '74117', '74119', '7412', '74120', '74121', '7413', '74134', '74135', '74136', '741362', '74137', '74147', '74172', '74182', '742', '7420', '743', '7432', '74454', '745', '7453', '746', '747', '748', '74834', '749', '74th', '75', '750', '7500', '75039', '7509', '751', '751g', '752', '75266', '75267', '753', '75373', '754', '75410', '755', '7552', '7554', '7559', '756056', '7561', '7562', '7575', '758', '759', '7597', '7598', '76', '760', '7600', '761', '76102', '76240', '765', '7656', '767', '76700000007', '7670000001149', '7670000001292', '7680', '7686', '7687', '7688', '7689', '769', '7690', '7698', '76item', '77', '770', '7700', '77002', '77064', '77067', '7708', '77084', '771', '7713', '772', '7733', '774', '7741', '77437', '77491', '775', '7755', '776', '7761', '776280305198', '777', '7775', '778', '7781', '7785', '778i', '778s', '779', '7799', '77a1', '78', '7800', '78047', '7805', '781', '783', '784', '785', '7854', '7855', '786', '7869', '787', '7871', '7874', '787_', '78829', '789', '7891', '7897', '78v1', '79', '790', '791', '792', '7923', '793', '794', '795', '796', '797', '798', '799', '7_99', '7aijct', '7am', '7au', '7b', '7c', '7cuiu1i', '7d', '7f', '7f101887m8283861s', '7fl', '7fv', '7h', '7h386808', '7i', '7ij', '7j', '7l', '7llil', '7n', '7o', '7o_s', '7os', '7q', '7qs', '7t', '7t5', '7th', '7v', '7y', '80', '800', '8001', '80040', '801', '8013', '80130', '8018', '802', '8023', '803', '804', '8041', '8047', '805', '8050', '8050aoi', '8053', '8054', '806', '80689', '8070', '8076', '8076mb', '8077', '808', '8086', '809', '80916', '8094', '809474', '80g', '80l', '81', '810', '8100', '8100sq', '8102', '8111', '8111ed', '811378', '8118', '812', '813', '814', '8144', '815', '8150', '8154', '816', '8164', '8164829', '817', '818e', '819', '8194', '81h', '82', '820', '82003', '82003042', '82003092', '82003140', '82003m', '82012419', '82012n1', '821', '822', '8222', '823', '824', '8245', '8248', '8249', '825', '8251', '826', '8264', '827', '8272', '8278', '828', '828074', '828886', '829', '82_', '83', '830', '8300', '830481', '8306', '8309452', '831', '8319', '832', '8326', '833', '834', '8346', '836', '8368', '83689', '837', '838', '8388', '84', '840', '840140', '8409', '841', '843', '844', '845', '8451', '8455', '846', '847', '8474', '848', '849256762881', '849256767880', '85', '850', '8506', '85062', '851', '8515', '852', '85250', '853', '8538', '854', '857', '859', '85th', '86', '860', '861', '862', '862915', '863', '8646', '865', '866', '86634', '86641', '8669430081', '867', '8671', '868', '86j', '87', '870', '87022909', '87022919', '87024', '87024848', '87027527', '87041', '87041959', '870419m', '8708', '871', '8716', '872', '873', '874', '8741', '875', '877', '879', '88', '880', '8806', '881', '8811', '881312226008c', '881d', '882', '8829', '883', '883451', '884', '8840', '8851', '887', '8876', '887854', '888', '8880', '8888', '889', '88901', '89', '890', '8900', '891', '892', '8927', '893', '894', '895', '8955mb', '896', '8964', '897', '898', '899', '89th', '8a', '8am', '8ff', '8fflil', '8holl', '8jt2', '8l', '8mm', '8ol', '8ppl', '8re', '8t', '8tjement', '8xx', '90', '900', '9000', '9000228', '9001908', '900w', '901', '90127', '901270', '9019254908', '9019405981', '9019496832', '9019503724', '9031', '904', '90506402', '906', '90623873114', '907', '908', '909', '90cr', '91', '910', '910731', '910763', '9109', '911', '91106860', '9112', '912', '9121', '91214', '9121i', '9126', '913', '913080', '9131', '913662', '913849', '914', '915', '915b7', '916', '917', '918', '9183888080', '9185828282', '9185925825', '919', '91d', '91jng', '92', '920', '9201', '921', '921320', '9214', '922', '92373', '924', '925', '9254', '9256', '926', '927', '9274', '9279', '928', '929', '9296', '92i', '92il1', '93', '930', '9300', '931', '93148417', '932', '9325', '935', '93554838', '936', '937', '9378', '938', '93843', '939', '94', '940', '9400', '9406650218', '941', '942', '942772', '943', '94356', '944', '945', '94583', '946', '947', '9474', '948', '949', '9494', '949523145', '95', '950', '9500', '9501', '9502', '950970', '951', '95131', '95190', '952', '95217', '9526', '953', '95316', '95340', '954', '955', '9553', '956', '95686042201', '958', '959', '96', '960', '962', '9621', '966', '9663', '967', '968', '9684', '969', '9698060', '96g', '97', '970', '97000', '971', '97100', '97100931', '97151ab05', '972', '97208', '97280', '974', '9746', '9746mb', '975', '976', '977', '9779', '978', '979', '98', '980', '9800', '981', '982', '984', '985', '986', '987', '9877', '988', '989', '9898', '989988', '98cr', '99', '990', '9900', '9901', '9906', '991', '9919999', '992', '9920', '99253', '993', '994', '995', '996', '997', '998', '9988', '9989988', '998s988', '999', '999085', '9998', '9999', '999999', '9999999', '99cj', '99tj', '9_6', '9bpr', '9d', '9e', '9ea', '9fi', '9i', '9i1', '9it', '9j', '9jite', '9jw', '9l8', '9loz', '9n', '9o', '9p7m', '9ris', '9s', '9sb', '9th', '9tt', '_0', '_016', '_0______', '_0_q', '_1', '_100', '_11', '_122', '_13_', '_1400', '_16', '_1ate', '_1jjj', '_2', '_201', '_2011', '_20170104084700', '_20170104084850', '_20170104085331', '_20170106085445', '_20170111082406', '_20170111082856', '_24', '_27', '_2_', '_2l', '_3__', '_42v', '_51', '_5yr_j02016confidential', '_62512159', '_68', '_7', '_8_', '_9', '__', '__0', '__1', '__3_', '__5', '__9', '___', '___3__', '____', '_____', '______', '_______', '________', '_________', '__________', '___________', '____________', '_____________', '______________', '_______________', '_________________', '__________________', '___________________', '______________________', '____________________________', '_____________________________', '______________________________', '________________________________', '_________________________________', '___________________________________', '____________________________________', '___________date', '___________emp', '_______date', '_______salesman', '______email', '_____date', '_____will', '_____zip', '____amt', '____j', '____oate', '___f', '___i', '___j', '__b_o_x__4_7_0_1_6_8', '__bank', '__c_svconfidential', '__d', '__date', '__f_', '__fi1', '__homedepot', '__i', '__i_q_t', '__j', '__l', '__months', '__no', '__o', '__o_', '__o_k__7_4_1_4_7_______________', '__s3rj4', '__s__', '__su__m____payment_________', '__t_u_l_s_a', '__tij', '__year', '__yes', '_a', '_alh_yo', '_b_o_k_e_r', '_b_p', '_bffe', '_binformahtion', '_c', '_c_e_t_r_a_', '_charge', '_co', '_d_a', '_date', '_dj', '_due', '_e', '_e_', '_e_l_', '_el', '_er', '_f', '_fa_i_z', '_ferq', '_fi', '_flrdfr_paymf', '_fq', '_g', '_gtx', '_hi', '_ho_', '_hom', '_homedepot', '_i', '_i1', '_ie', '_ii', '_invoice', '_invoice_detail_list', '_j', '_j_', '_j_3o_j_o_', '_j__', '_jal', '_jefn', '_jjroposals', '_jl', '_jl1', '_jlc', '_joo', '_jryan_20170106085017', '_k', '_l', '_lflj', '_lil', '_lli', '_lz', '_m', '_m_ent', '_make_paym', '_mete_red', '_ml___', '_ml____', '_mlyment', '_msicilian0', '_n', '_n___', '_njttttiipc', '_o', '_o3', '_o_', '_oate', '_oc', '_oo', '_p_o_rt_io_n__', '_page', '_payment', '_q', '_q_', '_qj', '_r', '_r_', '_r_eelace', '_robin', '_s', '_s_', '_services', '_svconfidential', '_t', '_t_c_', '_tj', '_tl_', '_toiicamo', '_u', '_x_', '_yes', '_yp', 'a000000025010801', 'a0000000lj010801', 'a0000c00', 'a1', 'a11', 'a1180817', 'a11e', 'a11k', 'a11y', 'a15e', 'a1605', 'a1606', 'a1607', 'a1aaaa', 'a1e', 'a1es', 'a1k', 'a1tt', 'a2278v1', 'a3', 'a5', 'a6', 'a716', 'a8a11', 'a9', 'a_', 'a____', 'a_l_e_s_t_', 'a_n_d_t_i_m_e_', 'a_t', 'aa', 'aa16', 'aa212491', 'aaa2', 'aaaa', 'aadc', 'aadress', 'aafl', 'aan', 'aar', 'aaron', 'ab', 'abandon', 'abateq', 'abav', 'abba', 'abc', 'abd', 'abel', 'abid', 'abin', 'abl', 'abo', 'abov', 'abr', 'abs', 'absolv', 'abus', 'ac', 'acaljnt', 'acc', 'acc0', 'acca', 'accbss', 'accea', 'acceiv', 'accep', 'acceptaccount', 'acceptcd', 'accesi', 'access', 'accessqf', 'accid', 'accidenml', 'accm', 'accommod', 'accompl', 'accomt', 'accord', 'accord1ng', 'accossoril', 'accotmt', 'accou', 'accoun', 'accounl', 'account', 'accountn', 'accountonlin', 'accountsreceiv', 'accr', 'accredit', 'accru', 'acct', 'acctng', 'accum', 'accuret', 'acenitec', 'aceptac', 'acetoomg', 'acfivilv', 'ach', 'acknowl', 'acknowlcdg', 'acknowledg', 'acknowledgeme11t', 'aclmowledg', 'aclv', 'aco', 'acoount', 'acord', 'acquir', 'acquisit', 'across', 'act', 'activ', 'activhy', 'activim', 'activit', 'activitv', 'activitvl', 'activy', 'actiyit', 'actl', 'actlvltv', 'actlvltvl', 'actlvtty', 'actmty', 'actn', 'actu', 'actualj_', 'acv', 'acy', 'ad', 'adam', 'adapt', 'add', 'addend', 'addenduh', 'addh', 'addi1ianal', 'addit', 'addiuon', 'addl', 'addlt', 'addltl', 'addltl011', 'addltlcn', 'addltlon', 'addon', 'addoo', 'addre55es', 'address', 'address____________p_', 'addt', 'addtl', 'addttk', 'addttl', 'addttlon', 'adelin', 'adend', 'adeposit', 'adequ', 'adfitech', 'adfltech', 'adh', 'adildmal', 'adivid', 'adjjst', 'adjmnt', 'adjust', 'adm', 'admin', 'adminlst', 'admit', 'admlhistratlv', 'admln', 'admlnl', 'admlnlsirnt', 'admlnlstr', 'admthlstratfv', 'ado', 'adopt', 'adress', 'ads', 'adv', 'advant', 'advcmt', 'advers', 'advert', 'ae', 'ae1iltily', 'aeceno', 'aell', 'aep', 'aerosol', 'aet', 'aetiv', 'af', 'af901', 'aff', 'affect', 'affid', 'affidavit', 'affidavit_state', 'affidtwit', 'affirm', 'afflr', 'afford', 'affy', 'afl', 'aft', 'aftd', 'afterho', 'aftermarket', 'aftu', 'ag', 'ag9', 'again', 'age11t', 'age4', 'agenl', 'agerep', 'agerepo', 'aggin', 'aggreg', 'agmt', 'agn', 'agon', 'agr', 'agr11emant', 'agradecemo', 'agrc', 'agrcc', 'agre', 'agrea', 'agrec', 'agree', 'agreeementconfid', 'agreein', 'agreeino', 'agreem', 'agreeme11t', 'agreemend', 'agreemenl', 'agreemenr', 'agreementetween', 'agreen', 'agret', 'agrt', 'agru', 'agtccmerrt', 'ah', 'ah87', 'ahd', 'ahom', 'ahount', 'ai', 'aid', 'aie5', 'aiiateq', 'aiic', 'aiid', 'aiiou', 'aijlt', 'ail', 'ailc', 'ailerho', 'aim', 'aimunt', 'ainount', 'aio', 'air', 'airb', 'airborn', 'aircraft', 'airport', 'airv', 'aisl', 'aixlo', 'aj', 'ajatl', 'ajel', 'ajid', 'ajushjp', 'ak', 'al', 'al1t', 'al605', 'al606', 'al607', 'alarm', 'albuquerqu', 'ald', 'aldlivialon', 'alert', 'alescod', 'aleu', 'alg', 'alhnrwin', 'alicrho', 'alid', 'alj8', 'alk', 'all', 'alleg', 'allet', 'alley', 'allison', 'allison1nmsm', 'alllomll', 'alloc', 'allow', 'allt', 'alon', 'along', 'alr', 'already', 'alrwaybll', 'also', 'alsocy', 'alt', 'altern', 'although', 'alu', 'alumin', 'alw', 'alway', 'am', 'am0', 'amarillo', 'ambigu', 'amc', 'amcunu1', 'amcurt', 'amend', 'amenu', 'amerex', 'americ', 'ametek', 'amex', 'amexaug', 'amexaugust', 'ami003a', 'aml', 'amo', 'amolmt', 'amon', 'amond', 'among', 'amonnt', 'amou', 'amoudt', 'amoun', 'amounl', 'amount', 'amountd_ue', 'amountdu', 'amouol', 'amouot', 'amowl', 'amown', 'amp', 'ampl', 'amql', 'amqu', 'amqun', 'amsttuec', 'amt', 'amy', 'an', 'an4', 'anach', 'anadarko', 'analys', 'analyuo', 'anc', 'ancc', 'anch', 'ancll', 'ancr', 'and', 'and_satisfaction', 'andc', 'andl', 'andrew', 'android', 'andserv', 'andy', 'angel', 'angl', 'angy', 'anificias', 'anim', 'aniount', 'anit', 'ann', 'annd', 'annex', 'annivers', 'annount', 'annroxim', 'annroximates', 'ano', 'anoth', 'anschutz', 'ansport', 'answ', 'answerconnect', 'ant', 'antagod', 'anthony', 'anticip', 'anty', 'anu', 'anv', 'any', 'anyemploy', 'anyon', 'anyth', 'anytim', 'anytltn', 'anywh', 'ao', 'aoa', 'aoach', 'aobnt', 'aocount', 'aodress', 'aof', 'aojustfr', 'aojustm', 'aol', 'aonlyv', 'aool', 'aotab', 'aotlvy', 'aoy', 'ap', 'aparecer', 'apc', 'apcess', 'apf', 'apfhl', 'apo', 'app', 'appear', 'appl', 'applicablp', 'apply', 'appnrd', 'appoint', 'apport', 'appr', 'appra', 'apprecy', 'appro', 'approach', 'appropry', 'approv', 'approxim', 'apprv', 'apprvd', 'appt', 'apr', 'apr1', 'apr20', 'apr24', 'apr5', 'apreciamo', 'april', 'april2016', 'apt', 'aq', 'aqulb1lellls', 'aqwl', 'ar', 'ar1d', 'arbit', 'arbuck', 'arc', 'arch', 'ard', 'are', 'area', 'arg', 'arid', 'aridal', 'ark', 'arkar', 'arm', 'armatulsach', 'armn36lmqjfe', 'army', 'arn', 'aros', 'around', 'arrang', 'arrear', 'arrl', 'arrow', 'art', 'artex', 'artic', 'arty', 'aru', 'arvcst', 'arvest', 'arw', 'as', 'as6e', 'asap', 'asateq', 'ascertain', 'ascrib', 'ashl', 'ashley', 'ashlock', 'ashton', 'asir', 'ask', 'asl', 'asolin', 'asp', 'aspect', 'ass', 'assess', 'asset', 'assigmn', 'assign', 'assist', 'assoc', 'associa1ed', 'associates_', 'associates_201', 'associates_2011', 'assocy', 'assoet', 'asst', 'assum', 'astercard', 'asterisk', 'at', 'at_e', 'at_e_', 'ata', 'atalay', 'atc', 'atch', 'ate', 'ate01', 'atec', 'ateq', 'atf', 'atherfn1', 'atherin', 'atiach', 'atiest', 'atin', 'atl', 'atlach', 'atlv', 'atno', 'atrv', 'attach', 'attempt', 'attest', 'attn', 'attomey', 'attorney', 'attract', 'attribut', 'atv', 'atvest', 'au', 'au11', 'aublllt', 'aucl1orizacion', 'aud', 'audio', 'audiov', 'audit', 'aug', 'august', 'auiopay', 'ault', 'aunqu', 'auow', 'aupply', 'auromatlo', 'aus3n', 'aust', 'autcpay', 'auth', 'autho', 'authoiuzlt', 'authom', 'author', 'authori7', 'authoriz', 'authorizatior1a', 'authorjz', 'authoro', 'autmnatical', 'auto', 'autoklahom', 'autom', 'automatic', 'automaticallyrenew', 'automatico', 'automax', 'automobl', 'auu1ority', 'av', 'av0', 'ava', 'avail', 'aven', 'avenu', 'aver', 'avet', 'avg', 'avoid', 'avold', 'avto', 'avw', 'aw', 'award', 'away', 'awayphon', 'awn', 'ax', 'axio', 'axp', 'ay', 'ayc1', 'aymnt', 'ayold', 'az', 'azc', 'b0', 'b00', 'b01i', 'b0x2', 'b0x24421', 'b1', 'b1111ng', 'b1tentio11a', 'b2t', 'b300', 'b3k', 'b4i013', 'b6', 'b825', 'b8woif', 'b_', 'ba', 'baa', 'bac', 'back', 'background', 'backord', 'backup', 'bad', 'badg', 'baf', 'bag', 'bahm', 'bail', 'bailey', 'bal', 'balajy', 'balon', 'bambrick', 'ban', 'banard', 'bancins', 'banclns', 'banco', 'bank', 'bankru1', 'bankruptcy', 'bant', 'bapt', 'bar', 'barb', 'barbar', 'barcod', 'barcodeproc', 'barcodeprocess', 'barnet', 'bartode', 'bas', 'bass', 'bat', 'batch', 'batchuplddetail', 'batchupldsu', 'batdl', 'bath', 'batiery', 'battery', 'batween', 'bau', 'bawc', 'bay', 'bb94r750aa', 'bbq', 'bbs', 'bc', 'bcr', 'bdow', 'be', 'beach', 'bear', 'beard', 'beav', 'bec', 'becam', 'becaus', 'becky', 'becom', 'bee', 'been', 'bef', 'begin', 'behalf', 'behalfof', 'behavy', 'behlg', 'behveen', 'bei', 'bel', 'believ', 'belo11', 'belong', 'below', 'beltw', 'beltway', 'beltways', 'belween', 'ben', 'bench', 'benea', 'beneficy', 'benefit', 'bep', 'ber', 'berg', 'beset', 'besid', 'best', 'bet', 'beth', 'betw', 'betwee', 'betwee1', 'between', 'bev', 'bey', 'beyond', 'beyot', 'bf', 'bfghfllf', 'bfiol', 'bfll', 'bflling', 'bfltj', 'bfwadway', 'bg', 'bg00010000009779', 'bgjf', 'bhi', 'bi', 'bi110', 'bid', 'big', 'bii', 'biihng', 'biiiaby', 'biiitq', 'biil', 'biiy', 'bil', 'bill7', 'billerweb', 'billin', 'billinfo', 'billit19', 'billlng', 'billpay', 'bim', 'biml', 'bin', 'bind', 'bindinq', 'bir', 'bishop', 'bistgjs', 'bit', 'biu', 'biuq', 'biuqty', 'bjfl', 'bk', 'bkf', 'bktie20p', 'bl', 'black', 'blackith', 'blak', 'blake_201', 'blake_2011', 'blakeam', 'blakf', 'blalleep1', 'bland', 'blank', 'blanket', 'blaveamiblakec', 'blddrs', 'bldg', 'ble', 'bledso', 'blfl', 'bli', 'bliley', 'blll', 'block', 'blog', 'blow', 'blu', 'bluecross', 'blueharborsl', 'blueprint', 'blueshleld', 'bluff', 'blumenth', 'blvd', 'bm', 'bmag', 'bmap', 'bmcrgency', 'bms', 'bn', 'bnn', 'bo', 'board', 'boat', 'bob', 'bobhowardauto', 'boc', 'bock', 'bodin', 'body', 'boeckm', 'bof', 'bofaus6', 'bohanon', 'boil', 'bok', 'bokf', 'bol', 'bold', 'bolt', 'bolu', 'bom', 'bon', 'bond', 'boo', 'book', 'boom', 'boomerang', 'boost', 'borrow', 'boston', 'bot', 'both', 'bottom', 'boulevard', 'bound', 'bout', 'bowbel', 'box', 'box21040', 'box24421', 'box26730', 'box563', 'boxley', 'bp1', 'bpb', 'bqond', 'br', 'br0adway', 'bra', 'bradford', 'brak', 'branch', 'brand', 'brandon', 'breach', 'bread', 'break', 'bret', 'brfad', 'bri', 'bricktown', 'bridg', 'bring', 'britton', 'brn', 'bro', 'broad', 'broadcast', 'broadnay', 'broadway', 'broch', 'brog', 'brok', 'brokenarrowok', 'brook', 'broth', 'brought', 'brown', 'broyl', 'brummet', 'bry', 'bs', 'bt', 'bta', 'bteach', 'bttp', 'btu', 'btw', 'bu', 'bual', 'budget', 'budyet', 'bue', 'buffalo', 'build', 'built', 'bul', 'bulb', 'bulk', 'bullock', 'bun', 'bur', 'burd', 'burgl', 'burton', 'bus', 'busin', 'businea', 'busy', 'button', 'buy', 'buyou', 'buyout', 'bv', 'bw', 'bw3', 'bwer', 'bx', 'bx00600000011516', 'bx00600000011517', 'bx00600000011518', 'bx00600000011519', 'bx00600000011520', 'bx00600000011521', 'bx00600000011522', 'bx00600000011523', 'bx00600000011524', 'bx00600000011525', 'bx00600000011526', 'bx007', 'bx00740000002026', 'bx00740000002036', 'bx00740000002668', 'bx00740000002687', 'bx00740000023543', 'bx00740000030065', 'bx00740000032041', 'bx00740000032782', 'bx00740000033943', 'bx00740000034260', 'bx00740000037463', 'bx00740000038115', 'bx00740000039913', 'bx00740000041731', 'bx00740000042534', 'bx00740000043553', 'bx00740000043555', 'bx00740000043557', 'bx00740000044103', 'bx00740000045718', 'bx00740000045720', 'bx00740000046428', 'bx00740000046994', 'bx00740000047004', 'bx00740000047151', 'bx00740000048244', 'bx00740000048745', 'bx00740000049002', 'bx00740000049124', 'bx00740000049610', 'bx00740000049637', 'bx00740000049638', 'bx00740000049639', 'bx00740000049640', 'bx00740000049641', 'bx00740000049642', 'bx00740000049643', 'bx00740000049644', 'bx00740000049645', 'bx00740000049646', 'bx00740000049647', 'bx00740000049648', 'bx00740000049649', 'bx00740000049650', 'bx00740000049651', 'bx00740000049652', 'bx00740000049653', 'bx00740000049654', 'bx00740000049655', 'bx00740000049656', 'bx00740000049657', 'bx00740000049658', 'bx00740000049659', 'bx00740000049660', 'bx00740000049661', 'bx00740000049662', 'bx00740000049663', 'bx00740000049664', 'bx00740000049665', 'bx00740000049666', 'bx00740000049667', 'bx00740000049668', 'bx00740000049669', 'bx00740000049670', 'bx00740000049671', 'bx00740000049672', 'bx00740000049673', 'bx00740000049674', 'bx00740000049675', 'bx00740000049676', 'bx00740000049677', 'bx00740000049678', 'bx00740000049679', 'bx00740000049680', 'bx00740000049705', 'bx00740000049706', 'bx00740000049707', 'bx00740000049708', 'bx00740000049709', 'bx00740000049710', 'bx00740000049711', 'bx00740000049712', 'bx00740000049713', 'bx00740000049714', 'bx00740000049715', 'bx00740000049716', 'bx00740000049717', 'bx00740000049718', 'bx00740000049719', 'bx00740000049720', 'bx00740000049721', 'bx00740000049722', 'bx00740000049723', 'bx00740000049724', 'bx00740000049725', 'bx00740000049726', 'bx00740000049727', 'bx00740000049728', 'bx00740000049729', 'bx00740000049730', 'bx00740000049731', 'bx00740000049732', 'bx00740000049733', 'bx00740000049734', 'bx00740000049735', 'bx00740000049736', 'bx00740000049737', 'bx00740000049738', 'bx00740000049739', 'bx00740000049740', 'bx00740000049741', 'bx00740000049742', 'bx00740000049743', 'bx00740000049744', 'bx00740000049745', 'bx00740000049746', 'bx00740000049747', 'bx00740000049748', 'bx00740000049749', 'bx00740000049750', 'bx00740000049751', 'bx00740000049752', 'bx00740000049753', 'bx00740000049754', 'bx00740000049755', 'bx00740000049756', 'bx00740000049757', 'bx00740000049758', 'bx01410000014737', 'bx01410000017597', 'bx01410000017598', 'bx01410000017599', 'bx01410000017600', 'bx01410000017601', 'bx01410000017602', 'bx01410000017603', 'bx01410000017604', 'bx01410000017605', 'bx01410000017606', 'bx01410000017607', 'bx01410000017608', 'bx01410000017609', 'bx01410000017610', 'bx01580000260949', 'bx01580000260950', 'bx24670000025889', 'bx24670000025890', 'bx24670000026264', 'bx24670000026367', 'bx24670000026458', 'bx24670000026615', 'bx24670000026621', 'bx24670000026633', 'bx246700000267', 'bx24670000026749', 'bx24670000026771', 'bx24670000026830', 'bx24670000026921', 'bx24670000026922', 'bx24670000026923', 'bx24670000026924', 'bx24670000026925', 'bx24670000026926', 'bx24670000026927', 'bx24670000026928', 'bx24670000026929', 'bx24670000026930', 'bx24670000026931', 'bx24670000026932', 'bx24670000026933', 'bx24670000026934', 'bx24670000026935', 'bx24670000026936', 'bx24670000026937', 'bx24670000026938', 'bx24670000026939', 'bx24670000026940', 'bx24670000026941', 'bx24670000026942', 'bx24670000026943', 'bx24670000026944', 'bx24670000026945', 'bx24670000026946', 'bx24670000026947', 'bx24670000026948', 'bx24670000026949', 'bx24670000026950', 'bx24670000026951', 'bx24670000026952', 'bx24670000026953', 'bx24670000026954', 'bx24670000026955', 'bx24670000026956', 'bx24670000026957', 'bx24670000026958', 'bx24670000026959', 'bx24670000026960', 'bx24670000026961', 'bx24670000026962', 'bx24670000026963', 'bx24670000026964', 'bx24670000026965', 'bx24670000026966', 'bx24670000026967', 'bx24670000026968', 'bx24670000026969', 'bx24670000026970', 'bx24670000026971', 'bx24670000026972', 'bx24670000026973', 'bx24670000026974', 'bx24670000026975', 'bx24670000026976', 'bx24670000026977', 'bx24670000026978', 'bx24670000026979', 'bx24670000026980', 'bx24670000026981', 'bx24670000026982', 'bx24670000026983', 'bx24670000026984', 'bx24670000026985', 'bx24670000026986', 'bx24670000026987', 'bx24670000026988', 'bx24670000026989', 'bx24670000026990', 'bx24670000026991', 'bx24670000026992', 'bx24670000026993', 'bx24670000026994', 'bx24670000026995', 'bx24670000026996', 'bx24670000026997', 'bx24670000026998', 'bx24670000026999', 'bx24670000027000', 'bx24670000027001', 'bx24670000027002', 'bx24670000027003', 'bx24670000027004', 'bx24670000027005', 'bx24670000027006', 'bx24670000027007', 'bx24670000027008', 'bx24670000027009', 'bx24670000027010', 'bx24670000027011', 'bx24670000027012', 'bx24670000027013', 'bx24670000027014', 'bx24670000027015', 'bx24670000027016', 'bx24670000027017', 'bx24670000027018', 'bx24670000027019', 'bx24670000027020', 'bx24670000027021', 'bx24670000027022', 'bx24670000027023', 'bx24670000027024', 'bx24670000027025', 'bx24670000027026', 'bx24670000027027', 'bx24670000027028', 'bx2467000002702g', 'bx24670000027030', 'bx24670000027031', 'bx24670000027032', 'bx24670000027033', 'bx24670000027034', 'bx24670000027035', 'bx24670000027036', 'bx24670000027037', 'bx24670000027038', 'bx2467000002703g', 'bx24670000027040', 'bx24670000027041', 'bx24670000027042', 'bx24670000027043', 'bx24670000027044', 'bx24670000027045', 'bx24670000027046', 'bx24670000027047', 'bx24670000027048', 'bx24670000027049', 'bx24670000027050', 'bx24670000027051', 'bx24670000027052', 'bx24670000027053', 'bx24670000027054', 'bx25490000000859', 'bx25490000000895', 'bx25490000001164', 'bx25490000002276', 'bx25490000002344', 'bx25490000002347', 'bx25490000002406', 'bx25490000002617', 'bx25490000002774', 'bx26360000002476', 'bx26360000002496', 'bx26360000002553', 'bx26360000002586', 'bx26360000002846', 'bx26360000002957', 'bx26360000003023', 'bx26360000003040', 'bx26360000003114', 'bx26360000003160', 'bx26360000003281', 'bx26360000003300', 'bx26530000003204', 'bx26530000006528', 'bx26530000006531', 'bx26530000006532', 'bx26530000006533', 'bx26530000006534', 'bx26530000006535', 'bx26530000006536', 'bx26530000006537', 'bx26530000006538', 'bx26530000006539', 'bx26530000006540', 'bx26530000006558', 'bx26530000006559', 'bx26530000006560', 'bx26530000006561', 'bx26530000006562', 'bx26530000006563', 'bx26530000006564', 'bx26530000006565', 'bx26530000006566', 'bx26530000006567', 'bx26530000006568', 'bx26530000006569', 'bx26530000006570', 'bx26530000006571', 'bx26530000006572', 'bx26530000006573', 'bx26530000006574', 'bx26530000006575', 'bx26530000006576', 'bx26530000006577', 'bx26530000006578', 'bx26530000006579', 'bx26530000006580', 'bx26530000006581', 'bx26530000006582', 'bx26530000006583', 'bx26530000006584', 'bx26530000006585', 'bx26530000006586', 'bx26530000006587', 'bx26530000006588', 'bx26530000006589', 'bx26530000006590', 'bx26530000006591', 'bx26530000006592', 'bx26530000006593', 'bx26530000006594', 'bx26530000006595', 'bx26530000006596', 'bx26530000006597', 'bx26530000006598', 'bx26530000006599', 'bx26530000006600', 'bx26530000006601', 'bx26530000006602', 'bx26530000006603', 'bx26530000006604', 'bx26530000006605', 'bx26530000006606', 'bx26530000006607', 'bx26530000006608', 'bx26530000006609', 'bx26530000006610', 'bx26530000006611', 'bx26530000006612', 'bx26530000006613', 'bx26530000006614', 'bx26530000006615', 'bx26530000006616', 'bx26530000006617', 'bx26530000006618', 'bx26530000006619', 'bx26530000006620', 'bx26530000006621', 'bx26530000006622', 'bx26530000006623', 'bx26530000006624', 'bx26530000006625', 'bx26530000006626', 'bx26530000006627', 'bx26530000006628', 'bx26530000006629', 'bx26530000006630', 'bx26530000006631', 'bx26530000006632', 'bx26530000006633', 'bx26530000006634', 'bx26530000006635', 'bx26530000006636', 'bx26530000006637', 'bx26530000006638', 'bx26530000006639', 'bx26530000006640', 'bx26530000006641', 'bx26530000006642', 'bx26530000006643', 'bx26530000006644', 'bx26530000006645', 'bx26530000006646', 'bx26530000006647', 'bx26530000006648', 'bx26530000006649', 'bx26530000006650', 'bx26530000006651', 'bx26530000006652', 'bx26530000006653', 'bx26530000006654', 'bx26530000006655', 'bx26530000006656', 'bx26530000006657', 'bx26530000006658', 'bx26530000006659', 'bx26530000006660', 'bx26530000006661', 'bx26530000006662', 'bx26530000006663', 'bx26530000006664', 'bx26530000006665', 'bx26530000006666', 'bx26530000006667', 'bx26530000006668', 'bx26530000006669', 'bx26530000006670', 'bx26530000006671', 'bx26530000006672', 'bx26530000006673', 'bx26530000006674', 'bx26530000006675', 'bx26530000006676', 'bx26530000006677', 'bx26530000006678', 'bx26530000006679', 'bx26530000006680', 'bx26530000006681', 'bx26530000006682', 'bx26530000006683', 'bx26530000006684', 'bx26530000006685', 'bx26530000006686', 'bx26530000006687', 'bx26530000006688', 'bx26530000006689', 'bx26530000006690', 'bx26530000006691', 'bx26530000006692', 'bx26530000006693', 'bx26530000006694', 'bx26530000006695', 'bx26530000006696', 'bx26530000006697', 'bx26530000006698', 'bx26530000006699', 'bx265300000067', 'bx26530000006700', 'bx26530000006701', 'bx26530000006702', 'bx26530000006703', 'bx26530000006704', 'bx26530000006705', 'bx26530000006706', 'bx26530000006707', 'bx26530000006708', 'bx26530000006709', 'bx26530000006710', 'bx26530000006711', 'bx26530000006712', 'bx26530000006713', 'bx26530000006714', 'bx26530000006715', 'bx26530000006716', 'bx26530000006717', 'bx26530000006718', 'bx26530000006719', 'bx26530000006720', 'bx26530000006721', 'bx26530000006722', 'bx26530000006723', 'bx26530000006724', 'bx26530000006725', 'bx26530000006726', 'bx26530000006727', 'bx26530000006728', 'bx26530000006729', 'bx26530000006730', 'bx26530000006731', 'bx26530000006732', 'bx26530000006733', 'bx26530000006734', 'bx26530000006735', 'bx26530000006736', 'bx26530000006737', 'bx26530000006738', 'bx26530000006739', 'bx26530000006740', 'bx26530000006741', 'bx26530000006742', 'bx26530000006743', 'bx26530000006744', 'bx26530000006745', 'bx26530000006746', 'bx26530000006747', 'bx26530000006748', 'bx26530000006749', 'bx26530000006750', 'bx26530000006751', 'bx26530000006752', 'bx26530000006753', 'bx26530000006754', 'bx26530000006755', 'bx26530000006756', 'bx26530000006757', 'bx26530000006758', 'bx26530000006759', 'bx26530000006760', 'bx26530000006761', 'bx26530000006762', 'bx26530000006763', 'bx26530000006764', 'bx26530000006765', 'bx26530000006766', 'bx26530000006767', 'bx26530000006768', 'bx26530000006769', 'bx26530000006770', 'bx26530000006771', 'bx26530000006772', 'bx26530000006773', 'bx26530000006774', 'bx26530000006775', 'bx26530000006776', 'bx26530000006777', 'bx26530000006778', 'bx26530000006779', 'bx26530000006780', 'bx26530000006781', 'bx26530000006782', 'bx26530000006783', 'bx26530000006784', 'bx26530000006785', 'bx26530000006786', 'bx26530000006787', 'bx26530000006788', 'bx26530000006789', 'bx26530000006790', 'bx26530000006791', 'bx26530000006792', 'bx26530000006793', 'bx26530000006794', 'bx26530000006795', 'bx26530000006796', 'bx26530000006797', 'bx26530000006798', 'bx26530000006799', 'bx26530000006800', 'bx26530000006801', 'bx26530000006802', 'bx26530000006803', 'bx26530000006804', 'bx26530000006805', 'bx26530000006806', 'bx26530000006807', 'bx26530000006808', 'bx26530000006809', 'bx26530000006810', 'bx26530000006811', 'bx26530000006812', 'bx26530000006813', 'bx26530000006814', 'bx26530000006815', 'bx26530000006816', 'bx26530000006817', 'bx26530000006818', 'bx26530000006819', 'bx26530000006820', 'bx26530000006821', 'bx26530000006822', 'bx26530000006823', 'bx26530000006824', 'bx26530000006825', 'bx26530000006826', 'bx26530000006827', 'bx26530000006828', 'bx26530000006829', 'bx26530000006830', 'bx26530000006831', 'bx26530000006832', 'bx26530000006833', 'bx26530000006834', 'bx26530000006835', 'bx26530000006836', 'bx26530000006837', 'bx26530000006838', 'bx26530000006839', 'bx26530000006840', 'bx26530000006841', 'bx26530000006842', 'bx26530000006843', 'bx26530000006844', 'bx26530000006845', 'bx26530000006846', 'bx26530000006847', 'bx26530000006848', 'bx26530000006849', 'bx26530000006850', 'bx26530000006851', 'bx26530000006852', 'bx26530000006853', 'bx26530000006854', 'bx26530000006855', 'bx2653000cl006728', 'bx2653000cl006770', 'bx26640000039228', 'bx29710000000306', 'bx30720000003114', 'bx30720000003115', 'bx30720000003125', 'bx30720000003131', 'bx32130000027', 'bx32130000034', 'bx32130000034697', 'bx32130000034698', 'bx32130000034699', 'bx32130000034700', 'bx32130000034701', 'bx32130000034702', 'bx32130000034703', 'bx32130000034704', 'bx32130000034705', 'bx32130000034706', 'bx32130000034707', 'bx32130000034708', 'bx32130000034709', 'bx32130000034710', 'bx32130000034711', 'bx32130000034712', 'bx32130000034713', 'bx32130000034714', 'bx32130000034715', 'bx32130000034716', 'bx32130000034717', 'bx32130000034718', 'bx32130000034719', 'bx32130000034720', 'bx34460000000744', 'bx34460000000913', 'bx34460000000979', 'bx34460000000988', 'bx34460000000996', 'bx34460000001063', 'bx34460000001069', 'bx34460000001077', 'bx34960000000058', 'bx34960000000102', 'bx34960000000244', 'bx34960000000245', 'bx34960000000261', 'bx34960000000265', 'bx34960000000266', 'bx34960000000345', 'bx34960000000347', 'bx34960000000383', 'bx34960000000388', 'bx34960000000395', 'bx34960000000514', 'bx34960000000537', 'bx34960000000574', 'bx34960000000598', 'bx34960000000599', 'bx34960000000610', 'bx34960000000614', 'bx34960000000643', 'bx34960000000670', 'bx34960000000676', 'bx34960000000683', 'bx34960000000872', 'bx34960000000880', 'bx34960000000928', 'bx34960000000972', 'bx34960000001007', 'bx34960000001030', 'bx34960000001080', 'bx34960000001081', 'bx34960000001098', 'bx34960000001310', 'bx34960000001323', 'bx34960000001328', 'bx34960000001351', 'bx34960000001353', 'bx34960000001363', 'bx34960000001398', 'bx34960000001419', 'bx34960000001562', 'bx34960000001635', 'bx34960000001662', 'bx34960000001672', 'bx34960000001684', 'bx34960000001686', 'bx34960000001695', 'bx34960000001745', 'bx34960000001752', 'bx34960000001764', 'bx34960000001775', 'bx34960000001821', 'bx34960000001823', 'bx34960000001829', 'bx34960000001877', 'bx34960000002009', 'bx34960000002032', 'bx34960000002034', 'bx34960000002063', 'bx34960000006509', 'bx34960000006524', 'bx34960000006570', 'bx34960000006674', 'bx34960000006685', 'bx34960000006688', 'bx3496000000671', 'bx34960000006790', 'bx34960000006907', 'bx34960000007', 'bx34960000007014', 'bx34960000007031', 'bx34960000007228', 'bx34960000007229', 'bx34960000007423', 'bx34960000007650', 'bx34960000007677', 'bx34960000007694', 'bx34960000007724', 'bx34960000007726', 'bx34960000007750', 'bx34960000007778', 'bx34960000007862', 'bx34960000007910', 'bx34960000008040', 'bx34960000008042', 'bx34960000008062', 'bx34960000008095', 'bx34960000008104', 'bx34960000008106', 'bx34960000008129', 'bx34960000091334', 'bx34960000105454', 'bx34960000105473', 'bx34960000112505', 'bx34960000112589', 'bx34960000113350', 'bx34960000114506', 'bx34960000114610', 'bx34960000114613', 'bx34960000114628', 'bx34960000114699', 'bx34960000152438', 'bx34960000157403', 'bx34960000159788', 'bx34960000168891', 'bx34960000171704', 'bx34960000186642', 'bx34960000186885', 'bx34960000200404', 'bx34960000201513', 'bx34960000201588', 'bx34960000203982', 'bx34960000217353', 'bx34960000245505', 'bx34960000248012', 'bx34960000248020', 'bx34960000251638', 'bx34960000251705', 'bx34960000255526', 'bx34960000255742', 'bx34960000255863', 'bx34960000256151', 'bx34960000257', 'bx34960000257173', 'bx34960000257231', 'bx34960000258389', 'bx34960000258559', 'bx34960000258791', 'bx34960000258942', 'bx34960000269457', 'bx34960000272461', 'bx34960000276728', 'bx34960000276729', 'bx34960000276796', 'bx34960000276986', 'bx34960000278425', 'bx34960000285384', 'bx34960000303744', 'bx34960000306416', 'bx34960000319271', 'bx34960000320647', 'bx34960000321605', 'bx34960000321607', 'bx34960000321644', 'bx34960000341142', 'bx34960000343074', 'bx34960000343229', 'bx34960000343365', 'bx34960000343366', 'bx37250000002040', 'bx37250000024962', 'bx37250000024966', 'bx37250000024968', 'bx37250000025097', 'bx37250000025098', 'bx37250000025099', 'bx37250000025100', 'bx37250000025101', 'bx37250000025102', 'bx37250000025103', 'bx38580000000070', 'bx3858000000068', 'bx4', 'bx41320000000630', 'bx41320000000631', 'bx41320000000632', 'bx41320000000633', 'bx41320000000634', 'bx41320000000635', 'bx41320000000636', 'bx41320000000637', 'bx41320000000638', 'bx41320000000639', 'bx41320000000640', 'bx41320000000641', 'bx41320000000642', 'bx41320000000643', 'bx41320000000648', 'bx41320000000650', 'bx41320000000651', 'bx41320000000652', 'bx41320000000653', 'bx41320000000654', 'bx41320000000655', 'bx41320000000656', 'bx41320000000657', 'bx41320000000660', 'bx41320000000661', 'bx41320000000662', 'bx41320000000663', 'bx41320000000664', 'bx41320000000665', 'bx41320000000666', 'bx41320000000667', 'bx41320000000668', 'bx41320000000669', 'bx4132000000067', 'bx41320000000670', 'bx41320000000671', 'bx41320000000672', 'bx41320000000673', 'bx41320000000674', 'bx41320000000677', 'bx41320000000678', 'bx41320000000682', 'bx41320000000683', 'bx41320000000684', 'bx41320000000685', 'bx41320000000686', 'bx41320000000689', 'bx41320000000690', 'bx41320000000694', 'bx41320000000697', 'bx413200000007', 'bx41320000000704', 'bx41320000000709', 'bx41320000000712', 'bx41320000000717', 'bx41320000000727', 'bx41320000000730', 'bx41320000000732', 'bx41320000000733', 'bx41320000000736', 'bx41320000000737', 'bx41320000000740', 'bx41320000000742', 'bx41320000000747', 'bx41320000003731', 'bx41320000004289', 'bx41320000004290', 'bx41320000004291', 'bx41320000004292', 'bx41320000004293', 'bx41320000004294', 'bx41320000004295', 'bx41320000004297', 'bx41320000004302', 'bx41320000004303', 'bx41320000005090', 'bx41320000005091', 'bx41320000005142', 'bx41320000005143', 'bx41320000005145', 'bx41320000005146', 'bx41320000005149', 'bx41320000005151', 'bx421000046', 'bx421000048', 'bx421000049', 'bx421000050', 'bx421000051', 'bx421000052', 'bx421000053', 'bx421000054', 'bx421000055', 'bx42140000015966', 'bx42140000015967', 'bx42140000015968', 'bx42150000000046', 'bx42150000000048', 'bx42150000000049', 'bx42150000000050', 'bx42150000000051', 'bx42150000000052', 'bx42150000000053', 'bx42150000000054', 'bx42150000000055', 'bx42250000000351', 'bx42250000000352', 'bx42250000000353', 'bx45660000000267', 'bx45660000023312', 'bx47050000004502', 'bx47320000004664', 'bx47320000004673', 'bx47320000004678', 'bx47320000004749', 'bx47320000004750', 'bx47320000004756', 'bx47320000004826', 'bx47410000000343', 'bx47520000014132', 'bx47520000014134', 'bx47520000014168', 'bx47520000014192', 'bx47520000014352', 'bx47670000000747', 'bx47670000000756', 'bx47670000000757', 'bx47670000001210', 'bx47670000001241', 'bx47670000001276', 'bx47670000001292', 'bxo1410000017601', 'by', 'by9', 'by_jun', 'bycen', 'bycr', 'byer', 'byl', 'bylk1', 'byv', 'c0000312494', 'c0000314115', 'c0000315408', 'c0000789017', 'c0000789018', 'c0000789019', 'c01', 'c011t', 'c09is', 'c0n', 'c1', 'c11', 'c11h', 'c15', 'c1j', 'c1re', 'c1utrnnr', 'c1v1r', 'c2id', 'c455', 'c49731', 'c_', 'c___', 'c____', 'c_a_t', 'c_c_', 'c_s', 'c_s_____', 'ca', 'ca_t', 'caal', 'cab', 'cabin', 'cabinet', 'cabl', 'cablecard', 'cac', 'cad', 'cad1', 'caf', 'cag', 'cain', 'cair3030', 'caircac5035', 'caircac5235', 'cal', 'calc', 'calcula1e', 'calculat0r', 'calend', 'caleula', 'calf', 'californ', 'calixto', 'cam', 'camd', 'cameron', 'campaign', 'campbel', 'campo', 'can', 'canautut', 'cancel', 'cannaday', 'cannot', 'canool', 'cansidet', 'cant', 'cantainld', 'canton', 'canwo_trogers_20170111084424', 'canyon', 'cap', 'capac', 'capit', 'capitolhiw14260165', 'capt', 'car', 'card', 'cardboard', 'cardhold', 'carefu', 'carl', 'carlisl', 'carlsbad', 'caro', 'carol', 'carolyn', 'carp', 'carr', 'carrig', 'carry', 'carryov', 'carson', 'cart', 'carton', 'cartridg', 'caruso', 'carwash', 'cas', 'cas11ier', 'cash', 'cash_', 'cash__', 'cashiet', 'cashless', 'cashy', 'casset', 'cast', 'cast1ier', 'castleview', 'casual', 'cat', 'catalog', 'cate1', 'cate2orfl', 'cate2ori', 'cate2orv', 'cate2ory', 'catea', 'cateeorv', 'catefon', 'categ', 'cateiiorv', 'catel', 'caterzorv', 'cathy', 'cau', 'caus', 'cazenav', 'cb', 'cbam', 'cbarqb', 'cbat', 'cbi', 'cbw', 'cc', 'cc61592', 'ccc', 'cccpced', 'cccptcd', 'cccss', 'cce', 'cceiv', 'ccepr', 'cceptcd', 'ccess', 'ccffee', 'cclunc', 'ccmpleted', 'ccmply', 'ccn', 'ccomt', 'ccount', 'cct', 'ccur', 'cd', 'cdic', 'cdj', 'cdk', 'cdt', 'cdth', 'ce', 'ce11', 'ce1_____', 'cea1111t', 'ceas', 'ced', 'ceht', 'cehul', 'cel', 'celculut', 'cellul', 'cem', 'cen1ral', 'cent', 'ceo', 'cer', 'ceram', 'cert', 'certain', 'ces', 'cess', 'cet', 'cf', 'cf0', 'cfo', 'cfont', 'cfr', 'cfranklin', 'cft', 'cftltw', 'cfty', 'cfu', 'cgverage', 'ch', 'ch11rges', 'ch1212', 'ch136656', 'ch1mi', 'ch454878', 'cha', 'cha19es', 'cha1ges', 'chaa', 'chack', 'chad', 'chain', 'chainbr', 'cham', 'chamb', 'chan', 'chand', 'chandl', 'chang', 'changet', 'channel', 'chanz', 'chapar', 'chapl', 'chapt', 'char', 'char2es', 'chara', 'charact', 'charg', 'charga', 'chargeback', 'chargo', 'chargu', 'chari', 'charit', 'charleston', 'charlot', 'charloty', 'charo', 'charq', 'chart', 'chat', 'che', 'check', 'checkl', 'checkpoint', 'cheev', 'chem', 'chengo', 'chequ', 'cherg', 'cheris', 'chesaoeak', 'chesapeak', 'chesley', 'chet', 'chev', 'chevro', 'chevron', 'chevy', 'chfiyslefi', 'chg', 'chi', 'chic', 'chicago', 'chief', 'childr', 'chip', 'chj', 'chk', 'chlll', 'chmges', 'chmngh', 'cho', 'choctaw', 'choo', 'choos', 'chorg', 'chos', 'chqc', 'chrg', 'christian', 'chru', 'chry', 'chry9', 'chrys', 'chrys_lf_r', 'chrysl', 'chrysle', 'chryslefi', 'chrysler', 'chtp', 'chuck', 'church', 'ci', 'ci0wiv', 'ci1y', 'ci5', 'ciel', 'cif', 'cii', 'ciid', 'ciltcuo', 'cim', 'cindy', 'cio', 'ciod', 'cir', 'circ', 'circuit', 'circumst', 'ciry', 'cis', 'cit', 'citibank', 'citigroup', 'citigruup', 'citnnot', 'city', 'city11', 'ciuf', 'ciustom', 'civ', 'civil', 'cj', 'cj0', 'cj5', 'cj6', 'cjdr', 'cji', 'cjir', 'cjjrs', 'ck', 'ck094378', 'ckh', 'ckla', 'cl', 'cl1eck', 'cl1eir', 'cl1ough', 'cla', 'claim', 'clap', 'clar', 'clarem', 'claremon', 'class', 'clatomertd', 'claus', 'clay', 'clc', 'cle', 'cle1111er', 'cleanjwt', 'clear', 'clearingh', 'cledescrib', 'clef', 'cler', 'clerk', 'clesn', 'clfle', 'clfy', 'cli', 'cliat', 'click', 'clicnt', 'clienr', 'clif', 'clift', 'clim', 'clin', 'cll', 'cllcwina', 'cllentrepresentatci', 'clllllages', 'clly', 'clnr', 'clo', 'clos', 'closng', 'closngd', 'clothy', 'cloud', 'clr', 'cltl', 'clty', 'cltyoftulsapurchaslng', 'clud', 'clwges', 'clyi', 'cm', 'cm7', 'cmc', 'cmcnt', 'cme', 'cmidcon', 'cmplotctti', 'cms', 'cmt', 'cmx', 'cn', 'cna', 'cnaclr4dno', 'cnang', 'cnarg', 'cnas', 'cne', 'cneck', 'cnecklng', 'cnin170239bmi', 'cnin171422bmi', 'cninl', 'cninl70239bmi', 'cnnm', 'cnntractor5', 'cnp', 'cnr', 'cnts', 'cnty', 'cnus', 'cnuy', 'cnvi', 'cnvironmen', 'co', 'co11', 'co11dihh1', 'co11t111ued', 'co1nmercial', 'co1npletion', 'co1tec1', 'co5ts', 'co_', 'coat', 'cob', 'coc', 'cock', 'coct', 'cocto', 'cod', 'code____', 'codel', 'codh', 'codin', 'codo', 'codu', 'coe', 'cof', 'coff', 'coh', 'coi', 'coid', 'coiipany', 'coir', 'coit', 'coitlfot', 'cok', 'col', 'col1ec', 'colcord', 'cold', 'colem', 'colkact', 'collaps', 'collec', 'collect', 'colleg', 'colliin', 'collin', 'colllinu', 'colob_', 'colorado', 'columb', 'column', 'com', 'combin', 'comet', 'comf', 'comfort', 'commel', 'comments___________p_i_c_k', 'commerc', 'commeu', 'commit', 'commlinicatlon', 'common', 'commun', 'communications0', 'como', 'comp', 'companv_', 'company', 'company0', 'companyt', 'companythirty', 'compat', 'compel', 'compens', 'compet', 'competit', 'compiet', 'compil', 'complaint', 'complet', 'complex', 'comply', 'compnay', 'compon', 'composit', 'compr', 'comprehend', 'comprom', 'compsourc', 'compuls', 'comput', 'comqany', 'con', 'con14579', 'conaact', 'concamfug', 'conccm', 'conceiv', 'concem', 'concentr', 'concern', 'concho', 'conclit', 'concnt', 'concours', 'concur', 'cond', 'cond1t1on', 'cond1t1ons', 'condat', 'condil', 'condit', 'condl', 'conduc', 'conect', 'conf', 'confid', 'confidcntialitv', 'confidentia', 'config', 'confin', 'confirm', 'conflict', 'confo', 'conform', 'congest', 'conimunlca1lons', 'connect', 'connterpart', 'conny', 'cons', 'cons1rued', 'consecut', 'consegu', 'consequ', 'conserv', 'consid', 'consist', 'consol', 'const', 'constit', 'constitl1te', 'constitut', 'constituy', 'constna', 'constru', 'construct', 'consttu', 'consult', 'consum', 'cont', 'contact', 'contain', 'containel', 'contemp', 'contempl', 'contenu', 'contest', 'contid', 'contidc', 'contiden1i', 'contident', 'contidentml', 'contiders', 'contin', 'continu', 'contmct', 'contonnltv', 'contract', 'contractnot', 'contribut', 'contro', 'control', 'controversy', 'contto', 'conunuc', 'conunun', 'conuol', 'conv', 'convent', 'conventidn', 'conveny', 'convert', 'convertir', 'convict', 'convint', 'conway', 'coo', 'cooc', 'cook', 'cookand', 'coop', 'coordin', 'cop', 'copano', 'copperm', 'coppermark', 'coppertop', 'copy1', 'copy50011299', 'copyr', 'copyri9m', 'copyrighr', 'copyright', 'coq', 'cor', 'corn', 'cornelison', 'cornpany', 'cornpl', 'cornpru1y', 'corp', 'correapond', 'correct', 'correspond', 'corry', 'cortract', 'cos', 'cos1', 'cosl', 'cosr', 'cost', 'costads', 'cosu', 'cot', 'cottrel', 'cotu', 'couany', 'could', 'coun', 'counb', 'counesy', 'counsel', 'count', 'countemart', 'counterpart', 'countet', 'countewart', 'country', 'county', 'countytax', 'coupon', 'cour', 'cours', 'court', 'courtesy', 'coury', 'cout', 'cov', 'covenants', 'cox', 'cox2601', 'coxbusinsss', 'coxbusioess', 'coxbusy', 'coxc', 'cp', 'cpa', 'cpi', 'cpp', 'cppano', 'cps', 'cq', 'cqmmnyo', 'cqnflicts', 'cquildl', 'cquipm', 'cr', 'cr111dit', 'cr6dlt', 'crabtown', 'craig', 'crat', 'crav', 'crb', 'crber', 'crc', 'cre', 'cred', 'credit', 'creditcard', 'crediureplac', 'credl1s', 'creek', 'creel', 'crent', 'crew', 'crg', 'cri', 'crib', 'cribad', 'crim', 'crimin', 'criter', 'crj', 'crjpuon', 'crlp', 'crlptlon', 'crm', 'crnii', 'cro', 'cross', 'crossref', 'crow', 'crrn', 'crrnditioris', 'crrq', 'crs', 'cru', 'cs', 'cs1', 'csa', 'cserv', 'csntege', 'csrtain', 'css', 'cst', 'ct', 'ct1besti', 'ctajm', 'ctberaellv', 'ctcu', 'ctelt', 'ctftl', 'cti', 'ctipton', 'ctistom', 'ctlb', 'ctljs', 'ctly', 'ctn', 'ctr', 'cts', 'ctv', 'cu', 'cu5tomer', 'cua', 'cualquy', 'cuat', 'cuatam', 'cuatom', 'cub', 'cuelam', 'cuent', 'cuetam', 'cuetcm', 'cuft', 'cui1dit', 'cuisin', 'cujills', 'cul', 'cum', 'cun', 'cunctm', 'cup', 'cur', 'curb', 'curf', 'curn', 'curre11t', 'currentl', 'curry', 'curt', 'curv', 'cus', 'cus2962523', 'cus2982523', 'cusffilr', 'cuslom', 'cust', 'cust0mer', 'custam', 'custcdm', 'custemarpo', 'custijo', 'custody', 'custol1', 'custom', 'customarservicesagr', 'customerio', 'customerservicesagr', 'customert', 'customesign', 'customet', 'custorn', 'custort', 'custort1er', 'custp', 'cut', 'cutifiec', 'cutoff', 'cutwshr1', 'cuxx', 'cve', 'cw', 'cwindstream', 'cx', 'cxccutc', 'cxcrcise', 'cxdusivd', 'cxf', 'cxx', 'cy', 'cyc', 'cyct', 'cynth', 'cysjpmsr', 'cyv', 'cz', 'd0', 'd1', 'd10', 'd11', 'd111meges', 'd11m119es', 'd15', 'd17', 'd1723683987', 'd1at', 'd1c', 'd1e', 'd1ereon', 'd1scount', 'd258762_20090409', 'd258766_20090409', 'd3', 'd331533_20120430', 'd331534_20120430', 'd378836', 'd4', 'd41d', 'd4s50243', 'd5', 'd6', 'd7', 'd7u', 'd9', 'd_', 'd_ate', 'da', 'da1', 'da1e', 'da_', 'dac', 'dae', 'dahl', 'dai', 'daim', 'daj', 'dal', 'dalla', 'dalllt', 'dalo', 'dam', 'dam1ge', 'damar1d', 'dan', 'dandl', 'danilo', 'dank', 'dar', 'darc', 'darrin', 'dat', 'databas', 'dataservy', 'datc', 'date5_', 'date_', 'date_i_', 'datec', 'dateffim', 'dateffimedr', 'dateftim', 'datelf', 'datem', 'datereq', 'daterrim', 'dati', 'datn', 'dato', 'dats', 'dau', 'dav', 'davenport', 'david', 'davidson', 'daw', 'day', 'db', 'dba', 'dblwd', 'dbpositbd', 'dc', 'dc0n', 'dcc11i', 'dccmcd', 'dcd', 'dcflnitlon', 'dcl', 'dcli', 'dcliv', 'dco', 'dcon', 'dcriyes', 'dcvef1111b', 'dd', 'ddault', 'dday', 'ddcum', 'ddcume', 'ddd286799ddd29110101dddddddddd9568604220116061807013900001', 'ddivery', 'ddlao', 'ddltlanal', 'ddnyyyl', 'ddo', 'ddrcss', 'ddress', 'dds', 'de', 'de1roi1', 'de6', 'de6v8', 'de8c11lptlon', 'dea', 'deacrlpt', 'deacrlptlon', 'deadlin', 'deaf', 'deah', 'deal', 'dealenhip', 'dealer', 'dean', 'dear', 'dearuw', 'debby', 'debid', 'debit', 'debito', 'debr', 'debt', 'debto', 'dec', 'decemb', 'decid', 'decl', 'decreas', 'decrypt', 'ded', 'deduc', 'deduct', 'dee', 'deel', 'deem', 'deep', 'def', 'defanlt', 'default', 'defect', 'defend', 'defens', 'deficy', 'defin', 'definit', 'definltitin', 'defm', 'defmit', 'defray', 'defrayoost', 'deftay', 'defuult', 'degauss', 'degr', 'dehj9', 'dei', 'dejray', 'dekatherm', 'del', 'del1ys', 'delaw', 'delay', 'delermin', 'delet', 'delih', 'delinqu', 'delive1ies', 'delive1y', 'deliveiy', 'deliverby', 'deliverv', 'delivery', 'deljverto', 'delland', 'dellvef', 'dellverl', 'dellvry', 'deloit', 'delroit', 'delv', 'delvotv', 'delvqrv', 'delvqtv', 'dem', 'demand', 'demeg', 'demograph', 'demonst', 'den', 'denot', 'dent', 'denv', 'deoart', 'deocr', 'deocrib', 'deolotshr', 'deon', 'deondr', 'dep', 'depart', 'depend', 'depj1', 'depl', 'depoaltacr', 'depos1ted', 'deposilc', 'deposit', 'depot', 'deprecy', 'dept', 'der', 'dereo', 'dermatolog', 'derron', 'des', 'des1', 'des2', 'desanto', 'desc', 'descr', 'descr1', 'describ', 'descrip', 'descript', 'descriptio', 'descriptlon', 'descripty', 'descrjptjon', 'descrlpt', 'descrlptloh', 'descrlptton', 'descrt', 'deseriblld', 'desf', 'desfruct', 'desh', 'desib111ated', 'design', 'designllt', 'desir', 'desk', 'desp', 'despit', 'dest', 'destin', 'destmct', 'destroy', 'destruct', 'destructio', 'desttuct', 'desuuct', 'det', 'detach', 'detacs', 'detail', 'detal', 'detctlp', 'detect', 'detennin', 'detenninec', 'determin', 'detoy', 'detroil', 'detroit', 'deu11664596', 'deutsch', 'dev', 'develop', 'devolver', 'devon', 'dew', 'dex', 'df', 'dfficp', 'dffsite', 'dfor', 'dfreci', 'dft', 'dh506929', 'dhelm', 'dhnsjn', 'dhs', 'di', 'di11lng', 'diabet', 'dial', 'dian', 'diap', 'diatel', 'dic', 'did', 'die', 'dient', 'diesel', 'diet', 'diff', 'difficult', 'difl', 'digit', 'dij', 'dil', 'dilig', 'dillir', 'dim', 'dim2', 'dim2cd', 'dim2gmt', 'dim2tvoe', 'dim2ty1', 'dimick', 'dimicklaw', 'dimond', 'dimonsionalweight', 'ding', 'diod', 'dir', 'direcogn', 'direct', 'directl', 'directoty', 'dis', 'disadv', 'disagr', 'disast', 'disburs', 'disc', 'disccuss', 'discharg', 'disclaim', 'disclos', 'disconnect', 'discontinu', 'discount', 'discountsthisperiod', 'discov', 'discovery', 'discret', 'discuss', 'diseas', 'diselairn', 'dish', 'dishonest', 'dishonesty', 'disk', 'disket', 'dispatch', 'dispei1ser', 'dispens', 'display', 'dispos', 'disposit', 'disput', 'disregard', 'dist', 'distll', 'distnrb', 'distribut', 'district', 'disturb', 'dit', 'div', 'divert', 'divid', 'divis', 'dj', 'dje', 'djf', 'djoz', 'dk', 'dk1', 'dl', 'dl_', 'dlil', 'dlllaler', 'dllllvery', 'dlng', 'dlo', 'dlrysler', 'dlsacl', 'dlt', 'dlut', 'dm', 'dma', 'dmc', 'dmcribcd', 'dme', 'dmg', 'dming', 'dmnge', 'dmon', 'dmonc', 'dmond', 'dmy', 'dnmagc', 'dnp', 'dnte', 'dntul_aiu', 'do', 'do_make_payment_invoice', 'dob', 'dobson', 'doc', 'doccon', 'docconfid', 'docconfidcnt', 'docconfidentialp', 'dock', 'docu', 'docum', 'dod', 'dodg', 'dodson', 'doe', 'doe_oslts', 'doing', 'doll', 'dom', 'domain', 'domest', 'domin', 'don', 'donald', 'donimcnt', 'doo', 'door', 'dor', 'dorv', 'dosenb', 'dot', 'dou2', 'doubl', 'doubt', 'doug', 'dougla', 'dow', 'download', 'downtown', 'doyl', 'dp', 'dq', 'dqglmd', 'dr', 'dr1', 'draft', 'drain', 'dran', 'draw', 'drawn', 'drdi', 'dre', 'dri', 'driv', 'driveway', 'drivlrsign', 'drj', 'drk', 'drn', 'drop', 'drt', 'drug', 'dry', 'ds', 'dsl', 'dsol', 'dsqs3', 'dt', 'dt130315', 'dta', 'dtct', 'dth', 'dtjra', 'dtrtthlm', 'du', 'dua', 'due', 'dued', 'dui', 'duj', 'duly', 'dun', 'dunlap', 'dunt', 'duo', 'dupl', 'duply', 'dur', 'duracel', 'duranon', 'duratio', 'duratiom', 'duraton', 'durham', 'durin', 'durinp', 'dus', 'dusbnb', 'dusenb', 'dusenber', 'dusenberl', 'dusenbers', 'duss', 'dussenburg', 'dustin', 'dutom', 'duty', 'dv', 'dvd', 'dway', 'dwr', 'dwv', 'dy', 'dyer', 'dz', 'dzc', 'dzj2', 'e0365x', 'e13', 'e19', 'e2', 'e250', 'e911', 'e_', 'e_j', 'e_l', 'e_nu_', 'ea', 'ea1', 'ea5ier', 'eac', 'each', 'eadings', 'eadlng', 'eagl', 'eai6261', 'eal', 'ean', 'ear', 'ear1131', 'earl', 'earn', 'eas', 'east', 'eastern', 'eastg', 'eastmond', 'easy', 'eav', 'eb', 'ebil', 'ebillserv', 'ebov', 'ebt', 'eby', 'ec', 'ecaf', 'ecard', 'ecash1er1', 'eccess', 'eccuret', 'ech', 'echeck', 'eciµail', 'eck', 'ecl111011c', 'ecl111011d', 'eclmonc', 'eclrnonc', 'ecmen1', 'econom', 'econosourc', 'ect', 'ectec', 'ecut', 'ed', 'ed111ond', 'edepot', 'edg', 'edit', 'edm', 'edmonclelect', 'edmond', 'edmondelect', 'edmondok', 'edmondsun', 'ednondelect', 'edr', 'edrnondok', 'edu', 'educ', 'ee', 'eek', 'eemenl', 'eeo', 'eernent_between', 'eet', 'ef', 'eff', 'effect', 'effectiw', 'effecuvc', 'efficy', 'effl', 'effort', 'efl', 'eflid', 'efm', 'eft', 'eftectivc', 'eg', 'eg11ins', 'egainsr', 'eglst', 'egr', 'egress', 'eh1c1ency', 'ehid', 'ei', 'ei4', 'eib_', 'eiectronic', 'eif', 'eight', 'eighteen', 'eighty', 'eil', 'eirf', 'eirp', 'eit', 'eith', 'eitjl', 'eitl', 'eitl1er', 'eiv', 'ej', 'ek', 'ekf', 'el', 'elect', 'electron', 'electronic', 'electronica', 'elegido', 'elev', 'elf', 'elfect', 'elig', 'elimin', 'elitekey', 'elitemerit1', 'ellid', 'elliot', 'elm', 'elmhtp', 'elof', 'elsewh', 'eltet11tions', 'eltu', 'em', 'email', 'embargo', 'emcnt', 'emeig', 'emem', 'emeraencv', 'emerg', 'emerq', 'emf', 'emiraku', 'emntv', 'emotv', 'emoun1', 'emp', 'emplo', 'employ', 'employia', 'empow', 'empty', 'ems', 'en', 'en_viroamcntal', 'enc', 'encld', 'enclo', 'enclos', 'enco', 'encrypt', 'enctos', 'encumbr', 'end', 'endors', 'endos', 'enebl', 'eneq', 'enerav', 'energy', 'enervest', 'enforc', 'eng', 'engin', 'enh', 'enjoy', 'enl', 'enlirc', 'enough', 'enrol', 'ens', 'ensj', 'ensley', 'ensu', 'ent', 'ent_invoice', 'ente1', 'enterpr', 'entert', 'entertain', 'entet', 'entir', 'entitl', 'ento', 'entrust', 'entry', 'entty', 'enum', 'enuru', 'enuy', 'env', 'envelop', 'envid', 'envifon', 'enviromn', 'environ', 'environm', 'environme111al', 'environmenl', 'environmenml', 'environmenro', 'eny', 'eo', 'eo11', 'eoblokednjjjaieep', 'eoc', 'eoc1e', 'eog', 'eom', 'eomono', 'eoric', 'eost', 'eotuct', 'eount', 'ep', 'epb', 'ephon', 'epidem', 'epl', 'eplmn', 'epot', 'epprov', 'ept', 'eptablera', 'eq', 'equ', 'equip', 'equit', 'er', 'eras', 'erd', 'erdu', 'erect', 'eriod', 'erioo', 'eritem', 'erm', 'ermin', 'ersign', 'erso', 'erson', 'ert', 'erv', 'ervicc', 'es', 'esck', 'escnpnon', 'escod', 'escort', 'escrlpflon', 'escrow', 'eskridg', 'esparz', 'espn', 'esq', 'esr', 'esrm', 'esrt', 'ess', 'essilu', 'essway', 'est', 'est_invoice_detail_l', 'esta', 'estado', 'estil', 'estim', 'estoppel', 'estruct', 'esy', 'et', 'et1alnlngtc', 'etc', 'etf', 'eth', 'etiid', 'etlid', 'etm', 'etn', 'eto', 'etu', 'etvt', 'eu11', 'eurek', 'ev', 'evalu', 'evc', 'every', 'everyon', 'evet', 'evid', 'evolv', 'evpress', 'evtomadc', 'ew', 'ewcut', 'ex', 'examin', 'exampl', 'exc', 'exceed', 'exceiv', 'excel', 'except', 'exceptia', 'exceptim', 'exceptioo', 'excess', 'exciept', 'exclud', 'exec', 'execut', 'executin', 'exempt', 'exerc', 'exert', 'exerw', 'exfl1l', 'exhibit', 'exhtl', 'exit', 'exl', 'exlubit', 'exluoit', 'exo', 'exoept', 'exp', 'expect', 'expedit', 'expend', 'expendit', 'expens', 'expensedescrib', 'expert', 'expery', 'expir', 'expl', 'explain', 'explod', 'exploit', 'explr11', 'expn', 'export', 'expr', 'express', 'expressway', 'exq', 'ext', 'extend', 'extern', 'extinct', 'extr', 'ey', 'ey1', 'f0', 'f0r', 'f1', 'f11', 'f111', 'f15', 'f150', 'f15q', 'f17', 'f1ann', 'f1j', 'f1to', 'f1v', 'f2', 'f23', 'f250', 'f2cr', 'f3f', 'f4_3p', 'f4ges', 'f51', 'f551', 'f5l', 'f70', 'f8ss', 'f9', 'f9r', 'f_', 'f__', 'f__v', 'f_current', 'f_µ', 'fa', 'fab', 'fac', 'faccess', 'facebook', 'facil', 'facilit', 'facilitv', 'facsimil', 'fact', 'fae', 'faf', 'fah', 'fahrenheit', 'fai', 'fail', 'fajeurc', 'fal', 'fallow', 'fallowlllg', 'fals', 'faluenheit', 'famy', 'fan', 'fanc_5yr_', 'fanc_5yr_l02016confidential', 'fane_5yr_l02016confidential', 'fanf', 'fannin', 'faq', 'far', 'farm', 'fast', 'fat', 'fate1iajs', 'fate1ials', 'faterias', 'fault', 'fav', 'fax', 'fay', 'fb', 'fb1', 'fbit', 'fbo', 'fbu', 'fc', 'fc01410017611', 'fc25490001244', 'fc25490002826', 'fc25490002827', 'fc25490002828', 'fc25490002829', 'fc25490002830', 'fc25490002831', 'fc25490002832', 'fc25490002833', 'fc25490002834', 'fc25490002835', 'fc25490002836', 'fc29710000431', 'fc30720003419', 'fc30720003420', 'fc30720003421', 'fc30720003422', 'fc32130027554', 'fc34460001079', 'fc34460001080', 'fc34460001081', 'fc34460001082', 'fc34460001083', 'fc34460001084', 'fc34460001085', 'fc34460001086', 'fc34460001090', 'fc34960009304', 'fc34960010008', 'fc34960014593', 'fc34960017825', 'fc34960018205', 'fc34960026441', 'fc34960027672', 'fc34960028704', 'fc34960028911', 'fc34960032310', 'fc34960034240', 'fc34960034319', 'fc34960035095', 'fc34960035429', 'fc34960035653', 'fc34960035964', 'fc34960036788', 'fc34960044154', 'fc34960045784', 'fc34960046091', 'fc34960047764', 'fc34960048282', 'fc34960049624', 'fc34960053548', 'fc34960054837', 'fc34960055624', 'fc34960057204', 'fc34960067942', 'fc34960071739', 'fc34960073571', 'fc34960080227', 'fc34960081063', 'fc34960085728', 'fc34960093597', 'fc34960094294', 'fc34960094429', 'fc34960097655', 'fc34960098331', 'fc34960098639', 'fc34960099142', 'fc34960099860', 'fc34960102076', 'fc34960103313', 'fc34960104452', 'fc34960105620', 'fc34960108184', 'fc34960110339', 'fc34960115661', 'fc34960117130', 'fc34960122369', 'fc34960122632', 'fc34960122677', 'fc34960123195', 'fc34960124006', 'fc34960126859', 'fc34960127247', 'fc34960127611', 'fc34960129876', 'fc34960131425', 'fc34960135050', 'fc34960135217', 'fc34960136146', 'fc34960136258', 'fc34960138133', 'fc34960139416', 'fc34960143990', 'fc34960146955', 'fc34960149446', 'fc34960149866', 'fc34960152034', 'fc34960154405', 'fc34960154416', 'fc34960157786', 'fc34960159226', 'fc34960161595', 'fc34960161787', 'fc34960163589', 'fc34960164022', 'fc34960164473', 'fc34960165409', 'fc34960166124', 'fc34960168087', 'fc34960170012', 'fc34960171802', 'fc34960171919', 'fc34960174791', 'fc34960176411', 'fc34960176565', 'fc34960179921', 'fc34960180110', 'fc34960184350', 'fc34960185702', 'fc34960186374', 'fc34960186673', 'fc34960189388', 'fc34960189396', 'fc34960189873', 'fc34960190129', 'fc34960190680', 'fc34960191135', 'fc34960193314', 'fc34960196026', 'fc34960198871', 'fc34960199692', 'fc34960200530', 'fc34960202463', 'fc34960203043', 'fc34960203523', 'fc34960209945', 'fc34960211542', 'fc34960218476', 'fc34960221391', 'fc34960221397', 'fc34960222456', 'fc34960223114', 'fc34960224324', 'fc34960226572', 'fc34960227521', 'fc34960227786', 'fc34960229005', 'fc34960230478', 'fc34960232489', 'fc34960233202', 'fc34960233873', 'fc34960236887', 'fc34960237609', 'fc34960237964', 'fc34960240061', 'fc34960241141', 'fc34960241577', 'fc34960242870', 'fc34960242902', 'fc34960243410', 'fc34960243646', 'fc34960244380', 'fc34960244701', 'fc34960246033', 'fc34960246656', 'fc34960248121', 'fc34960249266', 'fc34960249526', 'fc34960249670', 'fc34960249815', 'fc34960252255', 'fc34960254678', 'fc34960255295', 'fc34960255797', 'fc34960255810', 'fc34960256913', 'fc34960257969', 'fc34960264151', 'fc34960275927', 'fc34960286158', 'fc34960298081', 'fc34960303590', 'fc34960317221', 'fc34960318641', 'fc34960321370', 'fc34960329071', 'fc34960339412', 'fc34960354588', 'fc34960354702', 'fc34960355364', 'fc34960359828', 'fc34960363865', 'fc34960364598', 'fc34960378916', 'fc34960388158', 'fc34960395176', 'fc34960400955', 'fc34960401373', 'fc34960407', 'fc34960407438', 'fc34960411732', 'fc34960415965', 'fc34960422554', 'fc34960424640', 'fc34960432309', 'fc34960433187', 'fc34960433188', 'fc37250025104', 'fc38960017117', 'fc38960017423', 'fc39820030551', 'fc42430000624', 'fc43320000090', 'fc45660012428', 'fc45660076819', 'fcc', 'fcdera', 'fcdja', 'fcfl', 'fcotdw', 'fcr', 'fcsok', 'fd', 'fde', 'fded', 'fdgl', 'fdiclr', 'fdllltltable', 'fdt', 'fdtal', 'fe', 'feas', 'feat', 'feb', 'febreez', 'febru', 'februray14', 'fect', 'fed', 'federnl', 'fedex', 'fee', 'feedback', 'feel', 'fei', 'felony', 'feowbm', 'fer', 'ferguson', 'ferioo', 'ferjco', 'fet', 'ff', 'ff1', 'ff1i', 'ff1l', 'ff7', 'ff8', 'ffe', 'ffec1h', 'ffect', 'fffcctin', 'ffffth1', 'fffill', 'ffi', 'ffidavit', 'ffififfmn', 'ffiil', 'ffimov', 'ffiy', 'ffl', 'fflc', 'fflf', 'fflil', 'fflin', 'ffljl', 'fflr', 'fflt', 'ffpl', 'ffr', 'ffrnte', 'ffxoval', 'ffz12', 'fg', 'fh2', 'fhao', 'fhe', 'fhj', 'fhu', 'fi', 'fi0', 'fi1', 'fi1r', 'fia1', 'fic', 'ficld', 'fics', 'fid', 'fiducy', 'fie', 'field', 'fif', 'fifill', 'fifteen', 'fifty', 'fii', 'fiiy', 'fij', 'fil', 'fillm1', 'film', 'filr', 'fils', 'filt', 'filw', 'fimct', 'fin', 'fina', 'financier', 'find', 'fion', 'fir', 'firclock', 'firelo', 'firelock', 'firelockn', 'firelocktm', 'firm', 'firnlsh', 'first', 'fit', 'fiv', 'fix', 'fix10380', 'fix11698', 'fixt', 'fj', 'fjcm', 'fji', 'fjiid', 'fjim', 'fjrelock', 'fjti0', 'fju', 'fl', 'fl1', 'fl__', 'flam', 'flamingo', 'flamingos', 'flan', 'flash', 'flat', 'flda', 'fleet', 'flex', 'flf', 'fli', 'flight', 'flin', 'flji', 'fllljl', 'fllll', 'flna', 'flo', 'flood', 'floooo', 'flow', 'flp', 'flp10085', 'flrc1', 'flrelocktm', 'flt', 'fltlll1', 'flucru', 'fluctu', 'flvm', 'fm', 'fmcserver', 'fn', 'fni', 'fnsr', 'fnx', 'fo', 'fo11owi', 'foam', 'fob', 'foe', 'foiklw', 'foil', 'foiward', 'foklahom', 'fol', 'folbw', 'fold', 'folk', 'follow', 'followin', 'followmg', 'fon', 'fond', 'fondo', 'fone_5yr', 'fonh', 'font', 'foo', 'food', 'fooo', 'foot', 'footprint', 'fop', 'for', 'forb', 'forc', 'ford', 'forego', 'foreign', 'forest', 'fork', 'form', 'formula', 'forrn', 'fort', 'fortl1', 'forty', 'forward', 'fost', 'fot', 'fotlif9i', 'found', 'fountain', 'fouow', 'four', 'fourteen', 'fox', 'fp', 'fp0', 'fpo', 'fq', 'fql2', 'fr', 'fr_', 'fram', 'franch', 'frank', 'franklin', 'frant', 'fraud', 'frbde', 'frc', 'fre', 'freight', 'freq', 'frequ', 'freshn', 'frg', 'fri', 'friday', 'friday2', 'friilil', 'frill', 'frizzel', 'frog', 'froi', 'from', 'fron1', 'front', 'fronty', 'frotn', 'frq', 'frr', 'frre', 'frt', 'fs', 'fsc', 'fsrtriffla', 'fss', 'fstanaarcl', 'ft', 'ft8at', 'fte', 'fter', 'fthe', 'ftil', 'ftj', 'ftl', 'ftll', 'ftlll', 'ftmove', 'ftn', 'fto', 'ftp', 'ftt1', 'fttlftwyijh', 'ftuarn', 'fu', 'fu1iher', 'fua', 'fuel', 'fuform', 'ful', 'fulfil', 'fullro', 'fuls', 'funct', 'fund', 'fur', 'furn', 'furnit', 'furth', 'furthen', 'furtherm', 'fury', 'fut', 'fv', 'fvif', 'fw', 'fwjcw1r', 'fx', 'fxl', 'fy', 'fyl', 'fylultiply', 'fyr', 'fz', 'g111nnl', 'g1l', 'g9u', 'g___', 'g_ent', 'g_f____', 'g_l_an_c_e_________', 'g_z', 'ga', 'gabl', 'gail', 'gain', 'gainesvil', 'gal', 'galler', 'gallon', 'galv', 'gan', 'ganerel', 'gar', 'garc', 'gardn', 'garin', 'garm', 'garn', 'garrn', 'garro', 'gas', 'gasolin', 'gastropub', 'gat', 'gateway', 'gazillabyt', 'gb', 'gbo', 'gbus01005', 'gc', 'gdts', 'ge', 'geaenl', 'gear', 'gel', 'geln', 'gem', 'gen', 'general', 'gent', 'geo', 'geograph', 'geolog', 'geologicaloklahom', 'geophys', 'geotab', 'geotherm', 'gerald', 'ges', 'get', 'getforb', 'gf', 'ghl', 'ghow', 'gi', 'gideon', 'gift', 'gill', 'gilliland', 'gim', 'giv', 'givfl', 'givo', 'gj', 'gjgi', 'gjt', 'gkll', 'gl', 'gla', 'glass', 'glassco', 'glc', 'glcod', 'glcode', 'glcp', 'gld', 'glde', 'gldeer', 'gldescr', 'gldm', 'glen', 'glo', 'glob', 'glob11', 'globalheal', 'globel', 'gloescr', 'gm', 'gmail', 'gmc', 'gmt', 'gnw55370', 'go', 'goa', 'goaiidigit', 'goal', 'god', 'gog', 'goggl', 'going', 'gold', 'gomn', 'gomp', 'gonz', 'goo', 'good', 'goodlhn', 'goods', 'goodsresult', 'goodsst', 'googl', 'gordon', 'got', 'gov', 'govcrn', 'govea', 'govem', 'govemjng', 'govenair', 'govermn', 'govern', 'governair', 'governmem', 'governrnenl', 'govom', 'govsrn', 'goyem', 'gp', 'gq', 'gr', 'gr_eate', 'grabl', 'grac', 'grad', 'gram', 'grand', 'grano', 'grant', 'graph', 'grass', 'grat', 'gratu', 'graurnan', 'grccmcnt', 'grccment', 'grcement', 'grci', 'gre', 'greatest', 'green', 'greenh', 'greg', 'grent', 'grfj', 'grid', 'grigsby', 'gril', 'grilletuls', 'gring', 'grocery', 'grop', 'gropt', 'gross', 'grosu', 'ground', 'group', 'grow', 'grub', 'grum', 'gry', 'gsa', 'gsoc', 'gst', 'gt', 'gtoup', 'gtx', 'gu', 'gua', 'guar', 'guarantee', 'guaranty', 'guard', 'gue', 'guer', 'guid', 'guil', 'gulfport', 'gus', 'gust', 'gustomel', 'guthry', 'gutierrez', 'guu', 'gv', 'gves', 'gvir', 'gvm', 'gwd', 'h027', 'h1', 'h11iii111', 'h11reby', 'h11rge', 'h1bs', 'h1hu', 'h1ti', 'h21', 'h4ffc5ij', 'h61eby', 'h_a_r_u_', 'ha', 'ha11ing', 'habit', 'hacket', 'had', 'hag', 'haggin', 'haiduk', 'hail', 'hairduk', 'hal', 'half', 'hall', 'ham', 'hambr', 'hambrick', 'hamiless', 'hamo', 'han', 'hand', 'handicap', 'handl', 'handlin', 'handlinq', 'hang', 'hanneba', 'hannless', 'hanson', 'hap', 'happy', 'har', 'hard', 'hardcop', 'hardcopv', 'hardw', 'hardwick', 'harg', 'harga', 'harm', 'harmless', 'harmon', 'harold', 'harrold', 'harvey', 'has', 'hasf', 'hatg', 'hatty', 'hav', 'havirig', 'havo', 'haw', 'hawkin', 'hay', 'hazard', 'hazlewood', 'hbj', 'hbo', 'hc', 'hc36', 'hcb11', 'hcetmetalw1ionstorage', 'hcfejn', 'hci', 'hcieundcr', 'hcj', 'hcn', 'hctt', 'hd', 'he', 'head', 'headquart', 'heal', 'healthfirst', 'hear', 'heart', 'heat', 'heath', 'heavy', 'heck', 'hed', 'hef', 'hefn', 'heh', 'heir', 'hel', 'held', 'heldrm', 'hello', 'hellor1al', 'helm', 'helo', 'help', 'help_my', 'helpl', 'hem', 'hemlock', 'hen', 'hendon', 'henig', 'hep', 'her', 'hercbr', 'herd', 'hereaft', 'hereb', 'hereby', 'herein', 'hereinabov', 'hereinaft', 'hereof', 'hereto', 'hereund', 'herew1der', 'herg', 'herit', 'hertz', 'hesit', 'hesterl', 'heteby', 'heteio', 'heteto', 'hew', 'hf', 'hf1', 'hf1ff', 'hffnng', 'hg', 'hgal', 'hh', 'hhffi', 'hhhg', 'hhi', 'hhillhih', 'hhlt', 'hhs', 'hi', 'hib', 'hic', 'hie', 'hieu', 'high', 'highest', 'highf', 'highfivemed', 'highfivemedl', 'highway', 'hih', 'hii', 'hiiih', 'hil', 'hillsid', 'him', 'hin', 'hinanacc', 'hind', 'hino', 'hip', 'hipa', 'hipfftonu', 'hir', 'hist', 'hitech', 'hixon', 'hjp', 'hk', 'hl', 'hl4', 'hlf', 'hllml', 'hls', 'hlw', 'hm', 'hm1ted', 'hmb', 'hmi', 'hmmi', 'hmoc', 'hmtl', 'hndle', 'hnron', 'hnsji', 'hnsjn', 'hnvalid', 'ho', 'hob', 'hod', 'hodg', 'hoijl', 'hoit', 'hoj', 'hol', 'hold', 'holid', 'holidav', 'holiday', 'holland', 'hollem', 'holley', 'holm', 'holt', 'hom', 'hon', 'hond', 'hopkin', 'hopson', 'hoqef', 'horflby', 'horg', 'hornisr', 'hospit', 'host', 'hot', 'hotel', 'hou', 'houf', 'houn', 'hour', 'hourl', 'hourlv', 'hourwh', 'hous', 'houston', 'hout', 'hovart', 'how', 'howafio', 'howard', 'howdy', 'howev', 'hr', 'hrd', 'hrs', 'hru', 'hsc', 'ht', 'ht1t', 'htba', 'htgl', 'htm', 'hto', 'htsfuer', 'http', 'https', 'hub', 'hudson', 'hugo', 'hum', 'humid', 'hundr', 'hunt', 'hunzick', 'hutchinson', 'hutiu', 'hv', 'hwfmpqrtant', 'hwy', 'hy', 'hy1i', 'hydr', 'hydrot', 'hygy', 'i0', 'i000', 'i000056l3', 'i000223l3', 'i000258l3', 'i000359l3', 'i000452l3', 'i000455l3', 'i000462l3', 'i000466l3', 'i000471l3', 'i000472l3', 'i000474l3', 'i000486l3', 'i000508l3', 'i000514l3', 'i000546l3', 'i000549l3', 'i000553l3', 'i000599l3', 'i000603l3', 'i000605l3', 'i000621', 'i000673l3', 'i001065551', 'i001065561', 'i00106557', 'i00106558', 'i00106559', 'i002507771', 'i00275659', 'i00275660', 'i003684', 'i003688', 'i003689', 'i003693', 'i003694', 'i003696', 'i003698', 'i003699', 'i0036991', 'i003700', 'i003701', 'i003702', 'i003703', 'i003704', 'i003705', 'i003758', 'i003759', 'i003763', 'i003764', 'i003767', 'i003768', 'i003769', 'i022181', 'i05', 'i0510512016', 'i0525', 'i06', 'i064220', 'i088395', 'i0ted', 'i1', 'i10', 'i11', 'i111', 'i1111', 'i11111', 'i111111', 'i1111111', 'i111111111111111', 'i111111111111111111111111', 'i11111111111111111111111111111111', 'i111111111111111111111111111111111111111111111111111111', 'i111l', 'i11bound', 'i11ttachcd', 'i1524', 'i1a1', 'i1cm', 'i1lj', 'i1lj1', 'i1s', 'i2', 'i2013', 'i2017', 'i4', 'i46034', 'i48', 'i5', 'i50020', 'i6', 'i6confidential', 'i7', 'i7941', 'i7it', 'i8', 'i8d', 'i9', 'i_', 'i__', 'i___', 'i_b_p', 'i_o', 'ia', 'ia9', 'iaau', 'iabs', 'iaccou', 'iae5', 'iafiiit', 'iag', 'iair', 'iajl', 'iali_ty', 'iamount', 'ian', 'ianthony', 'iao', 'iarg', 'iat', 'iatcr', 'iateo', 'iaterias', 'iatkinson', 'iax', 'ib', 'ibh', 'ibh15sdmdmvoz4070wh', 'ibim', 'ibishop', 'ibm', 'ibod', 'ibrisco', 'ibrok', 'ibrummet', 'ibu1', 'ic', 'ic0000318513', 'ic0000789016', 'ic0000789020', 'ic0000789021', 'ic0000789022', 'ic1udihg', 'icapshaw', 'icas', 'icc', 'icep', 'icesllc', 'ichamb', 'ichron', 'iciil', 'icjl', 'icl', 'icm', 'icolem', 'icomply', 'icon', 'icont1cl', 'icook', 'icorp', 'icorrect', 'icosby', 'icp11r', 'icp_', 'icranm', 'icrl', 'ics', 'ict', 'icurrencv', 'icus10mcri', 'icust', 'icustom', 'icustomer', 'icv', 'id', 'id9', 'idc0n', 'idcd', 'idcon', 'ide', 'idea', 'iden', 'ident', 'identi6ed', 'idep', 'idim', 'idlrq', 'idmgexreosrn', 'idnp', 'ido', 'idu', 'idun', 'ie', 'ie8', 'ie9', 'iec', 'iedmond', 'ienergy', 'ient', 'iep', 'iephono', 'ier', 'iet', 'iev', 'iew', 'iexempt', 'if', 'ifany', 'ifappl', 'ifax', 'ifdeliveiy', 'ifdelivery', 'ifdon', 'ifeith', 'ifewel', 'iff', 'iffil', 'iffy', 'ifil', 'ifit', 'ifjf', 'ifk', 'ifl1r', 'iflc', 'ifloyd', 'ifmid', 'ifmidcon', 'ifnon', 'ifost', 'ifprefer', 'ifr', 'ifrench', 'ifrenew', 'ifrequir', 'ifriday', 'ifshown', 'ifsuch', 'ift', 'ifth', 'ifu1e', 'ifuvcy', 'ifvericrest', 'ifw', 'ifyo', 'ifyonr', 'ifyou', 'ifz', 'ig', 'igcmcnl', 'ighs', 'ight', 'ighu', 'igilliland', 'igin', 'ign', 'igncd', 'igovenair', 'ih', 'ih111111i', 'ih2420l4', 'ih77', 'ihelm', 'ihh', 'ihhhl', 'ihhhlm', 'ihhihih', 'ihhii', 'ihhiiiiihh', 'ihhl', 'ihhll', 'ihi', 'ihih', 'ihiihiiiiih', 'ihiiih', 'ihiiihiihi', 'ihiiii', 'ihiiiiiiiiiiiiih', 'ihiiill1', 'ihiilg', 'ihl', 'ihlij', 'iho', 'ihpoihaht', 'ihr', 'ihron', 'ii', 'ii01', 'ii069', 'ii08', 'ii1', 'ii11', 'ii111', 'ii1111111111111111', 'ii11lhi', 'iian', 'iib', 'iibd', 'iid', 'iidocum', 'iidoo', 'iids', 'iidy', 'iiell8a1eq', 'iig', 'iiggregiitelimit', 'iigid', 'iih', 'iihh', 'iihhhiih', 'iihhiii', 'iihii', 'iihiih', 'iihiihii', 'iihiiiihih', 'iihiiiiihlf', 'iihilllllhihiih', 'iihl', 'iihlffllh', 'iihlfflllh', 'iihll', 'iii', 'iii1', 'iii11', 'iii111111111111', 'iiiel', 'iiifilfl', 'iiih', 'iiihhhih', 'iiihhhiih', 'iiihhlmlhhi', 'iiihhuh', 'iiihi', 'iiihih', 'iiihihih', 'iiihiih', 'iiihiihi', 'iiihiihiih', 'iiihiihllm', 'iiihiiihih', 'iiihiiiihi', 'iiihiiiii', 'iiihiiiiiiiiiiiiiiiiiiiiiiiiiii', 'iiihiiiwiiiuihiiiiiiihiiiih', 'iiihl', 'iiihlffllll', 'iiihlllllll', 'iiihllmll', 'iiii', 'iiii111111111111111', 'iiii1111111111111111', 'iiiiateq', 'iiiidmhii', 'iiiih', 'iiiihhhiii', 'iiiihhiih', 'iiiihiii', 'iiiihiiihh', 'iiiihiiihih', 'iiiihiiiiii', 'iiiihiiiiiiiiuiiiiiiiiiiiiiiiiiiiiiimiii', 'iiiii', 'iiiiibhi', 'iiiiih', 'iiiiihh', 'iiiiihhhii', 'iiiiihhih', 'iiiiihhiiiiihii', 'iiiiihhl', 'iiiiihih', 'iiiiihihh', 'iiiiii', 'iiiiiih', 'iiiiiihh', 'iiiiiihhhii', 'iiiiiihhulm', 'iiiiiihi', 'iiiiiihihu', 'iiiiiihiiii', 'iiiiiihiiiih', 'iiiiiihiiiiiiii', 'iiiiiihl', 'iiiiiii', 'iiiiiiihhhii', 'iiiiiiii', 'iiiiiiiihhhl', 'iiiiiiiii', 'iiiiiiiiihi', 'iiiiiiiiii', 'iiiiiiiiiii', 'iiiiiiiiiiiii', 'iiiiiiiiiiiiiiiiii', 'iiiiiiiiiiiiiiiiiiiiiiiiiii', 'iiiiiiiiiiiiiiiiiiiiiiiiiiiiiiiiii', 'iiiiiiiiiiiiiiiiiiiiiiiiiiiiiiiiiiiiii', 'iiiiiiiiiiiiiiiiiiiiiiiiiiiiiiiiiiiiiiiiiiiiiiiiiiiiii', 'iiiiiiiiim', 'iiiiiiim', 'iiiiillllllllll111111111111111111', 'iiiiirih', 'iiiill1111111111', 'iiiiu912alet', 'iiiiy', 'iiijiiih', 'iiijt', 'iiil', 'iiil11', 'iiilmlil', 'iiimil', 'iiiuiiiiiihiih', 'iiiuiiiulllfflffllllllhiuiiiiiniii', 'iiiuuiu', 'iiivo', 'iijen', 'iijnfifrttz', 'iikid', 'iil', 'iilht', 'iilj', 'iiljury', 'iillhiliml', 'iilnd', 'iim', 'iimelhad', 'iimiiiiiihi', 'iiml', 'iiml1111111111111111', 'iimq', 'iincd', 'iinvo', 'iinvoiceff', 'iinvok', 'iio', 'iiona', 'iir', 'iisatl', 'iit', 'iit1', 'iitl', 'iiuuhiiii', 'iiv', 'iiwo', 'iiwolc', 'iix', 'ij', 'ij_', 'ijiic', 'ijipe8', 'ijl', 'ijlmlf', 'ijlu', 'ijmllim', 'ijn', 'ijnl', 'ijnt', 'ijo', 'ijod', 'ijohnson', 'ijq4', 'ijr', 'ijrhs', 'ijrl', 'ijs', 'ijso', 'ijt22nv', 'iju', 'ijudcon', 'ijusenb', 'ijxl', 'ijz', 'ik', 'ikon', 'il', 'il1', 'il1l', 'il2', 'ilal', 'ilamey', 'ilcd', 'ilf', 'ilf1uli111111', 'ilf9', 'ilfih', 'ilh', 'ili', 'ilij1qlljj1', 'iljjlt', 'ilk', 'ill', 'ill2__', 'illct', 'illd', 'illee1', 'illef', 'illeg', 'illep', 'illiah', 'illii1', 'illiil', 'illiililillffl', 'illino', 'illll', 'illlll', 'illlllllll', 'illllllllllllll', 'illllllllllllllllllllllllllllllllll', 'illlllllllllllllllllllllllllllllllll1111111111111111111', 'illow', 'illu', 'ilnd', 'ilnvo', 'ilnvo1ce', 'ilo', 'iloc', 'ilox', 'ilrw', 'ils', 'iltl', 'iltlito', 'ilto', 'ilwo', 'ilymenl', 'im', 'im1a', 'im2', 'im2i', 'im2tvoe', 'imafdn2', 'imagenet', 'imagenetconsult', 'imain', 'imark', 'imarshal', 'imaulnu', 'imb', 'imch', 'imil', 'iminyard', 'imir11i', 'imit', 'imjwovemeot', 'iml', 'iml946', 'immedy', 'immit', 'immodim', 'imoecdon', 'imonday', 'imorn', 'impact', 'impair', 'impecdo', 'impl', 'implilld', 'imply', 'import', 'impos', 'imposs', 'impract', 'impro', 'improv', 'imr', 'imy', 'in', 'in1', 'inacc', 'inadvert', 'inappl', 'inbound', 'inc_', 'inceiv', 'incg', 'inch', 'incid', 'incidantel', 'incidentel', 'inclirect', 'incll', 'includ', 'incom', 'inconsist', 'inconveny', 'incorp', 'incorpora1ed', 'incorpornr', 'incorrect', 'incotp', 'incr', 'increas', 'incua', 'incun', 'incur', 'ind', 'indebt', 'indeciph', 'indemn', 'indenm', 'independ', 'index', 'indirect', 'individ', 'indjdtl', 'indl', 'indlo', 'indlrect1y', 'indsurcharg', 'induc', 'indud', 'industiy', 'industry', 'industty', 'inetsrv', 'inewton', 'inf', 'inf0t', 'infeas', 'influ', 'info', 'infoanatioo', 'infom', 'infon', 'infonnatioo', 'infonnot', 'infonnut', 'inform', 'informationil', 'inforny', 'infr', 'infrastruct', 'ing', 'ingl', 'inglt', 'init', 'initl', 'injunct', 'injury', 'inl', 'inld', 'inlormot', 'inm', 'ino', 'inpectjon', 'input', 'inquirih', 'inquiry', 'inr', 'inrcd', 'ins', 'inscribir', 'inser1', 'insert', 'insid', 'insm', 'insolv', 'inspecit', 'inspect', 'inst', 'instal', 'instituc', 'institut', 'instl', 'instrnct', 'instru', 'instruct', 'instrumcnt', 'insu', 'insufficy', 'insuficy', 'int', 'intak', 'intal', 'intbrmlt', 'intcdn', 'integr', 'intel', 'intellect', 'intellig', 'intend', 'intentional', 'inter', 'interceiv', 'interest', 'interf', 'interfac', 'interlat', 'intermit', 'intern', 'internatlon', 'internet', 'interpr', 'interpret', 'interrupt', 'interst', 'interview', 'intl', 'intralat', 'intrast', 'introduc', 'intruct', 'intrud', 'inu', 'inukes070809101', 'inv', 'invalid', 'invento', 'inventocy', 'inventoiy', 'inventorv', 'inventorycd', 'inventoryout', 'inventoty', 'inveoto', 'invest', 'investig', 'invit', 'invo', 'invoice_detail_list', 'invoicin', 'invoicinq', 'invoict', 'invoit', 'invok', 'involunt', 'involv', 'invoy', 'invpjc', 'invqlc', 'iny', 'io', 'io1d', 'ioao', 'iodlc', 'iof', 'iohfa02', 'ioib', 'ioihid', 'ioim2tvne', 'iol', 'iollowlo9', 'ion', 'ioo', 'ioq', 'ior', 'iot', 'iotd', 'iothand', 'ioto', 'iov', 'ip', 'ip087643', 'ip087644', 'ipart', 'ipav', 'ipim', 'ipmc', 'ipmt', 'ipmttyp', 'ipot', 'iprnt', 'iqciid', 'iqf', 'iqt_b_l_', 'iquh', 'ir', 'ir1', 'ira', 'irb', 'irc', 'ircumst', 'ird', 'irdormarlon', 'ireemeo1', 'irerid', 'iret', 'ireynold', 'irg', 'irisf', 'iro', 'irobin', 'irod', 'iron', 'ironmcnt', 'irrep', 'irrespect', 'irrevoc', 'irt', 'irtform', 'iru', 'irv', 'irv1nll', 'irvin', 'irwo', 'irwolc', 'irymentto', 'is', 'isajescod', 'ischultz', 'iscot', 'isctblract', 'iseq', 'iseq12', 'iseq24', 'ishah', 'ishaw', 'isherid', 'iship', 'islop', 'ism', 'isnyd', 'iso', 'isoriano', 'isq', 'iss', 'issu', 'ist', 'istom', 'istop', 'isubt', 'isubtct', 'isuz', 'isuzu', 'it', 'it1', 'it1111111', 'itbin', 'itcm', 'itecotl', 'item', 'itemobl', 'iten1', 'itevtewso', 'itf', 'ith', 'ithefirmcech', 'ithin', 'ithoma', 'ithout', 'ithursday', 'iti', 'itil', 'itirt', 'itiun', 'itl', 'ito', 'itom5', 'itot', 'its', 'ituesday', 'itv', 'itw', 'ity', 'iu', 'iu1', 'iu_', 'iuihbiiiiiiiiihllllllllahiiiiiiiiiiiiii', 'iuiihh', 'iuit', 'iun', 'iutl', 'iuu', 'iuun', 'iv', 'iv_e', 'ivarga', 'ivcr', 'iveitch', 'ivery', 'ivf', 'ivy', 'iw', 'iwalk', 'iwednesday', 'iweek', 'iwhen', 'iwhit', 'iwiiiiiiih', 'iwiley', 'iwl', 'iwnam', 'iwsok', 'ix', 'ixb', 'ixd', 'ixhibit', 'ixl', 'iy', 'iye2010', 'iz', 'iz_', 'j06', 'j1', 'j11', 'j11d', 'j17', 'j1ds', 'j1i', 'j1lier', 'j1n', 'j1ri', 'j21_f', 'j2ibo', 'j2j', 'j2lu', 'j2s', 'j3', 'j34', 'j3atch', 'j4', 'j5', 'j500206j', 'j5aie', 'j5dmona', 'j5fue', 'j6', 'j6pm', 'j7', 'j7f', 'j805', 'j8zc', 'j9983988', 'j_', 'j__', 'j_a', 'j_aen_a___f6ppe__qfqyp', 'j_j_5_q_', 'j_l5_f', 'j_o___l____', 'j_os', 'j_u_l', 'j_v', 'ja', 'jack', 'jacket', 'jackson', 'jacky', 'jak', 'jam', 'jan', 'janel', 'jann', 'janu', 'jasmin', 'jason', 'jasp', 'jaw', 'jaypark', 'jb', 'jb1i', 'jblajte', 'jby', 'jc', 'jc1', 'jce', 'jctt', 'jcust', 'jd', 'jday', 'jde', 'jden', 'jdjt', 'jdll', 'jdo', 'je', 'jeany', 'jec', 'ject', 'jedmond', 'jee', 'jeep', 'jeepdoog', 'jeff', 'jeffoear', 'jeffrey', 'jem', 'jen', 'jenn', 'jenviron', 'jer', 'jeremiah', 'jerry', 'jescrib', 'jess', 'jet', 'jew', 'jf', 'jf15', 'jfi', 'jfrft', 'jft', 'jg', 'jgillilanc', 'jgilliland', 'jgitlilonj1a', 'jgj', 'jgl', 'jh11', 'jhf', 'ji', 'ji0', 'ji2016', 'jiad', 'jial', 'jiddr', 'jif', 'jifmi', 'jii', 'jiihiih', 'jiiiihiihh', 'jiiiiiiii', 'jiiijiiih', 'jij', 'jijt', 'jil', 'jim', 'jim2', 'jio', 'jiq', 'jir', 'jit', 'jiu', 'jj', 'jj__', 'jja', 'jjf', 'jjj', 'jjjb', 'jjl', 'jjlh', 'jjp', 'jjt', 'jjt22nv', 'jjy', 'jjz', 'jk', 'jl', 'jl0', 'jl1', 'jl11', 'jl2279v1', 'jl41', 'jlk', 'jll', 'jllh', 'jlllf', 'jllp', 'jlned', 'jlnlng', 'jlo', 'jloooo', 'jlovo', 'jlsa', 'jly', 'jm', 'jmant', 'jmark', 'jmi', 'jml', 'jmwi', 'jn', 'jnlt', 'jnltprlce', 'jnpguvklcfbopvf', 'jnr', 'jnto', 'jnventory', 'jnwrred', 'jo', 'job', 'jod', 'joe', 'joel', 'joff', 'john', 'johnny', 'johnson', 'johnston', 'joim', 'joim2ou', 'joint', 'jojl', 'jon', 'jonath', 'jonco', 'jos', 'joss', 'jov', 'jp', 'jpearson', 'jpg', 'jpim', 'jpj1', 'jprl', 'jps', 'jq', 'jql', 'jqr', 'jr', 'jr0031', 'jr0041', 'jr0046l4', 'jr0064l4', 'jr0075l4', 'jr0078l4', 'jr0080l4', 'jr0081', 'jr0083l4', 'jr0086l4', 'jr0087l4', 'jr0095l4', 'jr0101', 'jr0108l4', 'jr0112l4', 'jr0115l4', 'jr0118l4', 'jr0120l4', 'jr0121', 'jr0124l4', 'jr0130l4', 'jr8801', 'jr8811', 'jr8822l4', 'jr8830l4', 'jr8834l4', 'jr8839l4', 'jr8845l4', 'jr8849l4', 'jr8850l4', 'jr8851', 'jr8881', 'jr8895l4', 'jr8897l4', 'jr8901', 'jr8902l4', 'jr8907l4', 'jr891', 'jr8912l4', 'jr8921', 'jr8929l4', 'jr8937l4', 'jr8939l4', 'jr8940l4', 'jr8950l4', 'jr8951', 'jr8954l4', 'jr8955l4', 'jr8957l4', 'jr8959l4', 'jr8960l4', 'jr8963l4', 'jr8965l4', 'jr8968l4', 'jr8969l4', 'jrch', 'jrftf', 'jrg', 'jriv', 'jrj', 'jrl', 'jrmation', 'jrnl', 'jry', 'js', 'jscott', 'jsoap', 'jss', 'jstm', 'jstments', 'jsumn', 'jsuzu', 'jt', 'jt22l', 'jt22nv', 'jtem', 'jti', 'jtl', 'jtlvngn82nv', 'jto', 'jto5', 'jtot', 'jtt', 'jtzc', 'ju', 'ju257341649b', 'judg', 'judgennt', 'judy', 'juh', 'jujt', 'jul', 'july', 'jun', 'jun15', 'jun16', 'jun21', 'june09', 'juno', 'junog', 'juq', 'jur1e', 'jurisdict', 'jury', 'juso', 'jusr', 'just', 'justin', 'juun', 'juv', 'juw', 'jver', 'jvleai', 'jvz', 'jw', 'jwh06069', 'jwi', 'jwil', 'jx', 'jxl', 'jy', 'jyi', 'jz', 'jzip', 'k040164165002', 'k_16', 'k__', 'kais', 'kansa', 'katy', 'kb', 'kbradford', 'kbs', 'kc', 'kc00', 'kcd', 'kcounl', 'kcount', 'kcts', 'ke', 'keep', 'kei', 'kel', 'kelley', 'kempton', 'kendal', 'kenne', 'kenny', 'kenosh', 'kept', 'ker', 'kerbo', 'ket', 'ketdn', 'kevin', 'key', 'kf', 'kgpcp', 'kiiobyt', 'kik002241923669', 'kil', 'kilkenny', 'kilobyt', 'kimber', 'kimberle', 'kin', 'kind', 'kindof', 'king', 'kirby', 'kirkpatrtck', 'kit', 'kitch', 'kitoklahom', 'kj', 'kjlf', 'kjllll', 'kju', 'kl', 'klc4u', 'klo', 'km', 'km4s', 'kn', 'knew', 'knight', 'know', 'knowl', 'knowledg', 'known', 'knox', 'ko', 'koch', 'kohl', 'kor', 'kr', 'krnial', 'ks', 'ksll', 'kso', 'kt', 'kthompson', 'ktl', 'ktti1txnr', 'ku', 'kuykendal', 'kvar', 'kvarh', 'kw', 'kwh', 'kxlu', 'ky', 'l0', 'l01h', 'l05', 'l1', 'l1018111168', 'l10a', 'l11', 'l111', 'l1111', 'l111h', 'l111il', 'l111w_lol', 'l1122711v1', 'l112271y1', 'l112279', 'l119', 'l11e', 'l11hlll1111i', 'l11l11', 'l11llll1l1j111lll11', 'l11lorm11tion', 'l11tcrj1ii1s', 'l14', 'l1i7', 'l1ivel', 'l1l', 'l1l1111mu11', 'l1l1l11lrllll', 'l1l1ll', 'l1ll11', 'l1ll111', 'l1ll1l1', 'l1lll', 'l1llll1lll11lll', 'l1ne', 'l1onor', 'l1ta', 'l2', 'l21', 'l22', 'l22c', 'l3', 'l3i', 'l3qij', 'l4', 'l4333', 'l4to', 'l4x6', 'l5', 'l520t', 'l6no1r', 'l7eoi', 'l889241', 'l9', 'l9sw', 'l9xx', 'l_', 'l__', 'l_____', 'l_fflf', 'l_j', 'l_m', 'l_s_t', 'la', 'la1', 'la1ed', 'la22111v1', 'la2219v1', 'la22711v1', 'la22711y1', 'la2271v1', 'la2278v1', 'la2278y1', 'la2279v1', 'la2279vt', 'la22ffi1', 'la2m1v1', 'la_hnim', 'lab', 'label', 'labin', 'labl', 'labo', 'labru', 'lac', 'lach', 'lact', 'lacy', 'ladonn', 'lae', 'lafay', 'laffery', 'laffo', 'lafu', 'lah', 'lahom', 'lahoma_com', 'laim', 'lak', 'lakin', 'lal', 'lal1t', 'lalc', 'lam', 'lan', 'lanagc', 'land', 'landfil', 'landlin', 'landr', 'landun', 'langu', 'lanm', 'lans', 'lapc', 'lar', 'larg', 'larry', 'las', 'lasel', 'lasik', 'last', 'lat', 'late1011666112', 'laur', 'lauril', 'lavo', 'law', 'lawn', 'lawnez', 'lawr', 'lawson', 'lax', 'lay', 'lb', 'lb89241', 'lbe', 'lbim2tvoe', 'lbs', 'lc', 'lca', 'lcat', 'lcgal', 'lci', 'lcl', 'lcm', 'lcn1t', 'lcr', 'lction', 'ld', 'ldagr', 'ldchar', 'ldditiex', 'ldenl', 'ldge1ncnt', 'ldim', 'ldim2', 'ldit', 'ldl', 'ldli', 'ldnd', 'ldocconfid', 'ldvn', 'le', 'le11', 'lea', 'leach', 'lead', 'leak', 'learn', 'leas', 'leasehold', 'leasl', 'least', 'leav', 'leb', 'lecommun', 'led', 'ledg', 'lee', 'left', 'leg', 'leg11i', 'legend', 'legitim', 'lei', 'leigh', 'leis', 'lej', 'lem', 'lem12ed', 'len', 'lend', 'lenergy', 'lenhard', 'lennin', 'lent', 'leon', 'leonard', 'lep', 'ler', 'lernu', 'leroharye', 'lertak', 'les', 'less', 'lest', 'let', 'leu', 'lev', 'levd', 'level', 'levy', 'lew', 'lf', 'lfa', 'lfav', 'lff', 'lfi', 'lfiil', 'lfit', 'lfj', 'lfl', 'lflds', 'lfllw9lart', 'lfqbdj', 'lfr', 'lftl', 'lfvoflis', 'lfyo', 'lg', 'lgl', 'lgmt', 'lgwf', 'lh', 'lh1', 'lhankyou', 'lhav', 'lhe', 'lhen', 'lhet', 'lhhcopllfloii', 'lhirty', 'lho', 'lhr4', 'lhtslrlp', 'lhxld', 'lhy', 'li', 'li6sc', 'liab', 'liabiijty', 'liabl', 'liabwty', 'liam', 'libn', 'libr', 'lic', 'licen5e', 'licens', 'liceru', 'lichtenwalt', 'licket', 'licld', 'lid', 'lidit', 'lidyard', 'lie', 'lieb', 'lien', 'lier', 'lieu', 'lif', 'lifeguard', 'lift', 'liftg', 'light', 'lighth', 'lii', 'liiiil1l', 'liizl18v1', 'lij', 'lik', 'lil', 'lilcd', 'lilllll', 'lilt1', 'limit', 'limitad', 'limt', 'limtutd', 'limu', 'lin', 'lincoln', 'lind', 'lindenbcrn', 'lindenberg', 'ling', 'lini', 'link', 'lint', 'linvil', 'lio', 'liobl', 'lionwood', 'liot', 'lirst', 'lirty', 'lis', 'liseq', 'liss', 'list', 'lit', 'litig', 'litilecalf', 'littlefield', 'liv', 'liw', 'lj', 'lj1110t1', 'lj1o', 'lj1t', 'lj5', 'ljbr', 'ljcense', 'ljd', 'lji', 'ljj2d', 'ljl6ge', 'ljr', 'ljr_', 'ljsf', 'lk', 'll', 'll0', 'll1', 'll111', 'll11l', 'll1l111', 'll1l1111111', 'll1ll1', 'll1ll1lll1jj1111l1lll1', 'll1lll1ll1', 'll5', 'll664611', 'llanagementint', 'llat', 'llbw', 'llc', 'lld', 'lldcok', 'lldcon', 'lle', 'lledmondelect', 'ller', 'llesc', 'llfat', 'llffl', 'llfflhiihii', 'llfflhiiih', 'llfflhiiiiii', 'llfflhiiiurn', 'llffllll', 'llfflllll', 'llfl', 'llftlffll', 'llho', 'llhoit', 'llhole', 'lli', 'llillb', 'llitu', 'llj', 'lljfls', 'lljl', 'lll', 'lll1', 'lll11', 'lll111l1', 'lll11l1', 'lll1l', 'lll1l1lll1', 'lll1ll', 'lll1lll1llll', 'lll1t', 'lll2278v1', 'lll2279v1', 'lll227w1', 'lll7', 'lllb', 'lllbility', 'llle', 'lllfflllhhiii', 'lllfflllllfflllfflllllmiii', 'llli', 'lllie', 'lllier', 'llliffl', 'llliil', 'lllil', 'lllilhillllh', 'lllillhiiihih', 'lllillllllmhhii', 'llll', 'llll1', 'llll1l', 'llll1l1l1l11l1llll', 'llll1ll', 'llll1llllilll1l1l1llll11', 'llllds', 'llllf', 'llllhhllrnl', 'llllill', 'lllll', 'lllll11', 'lllll11lll1lllll1', 'lllllityof', 'llllll', 'llllllilllllmllllll1', 'lllllll', 'lllllllli11111111111', 'lllllllll', 'llllllllll1111111111111111111', 'lllllllllllll', 'lllllllllllllillllllllllll', 'lllllllllllllll', 'llllllllllllllllllllll', 'llllmllllllll1111', 'lllls', 'lllltlff', 'lllmhiihii', 'lllqc', 'llltl', 'llltui', 'llm', 'llmeni', 'llmhh', 'llmlber', 'llmlib', 'llmm', 'lln', 'llnatod', 'llnd', 'llne', 'llo', 'llok', 'llon', 'lloro', 'llp', 'llq', 'llr', 'llrn', 'llrnhhiiiiiiiii', 'llrnhhlmllhii', 'llt11', 'lltk', 'lltt', 'llu', 'lluspit', 'llv', 'llvithout', 'llw', 'llwww', 'lly', 'lly2e', 'lm', 'lm1111', 'lmagenet', 'lmaq', 'lmb', 'lmber', 'lmdllr', 'lmlfllstlallve', 'lmo', 'lmoginl', 'lmondelect', 'lmontb', 'lmplicarions', 'lmponents', 'lmportant', 'lmt', 'ln', 'ln11oico', 'lnak', 'lnc', 'lncidenr', 'lnck', 'lncludad', 'lnco', 'lncol', 'lncorpomed', 'lncorpor', 'lncorpormcd', 'lncorporn1cd', 'lncorporntcd', 'lnctrrred', 'lnctucang', 'lncx', 'lndexinq', 'lndh', 'lndianwood', 'lnelud', 'lneurt', 'lnfo1111ation', 'lnfom', 'lnfom1ation', 'lnfonnation', 'lnformacion', 'lnformation', 'lnfosync', 'lnfotmatlol', 'lnfrlno', 'lng', 'lnhor', 'lnir', 'lnl', 'lnlnfim', 'lnltial', 'lno', 'lnort', 'lnqulrlas', 'lnrnn', 'lnsurance', 'lnsurica', 'lnt', 'lntegris', 'lnternatlonalj', 'lnterrupcion', 'lnterrupclon', 'lntetstate', 'lnv1', 'lnven10ry', 'lnvenioiy', 'lnvenl', 'lnvenlory', 'lnventmycd', 'lnvento', 'lnventocy', 'lnventoiy', 'lnventory', 'lnveotorycd', 'lnvo1ccnate', 'lnvoice', 'lnvoico', 'lnvok', 'lnvoklea', 'lnvolc', 'lnvolca', 'lo', 'lo5', 'load', 'loan', 'lobby', 'loc', 'locatio', 'locatiot', 'locatlm', 'lock', 'lockahk', 'lockard', 'lockwash', 'lod', 'lodg', 'loek', 'loff', 'log', 'login', 'logo', 'loi', 'loim', 'lojz', 'lol', 'loliday', 'lollowlng', 'lon', 'london', 'long', 'longdistanceagr', 'lonth', 'loo', 'look', 'looo', 'loooo', 'lopez', 'loq', 'loqo', 'lor', 'los', 'los1011201', 'lospit', 'loss', 'lost', 'lot', 'lou', 'louisvil', 'loun', 'loun2', 'lount', 'lour', 'lout', 'louu', 'lovch111d', 'loveland', 'loveotol', 'low', 'loy', 'loyal', 'loymeflt', 'lozl', 'lp', 'lpon', 'lpprvd', 'lq', 'lq9', 'lqjlej', 'lqs', 'lr', 'lr22', 'lr22711v1', 'lr2271v1', 'lr2278v1', 'lr2279v1', 'lr2279y1', 'lr54', 'lr542s', 'lral', 'lraz', 'lrcluded', 'lre', 'lri', 'lric', 'lrim', 'lrom', 'lrsixtv', 'lrtililfle', 'lru', 'lry', 'lrz2711v1', 'lrz271v1', 'ls', 'lsa1es', 'lsb', 'lsc', 'lse', 'lsl', 'lsloo', 'lsoo1od', 'lss', 'lst', 'lsudget', 'lsuperv', 'lt', 'lt6m', 'lt_', 'lta', 'ltd', 'lte', 'lte1ns', 'ltem', 'lter', 'ltert', 'ltf7b', 'ltfe', 'ltflll', 'ltflrff', 'lti', 'lticlgc', 'ltin', 'ltio', 'ltl', 'ltlanal', 'ltle', 'ltll', 'ltllflj', 'ltlltf', 'lto', 'ltod', 'ltp', 'ltq', 'ltr', 'lts', 'ltsm', 'ltso', 'ltt', 'ltust', 'ltw4', 'ltx', 'lu', 'lub', 'lubbock', 'lubr', 'lubrican1', 'luca', 'lucfrn', 'lucky', 'lud', 'luhd', 'lui', 'lul', 'lulllp_', 'lun', 'lunch', 'luncheon', 'lunionst', 'lurth', 'lv', 'lv1', 'lv3', 'lv4', 'lve', 'lvehmd', 'lvf_pljr1', 'lvfaterial', 'lvi', 'lvs', 'lvwith', 'lwhen', 'lwnr1', 'lwww', 'ly', 'ly1t2', 'lyz', 'lz', 'm0', 'm0unt', 'm1', 'm1111', 'm11111', 'm1111111', 'm11111111', 'm111111111111', 'm11111111111111', 'm111111111111111', 'm1111111111111111', 'm11111111111111111111', 'm11111m111111111111', 'm1111m', 'm11in', 'm11t1lll1c2u', 'm11terials', 'm12', 'm1deorula', 'm1dl', 'm1m', 'm1m1111111', 'm1m1111111111', 'm1m1111111111111', 'm1mm1111', 'm1rnl', 'm1t', 'm1terial', 'm2500', 'm325', 'm4', 'm7', 'm8', 'm81', 'm_aryof______sandadjustments', 'm_e_n', 'ma', 'ma10ptuls', 'maad', 'mabl', 'mac1jvlu', 'macaron', 'machcd', 'machin', 'mad', 'madv', 'magcl', 'magel', 'magerncn', 'magnet', 'mah', 'mahaddress', 'mai', 'maidpro', 'maidptuls', 'mail', 'mailaddress', 'mailbox', 'mailto', 'main', 'maint', 'maintain', 'maio', 'maiopro', 'mair', 'maj', 'majc', 'majeurc', 'mak', 'makm', 'mal', 'man', 'manaa', 'managcmem', 'manageiy', 'managem', 'managemcnl', 'manageyo', 'manaq', 'mand', 'mandy', 'manifest', 'manil', 'mant', 'manufact', 'many', 'mar', 'marc', 'march', 'marchat11abi6ity', 'marciac', 'maren', 'mark', 'market', 'marqu', 'marsh', 'marshal', 'mart', 'martin', 'marty', 'mason', 'mass', 'mastercard', 'mat', 'matbr', 'match', 'matcr', 'matcr1', 'mate1ials', 'mateml', 'materinl', 'matet', 'matey', 'mathrew', 'matihew', 'matl__', 'matn', 'mats', 'matthew', 'mautiiab', 'max', 'maxim', 'maximwn', 'maxnn', 'may', 'may15', 'may16', 'may2016', 'may3', 'may30', 'mayo', 'mb', 'mbps', 'mc', 'mcaf', 'mcafeetaft', 'mcbride', 'mcbuslv1', 'mccaffrey', 'mccart', 'mccollam', 'mccormick', 'mccoy', 'mcd', 'mcdonald', 'mcds', 'mcds1', 'mcdsi', 'mcdsl', 'mcf', 'mcfall', 'mcgee', 'mcgill', 'mcgills', 'mcgraw', 'mcguffin', 'mcguffln', 'mci', 'mckim', 'mckinnis', 'mckinstry', 'mcklnstry', 'mclaughlin', 'mcli', 'mcma9cs', 'mcmillon', 'mcnt', 'mcs', 'mcvay', 'md', 'mdat', 'mday', 'mde', 'mdlile', 'mdlod', 'mdltlonal', 'mds', 'mdsadm', 'mdsokc', 'mdstul4', 'mdstul42013fordtransit', 'mdstuls', 'me', 'mea', 'mead', 'meal', 'mean', 'meas', 'mech', 'med', 'medicaid', 'medicin', 'mediter', 'mediterraneanoklahom', 'medj', 'medley', 'medleyco', 'medleycompany', 'meellng', 'meet', 'meetingacceiv', 'meetlng', 'meg', 'melendez', 'mellor1al', 'melt', 'mem', 'memb', 'membersourc', 'memo', 'memph', 'men1al', 'menf', 'menr', 'ment', 'menufac', 'mer', 'merch', 'merchand', 'merchantobi1ity', 'merchllf', 'mercllllnt', 'meref', 'merg', 'mericit', 'merid', 'merit3', 'merpo', 'merry', 'mert', 'mesquit', 'mess', 'met', 'meth', 'method', 'metlteg', 'metro', 'metropolit', 'mex', 'mey', 'mfflonts', 'mfg', 'mfinqulsh', 'mfj', 'mform', 'mforrnat1on', 'mg', 'mgiifitio', 'mgl', 'mgmt', 'mgt', 'mguagc', 'mh', 'mhi______', 'mho', 'mhr', 'mi', 'mia', 'miccon', 'michael', 'michel', 'microfich', 'microfilm', 'microsoft', 'micx', 'mid', 'mid004', 'mid1025', 'mid41', 'midc', 'midc0n', 'midc_rnlj', 'midcc', 'midco', 'midcon', 'midcond', 'midconda', 'midcondat', 'midconint', 'midcontas', 'midcontin', 'midcoy', 'midcqn', 'midcunda1', 'midgon', 'midl025', 'midland', 'midnp', 'midoon', 'midstream', 'midwest', 'mie', 'mig', 'might', 'mii', 'miix', 'miiy', 'mik', 'mil', 'milburn', 'mile', 'mileac', 'miless', 'mim', 'min', 'mindy', 'mingo', 'mini1num', 'minim', 'minut', 'mio', 'miocon', 'mioconoat', 'mip', 'miraku', 'mis', 'misc', 'miscel', 'misconduc', 'mishandl', 'miss', 'mitfon', 'mitig', 'miu', 'mix', 'mixon', 'miy', 'miz', 'mjd', 'mjdcon', 'mjmij', 'mkt', 'ml', 'ml13t', 'ml946', 'ml___', 'mlacy', 'mlc', 'mldcon', 'mll', 'mllfk', 'mllll', 'mlllllllll', 'mlne', 'mlnw', 'mlocon', 'mlud', 'mlys', 'mm', 'mmbtu', 'mmed', 'mmiagcmcnt', 'mmiddiyyyy', 'mmmgemenl', 'mmre', 'mms', 'mn', 'mn8atcho', 'mnat', 'mnsferang', 'mnterial', 'mny', 'mo', 'mobl', 'mod', 'model', 'modem', 'modern', 'modul', 'mogc', 'moil', 'moin', 'moit', 'moloy', 'momh', 'mon', 'mond1', 'monday', 'monday2', 'monet', 'money', 'monic', 'monit', 'monitot', 'monlh', 'mono', 'mont', 'month', 'monthjyxx', 'monthl', 'monthlyxxxx', 'montoy', 'montwy', 'mony', 'moor', 'moor1p', 'moorhead', 'mor', 'moreau', 'morn', 'mos', 'mosaom', 'mosokc', 'most', 'mot', 'moth', 'mount', 'mov', 'mow', 'mowdy', 'mp', 'mpany', 'mpg', 'mplored', 'mployee', 'mply', 'mpm', 'mposs', 'mq', 'mr', 'mra', 'mrnmmj', 'mrs', 'ms', 'msy', 'mt', 'mt111', 'mt1i1', 'mtag', 'mtdcon', 'mtear', 'mtflm', 'mtfu', 'mth', 'mti', 'mtocon', 'mts', 'mttyp', 'mu', 'mu_', 'much', 'mullipl', 'mult', 'multifold', 'multipl', 'multiply', 'munb', 'municip', 'murk', 'murrah', 'mus', 'muse', 'musko', 'must', 'mustang', 'mut', 'mv', 'mva', 'mvn', 'mvz', 'mw', 'mwriting', 'mwxal', 'mwxal4411', 'mxion', 'my', 'myaccount', 'myaccountl', 'mysprint', 'mzc', 'n03', 'n0rth', 'n15hipper5', 'n162pb', 'n1i', 'n3', 'n4', 'n5', 'n6', 'n81', 'n9', 'n_', 'na', 'na1', 'nabu', 'nag', 'naic', 'nal', 'nallct', 'nam', 'nam11', 'nan', 'nant', 'nar', 'nas', 'nat', 'nath', 'nbroadway', 'nburg', 'nc', 'ncc', 'nce', 'ncg', 'ncorp', 'nction', 'ncuqn', 'ncx1', 'nd', 'nde', 'ndersignad', 'ndstream', 'ne', 'ne1', 'nea', 'neal', 'near', 'nearest', 'neat', 'necess', 'necessit', 'ned', 'nee', 'needham', 'neg', 'neglect', 'neglig', 'negoty', 'neith', 'nej', 'neko', 'nelson', 'nem', 'nempl_', 'ner', 'neritem', 'nesstf', 'net', 'net30', 'net45', 'network', 'nev', 'neverthdess', 'nevertheless', 'new', 'newest', 'newmark', 'newmarklsb', 'nexl', 'nexs', 'next', 'nfat', 'nfmetlm', 'nfon', 'nform', 'nfpa', 'ng', 'nge', 'nh', 'nhl', 'ni', 'ni1r', 'ni2ent', 'nia', 'nic', 'nicesllc', 'nichol', 'nickel', 'nicknam', 'nid', 'nigh', 'night', 'nii', 'niid', 'nij', 'nikk', 'nil', 'nilr', 'nimmo', 'nin', 'ningun', 'nis', 'niship', 'niss', 'nit', 'nitj_', 'niz', 'nj', 'njt', 'nl', 'nla', 'nlc1j', 'nletill', 'nlifmiw9l', 'nlown', 'nlrac', 'nm', 'nmco', 'nment', 'nmm', 'nn', 'nna', 'nnd', 'nnder', 'nnderstanding', 'nnin', 'nnn', 'nnnnnn', 'nnnnnnnn', 'nnnynnnn', 'nnr', 'nnv', 'nny', 'nnynnnn', 'no', 'no1', 'no1hing', 'no_', 'nocm', 'nol', 'nolloo', 'non', 'noncomply', 'nondefault', 'nondelect', 'nondisclos', 'nonetheless', 'nonown', 'nonpay', 'nonpaym', 'nonperform', 'nonpubl', 'noon', 'noor', 'nop', 'nor', 'nork', 'norm', 'normanalamed', 'norp1205142016nnnynnnn01003635', 'northborough', 'northc', 'northrop', 'northwestern', 'norv', 'nory', 'not', 'noth', 'notl', 'notwithstand', 'notwl1', 'nou', 'nov', 'novemb', 'now', 'npdating', 'npn', 'npon', 'nppraval', 'nppropnatc', 'nquiry', 'nr', 'nrc', 'nrcs', 'nrg', 'nric', 'nrji', 'nrnumber', 'nrot', 'nrs', 'nruncd', 'nrwt', 'ns', 'ns1', 'ns1a', 'nsact', 'nsf', 'nss', 'nssc', 'nstein', 'nstrljt', 'nt', 'nta', 'nta1', 'ntau', 'ntc', 'nterpns', 'nterpr', 'nth', 'nthly', 'nths', 'ntialit', 'ntj', 'ntk', 'ntly', 'nto', 'ntow', 'nu', 'nuclear', 'nuestro', 'nul', 'numb', 'numbtl', 'nun', 'nunibcr', 'nunu', 'nut', 'nuthoffl', 'nv', 'nvc', 'nvelop', 'nvenl', 'nvent', 'nviron', 'nvironmeot', 'nvo', 'nvoice_detail_list', 'nvolc', 'nw', 'nw62nd', 'nwnber', 'nwst', 'nwv', 'ny', 'nz', 'o0', 'o1', 'o111', 'o1j', 'o2', 'o2016', 'o3', 'o5', 'o535', 'o70fs', 'o76', 'o9', 'o_', 'o____', 'o_l', 'o_n', 'o_n_', 'o_o', 'o_rt_io_n___', 'oa', 'oaa', 'oafculatod', 'oak', 'oao', 'oaotny', 'oas', 'oat', 'oaterrim', 'oatlt', 'ob032d1b', 'ob31100118b0b9811201310019495', 'obgyn', 'object', 'oblig', 'obligatton', 'obs', 'observ', 'obtain', 'obtainingpast', 'obtaip', 'obtalnllng', 'oc', 'ocap', 'occ', 'occas', 'occhd', 'occord', 'occount', 'occu', 'occup', 'occur', 'ocg', 'och', 'ocien', 'ock', 'ocnvo', 'ocon', 'ocood', 'ocpd', 'ocs', 'oct', 'octob', 'ocurrir', 'ocxl', 'od', 'od12', 'oddiuon', 'odf', 'odom', 'odomet', 'odue1', 'odvd', 'oe', 'oealer', 'oebit', 'oed', 'oejvotv', 'oelivcry', 'oelivery', 'oelv', 'oep', 'oer', 'oerform', 'oerk', 'oesc', 'oescr', 'oescr1', 'oescrc', 'oeto', 'oev', 'of', 'of2', 'of2011', 'of3', 'of4', 'of5', 'of932', 'of_', 'ofaccount', 'ofact', 'ofal', 'ofand', 'ofanoth', 'ofany', 'ofau', 'ofaucu', 'ofauth', 'ofbeltway_transcribe', 'ofbusy', 'ofc', 'ofcaus', 'ofclaim', 'ofcn', 'ofcollect', 'ofcompany', 'ofconfid', 'ofcounterpart', 'ofcr', 'ofcur', 'ofdcfault', 'ofdefault', 'ofdeposit', 'ofdestruct', 'ofdlt', 'ofdr', 'ofdrug', 'ofeach', 'ofeighteen', 'ofeith', 'ofemploy', 'off', 'offebru', 'offens', 'offield', 'offifty', 'offjc', 'offlc', 'offorc', 'offp', 'offyear', 'ofgod', 'ofinfon', 'ofinform', 'ofins', 'ofinvo', 'ofit', 'ofitem', 'ofjanu', 'ofju', 'ofjun', 'oflaw', 'ofld', 'ofloss', 'oflost', 'oflp', 'ofm', 'ofmay', 'ofmed', 'ofmicrofilm', 'ofmidcon', 'ofmjdcon', 'ofmldcon', 'ofnin', 'ofno', 'ofnot', 'ofnrc', 'ofobtain', 'ofof', 'ofoklahom', 'ofolchhom', 'ofon', 'ofoy', 'ofp', 'ofperjury', 'ofpolicy', 'ofproduc', 'ofprofit', 'ofprovid', 'ofpry', 'ofpurchas', 'ofr', 'ofreceipt', 'ofrespons', 'ofrevenu', 'ofrom', 'ofsaid', 'ofseptemb', 'ofserv', 'ofsixty', 'ofst', 'ofstrict', 'ofsubrog', 'ofsuch', 'oft', 'oftap', 'oftapemast', 'oftb', 'oftexa', 'ofth', 'ofthc', 'ofthem', 'ofthes', 'ofthr', 'oftil', 'oftrad', 'oftuls', 'oftwenty', 'ofunlead', 'ofv', 'ofvalu', 'ofvericrest', 'ofvit', 'ofvm', 'ofwh', 'ofwhich', 'ofwvf', 'ofxl3', 'ofyo', 'og', 'ogc', 'ogl', 'ogt', 'oh', 'oh4j0', 'ohfa02', 'ohhp', 'ohnron', 'ohnsj', 'oi', 'oic', 'oid', 'oiem', 'oientin', 'oieot', 'oifs', 'oig', 'oil', 'oim2', 'oiolc', 'oiowt', 'oiry', 'oispulcd', 'oit', 'oitm', 'oityoftulsepu', 'oiy', 'oj', 'ok', 'ok13639y', 'ok514', 'ok514j', 'ok673j', 'ok74012', 'ok78558y', 'okc', 'okc1233', 'okc22', 'okc23', 'okc24', 'okcffuls', 'okcffulso', 'okcfruls', 'okcnm', 'okcrruls', 'okfahom', 'oki82639', 'okj', 'okj60050', 'okjahom', 'okl', 'okl11hom11', 'okl38559', 'okl60650', 'okl63685', 'okl82639', 'oklahoa', 'oklahom', 'oklahomacl', 'oklahomanaturalga', 'oklal1oma', 'oklaltom', 'oklawpartn', 'okmlt', 'oky96785', 'okz52060', 'okz52073', 'okzs2000', 'ol', 'ol4', 'ola', 'olactron', 'olbwlng', 'olclahorn', 'olcustom', 'old', 'oldahonu', 'olectron', 'olf', 'olff', 'olgf', 'olght', 'olh', 'olhcr', 'oljabl', 'oll', 'ollect', 'olllo', 'ollo', 'olloot', 'ollowlng', 'ollt', 'olp', 'olpy50011299', 'olterrim', 'olutlo11', 'om', 'om_', 'omeril', 'omerout', 'omit', 'ompany', 'ompariy', 'ompetit', 'ompon', 'omt', 'on', 'on11l', 'on_s', 'ond', 'ondlof', 'oneano', 'onega', 'onelltion1', 'oneperc', 'ones', 'oney', 'onfid', 'onfidend', 'ong', 'ongo', 'ongtransportserv', 'onh', 'onl', 'onlin', 'onlinepay', 'onlint', 'onlv', 'onmcnl', 'onnat1on', 'ono', 'onry', 'ons_', 'onsit', 'onsitem', 'onsitemcbl', 'onsitemobl', 'onslitul', 'onst', 'onstemcbl', 'onstemobl', 'onsti1u1e', 'ont', 'ontac', 'ontain', 'onth', 'ontinuq', 'ontraet', 'ony', 'oo', 'oo10j', 'oo1od', 'oo9', 'oo_', 'ooam', 'ooc', 'ood', 'ooddwid', 'ooeratin', 'ool', 'oolleel', 'oolloot', 'oompil', 'oompon', 'ooo', 'ooog', 'oooo', 'oopl', 'ooq9', 'oost', 'oostaa', 'oot', 'oougl', 'oourtesy', 'ooutbound', 'op', 'op11on', 'opcco', 'opcln8', 'opcod', 'ophys', 'ophysjc', 'opportun', 'opportwl', 'oppos', 'oppt', 'opt', 'optim', 'opuon', 'oq', 'oqupmmt', 'or', 'or8', 'or8mm', 'or9', 'or_', 'orang', 'orange', 'orangeiw', 'oraqb', 'orchid', 'ord', 'ordcs', 'orde', 'orderl', 'ordin', 'ordllr', 'ordlt', 'oremail', 'oreo', 'orf', 'org', 'organizationcod', 'orig', 'origin', 'originaloklahom', 'oril', 'orlgln', 'orm', 'ormainfram', 'ormati0', 'ornit', 'ornrc', 'oroerfy', 'orp', 'orro', 'orrow', 'ort', 'ort100', 'orthird', 'orthop', 'orum', 'orv', 'ory', 'os', 'os3', 'osc', 'osft', 'oslt', 'osrh', 'osrokc', 'oss', 'ost', 'osu', 'ot', 'ot4', 'ota1', 'otb', 'otbcr', 'otc', 'otfl', 'oth', 'otharchargeo', 'othct', 'othe', 'otherad', 'otherw', 'othlr', 'othot', 'othr', 'otiy', 'otjq', 'otl', 'otl12', 'otl1er', 'otth', 'ottttec', 'otv', 'oty', 'otz', 'ou', 'oucp', 'oueby', 'oueo', 'ouhsc', 'oullin', 'oult', 'oum', 'oun', 'oun1', 'ounlu', 'ount', 'ouolc', 'ouot', 'our', 'ousc', 'ousenb', 'oustomertd', 'out', 'outbound', 'outcom', 'outgo', 'outgoltlg', 'outlin', 'outloajc', 'output', 'outsid', 'outst', 'outstand', 'outstend', 'outtin', 'ouvlt', 'ov', 'ov11', 'ovault', 'overa', 'overdu', 'overhead', 'overnight', 'overpay', 'overs', 'overtim', 'ovo', 'ovond', 'ovt', 'ow', 'owfld', 'owl', 'owledg', 'own', 'ownet', 'owtlof', 'owuo1', 'oy', 'oz', 'ozark', 'ozarkah2o', 'p0', 'p0006', 'p1', 'p11', 'p111', 'p111111', 'p11rchaee', 'p11rform', 'p1311', 'p13711', 'p14267', 'p14452', 'p1npem', 'p3', 'p3263083', 'p46990', 'p5', 'p60', 'p66aj', 'p7000137', 'p80fes5ionais', 'p8cklne', 'p9', 'p_', 'p__', 'p_l', 'pa', 'pa1', 'pa11y', 'paa', 'pac', 'pack', 'packet', 'packinq', 'pactc', 'pacxu', 'padibr', 'paek', 'pag', 'pagc2', 'page2', 'page20f', 'page2of', 'page2of3', 'page2of4', 'page3', 'page4', 'page6', 'page7', 'page8', 'page9', 'pagel', 'pago', 'pai', 'pai1ies', 'pai1y', 'paic', 'paid', 'paiiit', 'pain', 'painfl', 'painl', 'painrl', 'paint', 'paintel', 'paintl', 'paity', 'paixa0', 'pajnt', 'pak', 'pal', 'palac', 'pald', 'pallct', 'pallet', 'palm', 'pam', 'pan', 'panea', 'panel', 'paner', 'panhandl', 'pant', 'pany', 'pap', 'paperless', 'paperst', 'paperwork', 'paq', 'par', 'paragon', 'paragraph', 'park', 'parkin', 'parkinq', 'parksid', 'parkway', 'parry', 'parson', 'part', 'parti11', 'particip', 'particul', 'partn', 'party', 'paru', 'paseo', 'paseollrll', 'pasl', 'paso', 'pass', 'passcod', 'passeng', 'past', 'pat', 'pat1111t', 'patric', 'patriz', 'patty', 'paty', 'paul', 'paurl', 'pav', 'pavmcv', 'pay', 'paychex', 'payf', 'payjiebt', 'payllbl', 'paylten', 'paym', 'payme', 'paymelrt', 'paymenl', 'payment0', 'paymenucredit', 'payn', 'payne_', 'payne_201', 'payne_2011', 'paynwu1', 'payp', 'payrol', 'pb', 'pbx', 'pc', 'pci', 'pcint', 'pcoop', 'pcrsoo', 'pct', 'pdf', 'pdlletizing', 'pe', 'pe1form', 'pe1sonnel', 'peacht', 'peak', 'peanut', 'peaonru', 'peaoonel', 'pearl', 'pearson', 'ped', 'pedigr', 'peecrjptlon', 'peel', 'peery', 'pefc', 'pei', 'peison', 'peisoo', 'pel', 'pelliot', 'pem', 'pemdss', 'pen', 'penal', 'pend', 'pennit', 'pennittcd', 'pennlt', 'penon', 'peopl', 'peor', 'per', 'peraz', 'perc', 'percenreg', 'perdav', 'perdisk', 'perf', 'perfect', 'perfon', 'perform', 'perico', 'period', 'periodtot', 'perioo', 'peritetn', 'perjoo', 'perk', 'perl0d', 'perlcjo', 'perm', 'permit', 'pernccid', 'peroaa', 'perpound', 'perron', 'pers', 'persist', 'perso', 'person', 'personnel', 'personnelident', 'persoo', 'persooj', 'persoonam', 'pert', 'pertain', 'perticul', 'perwrit', 'pest', 'pet', 'petec', 'petit', 'petrole', 'petsoo', 'petty', 'petzold', 'peymem', 'pf', 'pfi', 'pfiy', 'pfllffl', 'pfo', 'pg', 'ph', 'phgo', 'phi', 'phil', 'phillip', 'phoenix', 'phon', 'phone_same_______fax', 'phone_same_______fax______email__', 'phone_same______fax______email', 'photo', 'photocop', 'phrases', 'phsiu', 'phyl', 'phys', 'physiolog', 'pi', 'pian', 'pick', 'pickllps1n', 'pickrel', 'pickup', 'pid', 'piec', 'pier', 'pii', 'piiht', 'piiintl', 'piin11', 'piinl', 'piint', 'piintl', 'pilat', 'pilot', 'pilrtlc', 'pim', 'pim2', 'piml', 'pimlloim', 'pimt', 'pin', 'pink', 'pinson', 'pinyon', 'piogram', 'pion', 'pirallm', 'piram', 'pirau', 'pirbloc', 'pircha', 'pirchas', 'pirchasil', 'pirchl', 'pirchu', 'pirclwalng', 'pirsu', 'pit', 'pittm', 'pjeas', 'pjm', 'pjrnt', 'pjt', 'pk', 'pkwy', 'pl', 'pl1b', 'pl1gvoy1txrrij', 'plac', 'plain', 'plan', 'plast', 'plat', 'play', 'plaz', 'ple', 'plead', 'pleas', 'pleaso', 'plece', 'plh', 'plicn', 'pllc', 'pllllled', 'plllrt', 'plloupassenger', 'pln', 'plnp', 'plnp_', 'plnp_homedepot', 'plo', 'plrui', 'plstc', 'plu', 'pm', 'pm1y', 'pmioo', 'pmon', 'pmt', 'pmts', 'pmttyp', 'pn', 'pnu', 'pnymont', 'po', 'po11ion', 'po1nt', 'pob0x24401', 'pobox24a01', 'pobox563', 'podiatry', 'podr', 'poi', 'point', 'pol', 'policy', 'poliuc', 'pollt', 'poly', 'pon', 'pool', 'pop', 'popprintpaget', 'populut', 'por', 'port', 'portion_', 'portionb', 'portionrl', 'portland', 'pos', 'posc', 'posit', 'poss', 'posseiid', 'possess', 'post', 'postfix', 'pot', 'pou', 'pound', 'pow', 'pp', 'pp1ying', 'ppctg', 'ppd', 'ppl', 'pr', 'pr21', 'pract', 'prag', 'prdfes', 'pre', 'prec', 'preclud', 'pref', 'prefer', 'prefix', 'prelimin', 'prem', 'prep', 'prepaid', 'prepay', 'preplac', 'pres', 'prescrib', 'presentar', 'preserv', 'presid', 'press', 'presum', 'pret', 'prev', 'prevail', 'preview', 'previousodomet', 'prevlou_s', 'prevy', 'prfce', 'pri', 'pric', 'priceps', 'prim', 'prin', 'princip', 'principl', 'prinffd', 'prinl', 'print', 'printed111u', 'printedn', 'printl', 'priny', 'prioritv', 'priorto', 'prism', 'prist', 'priv', 'privac', 'privatesit', 'privcicv', 'privileg', 'prj', 'prjce', 'prl', 'prlc_ing', 'prlce', 'prllffl', 'prlntl', 'prlvatesite', 'prm', 'pro', 'pro11crty', 'problem', 'proc', 'proceclro', 'proceso', 'process', 'prod', 'produc', 'profess', 'profil', 'profit', 'prog', 'prog1ams', 'program', 'progress', 'prohibit', 'project', 'prom', 'promasf', 'promast', 'promot', 'prompdy', 'prompt', 'promulg', 'proof', 'prop', 'prope1ty', 'properinvo', 'property', 'propos', 'propriet', 'propriewy', 'proq', 'pror', 'prorn', 'prorn1', 'prosp', 'prospect', 'prosperitybankus', 'prot', 'protcctmn', 'protec', 'protect', 'protectingyo', 'protecw19', 'prou_', 'prov', 'prov1e', 'provee', 'provfd', 'provid', 'providt', 'provld', 'proyid', 'prqvision', 'prrte', 'prsrt', 'prt', 'prtce', 'pruffl', 'pruv1de', 'prvd', 'prvl', 'ps', 'ps1050862', 'pso', 'psoklahom', 'psoklehom', 'psol', 'psoperty', 'pst', 'psychiatry', 'psychy', 'pt', 'pt2', 'pther', 'pti', 'ption', 'ptlce', 'ptlor', 'ptm', 'ptmatch', 'ptnduct', 'pto', 'ptoyjd', 'ptrirts', 'pu', 'pua', 'puabl', 'pub', 'publ', 'puc', 'pued', 'pul', 'pullinq', 'pulugl', 'pump', 'pun1', 'punit', 'pur', 'purch', 'purcha11in1', 'purchas', 'purchast', 'purches', 'purehasingptlyabl89', 'purg', 'purport', 'purpos', 'pursu', 'pusr', 'put', 'putaway', 'putches', 'puto', 'puttinq', 'puy', 'pver', 'pvn', 'pw', 'pwa', 'pwc', 'pwlor', 'pwponing', 'pwporting', 'pwtth', 'py', 'pyf4ej', 'pymt', 'pyramid', 'pyt', 'pyx', 'q1', 'q11', 'q1ereinaftcr', 'q1ereinafter', 'q5qtq', 'q7', 'q78', 'qafkh', 'qait', 'qat', 'qc', 'qdob', 'qdod', 'qe', 'qf', 'qfe', 'qff', 'qgle', 'qi', 'qij', 'qj', 'qjeev', 'qjy', 'qk', 'qklahoma', 'ql', 'qlc', 'qlo', 'qly', 'qml', 'qn', 'qo', 'qo11', 'qoo', 'qoob', 'qotl', 'qp', 'qq', 'qqjj', 'qrod', 'qry', 'qs', 'qt', 'qtv', 'qty', 'qu', 'quad', 'quail', 'qual', 'quant', 'quantfw', 'quantit', 'quantlt', 'quarantin', 'quaritftv', 'quart', 'quay', 'que', 'quest', 'qui', 'quick', 'quickbook', 'quiktrip', 'quit', 'quolallon', 'quot', 'qwmtlty', 'qwmttt', 'qx', 'qxfe', 'r007', 'r1', 'r10', 'r11', 'r11111', 'r11pairs', 'r11turnnd', 'r1a', 'r1cetml', 'r1ll', 'r1oc', 'r1p', 'r1r', 'r2218v1', 'r2278v1', 'r27', 'r3', 'r4mj1t1ill', 'r5', 'r51', 'r7', 'r7000212', 'r71', 'r8886l4', 'r8941', 'r8951', 'r9', 'r91', 'r9t', 'r_', 'r__', 'r_a_b', 'r_n_i_n', 'ra', 'ra11111t', 'raam', 'rachel', 'rack', 'radcliff', 'radi', 'radio', 'raeof', 'rag', 'rah', 'rahn', 'rai', 'rais', 'ral', 'ral1e', 'ram', 'ramon', 'ran', 'ranch', 'rand', 'randal', 'randy', 'rang', 'rans', 'ransict', 'ransom', 'ranspo', 'rant', 'rap', 'rap11irs', 'rapo1ts', 'rar', 'raspomibiltia', 'rasponslbill', 'rat', 'ratel', 'rath', 'rav', 'ravanu', 'ray', 'raydon', 'rb', 'rba', 'rbateq', 'rc', 'rcg', 'rci', 'rcjjnquish', 'rcl', 'rcloted', 'rcnsonably', 'rcprcsentati', 'rcpre5cnts', 'rcpresentative', 'rcs', 'rcspon', 'rctt', 'rctumed', 'rd', 'rd1t', 'rdat', 're', 're1', 're1cn1ion', 're3l', 're911rd', 'reac', 'reach', 'react', 'read', 'readjust', 'ready', 'real', 'realt', 'reaocd', 'rear', 'reason', 'reassign', 'reauest', 'reauir', 'reb', 'rebecc', 'rebekah', 'rebuild', 'rebut', 'reby', 'rec', 'recal', 'recbiy', 'rece', 'recefl', 'receipl', 'receipt', 'receiptmatch', 'receiv', 'receivy', 'recel', 'recem', 'receptionjst', 'recharg', 'recipieot', 'reco', 'recogn', 'recognfz', 'recon', 'recondit', 'reconnect', 'reconstruct', 'recont', 'recora', 'record', 'recov', 'recovery', 'recun', 'recunlng', 'recur', 'recyc', 'red', 'redland', 'reduc', 'reel', 'reentreg', 'reer', 'reest', 'ref', 'ref1ecl', 'refer', 'refflttieieg', 'refil', 'reflect', 'refund', 'reg', 'regard', 'regardless', 'regatd', 'regen', 'regenrout', 'regnl', 'regu', 'regud', 'reguesc', 'reguir', 'regul', 'regula10ry', 'regulatol', 'regyl', 'reimb', 'reimburs', 'reimburseth', 'reissu', 'rej', 'reject', 'rel', 'rel1ucsts', 'rela18d', 'relay', 'releas', 'relev', 'reliev', 'relinqu', 'reloc', 'rely', 'rem', 'remain', 'remaind', 'remainingten', 'remark', 'remedy', 'rememb', 'remenl', 'remiit', 'remind', 'remit', 'remot', 'remov', 'remr', 'ren', 'renaiss', 'rend', 'renew', 'renewal_', 'renewt', 'reno', 'renoavenu', 'rent', 'reorg', 'reouir', 'rep', 'repackin', 'repackinq', 'repair', 'repc', 'repcrt', 'repeir', 'replac', 'replao', 'reply', 'repo', 'repo11s', 'report', 'repr', 'reprcscnt', 'repres', 'representat', 'reproduc', 'repub11c', 'republ', 'republiconlin', 'republicserv', 'req', 'req11ires', 'requ', 'request', 'request_', 'request_j', 'requh', 'requi', 'requiirod', 'requiiwd', 'requir', 'requircmcn1s', 'requisit', 'rer', 'rerum', 'rerumcd', 'res', 'resched', 'research', 'reseot', 'reserv', 'resid', 'resist', 'reslrict', 'resolv', 'resouc', 'resourc', 'respcct', 'respect', 'respectin', 'respond', 'respons', 'responsib', 'responsibl', 'respous', 'resrornt', 'ress', 'rest', 'rest1ictian', 'resta', 'restl', 'restm', 'restock', 'restrain', 'restrcilon', 'restrict', 'restrictkin', 'restriotlon', 'restrlctkin', 'restrletbn', 'resubmit', 'resuict', 'result', 'resum', 'ret', 'ret11rned', 'retail', 'retain', 'retest', 'retir', 'retirn', 'retirnld', 'retl', 'retnm', 'retriev', 'retry', 'retum', 'retumsd', 'return', 'returnreceipt', 'retw', 'reu', 'rev', 'revenu', 'revers', 'revid', 'review', 'revoc', 'revok', 'reward', 'rf', 'rf11', 'rff', 'rft', 'rg', 'rge', 'rgeisdel', 'rggarding', 'rgy', 'rh', 'rhaggin', 'rhax', 'rhb', 'rhe', 'rher', 'rhex', 'rhi', 'rhnrl', 'rhond', 'ri', 'riad', 'rial', 'rib', 'ric', 'rich', 'richard', 'richemond', 'richmond', 'richomond', 'ricib', 'rick', 'ricontact', 'rid', 'ridg', 'riect', 'rieet', 'righ', 'right', 'rii', 'riit', 'rik', 'ril', 'rim', 'rimft', 'rimrock', 'rin', 'ring', 'rint', 'rinvo', 'rio', 'riot', 'ripiio', 'ript', 'rir', 'ris', 'ris2', 'risk', 'rit', 'riu', 'riv', 'river', 'riversid', 'rivet', 'rixt', 'rj', 'rjtal', 'rk', 'rkeipt', 'rki', 'rks', 'rl', 'rl01', 'rlb', 'rlbtd', 'rldng', 'rlg', 'rlj', 'rllcnir', 'rlle', 'rllltions', 'rlng', 'rlnt', 'rlo', 'rloo', 'rlption', 'rlw', 'rm', 'rm00005840', 'rm00005841', 'rm00005842', 'rm876822', 'rm880388', 'rm887407', 'rm889164', 'rm892311', 'rm893493', 'rm895278', 'rm898795', 'rm905372', 'rm909079', 'rm912561', 'rm914778', 'rmb76822', 'rmb95278', 'rmbb0388', 'rmbb7407', 'rml', 'rmrn', 'rms', 'rn', 'rn1', 'rn1s', 'rnan', 'rnat', 'rnct', 'rned', 'rnidcondat', 'rnl86', 'rnm', 'rnmf', 'rnosng', 'rnrn', 'rnssell', 'rnt', 'rntcd', 'rnust', 'rnw', 'ro', 'ro1', 'roa111ing', 'road', 'roam', 'roamit', 'roamlng', 'roanilng', 'roanok', 'rob', 'robberson', 'robert', 'robin', 'robinson', 'robson', 'robyn', 'rockford', 'rod', 'rodriguez', 'roe', 'roeml', 'rog', 'rogard', 'roh', 'roi', 'rok', 'rol', 'rolf', 'rolofson', 'rom', 'romano', 'ronmentnl', 'roo', 'room', 'root', 'ropubliconlino', 'ror', 'rorn', 'ros', 'rosencr', 'ross', 'rot', 'rot1', 'rota', 'rotap', 'rotect', 'round', 'roundup', 'rour', 'rout', 'routin', 'row', 'rp', 'rpds', 'rpor', 'rpt', 'rq', 'rqid', 'rqll', 'rr', 'rr_', 'rre', 'rred', 'rrf', 'rri', 'rriday', 'rrim', 'rror', 'rrorn', 'rrow', 'rrt', 'rrtrieval', 'rrv', 'rry', 'rs', 'rsateo', 'rscurring', 'rseov', 'rsp', 'rst', 'rt', 'rt1', 'rt11', 'rt4', 'rtalyy', 'rtat', 'rte', 'rtem', 'rtf', 'rtifllll', 'rtjonths', 'rtl', 'rtli', 'rtnge', 'rtoc', 'rtpeir', 'rtr', 'rtransferable', 'rts', 'rts0urc1', 'rttes', 'rtut', 'rtvt', 'rtxtx', 'rty', 'rtyfamiigehir', 'ru', 'ru1', 'ru5h', 'rubenstein', 'rubs', 'ruclloy', 'rud', 'rudiiielil', 'rufid', 'rufy', 'ruj', 'rul', 'run', 'rund', 'runnel', 'rursu', 'rush', 'rushch', 'russ', 'russel', 'rust', 'rusty', 'rut', 'ruu', 'ruuu051000000010058465951605220000002071277', 'ruws', 'rv', 'rv1ec1', 'rv1idcon', 'rvg', 'rvi', 'rvic', 'rvicesllc', 'rving', 'rvlc', 'rvlees', 'rvlo', 'rwil', 'rwm', 'rx', 'ry', 'ryan', 'ryardy', 'rz', 's0', 's02', 's1', 's111j', 's113', 's11btol1i', 's11les', 's1720983', 's184', 's19', 's1activitv', 's1art', 's1ci', 's1e', 's1i', 's1n', 's1nte', 's1orage', 's1reet', 's1stop', 's2', 's22', 's2_', 's30', 's34', 's34_', 's38', 's4', 's41', 's42', 's45', 's464', 's4if', 's50', 's544', 's6l', 's7', 's71d', 's7j', 's8', 's92019', 's989988', 's999', 's_', 's_p', 's_u_m_m_a_r_y_o_f_c_', 'sa', 'sa1isfac1ion', 'sa1isfacrion', 'sa1isfactioo', 'saa', 'sac', 'sact', 'saf', 'saf11tv', 'safegnard', 'safegu', 'safeguard', 'safetyco', 'safg', 'sag', 'sai', 'said', 'saint', 'sal', 'salad', 'salearep', 'salescodo', 'salesm', 'salesp', 'salesperson', 'salesr', 'salestax', 'salisfact', 'salv', 'sam', 'samed', 'samell', 'samuel', 'san', 'sanchez', 'sand', 'sandridg', 'sant', 'santaf', 'sany', 'sap', 'sar', 'sarah', 'sat', 'sath', 'satisfact', 'satisfy', 'satlsr', 'saturday', 'sav', 'savann', 'savicc', 'sb', 'sbaj', 'sbal', 'sblndard', 'sbrvicb', 'sc', 'scafb', 'scal', 'scan', 'scannablc', 'scanwo', 'scanwo_jryan_20170106084747', 'scanwo_jryan_20170112132047', 'scanwo_msicilian0_20170105083731', 'scanwo_trogers_20170106091256', 'scanwo_trogers_20170106110949', 'scanwo_trogers_20170110081501', 'scanwo_trogers_20170110081808', 'scanwo_trogers_20170112081430', 'scanwo_trogers_20170112092549', 'scanwo_trogers_20170113080300', 'schec', 'sched', 'schednle', 'schedujc', 'schedul', 'schedule', 'scheduled', 'schedules', 'scheduling', 'schejule', 'schley', 'schlosser', 'schmick', 'schmitt', 'sci', 'scissortail', 'sco', 'scon', 'scoon', 'scop', 'scor', 'scot', 'scottsd', 'scr', 'screcl', 'screen', 'screws', 'scriber', 'scriptio', 'scrlptlon', 'scrvice', 'sct', 'sdtool', 'se', 'se0', 'se1vicas', 'se1vices', 'se1vlces', 'sea', 'seal', 'sear', 'search', 'seat', 'sec', 'secll', 'secllon', 'second', 'secrecy', 'secrel', 'secret', 'sect', 'section9', 'secure3', 'securitymonit', 'secv', 'secw', 'see', 'seek', 'seg', 'segura', 'segy', 'sei', 'sei2e', 'seism', 'seismico', 'seiv', 'seivio', 'seivlc', 'seiz', 'sej', 'sejy', 'sel', 'select', 'self', 'selv', 'semc', 'seminol', 'sen', 'senburg', 'send', 'senlc', 'sensit', 'sent', 'seny', 'seount', 'sep', 'septemb', 'seq', 'seq11ent', 'ser', 'serpof', 'serund', 'serv', 'serv1ces', 'serv1cesllc', 'services11', 'servicesk', 'servicesllc', 'servicio', 'servicl', 'servicss', 'servict', 'servioc', 'servk', 'servlartuls', 'servlce', 'servlg', 'servrc', 'servt', 'servtc', 'servtcsk', 'servy', 'sery', 'sessionhandl', 'set', 'settl', 'setup', 'setv', 'setvio', 'setvlc', 'setvlce02', 'sev', 'seventy', 'several', 'sew', 'sewel', 'sf', 'sf3301', 'sffieet', 'sfi', 'sfic', 'sficertsourcs', 'sft', 'sg', 'sgr', 'sgs', 'sgsna', 'sh', 'sh111', 'sha11', 'shad', 'shajs', 'shal', 'shall', 'shals', 'shalt', 'shan', 'shar', 'sharehold', 'shartel', 'shau', 'shaw', 'shbii', 'shcetm', 'shcmffl', 'shcrtmcta', 'sheet', 'sheil', 'shel', 'sheldon', 'shelf', 'shelf_trogers_20170110091755', 'shelv', 'shelvin', 'shelvinq', 'sherid', 'sherry', 'shi', 'shiooin', 'shiooinq', 'ship', 'ship_date', 'shipmcnu', 'shipmea', 'shippeo', 'shj', 'shjp', 'shldllll', 'shljtl', 'shllll', 'shlp', 'shlppj', 'shls', 'shonld', 'shop', 'short', 'shot', 'should', 'show', 'shown', 'shrdding', 'shred', 'shredder', 'shredding', 'shreo', 'shrimp', 'shtp', 'shtpplng', 'si', 'si0', 'si1', 'si7', 'siact', 'siartdatelfreq', 'sid', 'sif', 'sig', 'sign', 'signan1re', 'signatu', 'signatuf', 'signatujlevf', 'signcd', 'signifyin', 'signot', 'signt', 'sil', 'silg', 'sill', 'silv', 'sim', 'simil', 'simllnr', 'simpl', 'siness', 'sing', 'singl', 'sint', 'sio', 'siooao', 'sior', 'siot', 'sir', 'sis', 'sit', 'sitn', 'situ', 'siu', 'siw', 'six', 'sixlo', 'sixt', 'sixty', 'sixtyf', 'siz', 'sj', 'sj01', 'sjgnment', 'sjit', 'sjn', 'sk', 'skety', 'skip', 'sknight', 'sku', 'sl', 'sl3rt', 'slandard', 'slaught', 'slc', 'sldlivlsion', 'sldlivlslon', 'sler', 'slf', 'slhtotal', 'slial', 'slight', 'slip', 'sllc', 'sllfviciig', 'slllrt', 'sllp', 'sllrlp', 'slltppiftf', 'slop', 'slretch', 'sls', 'slsmn', 'slsollei1111ion_documentallon', 'slt', 'sm', 'smal', 'smart', 'smc', 'sme', 'smel', 'smi', 'smo', 'smob', 'smok', 'smoo', 'smred', 'smwl24', 'sn', 'snap', 'snch', 'snip', 'snled', 'snpervisor', 'sny', 'so', 'soan', 'soap', 'soc', 'socy', 'sodftyot', 'soec', 'sofhv', 'softw', 'sol', 'sola', 'sold', 'solicit', 'solid', 'solomon', 'solv', 'someon', 'son', 'son11ble', 'sonit', 'sonix', 'sony', 'soo', 'soo1', 'sool', 'soon', 'sopk', 'sor', 'sorb', 'sort', 'sortin', 'sortinq', 'sos', 'sou', 'soup', 'sourc', 'southern', 'southwest', 'southwestern', 'southwind', 'sovvl', 'sp', 'sp902e', 'spac', 'spcn', 'spe', 'speak', 'spec', 'specia1', 'special', 'spee', 'spencerf', 'spend', 'spent', 'spik', 'spin', 'split', 'spllt', 'spnnt', 'spoon', 'spow0', 'spreadsheet', 'sprfru', 'spri', 'sprin', 'springer', 'springs', 'sprint', 'sprinte', 'sprk60j', 'sprk6tf', 'sprl', 'sprlnt', 'sq', 'sql', 'squ', 'square5205', 'squawk', 'squib', 'sr', 'srat', 'sre', 'srf', 'srht', 'srnte', 'sroc', 'sromerid', 'sror', 'srreer', 'srs', 'srvcs', 'srvice', 'ss', 'ssi', 'ssjon', 'ssm', 'ssmhc', 'ssn', 'ssociatc', 'ssq', 'st', 'st0rage', 'st111ction', 'st11ndard', 'sta', 'staff', 'stafford', 'stag', 'stal', 'stamp', 'stan', 'stand', 'standacd', 'standanl', 'standard', 'stant', 'stanton', 'stapl', 'stapt', 'star', 'star1da1e', 'starbuck', 'stark', 'start', 'startup', 'stat', 'statc', 'statl', 'statnt', 'stato', 'statut', 'stay', 'std', 'stday', 'ste', 'steel', 'stell', 'stem', 'step', 'steph', 'stephany', 'stev', 'stfng', 'stick', 'stil', 'stiln', 'stilndard', 'stilt', 'stip', 'stir', 'stitp', 'stl0708', 'stll', 'stloitill', 'stlrt', 'stn', 'stnd', 'stngle', 'sto', 'sto1ed', 'stock', 'stockhold', 'stol', 'stolenphon', 'stomd', 'stomg', 'ston', 'stond', 'stop', 'stor', 'stor11ge', 'stora9e', 'storab', 'storacc', 'storagl', 'storjg', 'stormw', 'storn', 'storngs_', 'stot', 'stoy', 'stqrage', 'strait', 'straka', 'strategic', 'strategies', 'strategy', 'stream', 'street', 'streets', 'stretch', 'strict', 'strictest', 'strictly', 'strike', 'strikes', 'strnt', 'strntegies', 'stronger', 'struction', 'structures', 'sts', 'stsg', 'stttets', 'stu', 'stub', 'study', 'sturdy', 'stut', 'stv12', 'styl', 'su', 'su1j', 'su6s', 'su8', 'suawv', 'sub', 'subalss', 'subcontract', 'subcontrnct', 'subfe', 'subi', 'subjact', 'subjec', 'subjec11o', 'subject', 'sublet', 'submin', 'submit', 'subo', 'subordin', 'subpart', 'subrog', 'subs', 'subscrb', 'subscrh', 'subscrib', 'subscriptio', 'subscriy', 'subscrl', 'subscrlbet', 'subscro', 'subsdrb', 'subsefb', 'subseouon', 'subsequ', 'subsequentinvo', 'subsetb', 'subsidy', 'subst', 'substitut', 'subtot', 'sucb', 'success', 'such', 'sue', 'suff', 'sufficy', 'sug', 'suht', 'suit', 'suito', 'suiy', 'sul', 'sult', 'sum', 'sum111ary', 'sum111aryfo1', 'summ', 'summa1y', 'summaiy', 'sumn', 'sun', 'sunday', 'suoocr', 'sup', 'superc', 'supercenterbrok', 'supers', 'superv', 'supervb', 'supervid', 'supervisorauth', 'supery', 'suppl', 'suppltet', 'supply', 'support', 'suppress', 'sur', 'sur00330', 'surch', 'surcharg', 'surchrug', 'surg', 'suroha1', 'surv', 'sus', 'susan_peeler', 'sush', 'susp', 'suspend', 'sut', 'suy', 'svc', 'svcon', 'svconfidential', 'svcontidential', 'svcs', 'svrcl', 'sw', 'sw20', 'swab', 'swan', 'swcliarges', 'swear', 'sweat', 'sweep', 'sweet', 'swift', 'swip', 'switch', 'swltt', 'swood', 'sworn', 'sx', 'sy', 'sych', 'sylltem', 'symptom', 'synt', 'sysrem', 'system', 'systwn_', 'sz', 't0', 't05', 't1', 't1000', 't1025', 't10n', 't11', 't13', 't16', 't1606', 't1763', 't1c1', 't1cm', 't1e', 't1fj', 't1jj', 't1m', 't1oaming', 't1on', 't1p', 't1q', 't2', 't2q', 't2vt', 't3', 't37', 't4', 't41111', 't4j', 't50', 't7', 't741', 't9', 't92or', 't99', 't9ff', 't9t', 't_', 't_0____', 't______', 't_o', 'ta', 'ta11', 'ta7', 'taauer', 'tabl', 'tac', 'tacom', 'tad', 'tadl', 'taft', 'tag', 'tai', 'taj', 'tak', 'tal', 'talophonl', 'talunionst', 'talw1ionstorage', 'tam', 'tamby', 'tammy', 'tamport', 'tan', 'tang', 'tank', 'tanlih', 'tap', 'tapemast', 'tapest', 'tapetrack', 'tapetraek', 'taquer', 'taqy', 'tar', 'tariff', 'tarm', 'tat', 'tat1e', 'tax', 'taxablc', 'taxablec', 'taxm', 'tayl', 'tb', 'tb11', 'tbc', 'tbd', 'tbe', 'tbe_', 'tbi', 'tbj', 'tbl', 'tbo', 'tbru', 'tc', 'tcd', 'tcflvedmay', 'tcidcr', 'tcity', 'tcn', 'tcol', 'tct', 'tcust', 'td', 'tdd', 'tdi', 'tdlt', 'te', 'te1ephon', 'te1m', 'teadings', 'teak', 'tean', 'teanin', 'tear', 'teas', 'teceiv', 'tecev', 'tech', 'techhelp', 'techn', 'technoloav', 'technolog', 'technoloqy', 'ted', 'tee', 'tefnm', 'teg', 'tel', 'telecom', 'telecommun', 'telecomunicac', 'teleph', 'telephon', 'telephop', 'telephw', 'telepnon', 'telinqu', 'tem', 'tem1', 'teml', 'temp', 'temtln', 'temtrol', 'temun', 'ten', 'ten11', 'tend', 'teng', 'tenmn', 'tennin', 'tenston', 'tenstreet', 'teon', 'tepair', 'ter', 'ter111s', 'teres', 'terial', 'term', 'term5', 'termin', 'terminatiqn', 'termit', 'termsandcond1tions', 'termsandcondit', 'termtmt', 'tern', 'terpr', 'terr', 'terrac', 'territ', 'terrmn', 'terrn', 'terrrin', 'terry', 'tery', 'tess', 'test', 'tetm', 'tev', 'tex', 'texa', 'texaco', 'text', 'tf', 'tfat', 'tfflfned', 'tffll', 'tfi', 'tfj', 'tfk_', 'tfl', 'tfle', 'tflis', 'tfo', 'tft', 'tfttt7', 'tfur', 'tfy', 'th', 'th1', 'th11', 'th11t', 'th11tcannot', 'tha', 'tha1', 'thah', 'thank', 'thankyou', 'thap', 'tharp', 'that', 'thb', 'thc', 'the', 'the_', 'thecours', 'theft', 'ther', 'therapy', 'thereaft', 'thereby', 'theref', 'therefrom', 'therein', 'thereof', 'thereon', 'thereto', 'thereund', 'thereupon', 'therewi', 'theron', 'thes', 'thet', 'theteon', 'they', 'thfs', 'thg', 'thgld', 'thi', 'thin', 'thing', 'third', 'thirty', 'thisperiod', 'thit', 'thjs', 'thl', 'thla', 'thlfty', 'thm', 'tho', 'thoir', 'thol', 'thoma', 'thompson', 'thos', 'thotb', 'though', 'thousand', 'threatened', 'threats', 'three', 'thrlj', 'throughout', 'thru', 'thrufri', 'tht', 'thu', 'thur', 'thursday', 'ti', 'ti0', 'ti1', 'ti144', 'ti1e', 'ti1is', 'tia', 'tial', 'tib', 'tic', 'ticket', 'tid', 'tie', 'tier', 'tiff', 'tigmt', 'tih', 'tii', 'tiif', 'tiiy', 'tijls', 'tik', 'til', 'till', 'tim', 'timedr', 'timefram', 'timekeep', 'timothy', 'tin', 'ting', 'tingyo', 'tint', 'tion', 'tioo', 'tiot', 'tip', 'tipton', 'tir', 'tirnit', 'tis', 'tissu', 'tit', 'titl', 'titt', 'tittcn', 'tiu', 'tiut', 'tiv', 'tivenam', 'tivitv', 'tiy', 'tj', 'tj111gu', 'tj1c', 'tj1e', 'tj1is', 'tjcii', 'tjd1y', 'tje', 'tjf', 'tjgjll', 'tjhbvlji', 'tjj', 'tjjj', 'tjl', 'tjt', 'tjto', 'tk', 'tke', 'tkt', 'tl', 'tl02', 'tl112', 'tl1crcin', 'tl1e', 'tl1is', 'tl605', 'tl606', 'tlat', 'tlc', 'tled', 'tlft', 'tlh', 'tli', 'tlim', 'tliw', 'tljijs9', 'tll', 'tll7', 'tlles', 'tlmcuu', 'tlmph', 'tlng', 'tlon', 'tloooo_', 'tltate', 'tlv', 'tm', 'tm01110000023', 'tm01110000612', 'tm01220001056', 'tm01220001059', 'tm01220001061', 'tm01530000027', 'tm01530000029', 'tm01530000030', 'tm01530000042', 'tm01530000045', 'tm1', 'tm25800000022', 'tm25800000023', 'tm25800000025', 'tm25800000026', 'tm25800000027', 'tm25800000028', 'tm25800000029', 'tm27040000535', 'tm27040000559', 'tm31630006136', 'tm31630006137', 'tm31630006138', 'tm31630006139', 'tm31630006140', 'tm31630006141', 'tm31630006142', 'tm31630006143', 'tm31630006144', 'tm31630006196', 'tm31630006197', 'tm31630006198', 'tm31630006199', 'tm31630006200', 'tm31630006201', 'tm31630006202', 'tm31630006203', 'tm31630006204', 'tm31630006205', 'tm31630006206', 'tm31630006207', 'tm31630006208', 'tm31630006209', 'tm31630006210', 'tm31630006211', 'tm31630006212', 'tm31630006213', 'tm31630006214', 'tm31630006215', 'tm31630006216', 'tm31630006217', 'tm31630006218', 'tm32680018757', 'tm32680018759', 'tm32680018760', 'tm32680018763', 'tm32680018765', 'tm32680018766', 'tm32680018767', 'tm32680018768', 'tm32680018795', 'tm32680018804', 'tm32680018808', 'tm32680018813', 'tm32680018815', 'tm32680018818', 'tm32680018828', 'tm32680018831', 'tm32680018856', 'tm3268001887', 'tm32680018874', 'tm32680018888', 'tm32680018908', 'tm32680019143', 'tm32680019181', 'tm32680019182', 'tm32680019183', 'tm32680019184', 'tm32680019185', 'tm32680019186', 'tm32680019187', 'tm32680019188', 'tm32680019189', 'tm32680019201', 'tm32680019212', 'tm32680019225', 'tm32680019232', 'tm32680019238', 'tm32680019240', 'tm32680019241', 'tm32680019244', 'tm32680019246', 'tm32680019248', 'tm32680019249', 'tm32680019252', 'tm32680019258', 'tm32680019261', 'tm32680019262', 'tm32680019276', 'tm32680019277', 'tm32680019278', 'tm32680019282', 'tm32680019288', 'tm32680019302', 'tm32680019303', 'tm32680019304', 'tm32680019305', 'tm32680019310', 'tm32680019319', 'tm32680019320', 'tm32680019327', 'tm32680019328', 'tm32680019330', 'tm32680019331', 'tm32680019337', 'tm32680019338', 'tm32680019343', 'tm32680019349', 'tm32680019350', 'tm32680019362', 'tm32680019363', 'tm32680019364', 'tm32680019365', 'tm32680019366', 'tm32680019367', 'tm32680019368', 'tm32680019369', 'tm32680019370', 'tm32680019371', 'tm32680019372', 'tm333027', 'tm333057', 'tm33350000027', 'tm33350000053', 'tm33350000057', 'tm33350000058', 'tm34910000101', 'tm35170000007', 'tm35170000010', 'tm35170000012', 'tm35170000021', 'tm35280000003', 'tm35280000004', 'tm35830000573', 'tm35830000576', 'tm35830000582', 'tm35830000595', 'tm35830000608', 'tm35830000618', 'tm35830000634', 'tm35830000641', 'tm35830000652', 'tm35830000675', 'tm35830000680', 'tm35830000685', 'tm35830000695', 'tm35830000699', 'tm358300007', 'tm35830000718', 'tm35830000737', 'tm35830000743', 'tm35830000744', 'tm35830000765', 'tm35830000771', 'tm35830000798', 'tm35830000807', 'tm35830000811', 'tm35830000815', 'tm35830000819', 'tm35830000824', 'tm35830000837', 'tm35830000838', 'tm35830000885', 'tm35830000886', 'tm35830000895', 'tm35830000896', 'tm35830000898', 'tm35830000899', 'tm35830000906', 'tm35830000914', 'tm35830000919', 'tm35830000924', 'tm35830000930', 'tm35830000931', 'tm35830000939', 'tm35830000942', 'tm35830000944', 'tm35830000948', 'tm35830000950', 'tm35830000952', 'tm35830000953', 'tm35830000955', 'tm35830000958', 'tm35830000960', 'tm36260000022', 'tm36260000023', 'tm36260000024', 'tm36370000294', 'tm36370000295', 'tm36370000299', 'tm36370000300', 'tm36370000301', 'tm36580000039', 'tm36580000041', 'tm37220000023', 'tm37540000023', 'tm39090006380', 'tm39090006382', 'tm39090006383', 'tm39090006384', 'tm39090006385', 'tm39970000029', 'tm39970000030', 'tm39970000034', 'tm42290000022', 'tm42290000023', 'tm42290000024', 'tm42290000030', 'tm42290000031', 'tm457056', 'tm45750000056', 'tm46160000022', 'tm46160000023', 'tm46160000024', 'tm46160000027', 'tm46160000030', 'tm46160000031', 'tm481024', 'tm481025', 'tm481028', 'tm48150000022', 'tm48150000023', 'tm48150000024', 'tm48150000025', 'tm48150000026', 'tm48150000027', 'tm48150000028', 'tm48150000031', 'tm48150000043', 'tm48150000044', 'tm48150000045', 'tm48150000048', 'tm48150000059', 'tm48340000023', 'tm48340000025', 'tm48340000026', 'tm48340000027', 'tm48340000028', 'tm48340000029', 'tm48340000035', 'tm48340000052', 'tm_ou', 'tmal', 'tmi', 'tml', 'tmnspormtion', 'tmnsportation', 'tmo', 'tmo1110000023', 'tmol', 'tmrms', 'tms', 'tn', 'tn_rft', 'tnauoo', 'tnc', 'tne', 'tnfounallon', 'tnit', 'tnll', 'tnmcnt', 'tnsufllclant', 'tnt', 'tnu', 'tnvolc', 'tnx', 'to', 'to1i', 'to5', 'to_t', 'toa', 'tod', 'toda', 'today', 'todayl', 'toe', 'tof', 'togeth', 'togetl', 'toi', 'tok', 'tol', 'tol1i', 'toll99', 'tom', 'tom8', 'tomlinson', 'tomorrow', 'ton', 'too', 'tool', 'tooo', 'top', 'toql', 'tor', 'torn', 'toss', 'tot', 'tot11l', 'totalsf1', 'totalsfc', 'totannternet', 'totf', 'totheaddr', 'totrl', 'touch', 'tourna', 'tow', 'toward', 'towel', 'town', 'townl', 'toy', 'tp', 'tp8id', 'tpbvy', 'tpc', 'tpim', 'tpj', 'tpn', 'tpoit', 'tpr', 'tptlon', 'tq', 'tq1l', 'tqg', 'tqj', 'tqli', 'tqtaj', 'tqttng', 'tr', 'tr01', 'tr_j', 'tra', 'trac', 'track', 'trad', 'traff', 'trail', 'train', 'trainin', 'trainin2', 'trainind', 'traininl', 'traininp', 'trainint', 'traioinl', 'trait', 'tral', 'trallsic', 'trallsld', 'tramportt', 'tran', 'trangcticn', 'trans', 'trans1dion', 'transacc', 'transact', 'transactia', 'transactim', 'transactioo', 'transad', 'transcrib', 'transct', 'transf', 'transfer', 'transfund', 'transict', 'transid', 'transit', 'transmit', 'transoort', 'transpo', 'transponatlon', 'transpor1', 'transport', 'transt', 'trantn1', 'trap', 'trar', 'traruport', 'trash', 'trav', 'travel', 'tray', 'tre', 'trea', 'treesl', 'trem', 'trend', 'tress', 'treturn', 'trev', 'trey', 'treyc', 'trf', 'trh', 'trh1fu', 'tri', 'triam', 'trim', 'trip', 'trish', 'trk', 'trl', 'trn', 'trna1ts', 'trncl', 'tro', 'trod', 'trog', 'trogers_20170106085509', 'trogers_20170106094844', 'trogers_20170110081541', 'trogers_20170110091153', 'trogers_20170112083105', 'trogers_20170112092549', 'trogers_20170112092755', 'trogers_20170112113734', 'trogers_20170112165439', 'tronch', 'troubl', 'trr', 'trt', 'trtc', 'tru', 'truc', 'truck', 'trugr', 'trugreen', 'trujr', 'trunk', 'trust', 'ts', 'ts02', 'tsid', 'tsp', 'tsset', 'tt', 'tt11', 'ttack', 'ttbruacy', 'ttf', 'ttf17', 'ttho', 'tti', 'ttic', 'ttj', 'tton', 'ttp_', 'ttq', 'ttrielth', 'ttu', 'tty', 'tu', 'tu0', 'tu1vallabfi', 'tub', 'tuct', 'tue', 'tuesday', 'tuesday2', 'tui', 'tuis', 'tul', 'tul4', 'tula', 'tuls', 'tulsl', 'tulstuls', 'tulu', 'tum', 'tun', 'tur', 'turbin', 'turn', 'tustnm', 'tut', 'tv', 'tvfaterials', 'tvjsa', 'tvlatcnal', 'tvn', 'tvo', 'tvs', 'tvtc', 'tvte', 'tvtll', 'tvu', 'tw', 'twccn', 'twelf', 'twelv', 'twenty', 'twi', 'twic', 'twil', 'twist', 'twjo', 'two', 'tx', 'txif', 'ty', 'tyd', 'tyl', 'tyn', 'typ', 'tz', 'tzi', 'tzs', 'u1', 'u111', 'u111t11111siss', 'u12211v1', 'u122711v1', 'u12271v1', 'u12271y1', 'u12278v1', 'u13on', 'u1c', 'u1e', 'u1h', 'u1i1ber', 'u1is', 'u1vj', 'u2', 'u27567', 'u44', 'u5', 'u50220', 'u56', 'u5d1', 'u5q', 'u8', 'ua', 'uabi6ty', 'uabiuty', 'uabul', 'ual', 'ub0', 'ubject', 'ubnost', 'ubsirberactivhy', 'ubtot', 'uc', 'uch', 'uco', 'ucok', 'ucr', 'ucst', 'ucstruct', 'uct', 'ud', 'udget', 'ue', 'ueby', 'ued', 'uefiriit', 'uel', 'uen', 'uend', 'uer', 'uerid', 'uest', 'uf', 'ufacturll', 'ufd1pt', 'uffiittend', 'ufld', 'uh', 'uhitmfr', 'uhlt', 'ui', 'uid', 'uij4', 'uir', 'uirough', 'uit', 'uiz', 'uiz279v1', 'uj', 'ujjllt', 'ujl', 'ul', 'ul2219v1', 'ul2278v1', 'ul2278y1', 'ul2279v1', 'ul2279y1', 'ul227tv1', 'ul227w1', 'ulc', 'ulet', 'ulf', 'ull', 'ulllmd', 'uls', 'ult', 'ulu', 'ulud', 'um', 'um139267', 'um139287', 'umb', 'umbrell', 'umit', 'umkr', 'uml', 'un', 'unaffect', 'unassign', 'unauth', 'unavail', 'unbil', 'uncondit', 'und', 'und11rsign', 'undcrstand', 'undecl', 'undergon', 'underground', 'unders', 'unders1and', 'undersfgn', 'undersign', 'underst9ned', 'understand', 'understood', 'undertak', 'undisclos', 'undorsignod', 'unemploy', 'unenforc', 'unfortun', 'unft', 'uniau', 'unifon', 'uniform', 'unil', 'unintend', 'unionst', 'uniship', 'unishlp', 'unit', 'univers', 'unjess', 'unjeu', 'unjt', 'unknown', 'unl', 'unlea', 'unlead', 'unleao', 'unless', 'unlimit', 'unlshlp', 'unltprjc', 'unmonit', 'unpaid', 'unread', 'unreason', 'unrel', 'unrest', 'unrt', 'uns', 'unsaf', 'unsatisfact', 'unsched', 'unsec', 'unt', 'until', 'untlct', 'unus', 'unwil', 'uo', 'uocu', 'uoit', 'uonlevard', 'uop', 'uory', 'uoscrib', 'uot', 'uoulcv', 'up', 'upd', 'updatino', 'updatiug', 'upena', 'upgrad', 'upload', 'upon', 'upshaw', 'uq', 'ur', 'ur4ufk', 'urb', 'urcharg', 'urchh', 'urek', 'urjt', 'uro', 'urogynecolog', 'urolo', 'urolog', 'urs', 'urutod', 'us', 'usagetierio', 'usb', 'usc', 'usd', 'usd0', 'usd471', 'useencloaid', 'usf', 'ush', 'usl', 'uslf1q', 'uso', 'ust', 'ustin', 'ustlllbl', 'ustom', 'ustomerid', 'usy', 'ut', 'uth', 'uthorilcd', 'utic', 'util', 'utlll', 'utlllzatlon', 'utlwr', 'utmost', 'uto', 'uu', 'uulb', 'uulk', 'uut_omued', 'uv', 'uv1c', 'uwserv', 'uwt', 'uww2', 'uynl', 'v1', 'v11hicl11', 'v11hicle', 'v11i', 'v1h', 'v1il', 'v1u', 'v1v0', 'v1vct', 'v1vfl', 'v1vg', 'v1vil', 'v1vll', 'v4', 'v5', 'v6', 'v6_8', 'v9nlor', 'v_', 'v_1k', 'va', 'va11l1', 'vaf', 'vafua6ce', 'vafua6fe', 'val', 'valery', 'valid', 'validit', 'valir', 'valn', 'valtd', 'valu', 'valv', 'vam', 'van', 'var', 'vardy', 'vary', 'vau', 'vauh', 'vaujt', 'vaul', 'vaul1', 'vault', 'vaultm', 'vaut', 'vay', 'vb', 'vbiiiateq', 'vc', 'vci', 'vcic', 'vcl', 'vcorp', 'vd', 'vdan', 've', 've111hr', 've118ateq', 'vea8a1eq', 'vea8affq', 'vea8ateq', 'veabateq', 'veaiateq', 'veaiiateo', 'veaiiateq', 'veaiy', 'vear', 'veasateq', 'vect', 'veh', 'vehic', 'vehicc', 'vehicl', 'vehicleexp', 'vehiclft', 'vehict', 'vehicy', 'vehid', 'vehio', 'vehkto', 'vehl', 'vehtc', 'veiibatl', 'veiiiiat', 'veiiiiatiq', 'vel', 'vell9a11', 'vellsateo', 'ven', 'vend', 'vent', 'venu', 'ver', 'ver1', 'ver8a11', 'ver8ateq', 'ver8atiq', 'ver8atl', 'verb', 'verbat', 'verbateo', 'verbateq', 'verbatl', 'vericrest', 'verify_', 'verify_jryan_20170106085017', 'verify_msicilian0_20170104085424', 'verify_msicilian0_20170105083824', 'verify_trogers_20170106084023', 'verify_trogers_20170110082941', 'verify_trogers_20170111082856', 'veriiateq', 'veriod', 'verit', 'veritivcorp', 'versaffq', 'versateo', 'versateq', 'versatl', 'vert', 'vez', 'vf', 'vfi', 'vfl', 'vfra', 'vftdw', 'vg', 'vhen', 'vhi', 'vhy', 'vi', 'via', 'vic', 'vicesllc', 'vict', 'vid', 'video', 'vieiibatl', 'view', 'viftvr', 'vii', 'vil', 'villair', 'vils', 'vim', 'viml', 'vin', 'ving', 'viol', 'vir', 'virbatliq', 'viriiateq', 'virtu', 'virus', 'vis', 'visal', 'visb', 'visit', 'vist', 'vit', 'vith', 'vitit', 'viu', 'vivf', 'vivl', 'vj', 'vji', 'vjj', 'vl', 'vl1i', 'vlco', 'vlivvf', 'vll', 'vlldco', 'vlll', 'vlllhicle', 'vlow', 'vlvii', 'vlvit', 'vlvll', 'vm1', 'vmi', 'vmi1s', 'vmilt', 'vmj', 'vml', 'vmps', 'vmrs', 'vmt', 'vn', 'vndr', 'vne', 'vnlt', 'vo', 'vod', 'vohic', 'voic', 'voicem', 'voicema11ager', 'voicemanag', 'void', 'vol', 'volum', 'volunt', 'vond', 'vot', 'votec', 'votod', 'vou', 'vouch', 'vout', 'vq', 'vr', 'vrvrr', 'vs', 'vsc', 'vsi', 'vsp', 'vt', 'vt1', 'vti', 'vtiaccount', 'vtlc', 'vto', 'vtvfl', 'vtvs', 'vu', 'vuhv', 'vul', 'vv', 'vv1th', 'vverit', 'vvorkord', 'vw', 'vx', 'w1', 'w11rrenties', 'w1ithout', 'w1ll1xobljj', 'w26', 'w3', 'w33rd', 'w33rdst', 'w60', 'w8', 'w8n', 'wa', 'wad', 'wag', 'wai', 'waight', 'waiiatl', 'wait', 'waiv', 'waivcd', 'wal', 'walbeck', 'waldwick', 'walk', 'wan', 'want', 'wanton', 'war', 'ward', 'wareh', 'warehou5e', 'warehousem', 'warm', 'warran1ie', 'warranty', 'wash', 'wast', 'wastew', 'wat', 'waterford', 'watkin', 'watoon', 'watsjn', 'watson', 'way', 'waybil', 'wbacb', 'wbject', 'wbo', 'wbrr11nties', 'wc', 'wccb', 'wd94', 'wdl', 'we', 'wea', 'wear', 'weath', 'web', 'webdepot', 'webdepoupl', 'webdepovpl', 'websit', 'webslt', 'weck', 'wed', 'wednesday', 'wee', 'week', 'week2', 'week21', 'weekday', 'weekend', 'weekjy', 'weight', 'wel', 'welcom', 'wenanty', 'wer', 'werrenty', 'wesq3nt', 'west', 'western', 'wex', 'wexonlin', 'wf', 'wfllfat1lies', 'wfo', 'wfx', 'wgt', 'wh', 'wh1', 'what', 'whatsoev', 'wheel', 'wheh', 'when', 'whenev', 'wher', 'wherea', 'whereby', 'wherein', 'whereof', 'wheth', 'whh', 'whic', 'which', 'whichev', 'whiohev', 'whit', 'whitak', 'whldmh', 'whol', 'wholes', 'whos', 'whse', 'wht', 'why', 'wi', 'wi1h', 'wick', 'wid', 'wid1in', 'width', 'widun', 'wie', 'wihhoit', 'wil', 'wil1', 'wiley', 'wilh', 'wilhin', 'will', 'willboit', 'willhoit', 'willhoitl', 'william', 'wilson', 'wilt', 'wimout', 'winch', 'window', 'windstream', 'windstreamonlin', 'wing', 'wint', 'wir', 'wis', 'wish', 'wit', 'witbin', 'with', 'withdraw', 'withh', 'withheld', 'withhold', 'within', 'withj1old', 'withjn', 'without', 'witl1out', 'witnesse', 'wits', 'wiu', 'wiwam', 'wizardserv', 'wj', 'wjo', 'wl', 'wlder', 'wll', 'wlll', 'wlll_pay', 'wllmmtios', 'wlltttt', 'wlndstream', 'wlng', 'wlnllitwl8', 'wltness', 'wlwi', 'wm', 'wn', 'wnh', 'wo', 'wodc', 'wodtsheet', 'wolcesacityoftu1aa', 'wom', 'womrin', 'woo', 'woodfield', 'wor', 'word', 'worhheet', 'work', 'workforc', 'workm', 'workmanlik', 'worksheet', 'worl', 'worldwid', 'worn', 'worry', 'wort', 'worthington', 'worv', 'would', 'wp', 'wp30834', 'wpus1j', 'wpx', 'wq', 'wrap', 'wri11en', 'wri1tcn', 'wricr', 'wrin', 'writ', 'writ1en', 'writtcn', 'wrmng', 'wrong', 'wrsat', 'ws', 'wstr', 'wt', 'wt_b', 'wtl', 'wtt', 'wtth', 'wu', 'wvfi', 'ww', 'ww16', 'ww2', 'www', 'wy', 'wyckoff', 'wyingamorthy', 'x12', 'x13', 'x2098', 'x2217', 'x2287', 'x2288', 'x32405', 'x46948', 'x47607', 'x512c', 'x56267', 'xcluding', 'xdusivc', 'xempt', 'xfvcts', 'xgn3', 'xi', 'xilfrttbu', 'xj', 'xjh', 'xl', 'xlsx', 'xo', 'xpedx', 'xpr', 'xpressauto', 'xs12c', 'xt', 'xtens1on', 'xto', 'xttcisc', 'xx', 'xxl', 'xxx', 'xxxx', 'xxxx5059', 'xxxxx', 'xxxxx3232', 'xxxxxkx1165', 'xxxxxoboo', 'xxxxxx', 'xxxxxx3232', 'xxxxxx5059', 'xxxxxxxxxs059', 'xxxxxxxxxxx1165', 'xxxxxxxxxxx5059', 'xxxxxxxxxxxs059', 'xxxxxxy', 'y0', 'y1', 'y11', 'y1r', 'y6ar', 'y8', 'y_', 'y__', 'y__o_f', 'y_c', 'yabl', 'yaf', 'yafwy', 'yal', 'yalid', 'yanovitch', 'yard', 'yardy', 'yau', 'yault', 'yb', 'ybl', 'ycarlr', 'ycmr', 'yct', 'yd', 'ye', 'yeabatl', 'yeaiial', 'yeaiiateq', 'year', 'yearaft', 'yeasateq', 'yeh', 'yel', 'yellow', 'yer', 'yer8a', 'yerbateq', 'yeriiaffq', 'yeriiateq', 'yersateq', 'yg', 'ygesr', 'yi', 'yid', 'yit6', 'yita', 'yj', 'yjd', 'yjd5', 'yjs', 'yl', 'ym', 'ymdt', 'ynll', 'ynnnn', 'ynnnnnn', 'ynynn', 'yo', 'yoh', 'yoir', 'yol', 'yol1r', 'yoland', 'yoo', 'york', 'you', 'young', 'yourmostvafua6cc', 'yoursavingsfrom', 'yoursubscrb', 'yout', 'yov', 'yow', 'yperiod', 'yr', 'yrf', 'yrvh', 'ys', 'ysjs9', 'yt', 'ytd', 'yv', 'yw', 'yy', 'yys', 'yyy', 'yyyy', 'yz', 'z0', 'z01', 'z07', 'z_', 'z__', 'z_l', 'z_s', 'zachery', 'zack', 'zareck', 'zatioo', 'zd', 'zds', 'ze', 'zero', 'zf', 'zfl', 'zing', 'zip', 'zip__________', 'zl', 'zl1', 'zlp', 'znd', 'zo', 'zoa', 'zoam', 'zol', 'zol6', 'zon', 'zorba', 'zr', 'zs', 'zt', 'ztthq', 'zurich', 'zz', 'zµ', 'µct', 'µim', 'µr']\n"
     ]
    }
   ],
   "source": [
    "print (len(cv.vocabulary_))\n",
    "print (cv.get_feature_names())\n",
    "\n"
   ]
  },
  {
   "cell_type": "code",
   "execution_count": 44,
   "metadata": {},
   "outputs": [
    {
     "name": "stdout",
     "output_type": "stream",
     "text": [
      "Class 1 best: \n",
      "(-2.8642400220731195, 'item')\n",
      "(-2.2997224002322563, 'agr')\n",
      "(-2.0929150856120784, 'stor')\n",
      "(-1.9305386225483963, '2017')\n",
      "(-1.8574002487446613, 'iiii')\n",
      "(-1.7846928254749626, '0621385')\n",
      "(-1.7061929400109046, 'forb')\n",
      "(-1.6899368238785064, 'shal')\n",
      "(-1.5856396846257172, 'pick')\n",
      "(-1.5318195904286589, 'ye')\n",
      "Class 2 best: \n",
      "(2.7360559944468541, '00')\n",
      "(2.4283914784702256, '16')\n",
      "(2.3386285524832284, 'serv')\n",
      "(2.0295616797862652, 'windstream')\n",
      "(1.9213143983659964, 'policy')\n",
      "(1.8755388756666729, 'tax')\n",
      "(1.8755257092815334, '2016')\n",
      "(1.7113486448026585, 'invo')\n",
      "(1.632431309059365, 'ok')\n",
      "(1.5329317019567257, 'alarm')\n"
     ]
    }
   ],
   "source": [
    "    feature_names = cv.get_feature_names()\n",
    "    coefs_with_fns = sorted(zip(clf.coef_[0], feature_names))\n",
    "    topClass1 = coefs_with_fns[:10]\n",
    "    topClass2 = coefs_with_fns[:-(10 + 1):-1]\n",
    "    print(\"Class 1 best: \")\n",
    "    for feat in topClass1:\n",
    "        print(feat)\n",
    "    print(\"Class 2 best: \")\n",
    "    for feat in topClass2:\n",
    "        print(feat)"
   ]
  },
  {
   "cell_type": "code",
   "execution_count": 52,
   "metadata": {},
   "outputs": [
    {
     "data": {
      "text/plain": [
       "[(1.5329317019567257, 'alarm'),\n",
       " (1.632431309059365, 'ok'),\n",
       " (1.7113486448026585, 'invo'),\n",
       " (1.8755257092815334, '2016'),\n",
       " (1.8755388756666729, 'tax'),\n",
       " (1.9213143983659964, 'policy'),\n",
       " (2.0295616797862652, 'windstream'),\n",
       " (2.3386285524832284, 'serv'),\n",
       " (2.4283914784702256, '16'),\n",
       " (2.7360559944468541, '00')]"
      ]
     },
     "execution_count": 52,
     "metadata": {},
     "output_type": "execute_result"
    }
   ],
   "source": [
    "coefs_with_fns[-10:]"
   ]
  },
  {
   "cell_type": "code",
   "execution_count": null,
   "metadata": {
    "collapsed": true
   },
   "outputs": [],
   "source": []
  }
 ],
 "metadata": {
  "kernelspec": {
   "display_name": "Python 3",
   "language": "python",
   "name": "python3"
  },
  "language_info": {
   "codemirror_mode": {
    "name": "ipython",
    "version": 3
   },
   "file_extension": ".py",
   "mimetype": "text/x-python",
   "name": "python",
   "nbconvert_exporter": "python",
   "pygments_lexer": "ipython3",
   "version": "3.6.3"
  }
 },
 "nbformat": 4,
 "nbformat_minor": 2
}
